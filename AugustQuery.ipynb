{
 "cells": [
  {
   "cell_type": "code",
   "execution_count": 9,
   "id": "proprietary-nation",
   "metadata": {},
   "outputs": [],
   "source": [
    "import os,sys\n",
    "import numpy as np"
   ]
  },
  {
   "cell_type": "code",
   "execution_count": 10,
   "id": "metric-working",
   "metadata": {},
   "outputs": [
    {
     "data": {
      "application/vnd.jupyter.widget-view+json": {
       "model_id": "2fd7a745879d4eebaa32b845ca061274",
       "version_major": 2,
       "version_minor": 0
      },
      "text/plain": [
       "Querying products:  20%|##        | 100/489 [00:00<?, ?product/s]"
      ]
     },
     "metadata": {},
     "output_type": "display_data"
    },
    {
     "name": "stderr",
     "output_type": "stream",
     "text": [
      "Found 489 products\n",
      "Will download 489 products using 4 workers\n"
     ]
    },
    {
     "data": {
      "application/vnd.jupyter.widget-view+json": {
       "model_id": "12770de10374468b81cfc717df667edd",
       "version_major": 2,
       "version_minor": 0
      },
      "text/plain": [
       "Fetching archival status:   1%|1         | 6/489 [00:02<02:43,  2.95product/s]"
      ]
     },
     "metadata": {},
     "output_type": "display_data"
    },
    {
     "name": "stderr",
     "output_type": "stream",
     "text": [
      "Getting product info for c484455a-6646-48dc-9214-230cf13770af failed, can't download: Traceback (most recent call last):\n",
      "  File \"/Users/buckley/opt/conda/envs/py39/lib/python3.9/site-packages/sentinelsat/sentinel.py\", line 1017, in _check_scihub_response\n",
      "    response.raise_for_status()\n",
      "  File \"/Users/buckley/opt/conda/envs/py39/lib/python3.9/site-packages/requests/models.py\", line 953, in raise_for_status\n",
      "    raise HTTPError(http_error_msg, response=self)\n",
      "requests.exceptions.HTTPError: 500 Server Error: Internal Server Error for url: https://scihub.copernicus.eu/dhus/odata/v1/Products('c484455a-6646-48dc-9214-230cf13770af')?$format=json\n",
      "\n",
      "During handling of the above exception, another exception occurred:\n",
      "\n",
      "Traceback (most recent call last):\n",
      "  File \"/Users/buckley/opt/conda/envs/py39/lib/python3.9/site-packages/sentinelsat/download.py\", line 395, in _init_statuses\n",
      "    info = self.api.get_product_odata(pid)\n",
      "  File \"/Users/buckley/opt/conda/envs/py39/lib/python3.9/site-packages/sentinelsat/sentinel.py\", line 511, in get_product_odata\n",
      "    self._check_scihub_response(response)\n",
      "  File \"/Users/buckley/opt/conda/envs/py39/lib/python3.9/site-packages/sentinelsat/sentinel.py\", line 1063, in _check_scihub_response\n",
      "    raise ServerError(msg, response)\n",
      "sentinelsat.exceptions.ServerError: HTTP status 500 Internal Server Error: Could not roll back Hibernate transaction; nested exception is org.hibernate.TransactionException: Unable to rollback against JDBC Connection\n",
      "\n",
      "S2B_MSIL1C_20200917T232229_N0209_R130_T09XVK_20200918T010608 (c73fc1e5-52fb-47f1-95a6-f09fef9a1c0b) is in the LTA and retrieval will be triggered.\n",
      "S2B_MSIL1C_20200904T231129_N0209_R087_T12XVR_20200910T091543 (17665f32-af92-47ae-a349-66ea5d2d077e) is in the LTA and retrieval will be triggered.\n",
      "S2B_MSIL1C_20200904T213049_N0209_R086_T11XNH_20200909T065746 (21a5c8f2-90e4-46ec-9d74-fbc7068bab84) is in the LTA and retrieval will be triggered.\n",
      "S2B_MSIL1C_20200904T213049_N0209_R086_T10XDH_20200904T220542 (35806151-0b72-44c7-ab56-c46f5d8a59bc) is in the LTA and retrieval will be triggered.\n",
      "S2A_MSIL1C_20200902T214051_N0209_R129_T11XNK_20200902T234335 (d5766a68-8e17-4a29-9c19-d072ed11c9f0) is in the LTA and retrieval will be triggered.\n",
      "S2B_MSIL1C_20200918T211139_N0209_R143_T08XNK_20200918T214225 (854294fd-afaf-4ca6-98b9-71c3c2da95ab) is in the LTA and retrieval will be triggered.\n",
      "S2B_MSIL1C_20200927T214259_N0209_R129_T11XMH_20200927T221032 (aacf6522-7eee-42d9-9196-16971788a01a) is in the LTA and retrieval will be triggered.\n",
      "S2B_MSIL1C_20200917T232229_N0209_R130_T08XNQ_20200918T010608 (94169cfe-e2f0-48f0-b4f4-bf2f4fe2b97c) is in the LTA and retrieval will be triggered.\n",
      "S2B_MSIL1C_20200911T212059_N0209_R043_T16XES_20200911T213545 (6188ed3e-55c8-46e4-82db-935678bb0822) is in the LTA and retrieval will be triggered.\n",
      "S2B_MSIL1C_20200904T231129_N0209_R087_T09XVJ_20200910T091543 (3392bcc2-d626-4f58-9d07-017bac854534) is in the LTA and retrieval will be triggered.\n",
      "S2B_MSIL1C_20200918T225219_N0209_R001_T10XEP_20200918T230316 (90b51659-75eb-4409-9c80-519634da1f3e) is in the LTA and retrieval will be triggered.\n",
      "S2B_MSIL1C_20200925T210229_N0209_R100_T11XMF_20200925T213526 (971e6831-3f89-4c41-b007-ac9885f55180) is in the LTA and retrieval will be triggered.\n",
      "S2B_MSIL1C_20200910T215059_N0209_R029_T11XMJ_20200910T222352 (40e14dcc-59af-43e8-a81e-4041ac69d8df) is in the LTA and retrieval will be triggered.\n",
      "S2B_MSIL1C_20200905T005209_N0209_R088_T08XNT_20200910T150650 (1035be6a-87da-4065-bd53-97a928eb3be3) is in the LTA and retrieval will be triggered.\n",
      "S2A_MSIL1C_20200913T225141_N0209_R001_T12XWQ_20200914T004215 (441009f0-8aca-450e-8618-bdfa491cbb79) is in the LTA and retrieval will be triggered.\n",
      "S2B_MSIL1C_20200918T211139_N0209_R143_T12XWN_20200918T214225 (0cbf1b3a-07dc-449c-9d6e-8eb64fe1fff4) is in the LTA and retrieval will be triggered.\n",
      "S2B_MSIL1C_20200903T234139_N0209_R073_T11XNN_20200903T235253 (01502973-04f2-4156-882d-5486077f7330) is in the LTA and retrieval will be triggered.\n",
      "S2B_MSIL1C_20200918T225219_N0209_R001_T08XNM_20200918T231611 (d3eae629-52ec-4dbd-a1af-99b4105101bc) is in the LTA and retrieval will be triggered.\n",
      "S2B_MSIL1C_20200925T210229_N0209_R100_T10XEM_20200925T213526 (4d2e90c0-fec0-49d9-b0c4-840838981058) is in the LTA and retrieval will be triggered.\n",
      "S2A_MSIL1C_20200913T211111_N0209_R143_T13XEJ_20200913T231922 (127d5cd9-31e2-4cbf-8696-8fa0a52c520c) is in the LTA and retrieval will be triggered.\n",
      "S2A_MSIL1C_20200912T214111_N0209_R129_T14XNS_20200912T234356 (bf7d57ca-ed7f-4c82-ace5-d88e053ff757) is in the LTA and retrieval will be triggered.\n",
      "S2B_MSIL1C_20200911T230139_N0209_R044_T14XMQ_20200911T231304 (6e865180-3e83-4ecc-8937-2630c12179a3) is in the LTA and retrieval will be triggered.\n",
      "S2A_MSIL1C_20200913T211111_N0209_R143_T13XDL_20200913T231922 (533b987d-6397-4810-af74-b92397017d26) is in the LTA and retrieval will be triggered.\n",
      "S2B_MSIL1C_20200907T195949_N0209_R128_T20XNT_20200907T220906 (673a8c5b-43f7-4d6d-87ca-adad1ab4b9c7) is in the LTA and retrieval will be triggered.\n",
      "S2B_MSIL1C_20200918T211139_N0209_R143_T11XMG_20200918T214225 (b094ba1b-6621-476a-a977-4cd0732df390) is in the LTA and retrieval will be triggered.\n",
      "S2A_MSIL1C_20200902T214051_N0209_R129_T11XNG_20200902T234335 (f1988962-ffcb-4535-ba85-175a4f5cffa2) is in the LTA and retrieval will be triggered.\n",
      "S2B_MSIL1C_20200907T195949_N0209_R128_T21XWN_20200907T220906 (ef82a406-267f-49f0-ac2d-7e994d0ca1df) is in the LTA and retrieval will be triggered.\n",
      "S2B_MSIL1C_20200904T231129_N0209_R087_T09XVH_20200904T233746 (92de16f7-baab-4f01-87f8-c6346da8fcfc) is in the LTA and retrieval will be triggered.\n",
      "S2A_MSIL1C_20200904T203941_N0209_R014_T14XMR_20200905T001926 (90b04891-665d-4ffd-87a8-e3e296291536) is in the LTA and retrieval will be triggered.\n",
      "S2A_MSIL1C_20200925T215251_N0209_R029_T10XDL_20200925T222057 (69162572-b86d-4921-8cb7-ad798e3678a6) is in the LTA and retrieval will be triggered.\n",
      "S2A_MSIL1C_20200904T222111_N0209_R015_T12XVN_20200905T001056 (9edeed1c-6139-488b-9307-599a4353946e) is in the LTA and retrieval will be triggered.\n",
      "S2B_MSIL1C_20200918T225219_N0209_R001_T09XVG_20200918T231611 (6ea5725b-b9e7-47f2-b401-08a5e849194e) is in the LTA and retrieval will be triggered.\n",
      "S2B_MSIL1C_20200904T213049_N0209_R086_T10XEQ_20200904T220542 (ae5e56b2-c09f-4a39-9a1e-c53c154dd02c) is in the LTA and retrieval will be triggered.\n",
      "S2B_MSIL1C_20200904T231129_N0209_R087_T11XML_20200910T091543 (fa93a24b-ed70-4965-b28e-04f7bbe40e2a) is in the LTA and retrieval will be triggered.\n",
      "S2A_MSIL1C_20200904T222111_N0209_R015_T11XML_20200905T001056 (57afa207-4311-4be5-a9cb-d5c534ae4bc6) is in the LTA and retrieval will be triggered.\n",
      "S2B_MSIL1C_20200904T213049_N0209_R086_T12XVP_20200909T065746 (e38ef88f-c908-411f-a40a-d5dcfc7efb1d) is in the LTA and retrieval will be triggered.\n",
      "S2B_MSIL1C_20200916T221149_N0209_R115_T13XDH_20200916T223248 (44416087-a033-4c49-994e-35dceaa64822) is in the LTA and retrieval will be triggered.\n",
      "S2B_MSIL1C_20200902T223109_N0209_R058_T10XES_20200902T225506 (0157481e-4d33-4220-9e47-5118d899942c) is in the LTA and retrieval will be triggered.\n",
      "S2B_MSIL1C_20200924T213229_N0209_R086_T09XWJ_20200924T220127 (98700dfd-2764-4c5d-b6fc-adfbb3458ff1) is in the LTA and retrieval will be triggered.\n",
      "S2A_MSIL1C_20200918T220201_N0209_R072_T10XEM_20200918T223059 (2d5ccc7e-741e-48d8-851b-daad7884af3c) is in the LTA and retrieval will be triggered.\n",
      "S2B_MSIL1C_20200925T210229_N0209_R100_T10XDM_20200925T213526 (43f7f623-34ca-488d-b81d-2436bb4e2816) is in the LTA and retrieval will be triggered.\n",
      "S2A_MSIL1C_20200901T221101_N0209_R115_T14XMP_20200902T000420 (bc970de8-5740-45f0-9fb4-be44f8ae86cc) is in the LTA and retrieval will be triggered.\n",
      "S2A_MSIL1C_20200911T221121_N0209_R115_T14XMR_20200911T235546 (7362a5a6-2fed-43cf-b17b-65b87a7ad021) is in the LTA and retrieval will be triggered.\n",
      "S2B_MSIL1C_20200925T210229_N0209_R100_T10XEL_20200925T213526 (93a02a3e-41c9-4b34-a240-dc17100f03bc) is in the LTA and retrieval will be triggered.\n",
      "S2B_MSIL1C_20200913T220139_N0209_R072_T12XWQ_20200913T221839 (be98c6cf-0715-46bc-9dae-aa410ac57a76) is in the LTA and retrieval will be triggered.\n",
      "S2B_MSIL1C_20200912T223129_N0209_R058_T13XEM_20200912T230143 (833e59ef-7fcd-4cea-a1db-d4026acd3f69) is in the LTA and retrieval will be triggered.\n",
      "S2A_MSIL1C_20200911T184951_N0209_R113_T20XNS_20200911T211402 (6449340d-298c-4aa5-828b-99ffc4a0070a) is in the LTA and retrieval will be triggered.\n",
      "S2B_MSIL1C_20200901T212039_N0209_R043_T15XVK_20200901T213838 (d932deea-90b2-48d4-99ea-90af3c89a4fa) is in the LTA and retrieval will be triggered.\n",
      "S2B_MSIL1C_20200910T201009_N0209_R028_T20XNT_20200910T221715 (0631ab0a-5510-46ad-b2f1-42bf332eb8a7) is in the LTA and retrieval will be triggered.\n",
      "S2B_MSIL1C_20200918T211139_N0209_R143_T13XDH_20200918T213857 (6901ac56-a7f2-4bd8-9c73-ac7181d8d07b) is in the LTA and retrieval will be triggered.\n",
      "S2B_MSIL1C_20200903T234139_N0209_R073_T10XES_20200903T235253 (f0cba79e-7042-4176-8700-5f1f8a684ea3) is in the LTA and retrieval will be triggered.\n",
      "S2A_MSIL1C_20200915T215141_N0209_R029_T14XNR_20200915T222247 (5897b454-4dce-4035-a5fc-22f8bfb13730) is in the LTA and retrieval will be triggered.\n",
      "S2B_MSIL1C_20200902T223109_N0209_R058_T15XWL_20200902T225506 (3238c315-29b6-4fd1-b350-f04d4f7fb2b4) is in the LTA and retrieval will be triggered.\n",
      "S2B_MSIL1C_20200919T204129_N0209_R014_T10XEM_20200919T212143 (d6a857ba-6b27-46e8-b2df-7682274969aa) is in the LTA and retrieval will be triggered.\n",
      "S2A_MSIL1C_20200913T225141_N0209_R001_T12XWP_20200914T004215 (761f1393-3509-4949-9187-933a66ac0b29) is in the LTA and retrieval will be triggered.\n",
      "S2B_MSIL1C_20200911T230139_N0209_R044_T14XMP_20200911T231304 (68d4eb9f-324a-4c55-9ade-71e686504237) is in the LTA and retrieval will be triggered.\n",
      "S2B_MSIL1C_20200902T205029_N0209_R057_T10XEM_20200902T213239 (7bb657cd-2cc9-46f4-9e5f-0523ebb86ef5) is in the LTA and retrieval will be triggered.\n",
      "S2B_MSIL1C_20200924T213229_N0209_R086_T10XDH_20200924T220127 (31193fc8-a0a6-4b90-a172-9d66755c866b) is in the LTA and retrieval will be triggered.\n",
      "S2A_MSIL1C_20200901T221101_N0209_R115_T13XEJ_20200902T000420 (098908d0-bf45-4bcf-b88d-8fcde94c530b) is in the LTA and retrieval will be triggered.\n",
      "S2B_MSIL1C_20200910T215059_N0209_R029_T11XMK_20200910T222352 (41c4285a-4a77-44c1-8d37-d4c2484c0014) is in the LTA and retrieval will be triggered.\n",
      "S2B_MSIL1C_20200917T214149_N0209_R129_T09XVD_20200917T234713 (7c3f75d7-9e01-4e2d-8d54-7082594a66e7) is in the LTA and retrieval will be triggered.\n",
      "S2A_MSIL1C_20200915T215141_N0209_R029_T14XMR_20200915T232523 (437baeeb-19df-4fd1-b4c8-3efa1ed139ac) is in the LTA and retrieval will be triggered.\n",
      "S2B_MSIL1C_20200913T220139_N0209_R072_T14XMR_20200913T221839 (b03369c8-626c-4da1-b577-e3451d3d7c02) is in the LTA and retrieval will be triggered.\n",
      "S2A_MSIL1C_20200910T224121_N0209_R101_T12XVQ_20200911T003628 (d4aec87f-e5ad-42e6-84cd-13d392be1c90) is in the LTA and retrieval will be triggered.\n",
      "S2B_MSIL1C_20200908T225119_N0209_R001_T09XWG_20200908T231937 (099dc735-3e61-42be-a6b4-71e7b54eedfb) is in the LTA and retrieval will be triggered.\n",
      "S2B_MSIL1C_20200910T215059_N0209_R029_T12XWR_20200910T222352 (edbedbbe-a2c1-4932-ac8a-ffe24d0c8fe4) is in the LTA and retrieval will be triggered.\n",
      "S2A_MSIL1C_20200912T214111_N0209_R129_T15XWM_20200912T234356 (1ecede80-1975-4c1f-b940-37e996e6fab5) is in the LTA and retrieval will be triggered.\n",
      "S2B_MSIL1C_20200918T225219_N0209_R001_T11XMK_20200918T230316 (7de430dc-2dfb-4188-89a8-6a58c0a62975) is in the LTA and retrieval will be triggered.\n",
      "S2B_MSIL1C_20200905T210029_N0209_R100_T13XDJ_20200905T214926 (9483c71e-0bad-48cd-87a3-50db0fc51944) is in the LTA and retrieval will be triggered.\n",
      "S2B_MSIL1C_20200905T005209_N0209_R088_T09XWK_20200910T150650 (6b2bfe43-ac91-43be-b4b1-f51cba2bafab) is in the LTA and retrieval will be triggered.\n",
      "S2B_MSIL1C_20200919T222209_N0209_R015_T10XEM_20200919T225048 (3f3ca37a-136b-4c25-9feb-6f555557c8de) is in the LTA and retrieval will be triggered.\n",
      "S2A_MSIL1C_20200913T211111_N0209_R143_T15XWL_20200913T231922 (c2b3c2f6-3af3-4c13-a06f-0677f98b7878) is in the LTA and retrieval will be triggered.\n",
      "S2B_MSIL1C_20200902T205029_N0209_R057_T14XNS_20200902T213239 (1a0594c4-51d5-4b3a-a96b-37f8bdb66c93) is in the LTA and retrieval will be triggered.\n",
      "S2A_MSIL1C_20200912T214111_N0209_R129_T12XVR_20200912T234356 (c46ff5e1-1059-4aac-8817-87eec8493c65) is in the LTA and retrieval will be triggered.\n",
      "S2B_MSIL1C_20200904T231129_N0209_R087_T11XNK_20200910T091543 (4fe17611-32a4-4ef8-9520-3d42730ad87a) is in the LTA and retrieval will be triggered.\n",
      "S2B_MSIL1C_20200918T225219_N0209_R001_T09XVH_20200918T231611 (54574749-b110-43c8-8f20-6ce1145d09be) is in the LTA and retrieval will be triggered.\n",
      "S2B_MSIL1C_20200904T231129_N0209_R087_T09XVH_20200910T091543 (a6933097-8fac-4621-82b2-4c1e0d9ceb28) is in the LTA and retrieval will be triggered.\n",
      "S2B_MSIL1C_20200930T215319_N0209_R029_T08XNK_20200930T224141 (3f956837-7071-4022-a9ec-46f6f3a9b53d) is in the LTA and retrieval will be triggered.\n",
      "S2A_MSIL1C_20200909T231131_N0209_R087_T11XNM_20200910T010333 (a34b8bb0-6357-41ce-8fe9-b406218a065a) is in the LTA and retrieval will be triggered.\n",
      "S2B_MSIL1C_20200920T215209_N0209_R029_T10XEM_20200920T222901 (abc28832-3f9d-40cc-b9c3-d13cba6e3d7e) is in the LTA and retrieval will be triggered.\n",
      "S2A_MSIL1C_20200914T153911_N0209_R011_T28XES_20200914T193558 (048b3cfd-e41f-47f5-bac5-9da19b3c3877) is in the LTA and retrieval will be triggered.\n",
      "S2B_MSIL1C_20200904T231129_N0209_R087_T09XVK_20200904T233746 (175a7be6-15b9-4514-add0-8fa146820f80) is in the LTA and retrieval will be triggered.\n",
      "S2A_MSIL1C_20200930T210301_N0209_R100_T08XNH_20200930T233547 (76685e35-3630-4b77-bf2c-d1c7167a9074) is in the LTA and retrieval will be triggered.\n",
      "S2A_MSIL1C_20200910T224121_N0209_R101_T11XNL_20200911T003628 (a5300633-32e3-493e-a2d4-687bc73a6ffc) is in the LTA and retrieval will be triggered.\n",
      "S2B_MSIL1C_20200913T220139_N0209_R072_T12XWR_20200913T221839 (aaf06bd3-8486-4f45-967f-18c98aaf7130) is in the LTA and retrieval will be triggered.\n",
      "S2B_MSIL1C_20200902T205029_N0209_R057_T11XMH_20200902T213239 (f3035caa-c04f-40f2-974e-af3d2f1833c1) is in the LTA and retrieval will be triggered.\n",
      "S2B_MSIL1C_20200905T210029_N0209_R100_T12XWP_20200905T214926 (0e57daed-3925-4baf-bfcc-837fbbbed27f) is in the LTA and retrieval will be triggered.\n",
      "S2A_MSIL1C_20200904T222111_N0209_R015_T10XER_20200905T001056 (93f5db99-c50b-4d6d-a077-d24a18923f4d) is in the LTA and retrieval will be triggered.\n",
      "S2A_MSIL1C_20200907T190931_N0209_R056_T21XWM_20200907T225836 (ee0fde86-a4f0-41ee-a7bd-3f53a06da9d1) is in the LTA and retrieval will be triggered.\n",
      "S2A_MSIL1C_20200925T215251_N0209_R029_T10XEM_20200925T222057 (bf2d6180-5a49-4598-9a17-7e962b86edee) is in the LTA and retrieval will be triggered.\n",
      "S2B_MSIL1C_20200904T231129_N0209_R087_T08XNP_20200910T091543 (0399bc15-a436-45a6-ac51-331de14315da) is in the LTA and retrieval will be triggered.\n",
      "S2A_MSIL1C_20200930T210301_N0209_R100_T09XVD_20200930T233547 (66515b70-10b4-409d-a7fa-e21474c5c69a) is in the LTA and retrieval will be triggered.\n",
      "S2B_MSIL1C_20200901T230119_N0209_R044_T09XVL_20200901T231157 (b4aeb3de-b623-4021-b29e-b0b5970696c8) is in the LTA and retrieval will be triggered.\n",
      "S2B_MSIL1C_20200910T233139_N0209_R030_T12XVQ_20200910T234934 (c0be2bd7-5472-4fb3-bb15-d10765fffce8) is in the LTA and retrieval will be triggered.\n",
      "S2B_MSIL1C_20200918T225219_N0209_R001_T10XDR_20200918T230316 (761c299e-def7-49d5-aef6-c7ae01a60db6) is in the LTA and retrieval will be triggered.\n",
      "S2A_MSIL1C_20200922T214221_N0209_R129_T09XVH_20200922T231246 (d2303e53-d764-4200-8c1f-3d9acfc9736d) is in the LTA and retrieval will be triggered.\n",
      "S2A_MSIL1C_20200904T203941_N0209_R014_T12XVP_20200905T001926 (272ce084-3462-4b2a-9fa5-e29d9f2add26) is in the LTA and retrieval will be triggered.\n",
      "S2A_MSIL1C_20200901T202931_N0209_R114_T13XEK_20200902T001207 (805bfe5d-9e10-423c-8926-132982f3d8e4) is in the LTA and retrieval will be triggered.\n",
      "S2B_MSIL1C_20200915T155819_N0209_R097_T27XWM_20200915T180846 (720868a9-b284-47a1-8e93-c47d238eae2b) is in the LTA and retrieval will be triggered.\n",
      "S2B_MSIL1C_20200904T213049_N0209_R086_T12XWN_20200909T065746 (799496e9-6e36-4015-ad40-a80dc2720962) is in the LTA and retrieval will be triggered.\n",
      "S2A_MSIL1C_20200924T204211_N0209_R014_T12XWN_20200925T001514 (ce3aea79-3153-4a56-82f4-6d3e6d975dd1) is in the LTA and retrieval will be triggered.\n",
      "S2A_MSIL1C_20200930T210301_N0209_R100_T08XNG_20200930T233547 (26298f21-39eb-46eb-9ac4-c7cbdf479b57) is in the LTA and retrieval will be triggered.\n",
      "S2B_MSIL1C_20200917T214149_N0209_R129_T08XNH_20200917T234713 (89d8d046-a107-47a8-92e1-c897ca897ab4) is in the LTA and retrieval will be triggered.\n",
      "S2A_MSIL1C_20200902T214051_N0209_R129_T11XNL_20200902T234335 (912c269b-55c2-4d08-898f-08d6fe5feb4e) is in the LTA and retrieval will be triggered.\n",
      "S2A_MSIL1C_20200913T211111_N0209_R143_T11XNK_20200913T231922 (8dacdeb9-92ec-4244-a748-f2f73925261d) is in the LTA and retrieval will be triggered.\n",
      "S2A_MSIL1C_20200914T190021_N0209_R013_T21XWM_20200914T225044 (f6feb6ad-07ea-4dd5-ba47-e5845fb0683c) is in the LTA and retrieval will be triggered.\n",
      "S2A_MSIL1C_20200918T202121_N0209_R071_T12XWN_20200918T223215 (434b1d25-a553-4fd0-bba1-c7cb6efbe5cc) is in the LTA and retrieval will be triggered.\n",
      "S2B_MSIL1C_20200918T211139_N0209_R143_T12XVQ_20200918T213857 (e00e36fa-ccb9-4589-b02c-420fc886d068) is in the LTA and retrieval will be triggered.\n",
      "S2A_MSIL1C_20200910T224121_N0209_R101_T12XVR_20200911T003628 (c0db6c8a-2e64-425e-802d-ec60aef06e03) is in the LTA and retrieval will be triggered.\n",
      "S2B_MSIL1C_20200910T215059_N0209_R029_T13XEM_20200910T222352 (6a06ce8e-a675-4278-bf16-c02b129b30ca) is in the LTA and retrieval will be triggered.\n",
      "S2B_MSIL1C_20200924T213229_N0209_R086_T12XVM_20200924T220127 (948e252c-4d93-4fe3-8a96-07b5765f6f7b) is in the LTA and retrieval will be triggered.\n",
      "S2B_MSIL1C_20200911T212059_N0209_R043_T13XEM_20200911T213545 (c20531a5-1351-41af-930a-a51e28e69292) is in the LTA and retrieval will be triggered.\n",
      "S2A_MSIL1C_20200913T211111_N0209_R143_T12XWP_20200913T231922 (8a228c3e-8251-42cf-a5b7-075d1b2e374f) is in the LTA and retrieval will be triggered.\n",
      "S2B_MSIL1C_20200902T205029_N0209_R057_T12XVM_20200902T213239 (2c8ce92e-1995-4e0a-9401-6935f8adbb8e) is in the LTA and retrieval will be triggered.\n",
      "S2B_MSIL1C_20200903T234139_N0209_R073_T08XNS_20200903T235253 (9df2c89c-89b4-406d-96f3-936fbc78ede9) is in the LTA and retrieval will be triggered.\n",
      "S2A_MSIL1C_20200902T214051_N0209_R129_T11XMG_20200902T234335 (2c6f978c-aa27-424f-b8c4-c2b02355fb54) is in the LTA and retrieval will be triggered.\n",
      "S2A_MSIL1C_20200904T222111_N0209_R015_T11XNK_20200905T001056 (bc628ea9-9271-4019-b73f-21549ec40553) is in the LTA and retrieval will be triggered.\n",
      "S2B_MSIL1C_20200909T003159_N0209_R002_T09XVJ_20200909T004009 (5a3ac7ff-50dd-4a8e-816f-4d48f34db427) is in the LTA and retrieval will be triggered.\n",
      "S2A_MSIL1C_20200926T212241_N0209_R043_T11XMF_20200926T224851 (0aae24f1-1f7f-429f-8353-9aaae5dda9fd) is in the LTA and retrieval will be triggered.\n",
      "S2A_MSIL1C_20200902T214051_N0209_R129_T11XMF_20200902T234335 (0150509f-fab6-47db-b4c8-111457f1440d) is in the LTA and retrieval will be triggered.\n",
      "S2B_MSIL1C_20200904T231129_N0209_R087_T09XWK_20200910T091543 (c435b275-1aba-45a4-b45d-7a2bc9f62dd6) is in the LTA and retrieval will be triggered.\n",
      "S2B_MSIL1C_20200904T213049_N0209_R086_T12XWQ_20200909T065746 (76716175-3df9-4be3-bf4a-9030c5bdb6c9) is in the LTA and retrieval will be triggered.\n",
      "S2B_MSIL1C_20200917T232229_N0209_R130_T09XVL_20200918T010608 (887a92d8-3a9f-4444-b8c5-1867f1c2e148) is in the LTA and retrieval will be triggered.\n",
      "S2B_MSIL1C_20200904T231129_N0209_R087_T09XWH_20200904T233746 (3a4bd50a-8dd7-4bb7-8143-1c9cd4ca8648) is in the LTA and retrieval will be triggered.\n",
      "S2A_MSIL1C_20200917T223201_N0209_R058_T13XDK_20200918T002117 (4ac309c8-6c34-4920-8d51-062266a889d1) is in the LTA and retrieval will be triggered.\n",
      "S2A_MSIL1C_20200915T215141_N0209_R029_T13XEM_20200915T232523 (a7b82149-85cd-4a0e-a248-b65ccffdf358) is in the LTA and retrieval will be triggered.\n",
      "S2A_MSIL1C_20200903T211041_N0209_R143_T08XNG_20200904T004540 (4d04d38e-6bd0-462c-896e-e5f723852e18) is in the LTA and retrieval will be triggered.\n",
      "S2B_MSIL1C_20200909T204019_N0209_R014_T19XEM_20200909T224724 (65d6a189-4262-4e94-be5f-b960a17f1630) is in the LTA and retrieval will be triggered.\n",
      "S2A_MSIL1C_20200918T202121_N0209_R071_T13XDJ_20200918T223215 (4e9894b5-90a5-4994-911e-48a355280056) is in the LTA and retrieval will be triggered.\n",
      "S2B_MSIL1C_20200904T231129_N0209_R087_T10XDN_20200910T091543 (73ab809b-2e11-4ccc-a50a-2e4039baaa6a) is in the LTA and retrieval will be triggered.\n",
      "S2B_MSIL1C_20200914T194959_N0209_R085_T20XNS_20200914T213801 (f4a7a6cf-3dbb-4ebd-af4a-4a76ee0b46d5) is in the LTA and retrieval will be triggered.\n",
      "S2B_MSIL1C_20200905T005209_N0209_R088_T09XWJ_20200910T150650 (87da1b3b-5d2b-4849-a6ab-e5feaad9f7a2) is in the LTA and retrieval will be triggered.\n",
      "S2B_MSIL1C_20200913T202009_N0209_R071_T13XEK_20200913T220853 (2baaa520-f815-4ca6-8a56-3f2387c2fda3) is in the LTA and retrieval will be triggered.\n",
      "S2B_MSIL1C_20200911T230139_N0209_R044_T13XEJ_20200911T231304 (477d93ae-2282-4504-a238-e261d17375ba) is in the LTA and retrieval will be triggered.\n",
      "S2A_MSIL1C_20200912T214111_N0209_R129_T11XNL_20200912T234356 (76f9c2c1-c60a-46bb-aa19-fc950b74359f) is in the LTA and retrieval will be triggered.\n",
      "S2B_MSIL1C_20200904T231129_N0209_R087_T12XVQ_20200910T091543 (134c0af8-5fc7-47af-89af-f26e38bd5b0d) is in the LTA and retrieval will be triggered.\n",
      "S2A_MSIL1C_20200919T213201_N0209_R086_T10XEM_20200919T233441 (e1a2d8a0-2466-4a19-962f-e5c42507686f) is in the LTA and retrieval will be triggered.\n",
      "S2A_MSIL1C_20200902T214051_N0209_R129_T10XEQ_20200902T234335 (86521f2a-484a-456a-99bf-db3924bc3b7b) is in the LTA and retrieval will be triggered.\n",
      "S2A_MSIL1C_20200924T204211_N0209_R014_T11XNH_20200925T001514 (1d495f3b-8c67-461f-b90c-3efb2f67ca36) is in the LTA and retrieval will be triggered.\n",
      "S2B_MSIL1C_20200928T211249_N0209_R143_T10XDN_20200928T213852 (b9d1768b-6245-4d94-9585-b38a7f5d3754) is in the LTA and retrieval will be triggered.\n",
      "S2B_MSIL1C_20200917T232229_N0209_R130_T08XNR_20200918T010608 (ec7ca55e-c858-4a8f-bbe4-4a9c7bb5f9ee) is in the LTA and retrieval will be triggered.\n",
      "S2B_MSIL1C_20200910T233139_N0209_R030_T08XNS_20200910T234934 (7d797bc9-3191-43ed-b660-188ac0221dae) is in the LTA and retrieval will be triggered.\n",
      "S2A_MSIL1C_20200920T210151_N0209_R100_T10XEM_20200921T004026 (8b977429-e9d3-4eba-b5eb-0551f6e35c7a) is in the LTA and retrieval will be triggered.\n",
      "S2A_MSIL1C_20200913T211111_N0209_R143_T13XEL_20200913T231922 (a0da1566-0d22-40d4-b81e-3949cc441dc9) is in the LTA and retrieval will be triggered.\n",
      "S2B_MSIL1C_20200930T215319_N0209_R029_T09XVC_20200930T224141 (8a1a7466-9ad2-4231-afe0-d2bd39e69cad) is in the LTA and retrieval will be triggered.\n",
      "S2B_MSIL1C_20200904T213049_N0209_R086_T10XDP_20200904T220542 (5cf7afbf-5f62-4883-8a37-d15ff4637469) is in the LTA and retrieval will be triggered.\n",
      "S2A_MSIL1C_20200902T232131_N0209_R130_T12XWP_20200902T235036 (aed5ffbc-3ec0-4137-b673-eecd8eed642c) is in the LTA and retrieval will be triggered.\n",
      "S2B_MSIL1C_20200918T225219_N0209_R001_T11XMJ_20200918T230316 (d2c2d93e-543a-4f90-b93c-fb8c6e5415a0) is in the LTA and retrieval will be triggered.\n",
      "S2B_MSIL1C_20200904T213049_N0209_R086_T09XWG_20200904T220542 (4def34b3-8b53-4881-b500-dbc7433fde91) is in the LTA and retrieval will be triggered.\n",
      "S2B_MSIL1C_20200913T220139_N0209_R072_T12XWP_20200913T221839 (c88c5a47-0903-4d7c-9283-4aa81b2f30b6) is in the LTA and retrieval will be triggered.\n",
      "S2A_MSIL1C_20200918T220201_N0209_R072_T09XWK_20200918T223059 (ab7a9268-9d22-4cf7-a53d-9c1dbf283b85) is in the LTA and retrieval will be triggered.\n",
      "S2A_MSIL1C_20200904T222111_N0209_R015_T11XMK_20200905T001056 (55ef8c5c-b3e8-408c-8e97-891c843051e8) is in the LTA and retrieval will be triggered.\n",
      "S2B_MSIL1C_20200905T005209_N0209_R088_T10XDQ_20200910T150650 (a67d82fa-94e8-451c-adc7-7a5f6b667fa8) is in the LTA and retrieval will be triggered.\n",
      "S2B_MSIL1C_20200902T004159_N0209_R045_T08XNR_20200902T004952 (d69849d3-63c4-46b9-bc15-0ef390bcee10) is in the LTA and retrieval will be triggered.\n",
      "S2A_MSIL1C_20200904T222111_N0209_R015_T11XNJ_20200905T001056 (bb054217-bf29-4a84-8811-b1085ffb9d27) is in the LTA and retrieval will be triggered.\n",
      "S2B_MSIL1C_20200927T214259_N0209_R129_T09XWH_20200927T221032 (3f7d8dbf-c9e3-4217-a2c5-3c05f4bfbff8) is in the LTA and retrieval will be triggered.\n",
      "S2B_MSIL1C_20200905T005209_N0209_R088_T09XVK_20200910T150650 (f48047c0-b2ad-4a81-9cff-ce370105f1f5) is in the LTA and retrieval will be triggered.\n",
      "S2A_MSIL1C_20200902T214051_N0209_R129_T11XMK_20200902T234335 (4a48e18b-6212-4521-b634-0f44a7d291d4) is in the LTA and retrieval will be triggered.\n",
      "S2A_MSIL1C_20200926T212241_N0209_R043_T09XWF_20200926T224851 (0bb10448-38b2-455c-933f-e5fef98f3321) is in the LTA and retrieval will be triggered.\n",
      "S2B_MSIL1C_20200911T230139_N0209_R044_T13XDK_20200911T231304 (241e889f-1ed2-4785-b430-fc9e61778b60) is in the LTA and retrieval will be triggered.\n",
      "S2B_MSIL1C_20200903T234139_N0209_R073_T09XWM_20200903T235253 (505a7e12-d4e2-4b36-acb6-0171016d7e45) is in the LTA and retrieval will be triggered.\n",
      "S2A_MSIL1C_20200913T211111_N0209_R143_T13XDK_20200913T231922 (aa4da09e-070b-481d-9c4d-a330b5fed8e9) is in the LTA and retrieval will be triggered.\n",
      "S2B_MSIL1C_20200927T214259_N0209_R129_T09XWJ_20200927T221032 (073e37e4-bc75-4d38-9394-9523ca14002c) is in the LTA and retrieval will be triggered.\n",
      "S2B_MSIL1C_20200904T213049_N0209_R086_T12XVP_20200904T220542 (226d9a2a-9e69-424f-8e50-b23fff3eb878) is in the LTA and retrieval will be triggered.\n",
      "S2B_MSIL1C_20200904T231129_N0209_R087_T11XMK_20200910T091543 (cc261abc-6edf-434c-8a79-3eeea2ad4760) is in the LTA and retrieval will be triggered.\n",
      "S2B_MSIL1C_20200917T214149_N0209_R129_T09XVC_20200917T234713 (662c0b51-cd1d-41dc-8db6-266f4c008d5a) is in the LTA and retrieval will be triggered.\n",
      "S2B_MSIL1C_20200918T211139_N0209_R143_T11XNK_20200918T213857 (f17c3c68-4a2e-4791-b73c-d61d09f2775d) is in the LTA and retrieval will be triggered.\n",
      "S2B_MSIL1C_20200930T215319_N0209_R029_T09XVF_20200930T224141 (f5666b42-b0d6-45b6-bdfc-cb4cd4103ad3) is in the LTA and retrieval will be triggered.\n",
      "S2B_MSIL1C_20200902T223109_N0209_R058_T10XDM_20200902T230457 (521bd0d1-0d7e-4bbb-a0bf-6ba307e2d6cf) is in the LTA and retrieval will be triggered.\n",
      "S2B_MSIL1C_20200913T220139_N0209_R072_T13XDH_20200913T221839 (1ff98200-a297-4c86-8077-3b80aa801b68) is in the LTA and retrieval will be triggered.\n",
      "S2B_MSIL1C_20200904T231129_N0209_R087_T10XDR_20200910T091543 (ec763393-a728-4cae-8250-8a9ae91e5a1e) is in the LTA and retrieval will be triggered.\n",
      "S2A_MSIL1C_20200913T225141_N0209_R001_T12XVQ_20200914T004215 (98a6b563-173c-4e63-a4db-4d128694e44b) is in the LTA and retrieval will be triggered.\n",
      "S2B_MSIL1C_20200904T231129_N0209_R087_T10XES_20200910T091543 (ca7d87e1-61ad-4e10-b0cc-4a45f9a4e08a) is in the LTA and retrieval will be triggered.\n",
      "S2B_MSIL1C_20200903T001149_N0209_R059_T12XVR_20200903T002208 (008d4802-fc32-4fcc-8ab4-eec8f6138805) is in the LTA and retrieval will be triggered.\n",
      "S2B_MSIL1C_20200911T230139_N0209_R044_T13XEL_20200911T231304 (af1b7a55-7b7c-4d74-ad6f-b9f958e40bb1) is in the LTA and retrieval will be triggered.\n",
      "S2B_MSIL1C_20200912T205029_N0209_R057_T15XWM_20200912T225926 (7ef9ee01-e590-455e-ae1c-b3a588cceca7) is in the LTA and retrieval will be triggered.\n",
      "S2B_MSIL1C_20200904T231129_N0209_R087_T10XER_20200910T091543 (e1b7e316-16d1-42b9-9dfa-b7aa056566c9) is in the LTA and retrieval will be triggered.\n",
      "S2B_MSIL1C_20200904T231129_N0209_R087_T08XNQ_20200904T233746 (efd88b7b-7ecd-4a76-90e0-054f7e6f8042) is in the LTA and retrieval will be triggered.\n",
      "S2B_MSIL1C_20200920T215209_N0209_R029_T09XWG_20200920T222901 (d98bcf79-d0bf-4a7c-9f4f-2003afec4daa) is in the LTA and retrieval will be triggered.\n",
      "S2B_MSIL1C_20200903T001149_N0209_R059_T10XES_20200903T002208 (3c9e4d8f-e7a0-4f4d-9c53-b918f3924b73) is in the LTA and retrieval will be triggered.\n",
      "S2A_MSIL1C_20200920T210151_N0209_R100_T10XDM_20200921T004026 (2ef7f71d-a69d-4b47-b8b7-be71e1ab4b4c) is in the LTA and retrieval will be triggered.\n",
      "S2B_MSIL1C_20200902T205029_N0209_R057_T11XNG_20200902T213239 (9452a210-3c48-4523-b324-002bc75cbb5c) is in the LTA and retrieval will be triggered.\n",
      "S2A_MSIL1C_20200915T215141_N0209_R029_T12XWS_20200915T222247 (fc89603c-4828-4a0d-9151-313f5f751190) is in the LTA and retrieval will be triggered.\n",
      "S2A_MSIL1C_20200915T215141_N0209_R029_T13XDL_20200915T222247 (033f1816-f653-42a8-8fde-d7192bc46959) is in the LTA and retrieval will be triggered.\n",
      "S2A_MSIL1C_20200930T210301_N0209_R100_T09XVC_20200930T233547 (528b3fd6-8eef-4d85-a7cc-31a8d8766d9c) is in the LTA and retrieval will be triggered.\n",
      "S2A_MSIL1C_20200902T214051_N0209_R129_T09XWG_20200902T234335 (5e462b4f-eb08-4aad-8b60-a26caa8887d1) is in the LTA and retrieval will be triggered.\n",
      "S2A_MSIL1C_20200902T214051_N0209_R129_T12XVQ_20200902T234335 (8a969d44-d4a8-4735-91df-c97efa328d61) is in the LTA and retrieval will be triggered.\n",
      "S2B_MSIL1C_20200905T210029_N0209_R100_T10XDL_20200905T214926 (27b5f916-63eb-4958-bd83-15c116d90d13) is in the LTA and retrieval will be triggered.\n",
      "S2B_MSIL1C_20200913T220139_N0209_R072_T14XMP_20200913T221839 (c0a0da02-2bfa-44dd-8dd9-cabaa952dc8e) is in the LTA and retrieval will be triggered.\n",
      "S2A_MSIL1C_20200917T205131_N0209_R057_T09XWB_20200918T002559 (8b4133fa-bb5e-4712-b92a-d96def51dadf) is in the LTA and retrieval will be triggered.\n",
      "S2A_MSIL1C_20200925T215251_N0209_R029_T10XDM_20200925T222057 (08550139-df6e-42e1-b9d7-a7c1ca3c7353) is in the LTA and retrieval will be triggered.\n",
      "S2B_MSIL1C_20200910T215059_N0209_R029_T13XDL_20200910T222352 (f0b9b177-3f39-47b1-8ccf-ed06bf6ce6f2) is in the LTA and retrieval will be triggered.\n",
      "S2A_MSIL1C_20200901T152911_N0209_R111_T28XES_20200901T191929 (fd90c531-762f-4507-81fc-2cfc1b837c80) is in the LTA and retrieval will be triggered.\n",
      "S2B_MSIL1C_20200908T225119_N0209_R001_T08XNM_20200908T231937 (8d5de534-2bd9-4b35-8b66-2e39b60fb887) is in the LTA and retrieval will be triggered.\n",
      "S2B_MSIL1C_20200901T212039_N0209_R043_T14XNQ_20200901T213838 (3456b70f-b86c-46c3-bcb0-5aebd0881d02) is in the LTA and retrieval will be triggered.\n",
      "S2A_MSIL1C_20200913T211111_N0209_R143_T15XWM_20200913T231922 (ff4bc03f-d68e-4991-8498-39f273691130) is in the LTA and retrieval will be triggered.\n",
      "S2B_MSIL1C_20200913T220139_N0209_R072_T14XMQ_20200913T221839 (5490db5f-cf43-4f77-9f72-8869bbe07e3e) is in the LTA and retrieval will be triggered.\n",
      "S2B_MSIL1C_20200903T220059_N0209_R072_T08XNP_20200903T224801 (6ba06e24-deea-4a17-b9a7-11876e051cd4) is in the LTA and retrieval will be triggered.\n",
      "S2B_MSIL1C_20200918T211139_N0209_R143_T09XWE_20200918T214225 (85193bf2-df09-4f80-b6b0-af1f9404b543) is in the LTA and retrieval will be triggered.\n",
      "S2A_MSIL1C_20200924T204211_N0209_R014_T13XDH_20200925T001514 (5fe8b508-5500-442c-9239-58cc7964b2b3) is in the LTA and retrieval will be triggered.\n",
      "S2B_MSIL1C_20200920T215209_N0209_R029_T08XNN_20200920T222901 (8973eada-629a-42b5-94bb-93495e5de89b) is in the LTA and retrieval will be triggered.\n",
      "S2B_MSIL1C_20200904T231129_N0209_R087_T08XNR_20200910T091543 (30fbf084-3f58-4e37-a4f1-a808b293d59d) is in the LTA and retrieval will be triggered.\n",
      "S2B_MSIL1C_20200918T225219_N0209_R001_T09XWG_20200918T231611 (3de883d2-40d0-49b0-916c-094e4f187fa6) is in the LTA and retrieval will be triggered.\n",
      "S2A_MSIL1C_20200913T211111_N0209_R143_T14XMR_20200913T231922 (7bc15db6-668c-4f77-a76a-78f3fd7f49f9) is in the LTA and retrieval will be triggered.\n",
      "S2A_MSIL1C_20200904T222111_N0209_R015_T11XNL_20200905T001056 (0d87b944-11f3-4c23-b2f3-af670c238741) is in the LTA and retrieval will be triggered.\n",
      "S2B_MSIL1C_20200905T005209_N0209_R088_T08XNR_20200910T150650 (86eb6e42-a958-4de5-951f-68b77f6c5d4c) is in the LTA and retrieval will be triggered.\n",
      "S2A_MSIL1C_20200913T211111_N0209_R143_T13XDJ_20200913T231922 (817b133f-8dc9-43c2-a97a-e772965a62ca) is in the LTA and retrieval will be triggered.\n",
      "S2B_MSIL1C_20200902T223109_N0209_R058_T11XNK_20200902T225506 (c53fdf89-999e-4615-96de-a9da1788a47a) is in the LTA and retrieval will be triggered.\n",
      "S2B_MSIL1C_20200904T231129_N0209_R087_T08XNN_20200904T233746 (863f8856-b719-4d9c-80ff-f44c7abd50bf) is in the LTA and retrieval will be triggered.\n",
      "S2A_MSIL1C_20200902T214051_N0209_R129_T09XVH_20200902T234335 (157ee087-b9af-406e-8bf8-0122f2fe2f2c) is in the LTA and retrieval will be triggered.\n",
      "S2B_MSIL1C_20200913T220139_N0209_R072_T13XEK_20200913T221839 (adf7c35c-9c98-4a88-be94-74b630088df5) is in the LTA and retrieval will be triggered.\n",
      "S2B_MSIL1C_20200917T200009_N0209_R128_T21XWM_20200917T233146 (8c1c69a4-996b-44f4-b196-063e9e7db941) is in the LTA and retrieval will be triggered.\n",
      "S2B_MSIL1C_20200912T205029_N0209_R057_T14XNS_20200912T225926 (cc6b465a-1cf3-4484-bf0c-d095c8a55237) is in the LTA and retrieval will be triggered.\n",
      "S2B_MSIL1C_20200904T213049_N0209_R086_T09XVG_20200904T220542 (444505ed-5e43-4208-a4ba-9173c5ebdd7d) is in the LTA and retrieval will be triggered.\n",
      "S2A_MSIL1C_20200917T205131_N0209_R057_T09XVC_20200918T002559 (a5add7fa-ae7f-41a8-ad52-66b377d8ebf9) is in the LTA and retrieval will be triggered.\n",
      "S2B_MSIL1C_20200909T222109_N0209_R015_T12XWS_20200909T225713 (e32553d3-cdee-4305-8a53-b64924471410) is in the LTA and retrieval will be triggered.\n",
      "S2B_MSIL1C_20200904T213049_N0209_R086_T11XNL_20200909T065746 (60bb5f27-0b62-4771-8c9d-59e642806116) is in the LTA and retrieval will be triggered.\n",
      "S2B_MSIL1C_20200911T212059_N0209_R043_T13XEK_20200911T213545 (2c18a9c4-a394-4e98-92f1-0886b87dd178) is in the LTA and retrieval will be triggered.\n",
      "S2B_MSIL1C_20200902T223109_N0209_R058_T11XMK_20200902T225506 (6941be23-a0e8-4eb9-8c8e-655832ff4aa9) is in the LTA and retrieval will be triggered.\n",
      "S2A_MSIL1C_20200911T221121_N0209_R115_T14XNS_20200911T235546 (20f8d8e7-5cc5-4db5-bbd4-389cafbf2cb2) is in the LTA and retrieval will be triggered.\n",
      "S2A_MSIL1C_20200902T214051_N0209_R129_T10XDM_20200902T234335 (45e32677-79d7-47bb-97ed-e9e7b0b26c72) is in the LTA and retrieval will be triggered.\n",
      "S2B_MSIL1C_20200910T215059_N0209_R029_T11XNL_20200910T222352 (396d4ebf-4ef5-4800-b14f-3b75a915930f) is in the LTA and retrieval will be triggered.\n",
      "S2B_MSIL1C_20200904T231129_N0209_R087_T09XWJ_20200904T233746 (c083a118-1245-428f-b41f-9ccb44d95037) is in the LTA and retrieval will be triggered.\n",
      "S2B_MSIL1C_20200902T223109_N0209_R058_T09XWG_20200902T230457 (f4f22894-951d-41f9-a6c8-8480c7967360) is in the LTA and retrieval will be triggered.\n",
      "S2B_MSIL1C_20200904T231129_N0209_R087_T10XEQ_20200910T091543 (4ff0466f-b5df-428f-8cb2-56c4bdb0fbfb) is in the LTA and retrieval will be triggered.\n",
      "S2B_MSIL1C_20200901T230119_N0209_R044_T10XES_20200901T231157 (e51c5c5d-8a8b-4f79-affa-5b7c9ce06a4a) is in the LTA and retrieval will be triggered.\n",
      "S2B_MSIL1C_20200902T205029_N0209_R057_T16XDR_20200902T213239 (d875b50d-7a08-4756-be96-974eb23db8df) is in the LTA and retrieval will be triggered.\n",
      "S2A_MSIL1C_20200910T210031_N0209_R100_T14XNS_20200911T004449 (200b716c-01d1-459d-aae5-3e6c081121a3) is in the LTA and retrieval will be triggered.\n",
      "S2B_MSIL1C_20200916T184939_N0209_R113_T20XNS_20200916T203815 (bf627521-91cb-46e7-9f29-c107faca99b3) is in the LTA and retrieval will be triggered.\n",
      "S2A_MSIL1C_20200904T222111_N0209_R015_T12XVR_20200905T001056 (b7f892e5-36ee-4525-b279-857c3fc89436) is in the LTA and retrieval will be triggered.\n",
      "S2B_MSIL1C_20200910T233139_N0209_R030_T11XNJ_20200910T234934 (066e77c6-3b74-454c-9136-2d8144698e19) is in the LTA and retrieval will be triggered.\n",
      "S2A_MSIL1C_20200913T211111_N0209_R143_T15XVK_20200913T231922 (b7854215-6ea8-45b4-b442-304eacb1b92b) is in the LTA and retrieval will be triggered.\n",
      "S2B_MSIL1C_20200904T231129_N0209_R087_T09XWL_20200910T091543 (74610ea2-28db-4b83-bae8-b1620538f7e5) is in the LTA and retrieval will be triggered.\n",
      "S2B_MSIL1C_20200927T214259_N0209_R129_T10XEN_20200927T221032 (52ad4554-10bd-4f1e-bab6-693a982755c1) is in the LTA and retrieval will be triggered.\n",
      "S2B_MSIL1C_20200910T215059_N0209_R029_T10XEQ_20200910T222352 (0c3f9f08-2bae-4a30-b5ac-46d6ffad4e90) is in the LTA and retrieval will be triggered.\n",
      "S2A_MSIL1C_20200914T190021_N0209_R013_T20XNS_20200914T225044 (b3a4437e-5d55-4fac-888d-b6ea8ad54e0d) is in the LTA and retrieval will be triggered.\n",
      "S2B_MSIL1C_20200904T231129_N0209_R087_T11XMJ_20200910T091543 (cf02f20c-3cab-4905-b553-4cad5ef3f4fd) is in the LTA and retrieval will be triggered.\n",
      "S2B_MSIL1C_20200919T222209_N0209_R015_T11XMG_20200919T225048 (99878e19-017b-43e8-ae67-cc065846b8c6) is in the LTA and retrieval will be triggered.\n",
      "S2A_MSIL1C_20200913T211111_N0209_R143_T14XNR_20200913T231922 (e1d59834-5eb7-4346-bf4c-7938cea4b0bb) is in the LTA and retrieval will be triggered.\n",
      "S2B_MSIL1C_20200905T005209_N0209_R088_T08XNS_20200910T150650 (83b94c30-5d3b-420d-8e71-0629d7c89bf0) is in the LTA and retrieval will be triggered.\n",
      "S2A_MSIL1C_20200915T215141_N0209_R029_T14XMR_20200915T222247 (85efc4ba-4a5a-4f6c-a87d-731ebdb3f015) is in the LTA and retrieval will be triggered.\n",
      "S2A_MSIL1C_20200924T204211_N0209_R014_T12XVP_20200925T001514 (20baaadb-bb0e-426c-b216-fb195ca311d2) is in the LTA and retrieval will be triggered.\n",
      "S2A_MSIL1C_20200910T224121_N0209_R101_T11XNK_20200911T003628 (f9dbc45c-2557-4b41-a994-cdc70a057b20) is in the LTA and retrieval will be triggered.\n",
      "S2B_MSIL1C_20200910T233139_N0209_R030_T09XWM_20200910T234934 (d4c677eb-f15c-448c-8413-2c3f81207ac0) is in the LTA and retrieval will be triggered.\n",
      "S2B_MSIL1C_20200912T190939_N0209_R056_T20XNS_20200912T211946 (b24f6bc9-90fe-4989-b7e8-e49f864c6d55) is in the LTA and retrieval will be triggered.\n",
      "S2B_MSIL1C_20200912T205029_N0209_R057_T16XES_20200912T225926 (5efe2f04-e769-452e-9417-52d82896b020) is in the LTA and retrieval will be triggered.\n",
      "S2B_MSIL1C_20200917T214149_N0209_R129_T08XNJ_20200917T234713 (261aa7a1-6263-4c95-8bc1-528e10a35a7d) is in the LTA and retrieval will be triggered.\n",
      "S2B_MSIL1C_20200913T220139_N0209_R072_T13XDL_20200913T221839 (396ec34b-9e4b-4814-9a54-7872bd70b195) is in the LTA and retrieval will be triggered.\n",
      "S2B_MSIL1C_20200902T205029_N0209_R057_T10XDF_20200902T213239 (c6d28606-39a8-4f57-96bc-a2781e4d12a4) is in the LTA and retrieval will be triggered.\n",
      "S2B_MSIL1C_20200904T231129_N0209_R087_T09XWM_20200910T091543 (7d28805d-bf1b-4467-8d27-37e3f5c7252c) is in the LTA and retrieval will be triggered.\n",
      "S2A_MSIL1C_20200918T220201_N0209_R072_T12XVQ_20200918T223059 (b4229de7-d267-4dbe-8be3-d4189756291d) is in the LTA and retrieval will be triggered.\n",
      "S2B_MSIL1C_20200913T202009_N0209_R071_T15XVK_20200913T220853 (c383026b-bf9f-4bce-b13d-96569c626413) is in the LTA and retrieval will be triggered.\n",
      "S2A_MSIL1C_20200901T221101_N0209_R115_T12XWS_20200902T000420 (c3a8fa1b-ba02-40ed-9e3a-9655e3f9d701) is in the LTA and retrieval will be triggered.\n",
      "S2B_MSIL1C_20200918T211139_N0209_R143_T10XDN_20200918T214225 (206cd1a8-5289-433f-afff-890e1c43e3f3) is in the LTA and retrieval will be triggered.\n",
      "S2A_MSIL1C_20200913T225141_N0209_R001_T13XDJ_20200914T004215 (ced006c0-a3dc-4b32-90cf-c22b43f195aa) is in the LTA and retrieval will be triggered.\n",
      "S2B_MSIL1C_20200917T232229_N0209_R130_T10XDR_20200918T010608 (93b6d621-08e5-4b9a-b632-d9c6e84340d5) is in the LTA and retrieval will be triggered.\n",
      "S2A_MSIL1C_20200911T221121_N0209_R115_T14XMQ_20200911T235546 (055ab069-21d5-440c-bb82-bfd7a2676239) is in the LTA and retrieval will be triggered.\n",
      "S2B_MSIL1C_20200908T211039_N0209_R143_T09XWF_20200908T214607 (f0bab3d4-ef44-4822-93b9-e74d3f345e33) is in the LTA and retrieval will be triggered.\n",
      "S2B_MSIL1C_20200904T213049_N0209_R086_T13XDK_20200909T065746 (88ab9001-4335-45a1-9255-24ff9a6d9f6f) is in the LTA and retrieval will be triggered.\n",
      "S2B_MSIL1C_20200911T212059_N0209_R043_T13XDL_20200911T213545 (e05131b1-ce25-4fc4-8a70-b2f4f5dd8bc2) is in the LTA and retrieval will be triggered.\n",
      "S2B_MSIL1C_20200918T211139_N0209_R143_T09XVF_20200918T214225 (c15ffe0c-4c72-4874-8447-85d7048932e9) is in the LTA and retrieval will be triggered.\n",
      "S2A_MSIL1C_20200913T225141_N0209_R001_T11XNK_20200914T004215 (8901ae13-09f8-490a-af42-b4b014b0829f) is in the LTA and retrieval will be triggered.\n",
      "S2B_MSIL1C_20200901T212039_N0209_R043_T14XMP_20200901T213838 (ca7c501b-7beb-4c44-a49d-7bb47d57fcb1) is in the LTA and retrieval will be triggered.\n",
      "S2B_MSIL1C_20200902T223109_N0209_R058_T12XWP_20200902T225506 (8353da5a-1ee6-4e4a-a97a-fcabeb0375b4) is in the LTA and retrieval will be triggered.\n",
      "S2B_MSIL1C_20200911T212059_N0209_R043_T14XMQ_20200911T213545 (8da3b366-f40f-4bb4-ad77-37ddb68a1f08) is in the LTA and retrieval will be triggered.\n",
      "S2B_MSIL1C_20200918T211139_N0209_R143_T10XEK_20200918T214225 (942d832a-16cc-40fa-803b-03eddbd8fabe) is in the LTA and retrieval will be triggered.\n",
      "S2B_MSIL1C_20200926T221259_N0209_R115_T10XDL_20200926T223944 (27883e49-26aa-4cfd-af5e-b4513caf2c1c) is in the LTA and retrieval will be triggered.\n",
      "S2B_MSIL1C_20200905T005209_N0209_R088_T09XVJ_20200910T150650 (5c2e034b-c87f-4da6-8b31-e1ef5904d9c5) is in the LTA and retrieval will be triggered.\n",
      "S2A_MSIL1C_20200911T221121_N0209_R115_T13XEL_20200911T235546 (e1fcab76-f076-4aa7-a760-dba19a863e08) is in the LTA and retrieval will be triggered.\n",
      "S2A_MSIL1C_20200916T212131_N0209_R043_T09XVC_20200916T232347 (9803a915-f8b1-49ad-81f0-deb7a1c99da6) is in the LTA and retrieval will be triggered.\n",
      "S2B_MSIL1C_20200913T165849_N0209_R069_T28XET_20200913T190936 (ca45d8a1-8116-4cb0-b352-0d21f00fa1d9) is in the LTA and retrieval will be triggered.\n",
      "S2A_MSIL1C_20200915T215141_N0209_R029_T13XEM_20200915T222247 (ced741c0-7743-4c04-8967-fc144cdfbf03) is in the LTA and retrieval will be triggered.\n",
      "S2B_MSIL1C_20200913T202009_N0209_R071_T14XNQ_20200913T220853 (67698a8b-0357-4955-9aab-fdd480b9c2f6) is in the LTA and retrieval will be triggered.\n",
      "S2B_MSIL1C_20200903T220059_N0209_R072_T10XEL_20200903T224801 (b7f22919-851e-4602-860a-30305f775c91) is in the LTA and retrieval will be triggered.\n",
      "S2B_MSIL1C_20200930T215319_N0209_R029_T08XNJ_20200930T224141 (99481887-d04a-437d-8d50-3faeee2f72f8) is in the LTA and retrieval will be triggered.\n",
      "S2A_MSIL1C_20200904T222111_N0209_R015_T12XVQ_20200905T001056 (797c4070-8017-4b6e-98d5-0ed9271301d6) is in the LTA and retrieval will be triggered.\n",
      "S2B_MSIL1C_20200904T231129_N0209_R087_T09XVL_20200910T091543 (85cab3cc-62a6-458d-9674-f298018bc0ff) is in the LTA and retrieval will be triggered.\n",
      "S2B_MSIL1C_20200910T233139_N0209_R030_T09XVJ_20200910T234934 (85a5f2ab-0de7-4bba-835b-b10830f3d71c) is in the LTA and retrieval will be triggered.\n",
      "S2A_MSIL1C_20200917T223201_N0209_R058_T12XWQ_20200918T002117 (9eae6024-d9c1-4eb9-84f3-00fed3b7d0a9) is in the LTA and retrieval will be triggered.\n",
      "S2B_MSIL1C_20200930T215319_N0209_R029_T09XWG_20200930T224141 (f410ed9e-d38a-48ba-b89a-606f7d706614) is in the LTA and retrieval will be triggered.\n",
      "S2A_MSIL1C_20200918T202121_N0209_R071_T13XEK_20200918T223215 (06c01448-2f3e-4a16-948b-2dc83fe30e41) is in the LTA and retrieval will be triggered.\n"
     ]
    },
    {
     "data": {
      "application/vnd.jupyter.widget-view+json": {
       "model_id": "fc5ab00b306847c4aca8d081b2108055",
       "version_major": 2,
       "version_minor": 0
      },
      "text/plain": [
       "Downloading products:   0%|          | 0/488 [00:00<?, ?product/s]"
      ]
     },
     "metadata": {},
     "output_type": "display_data"
    },
    {
     "data": {
      "application/vnd.jupyter.widget-view+json": {
       "model_id": "744ca30826c3431c8ae34a96187233a3",
       "version_major": 2,
       "version_minor": 0
      },
      "text/plain": [
       "LTA retrieval:   0%|          | 0/281 [00:00<?, ?product/s]"
      ]
     },
     "metadata": {},
     "output_type": "display_data"
    },
    {
     "name": "stderr",
     "output_type": "stream",
     "text": [
      "Download will resume from existing incomplete file S2A_MSIL1C_20200915T215141_N0209_R029_T13XEL_20200915T222247.zip.incomplete.\n",
      "aacf6522-7eee-42d9-9196-16971788a01a accepted for retrieval, waiting for it to come online...\n",
      "Download will resume from existing incomplete file S2A_MSIL1C_20200911T221121_N0209_R115_T13XEK_20200911T235546.zip.incomplete.\n",
      "854294fd-afaf-4ca6-98b9-71c3c2da95ab retrieval was not accepted: NullPointerException. Retrying in 60 seconds\n",
      "d5766a68-8e17-4a29-9c19-d072ed11c9f0 retrieval was not accepted: NullPointerException. Retrying in 60 seconds\n",
      "17665f32-af92-47ae-a349-66ea5d2d077e accepted for retrieval, waiting for it to come online...\n",
      "21a5c8f2-90e4-46ec-9d74-fbc7068bab84 retrieval was not accepted: NullPointerException. Retrying in 60 seconds\n",
      "35806151-0b72-44c7-ab56-c46f5d8a59bc accepted for retrieval, waiting for it to come online...\n"
     ]
    },
    {
     "data": {
      "application/vnd.jupyter.widget-view+json": {
       "model_id": "03da1859700345eda41fb7c1c0c2a5d1",
       "version_major": 2,
       "version_minor": 0
      },
      "text/plain": [
       "Downloading S2A_MSIL1C_20200911T221121_N0209_R115_T13XEK_20200911T235546.zip:   3%|2         | 21.0M/789M [00:…"
      ]
     },
     "metadata": {},
     "output_type": "display_data"
    },
    {
     "data": {
      "application/vnd.jupyter.widget-view+json": {
       "model_id": "757842e4fa9a4726835836533f9fb2da",
       "version_major": 2,
       "version_minor": 0
      },
      "text/plain": [
       "Downloading S2A_MSIL1C_20200915T215141_N0209_R029_T13XEL_20200915T222247.zip:   5%|4         | 24.1M/522M [00:…"
      ]
     },
     "metadata": {},
     "output_type": "display_data"
    },
    {
     "name": "stderr",
     "output_type": "stream",
     "text": [
      "c73fc1e5-52fb-47f1-95a6-f09fef9a1c0b accepted for retrieval, waiting for it to come online...\n",
      "3392bcc2-d626-4f58-9d07-017bac854534 accepted for retrieval, waiting for it to come online...\n",
      "6188ed3e-55c8-46e4-82db-935678bb0822 accepted for retrieval, waiting for it to come online...\n",
      "Download will resume from existing incomplete file S2B_MSIL1C_20200918T225219_N0209_R001_T10XEQ_20200918T230316.zip.incomplete.\n",
      "Download will resume from existing incomplete file S2B_MSIL1C_20200905T210029_N0209_R100_T12XWN_20200905T214926.zip.incomplete.\n"
     ]
    },
    {
     "data": {
      "application/vnd.jupyter.widget-view+json": {
       "model_id": "1a0ab7f186634c0eb52a4c98ffccc2de",
       "version_major": 2,
       "version_minor": 0
      },
      "text/plain": [
       "Downloading S2B_MSIL1C_20200918T225219_N0209_R001_T10XEQ_20200918T230316.zip:  17%|#7        | 31.5M/181M [00:…"
      ]
     },
     "metadata": {},
     "output_type": "display_data"
    },
    {
     "data": {
      "application/vnd.jupyter.widget-view+json": {
       "model_id": "1f846a02ede9481584ec8cde08fdf11b",
       "version_major": 2,
       "version_minor": 0
      },
      "text/plain": [
       "Downloading S2B_MSIL1C_20200905T210029_N0209_R100_T12XWN_20200905T214926.zip:   1%|1         | 8.39M/810M [00:…"
      ]
     },
     "metadata": {},
     "output_type": "display_data"
    },
    {
     "name": "stderr",
     "output_type": "stream",
     "text": [
      "94169cfe-e2f0-48f0-b4f4-bf2f4fe2b97c retrieval was not accepted: NullPointerException. Retrying in 60 seconds\n",
      "854294fd-afaf-4ca6-98b9-71c3c2da95ab accepted for retrieval, waiting for it to come online...\n",
      "d5766a68-8e17-4a29-9c19-d072ed11c9f0 accepted for retrieval, waiting for it to come online...\n",
      "21a5c8f2-90e4-46ec-9d74-fbc7068bab84 accepted for retrieval, waiting for it to come online...\n"
     ]
    },
    {
     "data": {
      "application/vnd.jupyter.widget-view+json": {
       "model_id": "",
       "version_major": 2,
       "version_minor": 0
      },
      "text/plain": [
       "MD5 checksumming:   0%|          | 0.00/789M [00:00<?, ?B/s]"
      ]
     },
     "metadata": {},
     "output_type": "display_data"
    },
    {
     "data": {
      "application/vnd.jupyter.widget-view+json": {
       "model_id": "9c7855bc5a5e471b8520d6c373f46798",
       "version_major": 2,
       "version_minor": 0
      },
      "text/plain": [
       "Downloading S2A_MSIL1C_20200926T212241_N0209_R043_T10XDM_20200926T232526.zip:   0%|          | 0.00/19.0M [00:…"
      ]
     },
     "metadata": {},
     "output_type": "display_data"
    },
    {
     "name": "stderr",
     "output_type": "stream",
     "text": [
      "94169cfe-e2f0-48f0-b4f4-bf2f4fe2b97c accepted for retrieval, waiting for it to come online...\n"
     ]
    },
    {
     "data": {
      "application/vnd.jupyter.widget-view+json": {
       "model_id": "",
       "version_major": 2,
       "version_minor": 0
      },
      "text/plain": [
       "MD5 checksumming:   0%|          | 0.00/19.0M [00:00<?, ?B/s]"
      ]
     },
     "metadata": {},
     "output_type": "display_data"
    },
    {
     "data": {
      "application/vnd.jupyter.widget-view+json": {
       "model_id": "705f0f6a5f724a079b7879efa06767dc",
       "version_major": 2,
       "version_minor": 0
      },
      "text/plain": [
       "Downloading S2A_MSIL1C_20200913T211111_N0209_R143_T16XES_20200913T231922.zip:   0%|          | 0.00/125M [00:0…"
      ]
     },
     "metadata": {},
     "output_type": "display_data"
    },
    {
     "data": {
      "application/vnd.jupyter.widget-view+json": {
       "model_id": "",
       "version_major": 2,
       "version_minor": 0
      },
      "text/plain": [
       "MD5 checksumming:   0%|          | 0.00/810M [00:00<?, ?B/s]"
      ]
     },
     "metadata": {},
     "output_type": "display_data"
    },
    {
     "data": {
      "application/vnd.jupyter.widget-view+json": {
       "model_id": "3b8c9ee65e324f7aa59fbdc03a9c9af9",
       "version_major": 2,
       "version_minor": 0
      },
      "text/plain": [
       "Downloading S2A_MSIL1C_20200903T211041_N0209_R143_T10XDN_20200904T004540.zip:   0%|          | 0.00/28.1M [00:…"
      ]
     },
     "metadata": {},
     "output_type": "display_data"
    },
    {
     "data": {
      "application/vnd.jupyter.widget-view+json": {
       "model_id": "",
       "version_major": 2,
       "version_minor": 0
      },
      "text/plain": [
       "MD5 checksumming:   0%|          | 0.00/125M [00:00<?, ?B/s]"
      ]
     },
     "metadata": {},
     "output_type": "display_data"
    },
    {
     "data": {
      "application/vnd.jupyter.widget-view+json": {
       "model_id": "",
       "version_major": 2,
       "version_minor": 0
      },
      "text/plain": [
       "MD5 checksumming:   0%|          | 0.00/28.1M [00:00<?, ?B/s]"
      ]
     },
     "metadata": {},
     "output_type": "display_data"
    },
    {
     "data": {
      "application/vnd.jupyter.widget-view+json": {
       "model_id": "6e4527f8ec504922bc12259e81f11fd0",
       "version_major": 2,
       "version_minor": 0
      },
      "text/plain": [
       "Downloading S2B_MSIL1C_20200910T215059_N0209_R029_T12XVR_20200910T222352.zip:   0%|          | 0.00/422M [00:0…"
      ]
     },
     "metadata": {},
     "output_type": "display_data"
    },
    {
     "data": {
      "application/vnd.jupyter.widget-view+json": {
       "model_id": "aabf7c9ee68d41b58b0ab4ba12b32a7f",
       "version_major": 2,
       "version_minor": 0
      },
      "text/plain": [
       "Downloading S2A_MSIL1C_20200925T215251_N0209_R029_T09XWG_20200925T222057.zip:   0%|          | 0.00/220M [00:0…"
      ]
     },
     "metadata": {},
     "output_type": "display_data"
    },
    {
     "data": {
      "application/vnd.jupyter.widget-view+json": {
       "model_id": "",
       "version_major": 2,
       "version_minor": 0
      },
      "text/plain": [
       "MD5 checksumming:   0%|          | 0.00/220M [00:00<?, ?B/s]"
      ]
     },
     "metadata": {},
     "output_type": "display_data"
    },
    {
     "data": {
      "application/vnd.jupyter.widget-view+json": {
       "model_id": "",
       "version_major": 2,
       "version_minor": 0
      },
      "text/plain": [
       "MD5 checksumming:   0%|          | 0.00/422M [00:00<?, ?B/s]"
      ]
     },
     "metadata": {},
     "output_type": "display_data"
    },
    {
     "data": {
      "application/vnd.jupyter.widget-view+json": {
       "model_id": "1c1700b8b33949bbabeec4e2e58d54ce",
       "version_major": 2,
       "version_minor": 0
      },
      "text/plain": [
       "Downloading S2B_MSIL1C_20200924T213229_N0209_R086_T10XDP_20200924T220127.zip:   0%|          | 0.00/57.4M [00:…"
      ]
     },
     "metadata": {},
     "output_type": "display_data"
    },
    {
     "data": {
      "application/vnd.jupyter.widget-view+json": {
       "model_id": "94458b127e654f659df5ab7ad59c75d7",
       "version_major": 2,
       "version_minor": 0
      },
      "text/plain": [
       "Downloading S2B_MSIL1C_20200908T211039_N0209_R143_T10XDN_20200908T214607.zip:   0%|          | 0.00/23.5M [00:…"
      ]
     },
     "metadata": {},
     "output_type": "display_data"
    },
    {
     "data": {
      "application/vnd.jupyter.widget-view+json": {
       "model_id": "",
       "version_major": 2,
       "version_minor": 0
      },
      "text/plain": [
       "MD5 checksumming:   0%|          | 0.00/23.5M [00:00<?, ?B/s]"
      ]
     },
     "metadata": {},
     "output_type": "display_data"
    },
    {
     "data": {
      "application/vnd.jupyter.widget-view+json": {
       "model_id": "",
       "version_major": 2,
       "version_minor": 0
      },
      "text/plain": [
       "MD5 checksumming:   0%|          | 0.00/57.4M [00:00<?, ?B/s]"
      ]
     },
     "metadata": {},
     "output_type": "display_data"
    },
    {
     "data": {
      "application/vnd.jupyter.widget-view+json": {
       "model_id": "10e4f2e1dcf04d81a68b707b29617645",
       "version_major": 2,
       "version_minor": 0
      },
      "text/plain": [
       "Downloading S2B_MSIL1C_20200910T233139_N0209_R030_T11XNK_20200910T234934.zip:   0%|          | 0.00/746M [00:0…"
      ]
     },
     "metadata": {},
     "output_type": "display_data"
    },
    {
     "data": {
      "application/vnd.jupyter.widget-view+json": {
       "model_id": "35c693f7062147f2baedf915c6d22983",
       "version_major": 2,
       "version_minor": 0
      },
      "text/plain": [
       "Downloading S2B_MSIL1C_20200918T225219_N0209_R001_T08XNN_20200918T231611.zip:   0%|          | 0.00/785M [00:0…"
      ]
     },
     "metadata": {},
     "output_type": "display_data"
    },
    {
     "data": {
      "application/vnd.jupyter.widget-view+json": {
       "model_id": "",
       "version_major": 2,
       "version_minor": 0
      },
      "text/plain": [
       "MD5 checksumming:   0%|          | 0.00/746M [00:00<?, ?B/s]"
      ]
     },
     "metadata": {},
     "output_type": "display_data"
    },
    {
     "data": {
      "application/vnd.jupyter.widget-view+json": {
       "model_id": "76200a297b844972810f7165c47a8a15",
       "version_major": 2,
       "version_minor": 0
      },
      "text/plain": [
       "Downloading S2B_MSIL1C_20200902T205029_N0209_R057_T15XWL_20200902T213239.zip:   0%|          | 0.00/836M [00:0…"
      ]
     },
     "metadata": {},
     "output_type": "display_data"
    },
    {
     "data": {
      "application/vnd.jupyter.widget-view+json": {
       "model_id": "",
       "version_major": 2,
       "version_minor": 0
      },
      "text/plain": [
       "MD5 checksumming:   0%|          | 0.00/785M [00:00<?, ?B/s]"
      ]
     },
     "metadata": {},
     "output_type": "display_data"
    },
    {
     "data": {
      "application/vnd.jupyter.widget-view+json": {
       "model_id": "f6557993d6bf429d94158afaafd4115c",
       "version_major": 2,
       "version_minor": 0
      },
      "text/plain": [
       "Downloading S2A_MSIL1C_20200922T214221_N0209_R129_T09XVH_20200922T235029.zip:   0%|          | 0.00/10.5M [00:…"
      ]
     },
     "metadata": {},
     "output_type": "display_data"
    },
    {
     "data": {
      "application/vnd.jupyter.widget-view+json": {
       "model_id": "",
       "version_major": 2,
       "version_minor": 0
      },
      "text/plain": [
       "MD5 checksumming:   0%|          | 0.00/10.5M [00:00<?, ?B/s]"
      ]
     },
     "metadata": {},
     "output_type": "display_data"
    },
    {
     "data": {
      "application/vnd.jupyter.widget-view+json": {
       "model_id": "6e32a6635255405e9ac615eb9dd599f0",
       "version_major": 2,
       "version_minor": 0
      },
      "text/plain": [
       "Downloading S2B_MSIL1C_20200911T212059_N0209_R043_T14XMR_20200911T213545.zip:   0%|          | 0.00/767M [00:0…"
      ]
     },
     "metadata": {},
     "output_type": "display_data"
    },
    {
     "data": {
      "application/vnd.jupyter.widget-view+json": {
       "model_id": "",
       "version_major": 2,
       "version_minor": 0
      },
      "text/plain": [
       "MD5 checksumming:   0%|          | 0.00/836M [00:00<?, ?B/s]"
      ]
     },
     "metadata": {},
     "output_type": "display_data"
    },
    {
     "data": {
      "application/vnd.jupyter.widget-view+json": {
       "model_id": "ff047cc6c6bd418a81535baf33518f4a",
       "version_major": 2,
       "version_minor": 0
      },
      "text/plain": [
       "Downloading S2A_MSIL1C_20200924T204211_N0209_R014_T11XNG_20200925T001514.zip:   0%|          | 0.00/774M [00:0…"
      ]
     },
     "metadata": {},
     "output_type": "display_data"
    },
    {
     "data": {
      "application/vnd.jupyter.widget-view+json": {
       "model_id": "",
       "version_major": 2,
       "version_minor": 0
      },
      "text/plain": [
       "MD5 checksumming:   0%|          | 0.00/767M [00:00<?, ?B/s]"
      ]
     },
     "metadata": {},
     "output_type": "display_data"
    },
    {
     "data": {
      "application/vnd.jupyter.widget-view+json": {
       "model_id": "e4a45108324b4b2ba5464282e1c613a9",
       "version_major": 2,
       "version_minor": 0
      },
      "text/plain": [
       "Downloading S2B_MSIL1C_20200930T215319_N0209_R029_T08XNH_20200930T224141.zip:   0%|          | 0.00/539M [00:0…"
      ]
     },
     "metadata": {},
     "output_type": "display_data"
    },
    {
     "data": {
      "application/vnd.jupyter.widget-view+json": {
       "model_id": "",
       "version_major": 2,
       "version_minor": 0
      },
      "text/plain": [
       "MD5 checksumming:   0%|          | 0.00/539M [00:00<?, ?B/s]"
      ]
     },
     "metadata": {},
     "output_type": "display_data"
    },
    {
     "data": {
      "application/vnd.jupyter.widget-view+json": {
       "model_id": "15e30057ed814d76a660a5a18ac50781",
       "version_major": 2,
       "version_minor": 0
      },
      "text/plain": [
       "Downloading S2B_MSIL1C_20200905T210029_N0209_R100_T13XDH_20200905T214926.zip:   0%|          | 0.00/809M [00:0…"
      ]
     },
     "metadata": {},
     "output_type": "display_data"
    },
    {
     "data": {
      "application/vnd.jupyter.widget-view+json": {
       "model_id": "",
       "version_major": 2,
       "version_minor": 0
      },
      "text/plain": [
       "MD5 checksumming:   0%|          | 0.00/774M [00:00<?, ?B/s]"
      ]
     },
     "metadata": {},
     "output_type": "display_data"
    },
    {
     "data": {
      "application/vnd.jupyter.widget-view+json": {
       "model_id": "3ed8dd6800e74881a1216e3ba51c4b97",
       "version_major": 2,
       "version_minor": 0
      },
      "text/plain": [
       "Downloading S2A_MSIL1C_20200918T220201_N0209_R072_T10XEQ_20200918T223059.zip:   0%|          | 0.00/755M [00:0…"
      ]
     },
     "metadata": {},
     "output_type": "display_data"
    },
    {
     "data": {
      "application/vnd.jupyter.widget-view+json": {
       "model_id": "",
       "version_major": 2,
       "version_minor": 0
      },
      "text/plain": [
       "MD5 checksumming:   0%|          | 0.00/755M [00:00<?, ?B/s]"
      ]
     },
     "metadata": {},
     "output_type": "display_data"
    },
    {
     "data": {
      "application/vnd.jupyter.widget-view+json": {
       "model_id": "c779797339a6452d8236186ad23c71f2",
       "version_major": 2,
       "version_minor": 0
      },
      "text/plain": [
       "Downloading S2B_MSIL1C_20200904T213049_N0209_R086_T11XMK_20200904T220542.zip:   0%|          | 0.00/22.5M [00:…"
      ]
     },
     "metadata": {},
     "output_type": "display_data"
    },
    {
     "data": {
      "application/vnd.jupyter.widget-view+json": {
       "model_id": "",
       "version_major": 2,
       "version_minor": 0
      },
      "text/plain": [
       "MD5 checksumming:   0%|          | 0.00/809M [00:00<?, ?B/s]"
      ]
     },
     "metadata": {},
     "output_type": "display_data"
    },
    {
     "data": {
      "application/vnd.jupyter.widget-view+json": {
       "model_id": "",
       "version_major": 2,
       "version_minor": 0
      },
      "text/plain": [
       "MD5 checksumming:   0%|          | 0.00/22.5M [00:00<?, ?B/s]"
      ]
     },
     "metadata": {},
     "output_type": "display_data"
    },
    {
     "data": {
      "application/vnd.jupyter.widget-view+json": {
       "model_id": "d00966a039e94bd1a75d99e83dfc8079",
       "version_major": 2,
       "version_minor": 0
      },
      "text/plain": [
       "Downloading S2B_MSIL1C_20200911T193959_N0209_R042_T20XNS_20200911T201452.zip:   0%|          | 0.00/771M [00:0…"
      ]
     },
     "metadata": {},
     "output_type": "display_data"
    },
    {
     "data": {
      "application/vnd.jupyter.widget-view+json": {
       "model_id": "82172415d60f45e8a993397c01bbe350",
       "version_major": 2,
       "version_minor": 0
      },
      "text/plain": [
       "Downloading S2A_MSIL1C_20200930T210301_N0209_R100_T09XVB_20200930T233547.zip:   0%|          | 0.00/815M [00:0…"
      ]
     },
     "metadata": {},
     "output_type": "display_data"
    },
    {
     "data": {
      "application/vnd.jupyter.widget-view+json": {
       "model_id": "",
       "version_major": 2,
       "version_minor": 0
      },
      "text/plain": [
       "MD5 checksumming:   0%|          | 0.00/815M [00:00<?, ?B/s]"
      ]
     },
     "metadata": {},
     "output_type": "display_data"
    },
    {
     "data": {
      "application/vnd.jupyter.widget-view+json": {
       "model_id": "",
       "version_major": 2,
       "version_minor": 0
      },
      "text/plain": [
       "MD5 checksumming:   0%|          | 0.00/771M [00:00<?, ?B/s]"
      ]
     },
     "metadata": {},
     "output_type": "display_data"
    },
    {
     "name": "stderr",
     "output_type": "stream",
     "text": [
      "Download will resume from existing incomplete file S2B_MSIL1C_20200903T220059_N0209_R072_T09XWH_20200903T224801.zip.incomplete.\n"
     ]
    },
    {
     "data": {
      "application/vnd.jupyter.widget-view+json": {
       "model_id": "c714a9400b1f4f719689cfbea6ca2576",
       "version_major": 2,
       "version_minor": 0
      },
      "text/plain": [
       "Downloading S2B_MSIL1C_20200903T220059_N0209_R072_T09XWH_20200903T224801.zip:  92%|#########1| 743M/808M [00:0…"
      ]
     },
     "metadata": {},
     "output_type": "display_data"
    },
    {
     "data": {
      "application/vnd.jupyter.widget-view+json": {
       "model_id": "",
       "version_major": 2,
       "version_minor": 0
      },
      "text/plain": [
       "MD5 checksumming:   0%|          | 0.00/808M [00:00<?, ?B/s]"
      ]
     },
     "metadata": {},
     "output_type": "display_data"
    },
    {
     "data": {
      "application/vnd.jupyter.widget-view+json": {
       "model_id": "933f214d743245c0a82686fd3281e119",
       "version_major": 2,
       "version_minor": 0
      },
      "text/plain": [
       "Downloading S2B_MSIL1C_20200918T211139_N0209_R143_T09XVE_20200918T214225.zip:   0%|          | 0.00/419M [00:0…"
      ]
     },
     "metadata": {},
     "output_type": "display_data"
    },
    {
     "data": {
      "application/vnd.jupyter.widget-view+json": {
       "model_id": "0f3184805fda4849a11dd035de0d1a07",
       "version_major": 2,
       "version_minor": 0
      },
      "text/plain": [
       "Downloading S2B_MSIL1C_20200901T212039_N0209_R043_T13XEJ_20200901T213838.zip:   0%|          | 0.00/826M [00:0…"
      ]
     },
     "metadata": {},
     "output_type": "display_data"
    },
    {
     "data": {
      "application/vnd.jupyter.widget-view+json": {
       "model_id": "",
       "version_major": 2,
       "version_minor": 0
      },
      "text/plain": [
       "MD5 checksumming:   0%|          | 0.00/419M [00:00<?, ?B/s]"
      ]
     },
     "metadata": {},
     "output_type": "display_data"
    },
    {
     "data": {
      "application/vnd.jupyter.widget-view+json": {
       "model_id": "b423ceb16c0b4a2abe94d541e9a2fc8d",
       "version_major": 2,
       "version_minor": 0
      },
      "text/plain": [
       "Downloading S2A_MSIL1C_20200913T211111_N0209_R143_T12XWQ_20200913T231922.zip:   0%|          | 0.00/722M [00:0…"
      ]
     },
     "metadata": {},
     "output_type": "display_data"
    },
    {
     "data": {
      "application/vnd.jupyter.widget-view+json": {
       "model_id": "",
       "version_major": 2,
       "version_minor": 0
      },
      "text/plain": [
       "MD5 checksumming:   0%|          | 0.00/826M [00:00<?, ?B/s]"
      ]
     },
     "metadata": {},
     "output_type": "display_data"
    },
    {
     "data": {
      "application/vnd.jupyter.widget-view+json": {
       "model_id": "fef4ac6815c548e6a0da2d865acf5e9d",
       "version_major": 2,
       "version_minor": 0
      },
      "text/plain": [
       "Downloading S2B_MSIL1C_20200905T005209_N0209_R088_T08XNP_20200910T150650.zip:   0%|          | 0.00/5.17M [00:…"
      ]
     },
     "metadata": {},
     "output_type": "display_data"
    },
    {
     "data": {
      "application/vnd.jupyter.widget-view+json": {
       "model_id": "",
       "version_major": 2,
       "version_minor": 0
      },
      "text/plain": [
       "MD5 checksumming:   0%|          | 0.00/5.17M [00:00<?, ?B/s]"
      ]
     },
     "metadata": {},
     "output_type": "display_data"
    },
    {
     "data": {
      "application/vnd.jupyter.widget-view+json": {
       "model_id": "6f0094d6944e4a40a7ee376dcc97beca",
       "version_major": 2,
       "version_minor": 0
      },
      "text/plain": [
       "Downloading S2B_MSIL1C_20200905T005209_N0209_R088_T10XDR_20200910T150650.zip:   0%|          | 0.00/396M [00:0…"
      ]
     },
     "metadata": {},
     "output_type": "display_data"
    },
    {
     "data": {
      "application/vnd.jupyter.widget-view+json": {
       "model_id": "",
       "version_major": 2,
       "version_minor": 0
      },
      "text/plain": [
       "MD5 checksumming:   0%|          | 0.00/722M [00:00<?, ?B/s]"
      ]
     },
     "metadata": {},
     "output_type": "display_data"
    },
    {
     "data": {
      "application/vnd.jupyter.widget-view+json": {
       "model_id": "1b344a9ba8ac4acfa2fc4432997c8164",
       "version_major": 2,
       "version_minor": 0
      },
      "text/plain": [
       "Downloading S2B_MSIL1C_20200904T231129_N0209_R087_T11XNL_20200910T091543.zip:   0%|          | 0.00/755M [00:0…"
      ]
     },
     "metadata": {},
     "output_type": "display_data"
    },
    {
     "data": {
      "application/vnd.jupyter.widget-view+json": {
       "model_id": "",
       "version_major": 2,
       "version_minor": 0
      },
      "text/plain": [
       "MD5 checksumming:   0%|          | 0.00/396M [00:00<?, ?B/s]"
      ]
     },
     "metadata": {},
     "output_type": "display_data"
    },
    {
     "data": {
      "application/vnd.jupyter.widget-view+json": {
       "model_id": "f08e7a7db26b4e539beb71fc8101e8bd",
       "version_major": 2,
       "version_minor": 0
      },
      "text/plain": [
       "Downloading S2B_MSIL1C_20200920T215209_N0209_R029_T11XMF_20200920T222901.zip:   0%|          | 0.00/64.5M [00:…"
      ]
     },
     "metadata": {},
     "output_type": "display_data"
    },
    {
     "data": {
      "application/vnd.jupyter.widget-view+json": {
       "model_id": "",
       "version_major": 2,
       "version_minor": 0
      },
      "text/plain": [
       "MD5 checksumming:   0%|          | 0.00/64.5M [00:00<?, ?B/s]"
      ]
     },
     "metadata": {},
     "output_type": "display_data"
    },
    {
     "data": {
      "application/vnd.jupyter.widget-view+json": {
       "model_id": "849b895c59094cb2b0393b85455e0325",
       "version_major": 2,
       "version_minor": 0
      },
      "text/plain": [
       "Downloading S2B_MSIL1C_20200903T220059_N0209_R072_T10XDK_20200903T224801.zip:   0%|          | 0.00/8.43M [00:…"
      ]
     },
     "metadata": {},
     "output_type": "display_data"
    },
    {
     "data": {
      "application/vnd.jupyter.widget-view+json": {
       "model_id": "",
       "version_major": 2,
       "version_minor": 0
      },
      "text/plain": [
       "MD5 checksumming:   0%|          | 0.00/8.43M [00:00<?, ?B/s]"
      ]
     },
     "metadata": {},
     "output_type": "display_data"
    },
    {
     "data": {
      "application/vnd.jupyter.widget-view+json": {
       "model_id": "338768d011f54415a1051d97d2675bd1",
       "version_major": 2,
       "version_minor": 0
      },
      "text/plain": [
       "Downloading S2A_MSIL1C_20200913T211111_N0209_R143_T14XNS_20200913T231922.zip:   0%|          | 0.00/217M [00:0…"
      ]
     },
     "metadata": {},
     "output_type": "display_data"
    },
    {
     "data": {
      "application/vnd.jupyter.widget-view+json": {
       "model_id": "",
       "version_major": 2,
       "version_minor": 0
      },
      "text/plain": [
       "MD5 checksumming:   0%|          | 0.00/217M [00:00<?, ?B/s]"
      ]
     },
     "metadata": {},
     "output_type": "display_data"
    },
    {
     "data": {
      "application/vnd.jupyter.widget-view+json": {
       "model_id": "feec38bf1ddd4f729f0c0e1f7ebdb45e",
       "version_major": 2,
       "version_minor": 0
      },
      "text/plain": [
       "Downloading S2B_MSIL1C_20200911T212059_N0209_R043_T15XWM_20200911T213545.zip:   0%|          | 0.00/625M [00:0…"
      ]
     },
     "metadata": {},
     "output_type": "display_data"
    },
    {
     "data": {
      "application/vnd.jupyter.widget-view+json": {
       "model_id": "",
       "version_major": 2,
       "version_minor": 0
      },
      "text/plain": [
       "MD5 checksumming:   0%|          | 0.00/755M [00:00<?, ?B/s]"
      ]
     },
     "metadata": {},
     "output_type": "display_data"
    },
    {
     "data": {
      "application/vnd.jupyter.widget-view+json": {
       "model_id": "3b797934bd6748c693295a15f8b3edee",
       "version_major": 2,
       "version_minor": 0
      },
      "text/plain": [
       "Downloading S2B_MSIL1C_20200904T231129_N0209_R087_T10XDN_20200904T233746.zip:   0%|          | 0.00/7.52M [00:…"
      ]
     },
     "metadata": {},
     "output_type": "display_data"
    },
    {
     "data": {
      "application/vnd.jupyter.widget-view+json": {
       "model_id": "",
       "version_major": 2,
       "version_minor": 0
      },
      "text/plain": [
       "MD5 checksumming:   0%|          | 0.00/7.52M [00:00<?, ?B/s]"
      ]
     },
     "metadata": {},
     "output_type": "display_data"
    },
    {
     "data": {
      "application/vnd.jupyter.widget-view+json": {
       "model_id": "60e5a239695d4318b5bcb3715972ed2d",
       "version_major": 2,
       "version_minor": 0
      },
      "text/plain": [
       "Downloading S2B_MSIL1C_20200912T223129_N0209_R058_T12XWS_20200912T230143.zip:   0%|          | 0.00/570M [00:0…"
      ]
     },
     "metadata": {},
     "output_type": "display_data"
    },
    {
     "data": {
      "application/vnd.jupyter.widget-view+json": {
       "model_id": "",
       "version_major": 2,
       "version_minor": 0
      },
      "text/plain": [
       "MD5 checksumming:   0%|          | 0.00/625M [00:00<?, ?B/s]"
      ]
     },
     "metadata": {},
     "output_type": "display_data"
    },
    {
     "data": {
      "application/vnd.jupyter.widget-view+json": {
       "model_id": "4fd1453df1804645b27614025ea1081e",
       "version_major": 2,
       "version_minor": 0
      },
      "text/plain": [
       "Downloading S2A_MSIL1C_20200913T211111_N0209_R143_T13XEK_20200913T231922.zip:   0%|          | 0.00/805M [00:0…"
      ]
     },
     "metadata": {},
     "output_type": "display_data"
    },
    {
     "data": {
      "application/vnd.jupyter.widget-view+json": {
       "model_id": "",
       "version_major": 2,
       "version_minor": 0
      },
      "text/plain": [
       "MD5 checksumming:   0%|          | 0.00/570M [00:00<?, ?B/s]"
      ]
     },
     "metadata": {},
     "output_type": "display_data"
    },
    {
     "data": {
      "application/vnd.jupyter.widget-view+json": {
       "model_id": "c7d5c626743548fa8446c140d7610b92",
       "version_major": 2,
       "version_minor": 0
      },
      "text/plain": [
       "Downloading S2B_MSIL1C_20200916T203019_N0209_R114_T09WWV_20200916T211412.zip:   0%|          | 0.00/740M [00:0…"
      ]
     },
     "metadata": {},
     "output_type": "display_data"
    },
    {
     "data": {
      "application/vnd.jupyter.widget-view+json": {
       "model_id": "",
       "version_major": 2,
       "version_minor": 0
      },
      "text/plain": [
       "MD5 checksumming:   0%|          | 0.00/805M [00:00<?, ?B/s]"
      ]
     },
     "metadata": {},
     "output_type": "display_data"
    },
    {
     "name": "stderr",
     "output_type": "stream",
     "text": [
      "c73fc1e5-52fb-47f1-95a6-f09fef9a1c0b retrieval was not accepted: TransactionSystemException : Could not commit Hibernate transaction; nested exception is org.hibernate.TransactionException: Unable to commit against JDBC Connection. Retrying in 60 seconds\n"
     ]
    },
    {
     "data": {
      "application/vnd.jupyter.widget-view+json": {
       "model_id": "31783bfa706f4c09a3bcdcbfcda97717",
       "version_major": 2,
       "version_minor": 0
      },
      "text/plain": [
       "Downloading S2A_MSIL1C_20200904T222111_N0209_R015_T12XVP_20200905T001056.zip:   0%|          | 0.00/512M [00:0…"
      ]
     },
     "metadata": {},
     "output_type": "display_data"
    },
    {
     "name": "stderr",
     "output_type": "stream",
     "text": [
      "There was an error downloading S2A_MSIL1C_20200904T222111_N0209_R015_T12XVP_20200905T001056\n",
      "Traceback (most recent call last):\n",
      "  File \"/Users/buckley/opt/conda/envs/py39/lib/python3.9/site-packages/sentinelsat/sentinel.py\", line 1017, in _check_scihub_response\n",
      "    response.raise_for_status()\n",
      "  File \"/Users/buckley/opt/conda/envs/py39/lib/python3.9/site-packages/requests/models.py\", line 953, in raise_for_status\n",
      "    raise HTTPError(http_error_msg, response=self)\n",
      "requests.exceptions.HTTPError: 500 Server Error: Internal Server Error for url: https://scihub.copernicus.eu/dhus/odata/v1/Products('e9cbc973-b66e-467b-9729-c3ebe7f0aad0')/$value\n",
      "\n",
      "During handling of the above exception, another exception occurred:\n",
      "\n",
      "Traceback (most recent call last):\n",
      "  File \"/Users/buckley/opt/conda/envs/py39/lib/python3.9/site-packages/sentinelsat/download.py\", line 700, in _download_online_retry\n",
      "    return self.download(uuid, directory, stop_event=stop_event)\n",
      "  File \"/Users/buckley/opt/conda/envs/py39/lib/python3.9/site-packages/sentinelsat/download.py\", line 150, in download\n",
      "    self._download_common(product_info, path, stop_event)\n",
      "  File \"/Users/buckley/opt/conda/envs/py39/lib/python3.9/site-packages/sentinelsat/download.py\", line 218, in _download_common\n",
      "    product_info[\"downloaded_bytes\"] = self._download(\n",
      "  File \"/Users/buckley/opt/conda/envs/py39/lib/python3.9/site-packages/sentinelsat/download.py\", line 741, in _download\n",
      "    self.api._check_scihub_response(r, test_json=False)\n",
      "  File \"/Users/buckley/opt/conda/envs/py39/lib/python3.9/site-packages/sentinelsat/sentinel.py\", line 1063, in _check_scihub_response\n",
      "    raise ServerError(msg, response)\n",
      "sentinelsat.exceptions.ServerError: HTTP status 500 Internal Server Error: TransactionSystemException : Could not roll back Hibernate transaction; nested exception is org.hibernate.TransactionException: Unable to rollback against JDBC Connection\n",
      "9 retries left, retrying in 10 seconds...\n"
     ]
    },
    {
     "data": {
      "application/vnd.jupyter.widget-view+json": {
       "model_id": "67f1b9d3ce5540028ed3b45b24d3ded3",
       "version_major": 2,
       "version_minor": 0
      },
      "text/plain": [
       "Downloading S2A_MSIL1C_20200904T222111_N0209_R015_T12XVP_20200905T001056.zip:   0%|          | 0.00/512M [00:0…"
      ]
     },
     "metadata": {},
     "output_type": "display_data"
    },
    {
     "data": {
      "application/vnd.jupyter.widget-view+json": {
       "model_id": "",
       "version_major": 2,
       "version_minor": 0
      },
      "text/plain": [
       "MD5 checksumming:   0%|          | 0.00/512M [00:00<?, ?B/s]"
      ]
     },
     "metadata": {},
     "output_type": "display_data"
    },
    {
     "data": {
      "application/vnd.jupyter.widget-view+json": {
       "model_id": "",
       "version_major": 2,
       "version_minor": 0
      },
      "text/plain": [
       "MD5 checksumming:   0%|          | 0.00/740M [00:00<?, ?B/s]"
      ]
     },
     "metadata": {},
     "output_type": "display_data"
    },
    {
     "data": {
      "application/vnd.jupyter.widget-view+json": {
       "model_id": "5750bfcfc5fe4308ae810243697c4a1a",
       "version_major": 2,
       "version_minor": 0
      },
      "text/plain": [
       "Downloading S2A_MSIL1C_20200917T205131_N0209_R057_T10XDG_20200918T002559.zip:   0%|          | 0.00/813M [00:0…"
      ]
     },
     "metadata": {},
     "output_type": "display_data"
    },
    {
     "data": {
      "application/vnd.jupyter.widget-view+json": {
       "model_id": "3bd498793fef41c29f7133e7b78acf32",
       "version_major": 2,
       "version_minor": 0
      },
      "text/plain": [
       "Downloading S2B_MSIL1C_20200911T212059_N0209_R043_T13XEL_20200911T213545.zip:   0%|          | 0.00/771M [00:0…"
      ]
     },
     "metadata": {},
     "output_type": "display_data"
    },
    {
     "data": {
      "application/vnd.jupyter.widget-view+json": {
       "model_id": "",
       "version_major": 2,
       "version_minor": 0
      },
      "text/plain": [
       "MD5 checksumming:   0%|          | 0.00/813M [00:00<?, ?B/s]"
      ]
     },
     "metadata": {},
     "output_type": "display_data"
    },
    {
     "data": {
      "application/vnd.jupyter.widget-view+json": {
       "model_id": "",
       "version_major": 2,
       "version_minor": 0
      },
      "text/plain": [
       "MD5 checksumming:   0%|          | 0.00/771M [00:00<?, ?B/s]"
      ]
     },
     "metadata": {},
     "output_type": "display_data"
    },
    {
     "data": {
      "application/vnd.jupyter.widget-view+json": {
       "model_id": "eb720ca8913646d48a81d9eb294f6145",
       "version_major": 2,
       "version_minor": 0
      },
      "text/plain": [
       "Downloading S2B_MSIL1C_20200910T215059_N0209_R029_T12XVQ_20200910T222352.zip:   0%|          | 0.00/744M [00:0…"
      ]
     },
     "metadata": {},
     "output_type": "display_data"
    },
    {
     "data": {
      "application/vnd.jupyter.widget-view+json": {
       "model_id": "dd7e503a59c546ebbb8825ffb02bafdb",
       "version_major": 2,
       "version_minor": 0
      },
      "text/plain": [
       "Downloading S2B_MSIL1C_20200913T202009_N0209_R071_T13XDJ_20200913T220853.zip:   0%|          | 0.00/95.9M [00:…"
      ]
     },
     "metadata": {},
     "output_type": "display_data"
    },
    {
     "data": {
      "application/vnd.jupyter.widget-view+json": {
       "model_id": "",
       "version_major": 2,
       "version_minor": 0
      },
      "text/plain": [
       "MD5 checksumming:   0%|          | 0.00/95.9M [00:00<?, ?B/s]"
      ]
     },
     "metadata": {},
     "output_type": "display_data"
    },
    {
     "data": {
      "application/vnd.jupyter.widget-view+json": {
       "model_id": "0c796faddc1a4b54a8456a3157717148",
       "version_major": 2,
       "version_minor": 0
      },
      "text/plain": [
       "Downloading S2A_MSIL1C_20200930T210301_N0209_R100_T08XPF_20200930T233547.zip:   0%|          | 0.00/894M [00:0…"
      ]
     },
     "metadata": {},
     "output_type": "display_data"
    },
    {
     "data": {
      "application/vnd.jupyter.widget-view+json": {
       "model_id": "",
       "version_major": 2,
       "version_minor": 0
      },
      "text/plain": [
       "MD5 checksumming:   0%|          | 0.00/181M [00:00<?, ?B/s]"
      ]
     },
     "metadata": {},
     "output_type": "display_data"
    },
    {
     "data": {
      "application/vnd.jupyter.widget-view+json": {
       "model_id": "15e98cfbafed47f3b8a5031ae5907a3d",
       "version_major": 2,
       "version_minor": 0
      },
      "text/plain": [
       "Downloading S2B_MSIL1C_20200915T210109_N0209_R100_T13XEL_20200915T214605.zip:   0%|          | 0.00/352M [00:0…"
      ]
     },
     "metadata": {},
     "output_type": "display_data"
    },
    {
     "data": {
      "application/vnd.jupyter.widget-view+json": {
       "model_id": "",
       "version_major": 2,
       "version_minor": 0
      },
      "text/plain": [
       "MD5 checksumming:   0%|          | 0.00/894M [00:00<?, ?B/s]"
      ]
     },
     "metadata": {},
     "output_type": "display_data"
    },
    {
     "data": {
      "application/vnd.jupyter.widget-view+json": {
       "model_id": "8a362532fde14075854059b90a2581cd",
       "version_major": 2,
       "version_minor": 0
      },
      "text/plain": [
       "Downloading S2B_MSIL1C_20200905T210029_N0209_R100_T13XEJ_20200905T214926.zip:   0%|          | 0.00/847M [00:0…"
      ]
     },
     "metadata": {},
     "output_type": "display_data"
    },
    {
     "data": {
      "application/vnd.jupyter.widget-view+json": {
       "model_id": "",
       "version_major": 2,
       "version_minor": 0
      },
      "text/plain": [
       "MD5 checksumming:   0%|          | 0.00/744M [00:00<?, ?B/s]"
      ]
     },
     "metadata": {},
     "output_type": "display_data"
    },
    {
     "data": {
      "application/vnd.jupyter.widget-view+json": {
       "model_id": "f216e8747cb74c9f8bfa9dfca6fb847b",
       "version_major": 2,
       "version_minor": 0
      },
      "text/plain": [
       "Downloading S2A_MSIL1C_20200922T214221_N0209_R129_T08XNN_20200922T235029.zip:   0%|          | 0.00/14.0M [00:…"
      ]
     },
     "metadata": {},
     "output_type": "display_data"
    },
    {
     "data": {
      "application/vnd.jupyter.widget-view+json": {
       "model_id": "",
       "version_major": 2,
       "version_minor": 0
      },
      "text/plain": [
       "MD5 checksumming:   0%|          | 0.00/14.0M [00:00<?, ?B/s]"
      ]
     },
     "metadata": {},
     "output_type": "display_data"
    },
    {
     "data": {
      "application/vnd.jupyter.widget-view+json": {
       "model_id": "754adcf3354440ec807f7b8ca71bb480",
       "version_major": 2,
       "version_minor": 0
      },
      "text/plain": [
       "Downloading S2B_MSIL1C_20200917T232229_N0209_R130_T09XWL_20200918T010608.zip:   0%|          | 0.00/29.9M [00:…"
      ]
     },
     "metadata": {},
     "output_type": "display_data"
    },
    {
     "data": {
      "application/vnd.jupyter.widget-view+json": {
       "model_id": "",
       "version_major": 2,
       "version_minor": 0
      },
      "text/plain": [
       "MD5 checksumming:   0%|          | 0.00/29.9M [00:00<?, ?B/s]"
      ]
     },
     "metadata": {},
     "output_type": "display_data"
    },
    {
     "data": {
      "application/vnd.jupyter.widget-view+json": {
       "model_id": "48e9d67d06b947358ef76f34b3d15068",
       "version_major": 2,
       "version_minor": 0
      },
      "text/plain": [
       "Downloading S2B_MSIL1C_20200904T231129_N0209_R087_T09XVJ_20200904T233746.zip:   0%|          | 0.00/784M [00:0…"
      ]
     },
     "metadata": {},
     "output_type": "display_data"
    },
    {
     "data": {
      "application/vnd.jupyter.widget-view+json": {
       "model_id": "",
       "version_major": 2,
       "version_minor": 0
      },
      "text/plain": [
       "MD5 checksumming:   0%|          | 0.00/847M [00:00<?, ?B/s]"
      ]
     },
     "metadata": {},
     "output_type": "display_data"
    },
    {
     "data": {
      "application/vnd.jupyter.widget-view+json": {
       "model_id": "a94fe3647eeb42fe8531143c3d5b0c96",
       "version_major": 2,
       "version_minor": 0
      },
      "text/plain": [
       "Downloading S2B_MSIL1C_20200903T220059_N0209_R072_T09XWE_20200903T224801.zip:   0%|          | 0.00/154M [00:0…"
      ]
     },
     "metadata": {},
     "output_type": "display_data"
    },
    {
     "data": {
      "application/vnd.jupyter.widget-view+json": {
       "model_id": "",
       "version_major": 2,
       "version_minor": 0
      },
      "text/plain": [
       "MD5 checksumming:   0%|          | 0.00/154M [00:00<?, ?B/s]"
      ]
     },
     "metadata": {},
     "output_type": "display_data"
    },
    {
     "data": {
      "application/vnd.jupyter.widget-view+json": {
       "model_id": "7353bc74d70345ad88a6309cb899e228",
       "version_major": 2,
       "version_minor": 0
      },
      "text/plain": [
       "Downloading S2A_MSIL1C_20200926T212241_N0209_R043_T10XDL_20200926T224851.zip:   0%|          | 0.00/490M [00:0…"
      ]
     },
     "metadata": {},
     "output_type": "display_data"
    },
    {
     "data": {
      "application/vnd.jupyter.widget-view+json": {
       "model_id": "",
       "version_major": 2,
       "version_minor": 0
      },
      "text/plain": [
       "MD5 checksumming:   0%|          | 0.00/490M [00:00<?, ?B/s]"
      ]
     },
     "metadata": {},
     "output_type": "display_data"
    },
    {
     "data": {
      "application/vnd.jupyter.widget-view+json": {
       "model_id": "343c5ea3817b40d5b0a08f1e98d110a4",
       "version_major": 2,
       "version_minor": 0
      },
      "text/plain": [
       "Downloading S2B_MSIL1C_20200915T210109_N0209_R100_T14XMR_20200915T214605.zip:   0%|          | 0.00/350M [00:0…"
      ]
     },
     "metadata": {},
     "output_type": "display_data"
    },
    {
     "data": {
      "application/vnd.jupyter.widget-view+json": {
       "model_id": "",
       "version_major": 2,
       "version_minor": 0
      },
      "text/plain": [
       "MD5 checksumming:   0%|          | 0.00/350M [00:00<?, ?B/s]"
      ]
     },
     "metadata": {},
     "output_type": "display_data"
    },
    {
     "data": {
      "application/vnd.jupyter.widget-view+json": {
       "model_id": "",
       "version_major": 2,
       "version_minor": 0
      },
      "text/plain": [
       "MD5 checksumming:   0%|          | 0.00/784M [00:00<?, ?B/s]"
      ]
     },
     "metadata": {},
     "output_type": "display_data"
    },
    {
     "data": {
      "application/vnd.jupyter.widget-view+json": {
       "model_id": "a226ecf21b6741afb105bf024635517f",
       "version_major": 2,
       "version_minor": 0
      },
      "text/plain": [
       "Downloading S2B_MSIL1C_20200913T220139_N0209_R072_T13XEJ_20200913T221839.zip:   0%|          | 0.00/507M [00:0…"
      ]
     },
     "metadata": {},
     "output_type": "display_data"
    },
    {
     "data": {
      "application/vnd.jupyter.widget-view+json": {
       "model_id": "408a1175cba6474c9908f6f6a05d8088",
       "version_major": 2,
       "version_minor": 0
      },
      "text/plain": [
       "Downloading S2B_MSIL1C_20200930T215319_N0209_R029_T08XNL_20200930T224141.zip:   0%|          | 0.00/793M [00:0…"
      ]
     },
     "metadata": {},
     "output_type": "display_data"
    },
    {
     "data": {
      "application/vnd.jupyter.widget-view+json": {
       "model_id": "",
       "version_major": 2,
       "version_minor": 0
      },
      "text/plain": [
       "MD5 checksumming:   0%|          | 0.00/507M [00:00<?, ?B/s]"
      ]
     },
     "metadata": {},
     "output_type": "display_data"
    },
    {
     "data": {
      "application/vnd.jupyter.widget-view+json": {
       "model_id": "5a07b244440f42418b844b02fdcaf0df",
       "version_major": 2,
       "version_minor": 0
      },
      "text/plain": [
       "Downloading S2B_MSIL1C_20200907T195949_N0209_R128_T21XWM_20200907T220906.zip:   0%|          | 0.00/849M [00:0…"
      ]
     },
     "metadata": {},
     "output_type": "display_data"
    },
    {
     "data": {
      "application/vnd.jupyter.widget-view+json": {
       "model_id": "",
       "version_major": 2,
       "version_minor": 0
      },
      "text/plain": [
       "MD5 checksumming:   0%|          | 0.00/849M [00:00<?, ?B/s]"
      ]
     },
     "metadata": {},
     "output_type": "display_data"
    },
    {
     "name": "stderr",
     "output_type": "stream",
     "text": [
      "854294fd-afaf-4ca6-98b9-71c3c2da95ab retrieval from LTA completed\n",
      "90b51659-75eb-4409-9c80-519634da1f3e retrieval was not accepted: NullPointerException. Retrying in 60 seconds\n",
      "c73fc1e5-52fb-47f1-95a6-f09fef9a1c0b retrieval from LTA completed\n",
      "d5766a68-8e17-4a29-9c19-d072ed11c9f0 retrieval from LTA completed\n",
      "971e6831-3f89-4c41-b007-ac9885f55180 accepted for retrieval, waiting for it to come online...\n",
      "6188ed3e-55c8-46e4-82db-935678bb0822 retrieval from LTA completed\n"
     ]
    },
    {
     "data": {
      "application/vnd.jupyter.widget-view+json": {
       "model_id": "6a88a5df31a9457fb0d4f98222f2b14e",
       "version_major": 2,
       "version_minor": 0
      },
      "text/plain": [
       "Downloading S2A_MSIL1C_20200901T221101_N0209_R115_T11XNM_20200902T000420.zip:   0%|          | 0.00/76.0M [00:…"
      ]
     },
     "metadata": {},
     "output_type": "display_data"
    },
    {
     "name": "stderr",
     "output_type": "stream",
     "text": [
      "40e14dcc-59af-43e8-a81e-4041ac69d8df accepted for retrieval, waiting for it to come online...\n",
      "1035be6a-87da-4065-bd53-97a928eb3be3 retrieval was not accepted: NullPointerException. Retrying in 60 seconds\n",
      "94169cfe-e2f0-48f0-b4f4-bf2f4fe2b97c retrieval from LTA completed\n",
      "441009f0-8aca-450e-8618-bdfa491cbb79 accepted for retrieval, waiting for it to come online...\n",
      "aacf6522-7eee-42d9-9196-16971788a01a retrieval from LTA completed\n",
      "90b51659-75eb-4409-9c80-519634da1f3e accepted for retrieval, waiting for it to come online...\n",
      "17665f32-af92-47ae-a349-66ea5d2d077e retrieval from LTA completed\n",
      "0cbf1b3a-07dc-449c-9d6e-8eb64fe1fff4 accepted for retrieval, waiting for it to come online...\n",
      "01502973-04f2-4156-882d-5486077f7330 accepted for retrieval, waiting for it to come online...\n",
      "21a5c8f2-90e4-46ec-9d74-fbc7068bab84 retrieval from LTA completed\n",
      "d3eae629-52ec-4dbd-a1af-99b4105101bc retrieval was not accepted: NullPointerException. Retrying in 60 seconds\n",
      "35806151-0b72-44c7-ab56-c46f5d8a59bc retrieval from LTA completed\n",
      "3392bcc2-d626-4f58-9d07-017bac854534 retrieval from LTA completed\n",
      "4d2e90c0-fec0-49d9-b0c4-840838981058 accepted for retrieval, waiting for it to come online...\n",
      "127d5cd9-31e2-4cbf-8696-8fa0a52c520c accepted for retrieval, waiting for it to come online...\n",
      "1035be6a-87da-4065-bd53-97a928eb3be3 accepted for retrieval, waiting for it to come online...\n",
      "d3eae629-52ec-4dbd-a1af-99b4105101bc accepted for retrieval, waiting for it to come online...\n",
      "01502973-04f2-4156-882d-5486077f7330 retrieval from LTA completed\n",
      "bf7d57ca-ed7f-4c82-ace5-d88e053ff757 retrieval was not accepted: NullPointerException. Retrying in 60 seconds\n",
      "441009f0-8aca-450e-8618-bdfa491cbb79 retrieval from LTA completed\n",
      "6e865180-3e83-4ecc-8937-2630c12179a3 accepted for retrieval, waiting for it to come online...\n",
      "bf7d57ca-ed7f-4c82-ace5-d88e053ff757 accepted for retrieval, waiting for it to come online...\n"
     ]
    },
    {
     "data": {
      "application/vnd.jupyter.widget-view+json": {
       "model_id": "",
       "version_major": 2,
       "version_minor": 0
      },
      "text/plain": [
       "MD5 checksumming:   0%|          | 0.00/76.0M [00:00<?, ?B/s]"
      ]
     },
     "metadata": {},
     "output_type": "display_data"
    },
    {
     "name": "stderr",
     "output_type": "stream",
     "text": [
      "d3eae629-52ec-4dbd-a1af-99b4105101bc retrieval from LTA completed\n",
      "533b987d-6397-4810-af74-b92397017d26 accepted for retrieval, waiting for it to come online...\n"
     ]
    },
    {
     "data": {
      "application/vnd.jupyter.widget-view+json": {
       "model_id": "b5eb15acdaad4a42899b4925ae3da5ea",
       "version_major": 2,
       "version_minor": 0
      },
      "text/plain": [
       "Downloading S2A_MSIL1C_20200901T221101_N0209_R115_T15XVK_20200902T000420.zip:   0%|          | 0.00/850M [00:0…"
      ]
     },
     "metadata": {},
     "output_type": "display_data"
    },
    {
     "name": "stderr",
     "output_type": "stream",
     "text": [
      "1035be6a-87da-4065-bd53-97a928eb3be3 retrieval from LTA completed\n",
      "971e6831-3f89-4c41-b007-ac9885f55180 retrieval from LTA completed\n",
      "673a8c5b-43f7-4d6d-87ca-adad1ab4b9c7 accepted for retrieval, waiting for it to come online...\n",
      "b094ba1b-6621-476a-a977-4cd0732df390 retrieval was not accepted: NullPointerException. Retrying in 60 seconds\n",
      "90b51659-75eb-4409-9c80-519634da1f3e retrieval from LTA completed\n",
      "f1988962-ffcb-4535-ba85-175a4f5cffa2 accepted for retrieval, waiting for it to come online...\n",
      "0cbf1b3a-07dc-449c-9d6e-8eb64fe1fff4 retrieval from LTA completed\n",
      "ef82a406-267f-49f0-ac2d-7e994d0ca1df accepted for retrieval, waiting for it to come online...\n",
      "4d2e90c0-fec0-49d9-b0c4-840838981058 retrieval from LTA completed\n",
      "92de16f7-baab-4f01-87f8-c6346da8fcfc accepted for retrieval, waiting for it to come online...\n",
      "40e14dcc-59af-43e8-a81e-4041ac69d8df retrieval from LTA completed\n",
      "90b04891-665d-4ffd-87a8-e3e296291536 accepted for retrieval, waiting for it to come online...\n",
      "127d5cd9-31e2-4cbf-8696-8fa0a52c520c retrieval from LTA completed\n",
      "69162572-b86d-4921-8cb7-ad798e3678a6 retrieval was not accepted: NullPointerException. Retrying in 60 seconds\n",
      "b094ba1b-6621-476a-a977-4cd0732df390 accepted for retrieval, waiting for it to come online...\n",
      "69162572-b86d-4921-8cb7-ad798e3678a6 accepted for retrieval, waiting for it to come online...\n"
     ]
    },
    {
     "data": {
      "application/vnd.jupyter.widget-view+json": {
       "model_id": "",
       "version_major": 2,
       "version_minor": 0
      },
      "text/plain": [
       "MD5 checksumming:   0%|          | 0.00/352M [00:00<?, ?B/s]"
      ]
     },
     "metadata": {},
     "output_type": "display_data"
    },
    {
     "name": "stderr",
     "output_type": "stream",
     "text": [
      "Download will resume from existing incomplete file S2A_MSIL1C_20200913T211111_N0209_R143_T15XVL_20200913T231922.zip.incomplete.\n"
     ]
    },
    {
     "data": {
      "application/vnd.jupyter.widget-view+json": {
       "model_id": "c181d2b8d3e343c58417faab0283c668",
       "version_major": 2,
       "version_minor": 0
      },
      "text/plain": [
       "Downloading S2A_MSIL1C_20200913T211111_N0209_R143_T15XVL_20200913T231922.zip:  77%|#######7  | 678M/877M [00:0…"
      ]
     },
     "metadata": {},
     "output_type": "display_data"
    },
    {
     "name": "stderr",
     "output_type": "stream",
     "text": [
      "69162572-b86d-4921-8cb7-ad798e3678a6 retrieval from LTA completed\n",
      "9edeed1c-6139-488b-9307-599a4353946e accepted for retrieval, waiting for it to come online...\n",
      "ef82a406-267f-49f0-ac2d-7e994d0ca1df retrieval from LTA completed\n",
      "6ea5725b-b9e7-47f2-b401-08a5e849194e accepted for retrieval, waiting for it to come online...\n",
      "90b04891-665d-4ffd-87a8-e3e296291536 retrieval from LTA completed\n",
      "ae5e56b2-c09f-4a39-9a1e-c53c154dd02c accepted for retrieval, waiting for it to come online...\n",
      "6e865180-3e83-4ecc-8937-2630c12179a3 retrieval from LTA completed\n",
      "fa93a24b-ed70-4965-b28e-04f7bbe40e2a accepted for retrieval, waiting for it to come online...\n",
      "b094ba1b-6621-476a-a977-4cd0732df390 retrieval from LTA completed\n",
      "57afa207-4311-4be5-a9cb-d5c534ae4bc6 accepted for retrieval, waiting for it to come online...\n"
     ]
    },
    {
     "data": {
      "application/vnd.jupyter.widget-view+json": {
       "model_id": "",
       "version_major": 2,
       "version_minor": 0
      },
      "text/plain": [
       "MD5 checksumming:   0%|          | 0.00/877M [00:00<?, ?B/s]"
      ]
     },
     "metadata": {},
     "output_type": "display_data"
    },
    {
     "data": {
      "application/vnd.jupyter.widget-view+json": {
       "model_id": "6f40f4234aa941a485a26579e8e3b305",
       "version_major": 2,
       "version_minor": 0
      },
      "text/plain": [
       "Downloading S2B_MSIL1C_20200904T231129_N0209_R087_T12XVP_20200910T091543.zip:   0%|          | 0.00/219M [00:0…"
      ]
     },
     "metadata": {},
     "output_type": "display_data"
    },
    {
     "name": "stderr",
     "output_type": "stream",
     "text": [
      "bf7d57ca-ed7f-4c82-ace5-d88e053ff757 retrieval from LTA completed\n",
      "e38ef88f-c908-411f-a40a-d5dcfc7efb1d accepted for retrieval, waiting for it to come online...\n",
      "533b987d-6397-4810-af74-b92397017d26 retrieval from LTA completed\n",
      "92de16f7-baab-4f01-87f8-c6346da8fcfc retrieval from LTA completed\n",
      "44416087-a033-4c49-994e-35dceaa64822 accepted for retrieval, waiting for it to come online...\n",
      "0157481e-4d33-4220-9e47-5118d899942c accepted for retrieval, waiting for it to come online...\n"
     ]
    },
    {
     "data": {
      "application/vnd.jupyter.widget-view+json": {
       "model_id": "",
       "version_major": 2,
       "version_minor": 0
      },
      "text/plain": [
       "MD5 checksumming:   0%|          | 0.00/219M [00:00<?, ?B/s]"
      ]
     },
     "metadata": {},
     "output_type": "display_data"
    },
    {
     "data": {
      "application/vnd.jupyter.widget-view+json": {
       "model_id": "cb3ba43785ba45239b9968211e8d336f",
       "version_major": 2,
       "version_minor": 0
      },
      "text/plain": [
       "Downloading S2B_MSIL1C_20200930T215319_N0209_R029_T09XVE_20200930T224141.zip:   0%|          | 0.00/755M [00:0…"
      ]
     },
     "metadata": {},
     "output_type": "display_data"
    },
    {
     "name": "stderr",
     "output_type": "stream",
     "text": [
      "57afa207-4311-4be5-a9cb-d5c534ae4bc6 retrieval from LTA completed\n",
      "98700dfd-2764-4c5d-b6fc-adfbb3458ff1 accepted for retrieval, waiting for it to come online...\n",
      "6ea5725b-b9e7-47f2-b401-08a5e849194e retrieval from LTA completed\n",
      "2d5ccc7e-741e-48d8-851b-daad7884af3c accepted for retrieval, waiting for it to come online...\n",
      "ae5e56b2-c09f-4a39-9a1e-c53c154dd02c retrieval from LTA completed\n",
      "43f7f623-34ca-488d-b81d-2436bb4e2816 retrieval was not accepted: NullPointerException. Retrying in 60 seconds\n",
      "fa93a24b-ed70-4965-b28e-04f7bbe40e2a retrieval from LTA completed\n",
      "9edeed1c-6139-488b-9307-599a4353946e retrieval from LTA completed\n",
      "bc970de8-5740-45f0-9fb4-be44f8ae86cc accepted for retrieval, waiting for it to come online...\n",
      "7362a5a6-2fed-43cf-b17b-65b87a7ad021 accepted for retrieval, waiting for it to come online...\n",
      "2d5ccc7e-741e-48d8-851b-daad7884af3c retrieval was not accepted: TransactionSystemException : Could not roll back Hibernate transaction; nested exception is org.hibernate.TransactionException: Unable to rollback against JDBC Connection. Retrying in 60 seconds\n",
      "43f7f623-34ca-488d-b81d-2436bb4e2816 accepted for retrieval, waiting for it to come online...\n"
     ]
    },
    {
     "data": {
      "application/vnd.jupyter.widget-view+json": {
       "model_id": "",
       "version_major": 2,
       "version_minor": 0
      },
      "text/plain": [
       "MD5 checksumming:   0%|          | 0.00/793M [00:00<?, ?B/s]"
      ]
     },
     "metadata": {},
     "output_type": "display_data"
    },
    {
     "data": {
      "application/vnd.jupyter.widget-view+json": {
       "model_id": "ddce05c5cf854c8bb15cd3b45ddd77c9",
       "version_major": 2,
       "version_minor": 0
      },
      "text/plain": [
       "Downloading S2A_MSIL1C_20200926T212241_N0209_R043_T09XWG_20200926T232526.zip:   0%|          | 0.00/84.6M [00:…"
      ]
     },
     "metadata": {},
     "output_type": "display_data"
    },
    {
     "name": "stderr",
     "output_type": "stream",
     "text": [
      "673a8c5b-43f7-4d6d-87ca-adad1ab4b9c7 retrieval from LTA completed\n",
      "93a02a3e-41c9-4b34-a240-dc17100f03bc accepted for retrieval, waiting for it to come online...\n",
      "f1988962-ffcb-4535-ba85-175a4f5cffa2 retrieval from LTA completed\n",
      "be98c6cf-0715-46bc-9dae-aa410ac57a76 accepted for retrieval, waiting for it to come online...\n"
     ]
    },
    {
     "data": {
      "application/vnd.jupyter.widget-view+json": {
       "model_id": "",
       "version_major": 2,
       "version_minor": 0
      },
      "text/plain": [
       "MD5 checksumming:   0%|          | 0.00/522M [00:00<?, ?B/s]"
      ]
     },
     "metadata": {},
     "output_type": "display_data"
    },
    {
     "name": "stderr",
     "output_type": "stream",
     "text": [
      "Download will resume from existing incomplete file S2B_MSIL1C_20200918T225219_N0209_R001_T10XDQ_20200918T230316.zip.incomplete.\n"
     ]
    },
    {
     "data": {
      "application/vnd.jupyter.widget-view+json": {
       "model_id": "6b3172b7e54748f596ffb3b1763c8e10",
       "version_major": 2,
       "version_minor": 0
      },
      "text/plain": [
       "Downloading S2B_MSIL1C_20200918T225219_N0209_R001_T10XDQ_20200918T230316.zip:  47%|####7     | 361M/762M [00:0…"
      ]
     },
     "metadata": {},
     "output_type": "display_data"
    },
    {
     "data": {
      "application/vnd.jupyter.widget-view+json": {
       "model_id": "",
       "version_major": 2,
       "version_minor": 0
      },
      "text/plain": [
       "MD5 checksumming:   0%|          | 0.00/84.6M [00:00<?, ?B/s]"
      ]
     },
     "metadata": {},
     "output_type": "display_data"
    },
    {
     "data": {
      "application/vnd.jupyter.widget-view+json": {
       "model_id": "f93b3d8d0bb348d5b5a16b84462f78cc",
       "version_major": 2,
       "version_minor": 0
      },
      "text/plain": [
       "Downloading S2B_MSIL1C_20200920T215209_N0209_R029_T10XDM_20200920T222901.zip:   0%|          | 0.00/769M [00:0…"
      ]
     },
     "metadata": {},
     "output_type": "display_data"
    },
    {
     "name": "stderr",
     "output_type": "stream",
     "text": [
      "44416087-a033-4c49-994e-35dceaa64822 retrieval from LTA completed\n",
      "833e59ef-7fcd-4cea-a1db-d4026acd3f69 accepted for retrieval, waiting for it to come online...\n",
      "e38ef88f-c908-411f-a40a-d5dcfc7efb1d retrieval from LTA completed\n",
      "6449340d-298c-4aa5-828b-99ffc4a0070a accepted for retrieval, waiting for it to come online...\n",
      "2d5ccc7e-741e-48d8-851b-daad7884af3c retrieval from LTA completed\n",
      "43f7f623-34ca-488d-b81d-2436bb4e2816 retrieval from LTA completed\n"
     ]
    },
    {
     "data": {
      "application/vnd.jupyter.widget-view+json": {
       "model_id": "",
       "version_major": 2,
       "version_minor": 0
      },
      "text/plain": [
       "MD5 checksumming:   0%|          | 0.00/512M [00:00<?, ?B/s]"
      ]
     },
     "metadata": {},
     "output_type": "display_data"
    },
    {
     "data": {
      "application/vnd.jupyter.widget-view+json": {
       "model_id": "",
       "version_major": 2,
       "version_minor": 0
      },
      "text/plain": [
       "MD5 checksumming:   0%|          | 0.00/713M [00:00<?, ?B/s]"
      ]
     },
     "metadata": {},
     "output_type": "display_data"
    },
    {
     "data": {
      "application/vnd.jupyter.widget-view+json": {
       "model_id": "",
       "version_major": 2,
       "version_minor": 0
      },
      "text/plain": [
       "MD5 checksumming:   0%|          | 0.00/232M [00:00<?, ?B/s]"
      ]
     },
     "metadata": {},
     "output_type": "display_data"
    },
    {
     "data": {
      "application/vnd.jupyter.widget-view+json": {
       "model_id": "",
       "version_major": 2,
       "version_minor": 0
      },
      "text/plain": [
       "MD5 checksumming:   0%|          | 0.00/86.8M [00:00<?, ?B/s]"
      ]
     },
     "metadata": {},
     "output_type": "display_data"
    },
    {
     "name": "stderr",
     "output_type": "stream",
     "text": [
      "d932deea-90b2-48d4-99ea-90af3c89a4fa retrieval was not accepted: StaleStateException : Batch update returned unexpected row count from update [0]; actual row count: 0; expected: 1; statement executed: delete from STORE_QUOTAS where IDENTIFIER=? and QUOTA_NAME=? and STORE_NAME=? and USER_UUID=?. Retrying in 60 seconds\n",
      "0631ab0a-5510-46ad-b2f1-42bf332eb8a7 retrieval was not accepted: NullPointerException. Retrying in 60 seconds\n",
      "Invalid checksum. The downloaded file for 'S2B_MSIL1C_20200920T215209_N0209_R029_T10XDM_20200920T222901' is corrupted.\n",
      "9 retries left, retrying in 10 seconds...\n",
      "Invalid checksum. The downloaded file for 'S2B_MSIL1C_20200930T215319_N0209_R029_T09XVE_20200930T224141' is corrupted.\n",
      "9 retries left, retrying in 10 seconds...\n",
      "Invalid checksum. The downloaded file for 'S2B_MSIL1C_20200918T225219_N0209_R001_T10XDQ_20200918T230316' is corrupted.\n",
      "9 retries left, retrying in 10 seconds...\n",
      "bc970de8-5740-45f0-9fb4-be44f8ae86cc retrieval from LTA completed\n",
      "Invalid checksum. The downloaded file for 'S2A_MSIL1C_20200901T221101_N0209_R115_T15XVK_20200902T000420' is corrupted.\n",
      "9 retries left, retrying in 10 seconds...\n",
      "98700dfd-2764-4c5d-b6fc-adfbb3458ff1 retrieval from LTA completed\n",
      "6901ac56-a7f2-4bd8-9c73-ac7181d8d07b accepted for retrieval, waiting for it to come online...\n",
      "7362a5a6-2fed-43cf-b17b-65b87a7ad021 retrieval from LTA completed\n",
      "f0cba79e-7042-4176-8700-5f1f8a684ea3 accepted for retrieval, waiting for it to come online...\n",
      "6449340d-298c-4aa5-828b-99ffc4a0070a failed: Traceback (most recent call last):\n",
      "  File \"/Users/buckley/opt/conda/envs/py39/lib/python3.9/site-packages/urllib3/connectionpool.py\", line 445, in _make_request\n",
      "    six.raise_from(e, None)\n",
      "  File \"<string>\", line 3, in raise_from\n",
      "  File \"/Users/buckley/opt/conda/envs/py39/lib/python3.9/site-packages/urllib3/connectionpool.py\", line 440, in _make_request\n",
      "    httplib_response = conn.getresponse()\n",
      "  File \"/Users/buckley/opt/conda/envs/py39/lib/python3.9/http/client.py\", line 1371, in getresponse\n",
      "    response.begin()\n",
      "  File \"/Users/buckley/opt/conda/envs/py39/lib/python3.9/http/client.py\", line 319, in begin\n",
      "    version, status, reason = self._read_status()\n",
      "  File \"/Users/buckley/opt/conda/envs/py39/lib/python3.9/http/client.py\", line 280, in _read_status\n",
      "    line = str(self.fp.readline(_MAXLINE + 1), \"iso-8859-1\")\n",
      "  File \"/Users/buckley/opt/conda/envs/py39/lib/python3.9/socket.py\", line 704, in readinto\n",
      "    return self._sock.recv_into(b)\n",
      "  File \"/Users/buckley/opt/conda/envs/py39/lib/python3.9/ssl.py\", line 1241, in recv_into\n",
      "    return self.read(nbytes, buffer)\n",
      "  File \"/Users/buckley/opt/conda/envs/py39/lib/python3.9/ssl.py\", line 1099, in read\n",
      "    return self._sslobj.read(len, buffer)\n",
      "TimeoutError: [Errno 60] Operation timed out\n",
      "\n",
      "During handling of the above exception, another exception occurred:\n",
      "\n",
      "Traceback (most recent call last):\n",
      "  File \"/Users/buckley/opt/conda/envs/py39/lib/python3.9/site-packages/requests/adapters.py\", line 439, in send\n",
      "    resp = conn.urlopen(\n",
      "  File \"/Users/buckley/opt/conda/envs/py39/lib/python3.9/site-packages/urllib3/connectionpool.py\", line 755, in urlopen\n",
      "    retries = retries.increment(\n",
      "  File \"/Users/buckley/opt/conda/envs/py39/lib/python3.9/site-packages/urllib3/util/retry.py\", line 532, in increment\n",
      "    raise six.reraise(type(error), error, _stacktrace)\n",
      "  File \"/Users/buckley/opt/conda/envs/py39/lib/python3.9/site-packages/urllib3/packages/six.py\", line 770, in reraise\n",
      "    raise value\n",
      "  File \"/Users/buckley/opt/conda/envs/py39/lib/python3.9/site-packages/urllib3/connectionpool.py\", line 699, in urlopen\n",
      "    httplib_response = self._make_request(\n",
      "  File \"/Users/buckley/opt/conda/envs/py39/lib/python3.9/site-packages/urllib3/connectionpool.py\", line 447, in _make_request\n",
      "    self._raise_timeout(err=e, url=url, timeout_value=read_timeout)\n",
      "  File \"/Users/buckley/opt/conda/envs/py39/lib/python3.9/site-packages/urllib3/connectionpool.py\", line 353, in _raise_timeout\n",
      "    raise ReadTimeoutError(\n",
      "urllib3.exceptions.ReadTimeoutError: HTTPSConnectionPool(host='scihub.copernicus.eu', port=443): Read timed out. (read timeout=None)\n",
      "\n",
      "During handling of the above exception, another exception occurred:\n",
      "\n",
      "Traceback (most recent call last):\n",
      "  File \"/Users/buckley/opt/conda/envs/py39/lib/python3.9/concurrent/futures/thread.py\", line 52, in run\n",
      "    result = self.fn(*self.args, **self.kwargs)\n",
      "  File \"/Users/buckley/opt/conda/envs/py39/lib/python3.9/site-packages/sentinelsat/download.py\", line 641, in _trigger_and_wait\n",
      "    if self.api.is_online(uuid):\n",
      "  File \"/Users/buckley/opt/conda/envs/py39/lib/python3.9/site-packages/sentinelsat/sentinel.py\", line 539, in is_online\n",
      "    r = self.session.get(url)\n",
      "  File \"/Users/buckley/opt/conda/envs/py39/lib/python3.9/site-packages/requests/sessions.py\", line 555, in get\n",
      "    return self.request('GET', url, **kwargs)\n",
      "  File \"/Users/buckley/opt/conda/envs/py39/lib/python3.9/site-packages/requests/sessions.py\", line 542, in request\n",
      "    resp = self.send(prep, **send_kwargs)\n",
      "  File \"/Users/buckley/opt/conda/envs/py39/lib/python3.9/site-packages/requests/sessions.py\", line 655, in send\n",
      "    r = adapter.send(request, **kwargs)\n",
      "  File \"/Users/buckley/opt/conda/envs/py39/lib/python3.9/site-packages/requests/adapters.py\", line 529, in send\n",
      "    raise ReadTimeout(e, request=request)\n",
      "requests.exceptions.ReadTimeout: HTTPSConnectionPool(host='scihub.copernicus.eu', port=443): Read timed out. (read timeout=None)\n",
      "\n",
      "5897b454-4dce-4035-a5fc-22f8bfb13730 accepted for retrieval, waiting for it to come online...\n",
      "3238c315-29b6-4fd1-b350-f04d4f7fb2b4 accepted for retrieval, waiting for it to come online...\n"
     ]
    },
    {
     "data": {
      "application/vnd.jupyter.widget-view+json": {
       "model_id": "c24707329db4454dad595ab4f941541a",
       "version_major": 2,
       "version_minor": 0
      },
      "text/plain": [
       "Downloading S2B_MSIL1C_20200930T215319_N0209_R029_T09XVE_20200930T224141.zip:   0%|          | 0.00/755M [00:0…"
      ]
     },
     "metadata": {},
     "output_type": "display_data"
    },
    {
     "data": {
      "application/vnd.jupyter.widget-view+json": {
       "model_id": "dff115a9d22a4e4e9016623929e55ad6",
       "version_major": 2,
       "version_minor": 0
      },
      "text/plain": [
       "Downloading S2B_MSIL1C_20200920T215209_N0209_R029_T10XDM_20200920T222901.zip:   0%|          | 0.00/769M [00:0…"
      ]
     },
     "metadata": {},
     "output_type": "display_data"
    },
    {
     "data": {
      "application/vnd.jupyter.widget-view+json": {
       "model_id": "08e5cd4af66d4d7ca9dd15031959e536",
       "version_major": 2,
       "version_minor": 0
      },
      "text/plain": [
       "Downloading S2A_MSIL1C_20200901T221101_N0209_R115_T15XVK_20200902T000420.zip:   0%|          | 0.00/850M [00:0…"
      ]
     },
     "metadata": {},
     "output_type": "display_data"
    },
    {
     "data": {
      "application/vnd.jupyter.widget-view+json": {
       "model_id": "a2b64ea0d5b24473b8a2d0417ef43f66",
       "version_major": 2,
       "version_minor": 0
      },
      "text/plain": [
       "Downloading S2B_MSIL1C_20200918T225219_N0209_R001_T10XDQ_20200918T230316.zip:   0%|          | 0.00/762M [00:0…"
      ]
     },
     "metadata": {},
     "output_type": "display_data"
    },
    {
     "name": "stderr",
     "output_type": "stream",
     "text": [
      "d932deea-90b2-48d4-99ea-90af3c89a4fa retrieval was not accepted: NullPointerException. Retrying in 60 seconds\n",
      "0631ab0a-5510-46ad-b2f1-42bf332eb8a7 accepted for retrieval, waiting for it to come online...\n",
      "d932deea-90b2-48d4-99ea-90af3c89a4fa accepted for retrieval, waiting for it to come online...\n",
      "3238c315-29b6-4fd1-b350-f04d4f7fb2b4 retrieval was not accepted: TransactionSystemException : Could not roll back Hibernate transaction; nested exception is org.hibernate.TransactionException: Unable to rollback against JDBC Connection. Retrying in 60 seconds\n",
      "5897b454-4dce-4035-a5fc-22f8bfb13730 retrieval was not accepted: TransactionSystemException : Could not roll back Hibernate transaction; nested exception is org.hibernate.TransactionException: Unable to rollback against JDBC Connection. Retrying in 60 seconds\n",
      "93a02a3e-41c9-4b34-a240-dc17100f03bc retrieval from LTA completed\n",
      "d6a857ba-6b27-46e8-b2df-7682274969aa accepted for retrieval, waiting for it to come online...\n",
      "be98c6cf-0715-46bc-9dae-aa410ac57a76 retrieval from LTA completed\n",
      "761f1393-3509-4949-9187-933a66ac0b29 accepted for retrieval, waiting for it to come online...\n",
      "833e59ef-7fcd-4cea-a1db-d4026acd3f69 retrieval from LTA completed\n",
      "68d4eb9f-324a-4c55-9ade-71e686504237 retrieval was not accepted: NullPointerException. Retrying in 60 seconds\n",
      "68d4eb9f-324a-4c55-9ade-71e686504237 accepted for retrieval, waiting for it to come online...\n",
      "3238c315-29b6-4fd1-b350-f04d4f7fb2b4 retrieval from LTA completed\n",
      "7bb657cd-2cc9-46f4-9e5f-0523ebb86ef5 accepted for retrieval, waiting for it to come online...\n",
      "5897b454-4dce-4035-a5fc-22f8bfb13730 retrieval from LTA completed\n",
      "31193fc8-a0a6-4b90-a172-9d66755c866b accepted for retrieval, waiting for it to come online...\n",
      "d6a857ba-6b27-46e8-b2df-7682274969aa retrieval from LTA completed\n",
      "098908d0-bf45-4bcf-b88d-8fcde94c530b accepted for retrieval, waiting for it to come online...\n",
      "d932deea-90b2-48d4-99ea-90af3c89a4fa retrieval from LTA completed\n",
      "41c4285a-4a77-44c1-8d37-d4c2484c0014 accepted for retrieval, waiting for it to come online...\n",
      "f0cba79e-7042-4176-8700-5f1f8a684ea3 retrieval from LTA completed\n",
      "7c3f75d7-9e01-4e2d-8d54-7082594a66e7 retrieval was not accepted: NullPointerException. Retrying in 60 seconds\n",
      "68d4eb9f-324a-4c55-9ade-71e686504237 retrieval from LTA completed\n",
      "437baeeb-19df-4fd1-b4c8-3efa1ed139ac accepted for retrieval, waiting for it to come online...\n",
      "7c3f75d7-9e01-4e2d-8d54-7082594a66e7 accepted for retrieval, waiting for it to come online...\n",
      "7bb657cd-2cc9-46f4-9e5f-0523ebb86ef5 retrieval from LTA completed\n",
      "b03369c8-626c-4da1-b577-e3451d3d7c02 retrieval was not accepted: NullPointerException. Retrying in 60 seconds\n",
      "31193fc8-a0a6-4b90-a172-9d66755c866b retrieval from LTA completed\n",
      "d4aec87f-e5ad-42e6-84cd-13d392be1c90 accepted for retrieval, waiting for it to come online...\n",
      "b03369c8-626c-4da1-b577-e3451d3d7c02 accepted for retrieval, waiting for it to come online...\n",
      "0631ab0a-5510-46ad-b2f1-42bf332eb8a7 retrieval from LTA completed\n",
      "099dc735-3e61-42be-a6b4-71e7b54eedfb accepted for retrieval, waiting for it to come online...\n",
      "098908d0-bf45-4bcf-b88d-8fcde94c530b retrieval from LTA completed\n",
      "edbedbbe-a2c1-4932-ac8a-ffe24d0c8fe4 accepted for retrieval, waiting for it to come online...\n"
     ]
    },
    {
     "data": {
      "application/vnd.jupyter.widget-view+json": {
       "model_id": "",
       "version_major": 2,
       "version_minor": 0
      },
      "text/plain": [
       "MD5 checksumming:   0%|          | 0.00/755M [00:00<?, ?B/s]"
      ]
     },
     "metadata": {},
     "output_type": "display_data"
    },
    {
     "data": {
      "application/vnd.jupyter.widget-view+json": {
       "model_id": "",
       "version_major": 2,
       "version_minor": 0
      },
      "text/plain": [
       "MD5 checksumming:   0%|          | 0.00/762M [00:00<?, ?B/s]"
      ]
     },
     "metadata": {},
     "output_type": "display_data"
    },
    {
     "name": "stderr",
     "output_type": "stream",
     "text": [
      "Download will resume from existing incomplete file S2A_MSIL1C_20200918T220201_N0209_R072_T11XMG_20200918T223059.zip.incomplete.\n"
     ]
    },
    {
     "data": {
      "application/vnd.jupyter.widget-view+json": {
       "model_id": "010c48d281a94635bfe226ee7ed538d3",
       "version_major": 2,
       "version_minor": 0
      },
      "text/plain": [
       "Downloading S2A_MSIL1C_20200918T220201_N0209_R072_T11XMG_20200918T223059.zip:  68%|######7   | 234M/346M [00:0…"
      ]
     },
     "metadata": {},
     "output_type": "display_data"
    },
    {
     "data": {
      "application/vnd.jupyter.widget-view+json": {
       "model_id": "72b65edae76f4f9facfc6558a1661faf",
       "version_major": 2,
       "version_minor": 0
      },
      "text/plain": [
       "Downloading S2B_MSIL1C_20200910T215059_N0209_R029_T11XNK_20200910T222352.zip:   0%|          | 0.00/753M [00:0…"
      ]
     },
     "metadata": {},
     "output_type": "display_data"
    },
    {
     "data": {
      "application/vnd.jupyter.widget-view+json": {
       "model_id": "",
       "version_major": 2,
       "version_minor": 0
      },
      "text/plain": [
       "MD5 checksumming:   0%|          | 0.00/850M [00:00<?, ?B/s]"
      ]
     },
     "metadata": {},
     "output_type": "display_data"
    },
    {
     "data": {
      "application/vnd.jupyter.widget-view+json": {
       "model_id": "",
       "version_major": 2,
       "version_minor": 0
      },
      "text/plain": [
       "MD5 checksumming:   0%|          | 0.00/346M [00:00<?, ?B/s]"
      ]
     },
     "metadata": {},
     "output_type": "display_data"
    },
    {
     "data": {
      "application/vnd.jupyter.widget-view+json": {
       "model_id": "f4859859d2474ef9a501ed897823c8fa",
       "version_major": 2,
       "version_minor": 0
      },
      "text/plain": [
       "Downloading S2B_MSIL1C_20200902T004159_N0209_R045_T08XNS_20200902T004952.zip:   0%|          | 0.00/547M [00:0…"
      ]
     },
     "metadata": {},
     "output_type": "display_data"
    },
    {
     "data": {
      "application/vnd.jupyter.widget-view+json": {
       "model_id": "06914d683b6244a58947268aed1d10c4",
       "version_major": 2,
       "version_minor": 0
      },
      "text/plain": [
       "Downloading S2B_MSIL1C_20200910T215059_N0209_R029_T12XWS_20200910T222352.zip:   0%|          | 0.00/119M [00:0…"
      ]
     },
     "metadata": {},
     "output_type": "display_data"
    },
    {
     "data": {
      "application/vnd.jupyter.widget-view+json": {
       "model_id": "",
       "version_major": 2,
       "version_minor": 0
      },
      "text/plain": [
       "MD5 checksumming:   0%|          | 0.00/119M [00:00<?, ?B/s]"
      ]
     },
     "metadata": {},
     "output_type": "display_data"
    },
    {
     "data": {
      "application/vnd.jupyter.widget-view+json": {
       "model_id": "5e8aba2cd23145f29677093f81519a08",
       "version_major": 2,
       "version_minor": 0
      },
      "text/plain": [
       "Downloading S2A_MSIL1C_20200915T215141_N0209_R029_T12XWR_20200915T222247.zip:   0%|          | 0.00/40.5M [00:…"
      ]
     },
     "metadata": {},
     "output_type": "display_data"
    },
    {
     "data": {
      "application/vnd.jupyter.widget-view+json": {
       "model_id": "",
       "version_major": 2,
       "version_minor": 0
      },
      "text/plain": [
       "MD5 checksumming:   0%|          | 0.00/753M [00:00<?, ?B/s]"
      ]
     },
     "metadata": {},
     "output_type": "display_data"
    },
    {
     "data": {
      "application/vnd.jupyter.widget-view+json": {
       "model_id": "",
       "version_major": 2,
       "version_minor": 0
      },
      "text/plain": [
       "MD5 checksumming:   0%|          | 0.00/547M [00:00<?, ?B/s]"
      ]
     },
     "metadata": {},
     "output_type": "display_data"
    },
    {
     "data": {
      "application/vnd.jupyter.widget-view+json": {
       "model_id": "",
       "version_major": 2,
       "version_minor": 0
      },
      "text/plain": [
       "MD5 checksumming:   0%|          | 0.00/40.5M [00:00<?, ?B/s]"
      ]
     },
     "metadata": {},
     "output_type": "display_data"
    },
    {
     "data": {
      "application/vnd.jupyter.widget-view+json": {
       "model_id": "74b15e15fa14423b8f816c4e8d843c59",
       "version_major": 2,
       "version_minor": 0
      },
      "text/plain": [
       "Downloading S2B_MSIL1C_20200915T155819_N0209_R097_T28XES_20200915T180846.zip:   0%|          | 0.00/525M [00:0…"
      ]
     },
     "metadata": {},
     "output_type": "display_data"
    },
    {
     "data": {
      "application/vnd.jupyter.widget-view+json": {
       "model_id": "40e33ff48c444e5baac59c555ff180c0",
       "version_major": 2,
       "version_minor": 0
      },
      "text/plain": [
       "Downloading S2A_MSIL1C_20200903T211041_N0209_R143_T09XVF_20200904T004540.zip:   0%|          | 0.00/34.3M [00:…"
      ]
     },
     "metadata": {},
     "output_type": "display_data"
    },
    {
     "data": {
      "application/vnd.jupyter.widget-view+json": {
       "model_id": "d860484e7d584acb9869d7d56f96c253",
       "version_major": 2,
       "version_minor": 0
      },
      "text/plain": [
       "Downloading S2B_MSIL1C_20200903T001149_N0209_R059_T11XMJ_20200903T002208.zip:   0%|          | 0.00/29.2M [00:…"
      ]
     },
     "metadata": {},
     "output_type": "display_data"
    },
    {
     "data": {
      "application/vnd.jupyter.widget-view+json": {
       "model_id": "",
       "version_major": 2,
       "version_minor": 0
      },
      "text/plain": [
       "MD5 checksumming:   0%|          | 0.00/34.3M [00:00<?, ?B/s]"
      ]
     },
     "metadata": {},
     "output_type": "display_data"
    },
    {
     "data": {
      "application/vnd.jupyter.widget-view+json": {
       "model_id": "",
       "version_major": 2,
       "version_minor": 0
      },
      "text/plain": [
       "MD5 checksumming:   0%|          | 0.00/29.2M [00:00<?, ?B/s]"
      ]
     },
     "metadata": {},
     "output_type": "display_data"
    },
    {
     "data": {
      "application/vnd.jupyter.widget-view+json": {
       "model_id": "ab3b19136e63494bad31ed62c379d5bf",
       "version_major": 2,
       "version_minor": 0
      },
      "text/plain": [
       "Downloading S2B_MSIL1C_20200918T225219_N0209_R001_T09XWK_20200918T230316.zip:   0%|          | 0.00/764M [00:0…"
      ]
     },
     "metadata": {},
     "output_type": "display_data"
    },
    {
     "data": {
      "application/vnd.jupyter.widget-view+json": {
       "model_id": "c755430346594ef0b68b68500bc67dfa",
       "version_major": 2,
       "version_minor": 0
      },
      "text/plain": [
       "Downloading S2B_MSIL1C_20200910T215059_N0209_R029_T11XML_20200910T222352.zip:   0%|          | 0.00/29.3M [00:…"
      ]
     },
     "metadata": {},
     "output_type": "display_data"
    },
    {
     "data": {
      "application/vnd.jupyter.widget-view+json": {
       "model_id": "",
       "version_major": 2,
       "version_minor": 0
      },
      "text/plain": [
       "MD5 checksumming:   0%|          | 0.00/29.3M [00:00<?, ?B/s]"
      ]
     },
     "metadata": {},
     "output_type": "display_data"
    },
    {
     "data": {
      "application/vnd.jupyter.widget-view+json": {
       "model_id": "62c7d3db33d74bd38b6757f2d15d2c5f",
       "version_major": 2,
       "version_minor": 0
      },
      "text/plain": [
       "Downloading S2B_MSIL1C_20200904T213049_N0209_R086_T09XWC_20200904T220542.zip:   0%|          | 0.00/333M [00:0…"
      ]
     },
     "metadata": {},
     "output_type": "display_data"
    },
    {
     "data": {
      "application/vnd.jupyter.widget-view+json": {
       "model_id": "",
       "version_major": 2,
       "version_minor": 0
      },
      "text/plain": [
       "MD5 checksumming:   0%|          | 0.00/333M [00:00<?, ?B/s]"
      ]
     },
     "metadata": {},
     "output_type": "display_data"
    },
    {
     "data": {
      "application/vnd.jupyter.widget-view+json": {
       "model_id": "",
       "version_major": 2,
       "version_minor": 0
      },
      "text/plain": [
       "MD5 checksumming:   0%|          | 0.00/525M [00:00<?, ?B/s]"
      ]
     },
     "metadata": {},
     "output_type": "display_data"
    },
    {
     "data": {
      "application/vnd.jupyter.widget-view+json": {
       "model_id": "37335823346a4273aa0637414ba9c415",
       "version_major": 2,
       "version_minor": 0
      },
      "text/plain": [
       "Downloading S2A_MSIL1C_20200917T205131_N0209_R057_T14XNS_20200917T230202.zip:   0%|          | 0.00/20.2M [00:…"
      ]
     },
     "metadata": {},
     "output_type": "display_data"
    },
    {
     "name": "stderr",
     "output_type": "stream",
     "text": [
      "7c3f75d7-9e01-4e2d-8d54-7082594a66e7 retrieval from LTA completed\n"
     ]
    },
    {
     "data": {
      "application/vnd.jupyter.widget-view+json": {
       "model_id": "",
       "version_major": 2,
       "version_minor": 0
      },
      "text/plain": [
       "MD5 checksumming:   0%|          | 0.00/20.2M [00:00<?, ?B/s]"
      ]
     },
     "metadata": {},
     "output_type": "display_data"
    },
    {
     "data": {
      "application/vnd.jupyter.widget-view+json": {
       "model_id": "4708f845248844649270b6dccaf8b594",
       "version_major": 2,
       "version_minor": 0
      },
      "text/plain": [
       "Downloading S2B_MSIL1C_20200918T211139_N0209_R143_T10XDK_20200918T214225.zip:   0%|          | 0.00/816M [00:0…"
      ]
     },
     "metadata": {},
     "output_type": "display_data"
    },
    {
     "name": "stderr",
     "output_type": "stream",
     "text": [
      "1ecede80-1975-4c1f-b940-37e996e6fab5 retrieval was not accepted: NullPointerException. Retrying in 60 seconds\n"
     ]
    },
    {
     "data": {
      "application/vnd.jupyter.widget-view+json": {
       "model_id": "00b2d650fc894521a540b05174e65bee",
       "version_major": 2,
       "version_minor": 0
      },
      "text/plain": [
       "Downloading S2A_MSIL1C_20200927T205241_N0209_R057_T11XMH_20200927T230128.zip:   0%|          | 0.00/72.0M [00:…"
      ]
     },
     "metadata": {},
     "output_type": "display_data"
    },
    {
     "data": {
      "application/vnd.jupyter.widget-view+json": {
       "model_id": "",
       "version_major": 2,
       "version_minor": 0
      },
      "text/plain": [
       "MD5 checksumming:   0%|          | 0.00/764M [00:00<?, ?B/s]"
      ]
     },
     "metadata": {},
     "output_type": "display_data"
    },
    {
     "data": {
      "application/vnd.jupyter.widget-view+json": {
       "model_id": "ad02ace2da2d41289daa751ef472bf57",
       "version_major": 2,
       "version_minor": 0
      },
      "text/plain": [
       "Downloading S2A_MSIL1C_20200913T211111_N0209_R143_T12XVQ_20200913T231922.zip:   0%|          | 0.00/163M [00:0…"
      ]
     },
     "metadata": {},
     "output_type": "display_data"
    },
    {
     "name": "stderr",
     "output_type": "stream",
     "text": [
      "437baeeb-19df-4fd1-b4c8-3efa1ed139ac retrieval from LTA completed\n",
      "7de430dc-2dfb-4188-89a8-6a58c0a62975 retrieval was not accepted: NullPointerException. Retrying in 60 seconds\n"
     ]
    },
    {
     "data": {
      "application/vnd.jupyter.widget-view+json": {
       "model_id": "",
       "version_major": 2,
       "version_minor": 0
      },
      "text/plain": [
       "MD5 checksumming:   0%|          | 0.00/163M [00:00<?, ?B/s]"
      ]
     },
     "metadata": {},
     "output_type": "display_data"
    },
    {
     "data": {
      "application/vnd.jupyter.widget-view+json": {
       "model_id": "669bc52769e84d73b61ac4e5d2750b0a",
       "version_major": 2,
       "version_minor": 0
      },
      "text/plain": [
       "Downloading S2B_MSIL1C_20200918T225219_N0209_R001_T09XWL_20200918T230316.zip:   0%|          | 0.00/374M [00:0…"
      ]
     },
     "metadata": {},
     "output_type": "display_data"
    },
    {
     "name": "stderr",
     "output_type": "stream",
     "text": [
      "1ecede80-1975-4c1f-b940-37e996e6fab5 accepted for retrieval, waiting for it to come online...\n"
     ]
    },
    {
     "data": {
      "application/vnd.jupyter.widget-view+json": {
       "model_id": "",
       "version_major": 2,
       "version_minor": 0
      },
      "text/plain": [
       "MD5 checksumming:   0%|          | 0.00/374M [00:00<?, ?B/s]"
      ]
     },
     "metadata": {},
     "output_type": "display_data"
    },
    {
     "data": {
      "application/vnd.jupyter.widget-view+json": {
       "model_id": "d29ca5289d3643ca8846723908f1cb6d",
       "version_major": 2,
       "version_minor": 0
      },
      "text/plain": [
       "Downloading S2B_MSIL1C_20200902T205029_N0209_R057_T13XDK_20200902T213239.zip:   0%|          | 0.00/275M [00:0…"
      ]
     },
     "metadata": {},
     "output_type": "display_data"
    },
    {
     "data": {
      "application/vnd.jupyter.widget-view+json": {
       "model_id": "",
       "version_major": 2,
       "version_minor": 0
      },
      "text/plain": [
       "MD5 checksumming:   0%|          | 0.00/816M [00:00<?, ?B/s]"
      ]
     },
     "metadata": {},
     "output_type": "display_data"
    },
    {
     "data": {
      "application/vnd.jupyter.widget-view+json": {
       "model_id": "3d757dab56044f63abc9f6c5603e5eb0",
       "version_major": 2,
       "version_minor": 0
      },
      "text/plain": [
       "Downloading S2B_MSIL1C_20200913T220139_N0209_R072_T13XEL_20200913T221839.zip:   0%|          | 0.00/434M [00:0…"
      ]
     },
     "metadata": {},
     "output_type": "display_data"
    },
    {
     "name": "stderr",
     "output_type": "stream",
     "text": [
      "7de430dc-2dfb-4188-89a8-6a58c0a62975 accepted for retrieval, waiting for it to come online...\n"
     ]
    },
    {
     "data": {
      "application/vnd.jupyter.widget-view+json": {
       "model_id": "",
       "version_major": 2,
       "version_minor": 0
      },
      "text/plain": [
       "MD5 checksumming:   0%|          | 0.00/275M [00:00<?, ?B/s]"
      ]
     },
     "metadata": {},
     "output_type": "display_data"
    },
    {
     "data": {
      "application/vnd.jupyter.widget-view+json": {
       "model_id": "5bfb63b853e445a0b591d1907a8409fa",
       "version_major": 2,
       "version_minor": 0
      },
      "text/plain": [
       "Downloading S2B_MSIL1C_20200907T195949_N0209_R128_T22XES_20200907T220906.zip:   0%|          | 0.00/603M [00:0…"
      ]
     },
     "metadata": {},
     "output_type": "display_data"
    },
    {
     "data": {
      "application/vnd.jupyter.widget-view+json": {
       "model_id": "",
       "version_major": 2,
       "version_minor": 0
      },
      "text/plain": [
       "MD5 checksumming:   0%|          | 0.00/434M [00:00<?, ?B/s]"
      ]
     },
     "metadata": {},
     "output_type": "display_data"
    },
    {
     "data": {
      "application/vnd.jupyter.widget-view+json": {
       "model_id": "3059841c57cb49d7b6fc64a452dcf088",
       "version_major": 2,
       "version_minor": 0
      },
      "text/plain": [
       "Downloading S2B_MSIL1C_20200901T230119_N0209_R044_T08XNR_20200901T231157.zip:   0%|          | 0.00/389M [00:0…"
      ]
     },
     "metadata": {},
     "output_type": "display_data"
    },
    {
     "data": {
      "application/vnd.jupyter.widget-view+json": {
       "model_id": "",
       "version_major": 2,
       "version_minor": 0
      },
      "text/plain": [
       "MD5 checksumming:   0%|          | 0.00/603M [00:00<?, ?B/s]"
      ]
     },
     "metadata": {},
     "output_type": "display_data"
    },
    {
     "data": {
      "application/vnd.jupyter.widget-view+json": {
       "model_id": "e3d445679b72439da1b2f28af22669cf",
       "version_major": 2,
       "version_minor": 0
      },
      "text/plain": [
       "Downloading S2B_MSIL1C_20200914T194959_N0209_R085_T19XEM_20200914T213801.zip:   0%|          | 0.00/661M [00:0…"
      ]
     },
     "metadata": {},
     "output_type": "display_data"
    },
    {
     "data": {
      "application/vnd.jupyter.widget-view+json": {
       "model_id": "",
       "version_major": 2,
       "version_minor": 0
      },
      "text/plain": [
       "MD5 checksumming:   0%|          | 0.00/389M [00:00<?, ?B/s]"
      ]
     },
     "metadata": {},
     "output_type": "display_data"
    },
    {
     "data": {
      "application/vnd.jupyter.widget-view+json": {
       "model_id": "3f85fe255642415bb03787355c97ec10",
       "version_major": 2,
       "version_minor": 0
      },
      "text/plain": [
       "Downloading S2B_MSIL1C_20200908T211039_N0209_R143_T10XDL_20200908T214607.zip:   0%|          | 0.00/771M [00:0…"
      ]
     },
     "metadata": {},
     "output_type": "display_data"
    },
    {
     "data": {
      "application/vnd.jupyter.widget-view+json": {
       "model_id": "",
       "version_major": 2,
       "version_minor": 0
      },
      "text/plain": [
       "MD5 checksumming:   0%|          | 0.00/661M [00:00<?, ?B/s]"
      ]
     },
     "metadata": {},
     "output_type": "display_data"
    },
    {
     "data": {
      "application/vnd.jupyter.widget-view+json": {
       "model_id": "fc87e287107b4c97a569b7020c09564a",
       "version_major": 2,
       "version_minor": 0
      },
      "text/plain": [
       "Downloading S2B_MSIL1C_20200904T213049_N0209_R086_T11XNK_20200909T065746.zip:   0%|          | 0.00/671M [00:0…"
      ]
     },
     "metadata": {},
     "output_type": "display_data"
    },
    {
     "name": "stderr",
     "output_type": "stream",
     "text": [
      "There was an error downloading S2B_MSIL1C_20200904T213049_N0209_R086_T11XNK_20200909T065746\n",
      "Traceback (most recent call last):\n",
      "  File \"/Users/buckley/opt/conda/envs/py39/lib/python3.9/site-packages/sentinelsat/download.py\", line 700, in _download_online_retry\n",
      "    return self.download(uuid, directory, stop_event=stop_event)\n",
      "  File \"/Users/buckley/opt/conda/envs/py39/lib/python3.9/site-packages/sentinelsat/download.py\", line 150, in download\n",
      "    self._download_common(product_info, path, stop_event)\n",
      "  File \"/Users/buckley/opt/conda/envs/py39/lib/python3.9/site-packages/sentinelsat/download.py\", line 218, in _download_common\n",
      "    product_info[\"downloaded_bytes\"] = self._download(\n",
      "  File \"/Users/buckley/opt/conda/envs/py39/lib/python3.9/site-packages/sentinelsat/download.py\", line 754, in _download\n",
      "    f.write(chunk)\n",
      "OSError: [Errno 28] No space left on device\n",
      "9 retries left, retrying in 10 seconds...\n",
      "There was an error downloading S2B_MSIL1C_20200908T211039_N0209_R143_T10XDL_20200908T214607\n",
      "Traceback (most recent call last):\n",
      "  File \"/Users/buckley/opt/conda/envs/py39/lib/python3.9/site-packages/sentinelsat/download.py\", line 700, in _download_online_retry\n",
      "    return self.download(uuid, directory, stop_event=stop_event)\n",
      "  File \"/Users/buckley/opt/conda/envs/py39/lib/python3.9/site-packages/sentinelsat/download.py\", line 150, in download\n",
      "    self._download_common(product_info, path, stop_event)\n",
      "  File \"/Users/buckley/opt/conda/envs/py39/lib/python3.9/site-packages/sentinelsat/download.py\", line 218, in _download_common\n",
      "    product_info[\"downloaded_bytes\"] = self._download(\n",
      "  File \"/Users/buckley/opt/conda/envs/py39/lib/python3.9/site-packages/sentinelsat/download.py\", line 754, in _download\n",
      "    f.write(chunk)\n",
      "OSError: [Errno 28] No space left on device\n",
      "9 retries left, retrying in 10 seconds...\n",
      "There was an error downloading S2A_MSIL1C_20200927T205241_N0209_R057_T11XMH_20200927T230128\n",
      "Traceback (most recent call last):\n",
      "  File \"/Users/buckley/opt/conda/envs/py39/lib/python3.9/site-packages/sentinelsat/download.py\", line 700, in _download_online_retry\n",
      "    return self.download(uuid, directory, stop_event=stop_event)\n",
      "  File \"/Users/buckley/opt/conda/envs/py39/lib/python3.9/site-packages/sentinelsat/download.py\", line 150, in download\n",
      "    self._download_common(product_info, path, stop_event)\n",
      "  File \"/Users/buckley/opt/conda/envs/py39/lib/python3.9/site-packages/sentinelsat/download.py\", line 218, in _download_common\n",
      "    product_info[\"downloaded_bytes\"] = self._download(\n",
      "  File \"/Users/buckley/opt/conda/envs/py39/lib/python3.9/site-packages/sentinelsat/download.py\", line 754, in _download\n",
      "    f.write(chunk)\n",
      "OSError: [Errno 28] No space left on device\n",
      "9 retries left, retrying in 10 seconds...\n",
      "Download will resume from existing incomplete file S2B_MSIL1C_20200904T213049_N0209_R086_T11XNK_20200909T065746.zip.incomplete.\n",
      "Download will resume from existing incomplete file S2B_MSIL1C_20200908T211039_N0209_R143_T10XDL_20200908T214607.zip.incomplete.\n"
     ]
    },
    {
     "data": {
      "application/vnd.jupyter.widget-view+json": {
       "model_id": "0bc8a19d9c1845cfb670540e789c514c",
       "version_major": 2,
       "version_minor": 0
      },
      "text/plain": [
       "Downloading S2B_MSIL1C_20200904T213049_N0209_R086_T11XNK_20200909T065746.zip:  16%|#6        | 108M/671M [00:0…"
      ]
     },
     "metadata": {},
     "output_type": "display_data"
    },
    {
     "data": {
      "application/vnd.jupyter.widget-view+json": {
       "model_id": "96d29a48049b4734a7ff73cb4f150a39",
       "version_major": 2,
       "version_minor": 0
      },
      "text/plain": [
       "Downloading S2B_MSIL1C_20200908T211039_N0209_R143_T10XDL_20200908T214607.zip:  12%|#2        | 93.3M/771M [00:…"
      ]
     },
     "metadata": {},
     "output_type": "display_data"
    },
    {
     "name": "stderr",
     "output_type": "stream",
     "text": [
      "There was an error downloading S2B_MSIL1C_20200904T213049_N0209_R086_T11XNK_20200909T065746\n",
      "Traceback (most recent call last):\n",
      "  File \"/Users/buckley/opt/conda/envs/py39/lib/python3.9/site-packages/sentinelsat/download.py\", line 700, in _download_online_retry\n",
      "    return self.download(uuid, directory, stop_event=stop_event)\n",
      "  File \"/Users/buckley/opt/conda/envs/py39/lib/python3.9/site-packages/sentinelsat/download.py\", line 150, in download\n",
      "    self._download_common(product_info, path, stop_event)\n",
      "  File \"/Users/buckley/opt/conda/envs/py39/lib/python3.9/site-packages/sentinelsat/download.py\", line 218, in _download_common\n",
      "    product_info[\"downloaded_bytes\"] = self._download(\n",
      "  File \"/Users/buckley/opt/conda/envs/py39/lib/python3.9/site-packages/sentinelsat/download.py\", line 754, in _download\n",
      "    f.write(chunk)\n",
      "OSError: [Errno 28] No space left on device\n",
      "8 retries left, retrying in 10 seconds...\n",
      "There was an error downloading S2B_MSIL1C_20200920T215209_N0209_R029_T10XDM_20200920T222901\n",
      "Traceback (most recent call last):\n",
      "  File \"/Users/buckley/opt/conda/envs/py39/lib/python3.9/site-packages/sentinelsat/download.py\", line 700, in _download_online_retry\n",
      "    return self.download(uuid, directory, stop_event=stop_event)\n",
      "  File \"/Users/buckley/opt/conda/envs/py39/lib/python3.9/site-packages/sentinelsat/download.py\", line 150, in download\n",
      "    self._download_common(product_info, path, stop_event)\n",
      "  File \"/Users/buckley/opt/conda/envs/py39/lib/python3.9/site-packages/sentinelsat/download.py\", line 218, in _download_common\n",
      "    product_info[\"downloaded_bytes\"] = self._download(\n",
      "  File \"/Users/buckley/opt/conda/envs/py39/lib/python3.9/site-packages/sentinelsat/download.py\", line 754, in _download\n",
      "    f.write(chunk)\n",
      "OSError: [Errno 28] No space left on device\n",
      "8 retries left, retrying in 10 seconds...\n",
      "Download will resume from existing incomplete file S2A_MSIL1C_20200927T205241_N0209_R057_T11XMH_20200927T230128.zip.incomplete.\n"
     ]
    },
    {
     "data": {
      "application/vnd.jupyter.widget-view+json": {
       "model_id": "c95179b2de9b49299b337a9b33402e3d",
       "version_major": 2,
       "version_minor": 0
      },
      "text/plain": [
       "Downloading S2A_MSIL1C_20200927T205241_N0209_R057_T11XMH_20200927T230128.zip:  10%|#         | 7.34M/72.0M [00…"
      ]
     },
     "metadata": {},
     "output_type": "display_data"
    },
    {
     "name": "stderr",
     "output_type": "stream",
     "text": [
      "Download will resume from existing incomplete file S2B_MSIL1C_20200904T213049_N0209_R086_T11XNK_20200909T065746.zip.incomplete.\n"
     ]
    },
    {
     "data": {
      "application/vnd.jupyter.widget-view+json": {
       "model_id": "d5f3b9c0dba54e1ea8f8c3d0577190ff",
       "version_major": 2,
       "version_minor": 0
      },
      "text/plain": [
       "Downloading S2B_MSIL1C_20200904T213049_N0209_R086_T11XNK_20200909T065746.zip:  16%|#6        | 108M/671M [00:0…"
      ]
     },
     "metadata": {},
     "output_type": "display_data"
    },
    {
     "name": "stderr",
     "output_type": "stream",
     "text": [
      "Download will resume from existing incomplete file S2B_MSIL1C_20200920T215209_N0209_R029_T10XDM_20200920T222901.zip.incomplete.\n"
     ]
    },
    {
     "data": {
      "application/vnd.jupyter.widget-view+json": {
       "model_id": "f9cbb35ae9484e7db5f0a6421a95fc78",
       "version_major": 2,
       "version_minor": 0
      },
      "text/plain": [
       "Downloading S2B_MSIL1C_20200920T215209_N0209_R029_T10XDM_20200920T222901.zip:  83%|########3 | 639M/769M [00:0…"
      ]
     },
     "metadata": {},
     "output_type": "display_data"
    },
    {
     "name": "stderr",
     "output_type": "stream",
     "text": [
      "There was an error downloading S2B_MSIL1C_20200904T213049_N0209_R086_T11XNK_20200909T065746\n",
      "Traceback (most recent call last):\n",
      "  File \"/Users/buckley/opt/conda/envs/py39/lib/python3.9/site-packages/sentinelsat/download.py\", line 700, in _download_online_retry\n",
      "    return self.download(uuid, directory, stop_event=stop_event)\n",
      "  File \"/Users/buckley/opt/conda/envs/py39/lib/python3.9/site-packages/sentinelsat/download.py\", line 150, in download\n",
      "    self._download_common(product_info, path, stop_event)\n",
      "  File \"/Users/buckley/opt/conda/envs/py39/lib/python3.9/site-packages/sentinelsat/download.py\", line 218, in _download_common\n",
      "    product_info[\"downloaded_bytes\"] = self._download(\n",
      "  File \"/Users/buckley/opt/conda/envs/py39/lib/python3.9/site-packages/sentinelsat/download.py\", line 754, in _download\n",
      "    f.write(chunk)\n",
      "OSError: [Errno 28] No space left on device\n",
      "7 retries left, retrying in 10 seconds...\n",
      "There was an error downloading S2B_MSIL1C_20200908T211039_N0209_R143_T10XDL_20200908T214607\n",
      "Traceback (most recent call last):\n",
      "  File \"/Users/buckley/opt/conda/envs/py39/lib/python3.9/site-packages/sentinelsat/download.py\", line 700, in _download_online_retry\n",
      "    return self.download(uuid, directory, stop_event=stop_event)\n",
      "  File \"/Users/buckley/opt/conda/envs/py39/lib/python3.9/site-packages/sentinelsat/download.py\", line 150, in download\n",
      "    self._download_common(product_info, path, stop_event)\n",
      "  File \"/Users/buckley/opt/conda/envs/py39/lib/python3.9/site-packages/sentinelsat/download.py\", line 218, in _download_common\n",
      "    product_info[\"downloaded_bytes\"] = self._download(\n",
      "  File \"/Users/buckley/opt/conda/envs/py39/lib/python3.9/site-packages/sentinelsat/download.py\", line 754, in _download\n",
      "    f.write(chunk)\n",
      "OSError: [Errno 28] No space left on device\n",
      "8 retries left, retrying in 10 seconds...\n",
      "There was an error downloading S2B_MSIL1C_20200920T215209_N0209_R029_T10XDM_20200920T222901\n",
      "Traceback (most recent call last):\n",
      "  File \"/Users/buckley/opt/conda/envs/py39/lib/python3.9/site-packages/sentinelsat/download.py\", line 700, in _download_online_retry\n",
      "    return self.download(uuid, directory, stop_event=stop_event)\n",
      "  File \"/Users/buckley/opt/conda/envs/py39/lib/python3.9/site-packages/sentinelsat/download.py\", line 150, in download\n",
      "    self._download_common(product_info, path, stop_event)\n",
      "  File \"/Users/buckley/opt/conda/envs/py39/lib/python3.9/site-packages/sentinelsat/download.py\", line 218, in _download_common\n",
      "    product_info[\"downloaded_bytes\"] = self._download(\n",
      "  File \"/Users/buckley/opt/conda/envs/py39/lib/python3.9/site-packages/sentinelsat/download.py\", line 754, in _download\n",
      "    f.write(chunk)\n",
      "OSError: [Errno 28] No space left on device\n",
      "7 retries left, retrying in 10 seconds...\n",
      "There was an error downloading S2A_MSIL1C_20200927T205241_N0209_R057_T11XMH_20200927T230128\n",
      "Traceback (most recent call last):\n",
      "  File \"/Users/buckley/opt/conda/envs/py39/lib/python3.9/site-packages/sentinelsat/download.py\", line 700, in _download_online_retry\n",
      "    return self.download(uuid, directory, stop_event=stop_event)\n",
      "  File \"/Users/buckley/opt/conda/envs/py39/lib/python3.9/site-packages/sentinelsat/download.py\", line 150, in download\n",
      "    self._download_common(product_info, path, stop_event)\n",
      "  File \"/Users/buckley/opt/conda/envs/py39/lib/python3.9/site-packages/sentinelsat/download.py\", line 218, in _download_common\n",
      "    product_info[\"downloaded_bytes\"] = self._download(\n",
      "  File \"/Users/buckley/opt/conda/envs/py39/lib/python3.9/site-packages/sentinelsat/download.py\", line 754, in _download\n",
      "    f.write(chunk)\n",
      "OSError: [Errno 28] No space left on device\n",
      "8 retries left, retrying in 10 seconds...\n",
      "Download will resume from existing incomplete file S2B_MSIL1C_20200904T213049_N0209_R086_T11XNK_20200909T065746.zip.incomplete.\n"
     ]
    },
    {
     "data": {
      "application/vnd.jupyter.widget-view+json": {
       "model_id": "bf4c998c915d45e6b119b39a52deaa9f",
       "version_major": 2,
       "version_minor": 0
      },
      "text/plain": [
       "Downloading S2B_MSIL1C_20200904T213049_N0209_R086_T11XNK_20200909T065746.zip:  16%|#6        | 108M/671M [00:0…"
      ]
     },
     "metadata": {},
     "output_type": "display_data"
    },
    {
     "name": "stderr",
     "output_type": "stream",
     "text": [
      "There was an error downloading S2B_MSIL1C_20200904T213049_N0209_R086_T11XNK_20200909T065746\n",
      "Traceback (most recent call last):\n",
      "  File \"/Users/buckley/opt/conda/envs/py39/lib/python3.9/site-packages/sentinelsat/download.py\", line 700, in _download_online_retry\n",
      "    return self.download(uuid, directory, stop_event=stop_event)\n",
      "  File \"/Users/buckley/opt/conda/envs/py39/lib/python3.9/site-packages/sentinelsat/download.py\", line 150, in download\n",
      "    self._download_common(product_info, path, stop_event)\n",
      "  File \"/Users/buckley/opt/conda/envs/py39/lib/python3.9/site-packages/sentinelsat/download.py\", line 218, in _download_common\n",
      "    product_info[\"downloaded_bytes\"] = self._download(\n",
      "  File \"/Users/buckley/opt/conda/envs/py39/lib/python3.9/site-packages/sentinelsat/download.py\", line 754, in _download\n",
      "    f.write(chunk)\n",
      "OSError: [Errno 28] No space left on device\n",
      "6 retries left, retrying in 10 seconds...\n",
      "Download will resume from existing incomplete file S2B_MSIL1C_20200908T211039_N0209_R143_T10XDL_20200908T214607.zip.incomplete.\n"
     ]
    },
    {
     "data": {
      "application/vnd.jupyter.widget-view+json": {
       "model_id": "aa253fabbdfe48f886975e300c1ddbc7",
       "version_major": 2,
       "version_minor": 0
      },
      "text/plain": [
       "Downloading S2B_MSIL1C_20200908T211039_N0209_R143_T10XDL_20200908T214607.zip:  12%|#2        | 93.3M/771M [00:…"
      ]
     },
     "metadata": {},
     "output_type": "display_data"
    },
    {
     "name": "stderr",
     "output_type": "stream",
     "text": [
      "b03369c8-626c-4da1-b577-e3451d3d7c02 retrieval from LTA completed\n",
      "Download will resume from existing incomplete file S2B_MSIL1C_20200920T215209_N0209_R029_T10XDM_20200920T222901.zip.incomplete.\n",
      "d4aec87f-e5ad-42e6-84cd-13d392be1c90 retrieval from LTA completed\n",
      "9483c71e-0bad-48cd-87a3-50db0fc51944 accepted for retrieval, waiting for it to come online...\n",
      "Download will resume from existing incomplete file S2A_MSIL1C_20200927T205241_N0209_R057_T11XMH_20200927T230128.zip.incomplete.\n"
     ]
    },
    {
     "data": {
      "application/vnd.jupyter.widget-view+json": {
       "model_id": "32b3eaab63074730a195840f2a073e6a",
       "version_major": 2,
       "version_minor": 0
      },
      "text/plain": [
       "Downloading S2B_MSIL1C_20200920T215209_N0209_R029_T10XDM_20200920T222901.zip:  83%|########3 | 639M/769M [00:0…"
      ]
     },
     "metadata": {},
     "output_type": "display_data"
    },
    {
     "data": {
      "application/vnd.jupyter.widget-view+json": {
       "model_id": "f90e01c7ab124b83b1f428284468976b",
       "version_major": 2,
       "version_minor": 0
      },
      "text/plain": [
       "Downloading S2A_MSIL1C_20200927T205241_N0209_R057_T11XMH_20200927T230128.zip:  10%|#         | 7.34M/72.0M [00…"
      ]
     },
     "metadata": {},
     "output_type": "display_data"
    },
    {
     "name": "stderr",
     "output_type": "stream",
     "text": [
      "6b2bfe43-ac91-43be-b4b1-f51cba2bafab accepted for retrieval, waiting for it to come online...\n",
      "Download will resume from existing incomplete file S2B_MSIL1C_20200904T213049_N0209_R086_T11XNK_20200909T065746.zip.incomplete.\n",
      "There was an error downloading S2B_MSIL1C_20200908T211039_N0209_R143_T10XDL_20200908T214607\n",
      "Traceback (most recent call last):\n",
      "  File \"/Users/buckley/opt/conda/envs/py39/lib/python3.9/site-packages/sentinelsat/download.py\", line 700, in _download_online_retry\n",
      "    return self.download(uuid, directory, stop_event=stop_event)\n",
      "  File \"/Users/buckley/opt/conda/envs/py39/lib/python3.9/site-packages/sentinelsat/download.py\", line 150, in download\n",
      "    self._download_common(product_info, path, stop_event)\n",
      "  File \"/Users/buckley/opt/conda/envs/py39/lib/python3.9/site-packages/sentinelsat/download.py\", line 218, in _download_common\n",
      "    product_info[\"downloaded_bytes\"] = self._download(\n",
      "  File \"/Users/buckley/opt/conda/envs/py39/lib/python3.9/site-packages/sentinelsat/download.py\", line 754, in _download\n",
      "    f.write(chunk)\n",
      "OSError: [Errno 28] No space left on device\n",
      "7 retries left, retrying in 10 seconds...\n"
     ]
    },
    {
     "data": {
      "application/vnd.jupyter.widget-view+json": {
       "model_id": "ff8ab734dc3a45e68f8b1791ab42dbba",
       "version_major": 2,
       "version_minor": 0
      },
      "text/plain": [
       "Downloading S2B_MSIL1C_20200904T213049_N0209_R086_T11XNK_20200909T065746.zip:  16%|#6        | 108M/671M [00:0…"
      ]
     },
     "metadata": {},
     "output_type": "display_data"
    },
    {
     "name": "stderr",
     "output_type": "stream",
     "text": [
      "There was an error downloading S2B_MSIL1C_20200904T213049_N0209_R086_T11XNK_20200909T065746\n",
      "Traceback (most recent call last):\n",
      "  File \"/Users/buckley/opt/conda/envs/py39/lib/python3.9/site-packages/sentinelsat/download.py\", line 700, in _download_online_retry\n",
      "    return self.download(uuid, directory, stop_event=stop_event)\n",
      "  File \"/Users/buckley/opt/conda/envs/py39/lib/python3.9/site-packages/sentinelsat/download.py\", line 150, in download\n",
      "    self._download_common(product_info, path, stop_event)\n",
      "  File \"/Users/buckley/opt/conda/envs/py39/lib/python3.9/site-packages/sentinelsat/download.py\", line 218, in _download_common\n",
      "    product_info[\"downloaded_bytes\"] = self._download(\n",
      "  File \"/Users/buckley/opt/conda/envs/py39/lib/python3.9/site-packages/sentinelsat/download.py\", line 754, in _download\n",
      "    f.write(chunk)\n",
      "OSError: [Errno 28] No space left on device\n",
      "5 retries left, retrying in 10 seconds...\n",
      "There was an error downloading S2B_MSIL1C_20200920T215209_N0209_R029_T10XDM_20200920T222901\n",
      "Traceback (most recent call last):\n",
      "  File \"/Users/buckley/opt/conda/envs/py39/lib/python3.9/site-packages/sentinelsat/download.py\", line 700, in _download_online_retry\n",
      "    return self.download(uuid, directory, stop_event=stop_event)\n",
      "  File \"/Users/buckley/opt/conda/envs/py39/lib/python3.9/site-packages/sentinelsat/download.py\", line 150, in download\n",
      "    self._download_common(product_info, path, stop_event)\n",
      "  File \"/Users/buckley/opt/conda/envs/py39/lib/python3.9/site-packages/sentinelsat/download.py\", line 218, in _download_common\n",
      "    product_info[\"downloaded_bytes\"] = self._download(\n",
      "  File \"/Users/buckley/opt/conda/envs/py39/lib/python3.9/site-packages/sentinelsat/download.py\", line 754, in _download\n",
      "    f.write(chunk)\n",
      "OSError: [Errno 28] No space left on device\n",
      "6 retries left, retrying in 10 seconds...\n",
      "Download will resume from existing incomplete file S2B_MSIL1C_20200908T211039_N0209_R143_T10XDL_20200908T214607.zip.incomplete.\n"
     ]
    },
    {
     "data": {
      "application/vnd.jupyter.widget-view+json": {
       "model_id": "05cd93f27e094c8b8de4bfa899187d43",
       "version_major": 2,
       "version_minor": 0
      },
      "text/plain": [
       "Downloading S2B_MSIL1C_20200908T211039_N0209_R143_T10XDL_20200908T214607.zip:  12%|#2        | 93.3M/771M [00:…"
      ]
     },
     "metadata": {},
     "output_type": "display_data"
    },
    {
     "name": "stderr",
     "output_type": "stream",
     "text": [
      "Download will resume from existing incomplete file S2B_MSIL1C_20200904T213049_N0209_R086_T11XNK_20200909T065746.zip.incomplete.\n"
     ]
    },
    {
     "data": {
      "application/vnd.jupyter.widget-view+json": {
       "model_id": "51a3e8d540a74d0d969a2e9af27cacfc",
       "version_major": 2,
       "version_minor": 0
      },
      "text/plain": [
       "Downloading S2B_MSIL1C_20200904T213049_N0209_R086_T11XNK_20200909T065746.zip:  16%|#6        | 108M/671M [00:0…"
      ]
     },
     "metadata": {},
     "output_type": "display_data"
    },
    {
     "name": "stderr",
     "output_type": "stream",
     "text": [
      "There was an error downloading S2B_MSIL1C_20200904T213049_N0209_R086_T11XNK_20200909T065746\n",
      "Traceback (most recent call last):\n",
      "  File \"/Users/buckley/opt/conda/envs/py39/lib/python3.9/site-packages/sentinelsat/download.py\", line 700, in _download_online_retry\n",
      "    return self.download(uuid, directory, stop_event=stop_event)\n",
      "  File \"/Users/buckley/opt/conda/envs/py39/lib/python3.9/site-packages/sentinelsat/download.py\", line 150, in download\n",
      "    self._download_common(product_info, path, stop_event)\n",
      "  File \"/Users/buckley/opt/conda/envs/py39/lib/python3.9/site-packages/sentinelsat/download.py\", line 218, in _download_common\n",
      "    product_info[\"downloaded_bytes\"] = self._download(\n",
      "  File \"/Users/buckley/opt/conda/envs/py39/lib/python3.9/site-packages/sentinelsat/download.py\", line 754, in _download\n",
      "    f.write(chunk)\n",
      "OSError: [Errno 28] No space left on device\n",
      "4 retries left, retrying in 10 seconds...\n",
      "There was an error downloading S2B_MSIL1C_20200908T211039_N0209_R143_T10XDL_20200908T214607\n",
      "Traceback (most recent call last):\n",
      "  File \"/Users/buckley/opt/conda/envs/py39/lib/python3.9/site-packages/sentinelsat/download.py\", line 700, in _download_online_retry\n",
      "    return self.download(uuid, directory, stop_event=stop_event)\n",
      "  File \"/Users/buckley/opt/conda/envs/py39/lib/python3.9/site-packages/sentinelsat/download.py\", line 150, in download\n",
      "    self._download_common(product_info, path, stop_event)\n",
      "  File \"/Users/buckley/opt/conda/envs/py39/lib/python3.9/site-packages/sentinelsat/download.py\", line 218, in _download_common\n",
      "    product_info[\"downloaded_bytes\"] = self._download(\n",
      "  File \"/Users/buckley/opt/conda/envs/py39/lib/python3.9/site-packages/sentinelsat/download.py\", line 754, in _download\n",
      "    f.write(chunk)\n",
      "OSError: [Errno 28] No space left on device\n",
      "6 retries left, retrying in 10 seconds...\n",
      "There was an error downloading S2A_MSIL1C_20200927T205241_N0209_R057_T11XMH_20200927T230128\n",
      "Traceback (most recent call last):\n",
      "  File \"/Users/buckley/opt/conda/envs/py39/lib/python3.9/site-packages/sentinelsat/download.py\", line 700, in _download_online_retry\n",
      "    return self.download(uuid, directory, stop_event=stop_event)\n",
      "  File \"/Users/buckley/opt/conda/envs/py39/lib/python3.9/site-packages/sentinelsat/download.py\", line 150, in download\n",
      "    self._download_common(product_info, path, stop_event)\n",
      "  File \"/Users/buckley/opt/conda/envs/py39/lib/python3.9/site-packages/sentinelsat/download.py\", line 218, in _download_common\n",
      "    product_info[\"downloaded_bytes\"] = self._download(\n",
      "  File \"/Users/buckley/opt/conda/envs/py39/lib/python3.9/site-packages/sentinelsat/download.py\", line 754, in _download\n",
      "    f.write(chunk)\n",
      "OSError: [Errno 28] No space left on device\n",
      "7 retries left, retrying in 10 seconds...\n",
      "Download will resume from existing incomplete file S2B_MSIL1C_20200920T215209_N0209_R029_T10XDM_20200920T222901.zip.incomplete.\n"
     ]
    },
    {
     "data": {
      "application/vnd.jupyter.widget-view+json": {
       "model_id": "1df3c5c69b4d4cc9b9e67ab2239d996d",
       "version_major": 2,
       "version_minor": 0
      },
      "text/plain": [
       "Downloading S2B_MSIL1C_20200920T215209_N0209_R029_T10XDM_20200920T222901.zip:  83%|########3 | 639M/769M [00:0…"
      ]
     },
     "metadata": {},
     "output_type": "display_data"
    },
    {
     "name": "stderr",
     "output_type": "stream",
     "text": [
      "There was an error downloading S2B_MSIL1C_20200920T215209_N0209_R029_T10XDM_20200920T222901\n",
      "Traceback (most recent call last):\n",
      "  File \"/Users/buckley/opt/conda/envs/py39/lib/python3.9/site-packages/sentinelsat/download.py\", line 700, in _download_online_retry\n",
      "    return self.download(uuid, directory, stop_event=stop_event)\n",
      "  File \"/Users/buckley/opt/conda/envs/py39/lib/python3.9/site-packages/sentinelsat/download.py\", line 150, in download\n",
      "    self._download_common(product_info, path, stop_event)\n",
      "  File \"/Users/buckley/opt/conda/envs/py39/lib/python3.9/site-packages/sentinelsat/download.py\", line 218, in _download_common\n",
      "    product_info[\"downloaded_bytes\"] = self._download(\n",
      "  File \"/Users/buckley/opt/conda/envs/py39/lib/python3.9/site-packages/sentinelsat/download.py\", line 754, in _download\n",
      "    f.write(chunk)\n",
      "OSError: [Errno 28] No space left on device\n",
      "5 retries left, retrying in 10 seconds...\n",
      "Download will resume from existing incomplete file S2B_MSIL1C_20200904T213049_N0209_R086_T11XNK_20200909T065746.zip.incomplete.\n"
     ]
    },
    {
     "data": {
      "application/vnd.jupyter.widget-view+json": {
       "model_id": "1e1fd883ff554b0c96c1848ca36f72ed",
       "version_major": 2,
       "version_minor": 0
      },
      "text/plain": [
       "Downloading S2B_MSIL1C_20200904T213049_N0209_R086_T11XNK_20200909T065746.zip:  16%|#6        | 108M/671M [00:0…"
      ]
     },
     "metadata": {},
     "output_type": "display_data"
    },
    {
     "name": "stderr",
     "output_type": "stream",
     "text": [
      "Download will resume from existing incomplete file S2A_MSIL1C_20200927T205241_N0209_R057_T11XMH_20200927T230128.zip.incomplete.\n",
      "Download will resume from existing incomplete file S2B_MSIL1C_20200908T211039_N0209_R143_T10XDL_20200908T214607.zip.incomplete.\n"
     ]
    },
    {
     "data": {
      "application/vnd.jupyter.widget-view+json": {
       "model_id": "beb5015bf12b435bad5943ac7546381c",
       "version_major": 2,
       "version_minor": 0
      },
      "text/plain": [
       "Downloading S2A_MSIL1C_20200927T205241_N0209_R057_T11XMH_20200927T230128.zip:  10%|#         | 7.34M/72.0M [00…"
      ]
     },
     "metadata": {},
     "output_type": "display_data"
    },
    {
     "name": "stderr",
     "output_type": "stream",
     "text": [
      "There was an error downloading S2A_MSIL1C_20200927T205241_N0209_R057_T11XMH_20200927T230128\n",
      "Traceback (most recent call last):\n",
      "  File \"/Users/buckley/opt/conda/envs/py39/lib/python3.9/site-packages/sentinelsat/download.py\", line 700, in _download_online_retry\n",
      "    return self.download(uuid, directory, stop_event=stop_event)\n",
      "  File \"/Users/buckley/opt/conda/envs/py39/lib/python3.9/site-packages/sentinelsat/download.py\", line 150, in download\n",
      "    self._download_common(product_info, path, stop_event)\n",
      "  File \"/Users/buckley/opt/conda/envs/py39/lib/python3.9/site-packages/sentinelsat/download.py\", line 218, in _download_common\n",
      "    product_info[\"downloaded_bytes\"] = self._download(\n",
      "  File \"/Users/buckley/opt/conda/envs/py39/lib/python3.9/site-packages/sentinelsat/download.py\", line 754, in _download\n",
      "    f.write(chunk)\n",
      "OSError: [Errno 28] No space left on device\n",
      "6 retries left, retrying in 10 seconds...\n",
      "There was an error downloading S2B_MSIL1C_20200904T213049_N0209_R086_T11XNK_20200909T065746\n",
      "Traceback (most recent call last):\n",
      "  File \"/Users/buckley/opt/conda/envs/py39/lib/python3.9/site-packages/sentinelsat/download.py\", line 700, in _download_online_retry\n",
      "    return self.download(uuid, directory, stop_event=stop_event)\n",
      "  File \"/Users/buckley/opt/conda/envs/py39/lib/python3.9/site-packages/sentinelsat/download.py\", line 150, in download\n",
      "    self._download_common(product_info, path, stop_event)\n",
      "  File \"/Users/buckley/opt/conda/envs/py39/lib/python3.9/site-packages/sentinelsat/download.py\", line 218, in _download_common\n",
      "    product_info[\"downloaded_bytes\"] = self._download(\n",
      "  File \"/Users/buckley/opt/conda/envs/py39/lib/python3.9/site-packages/sentinelsat/download.py\", line 754, in _download\n",
      "    f.write(chunk)\n",
      "OSError: [Errno 28] No space left on device\n",
      "3 retries left, retrying in 10 seconds...\n",
      "Download will resume from existing incomplete file S2B_MSIL1C_20200920T215209_N0209_R029_T10XDM_20200920T222901.zip.incomplete.\n"
     ]
    },
    {
     "data": {
      "application/vnd.jupyter.widget-view+json": {
       "model_id": "d45f524c83484f9aae6647a1e0462759",
       "version_major": 2,
       "version_minor": 0
      },
      "text/plain": [
       "Downloading S2B_MSIL1C_20200908T211039_N0209_R143_T10XDL_20200908T214607.zip:  12%|#2        | 93.3M/771M [00:…"
      ]
     },
     "metadata": {},
     "output_type": "display_data"
    },
    {
     "name": "stderr",
     "output_type": "stream",
     "text": [
      "There was an error downloading S2B_MSIL1C_20200908T211039_N0209_R143_T10XDL_20200908T214607\n",
      "Traceback (most recent call last):\n",
      "  File \"/Users/buckley/opt/conda/envs/py39/lib/python3.9/site-packages/sentinelsat/download.py\", line 700, in _download_online_retry\n",
      "    return self.download(uuid, directory, stop_event=stop_event)\n",
      "  File \"/Users/buckley/opt/conda/envs/py39/lib/python3.9/site-packages/sentinelsat/download.py\", line 150, in download\n",
      "    self._download_common(product_info, path, stop_event)\n",
      "  File \"/Users/buckley/opt/conda/envs/py39/lib/python3.9/site-packages/sentinelsat/download.py\", line 218, in _download_common\n",
      "    product_info[\"downloaded_bytes\"] = self._download(\n",
      "  File \"/Users/buckley/opt/conda/envs/py39/lib/python3.9/site-packages/sentinelsat/download.py\", line 754, in _download\n",
      "    f.write(chunk)\n",
      "OSError: [Errno 28] No space left on device\n",
      "5 retries left, retrying in 10 seconds...\n"
     ]
    },
    {
     "data": {
      "application/vnd.jupyter.widget-view+json": {
       "model_id": "c571282fba564ec0bc407e7bb5df40b0",
       "version_major": 2,
       "version_minor": 0
      },
      "text/plain": [
       "Downloading S2B_MSIL1C_20200920T215209_N0209_R029_T10XDM_20200920T222901.zip:  83%|########3 | 639M/769M [00:0…"
      ]
     },
     "metadata": {},
     "output_type": "display_data"
    },
    {
     "name": "stderr",
     "output_type": "stream",
     "text": [
      "There was an error downloading S2B_MSIL1C_20200920T215209_N0209_R029_T10XDM_20200920T222901\n",
      "Traceback (most recent call last):\n",
      "  File \"/Users/buckley/opt/conda/envs/py39/lib/python3.9/site-packages/sentinelsat/download.py\", line 700, in _download_online_retry\n",
      "    return self.download(uuid, directory, stop_event=stop_event)\n",
      "  File \"/Users/buckley/opt/conda/envs/py39/lib/python3.9/site-packages/sentinelsat/download.py\", line 150, in download\n",
      "    self._download_common(product_info, path, stop_event)\n",
      "  File \"/Users/buckley/opt/conda/envs/py39/lib/python3.9/site-packages/sentinelsat/download.py\", line 218, in _download_common\n",
      "    product_info[\"downloaded_bytes\"] = self._download(\n",
      "  File \"/Users/buckley/opt/conda/envs/py39/lib/python3.9/site-packages/sentinelsat/download.py\", line 754, in _download\n",
      "    f.write(chunk)\n",
      "OSError: [Errno 28] No space left on device\n",
      "4 retries left, retrying in 10 seconds...\n",
      "Download will resume from existing incomplete file S2A_MSIL1C_20200927T205241_N0209_R057_T11XMH_20200927T230128.zip.incomplete.\n"
     ]
    },
    {
     "data": {
      "application/vnd.jupyter.widget-view+json": {
       "model_id": "2e57f82465cd4cb1bef74f4f59773c1e",
       "version_major": 2,
       "version_minor": 0
      },
      "text/plain": [
       "Downloading S2A_MSIL1C_20200927T205241_N0209_R057_T11XMH_20200927T230128.zip:  10%|#         | 7.34M/72.0M [00…"
      ]
     },
     "metadata": {},
     "output_type": "display_data"
    },
    {
     "name": "stderr",
     "output_type": "stream",
     "text": [
      "There was an error downloading S2A_MSIL1C_20200927T205241_N0209_R057_T11XMH_20200927T230128\n",
      "Traceback (most recent call last):\n",
      "  File \"/Users/buckley/opt/conda/envs/py39/lib/python3.9/site-packages/sentinelsat/download.py\", line 700, in _download_online_retry\n",
      "    return self.download(uuid, directory, stop_event=stop_event)\n",
      "  File \"/Users/buckley/opt/conda/envs/py39/lib/python3.9/site-packages/sentinelsat/download.py\", line 150, in download\n",
      "    self._download_common(product_info, path, stop_event)\n",
      "  File \"/Users/buckley/opt/conda/envs/py39/lib/python3.9/site-packages/sentinelsat/download.py\", line 218, in _download_common\n",
      "    product_info[\"downloaded_bytes\"] = self._download(\n",
      "  File \"/Users/buckley/opt/conda/envs/py39/lib/python3.9/site-packages/sentinelsat/download.py\", line 754, in _download\n",
      "    f.write(chunk)\n",
      "OSError: [Errno 28] No space left on device\n",
      "5 retries left, retrying in 10 seconds...\n",
      "Download will resume from existing incomplete file S2B_MSIL1C_20200904T213049_N0209_R086_T11XNK_20200909T065746.zip.incomplete.\n"
     ]
    },
    {
     "data": {
      "application/vnd.jupyter.widget-view+json": {
       "model_id": "89e340d9c99c4680ac4a02e297ff9a44",
       "version_major": 2,
       "version_minor": 0
      },
      "text/plain": [
       "Downloading S2B_MSIL1C_20200904T213049_N0209_R086_T11XNK_20200909T065746.zip:  16%|#6        | 108M/671M [00:0…"
      ]
     },
     "metadata": {},
     "output_type": "display_data"
    },
    {
     "name": "stderr",
     "output_type": "stream",
     "text": [
      "There was an error downloading S2B_MSIL1C_20200904T213049_N0209_R086_T11XNK_20200909T065746\n",
      "Traceback (most recent call last):\n",
      "  File \"/Users/buckley/opt/conda/envs/py39/lib/python3.9/site-packages/sentinelsat/download.py\", line 700, in _download_online_retry\n",
      "    return self.download(uuid, directory, stop_event=stop_event)\n",
      "  File \"/Users/buckley/opt/conda/envs/py39/lib/python3.9/site-packages/sentinelsat/download.py\", line 150, in download\n",
      "    self._download_common(product_info, path, stop_event)\n",
      "  File \"/Users/buckley/opt/conda/envs/py39/lib/python3.9/site-packages/sentinelsat/download.py\", line 218, in _download_common\n",
      "    product_info[\"downloaded_bytes\"] = self._download(\n",
      "  File \"/Users/buckley/opt/conda/envs/py39/lib/python3.9/site-packages/sentinelsat/download.py\", line 754, in _download\n",
      "    f.write(chunk)\n",
      "OSError: [Errno 28] No space left on device\n",
      "2 retries left, retrying in 10 seconds...\n",
      "Download will resume from existing incomplete file S2B_MSIL1C_20200908T211039_N0209_R143_T10XDL_20200908T214607.zip.incomplete.\n",
      "Download will resume from existing incomplete file S2B_MSIL1C_20200920T215209_N0209_R029_T10XDM_20200920T222901.zip.incomplete.\n"
     ]
    },
    {
     "data": {
      "application/vnd.jupyter.widget-view+json": {
       "model_id": "91ef4d6b6ff44ef2ba532c5057975eb1",
       "version_major": 2,
       "version_minor": 0
      },
      "text/plain": [
       "Downloading S2B_MSIL1C_20200908T211039_N0209_R143_T10XDL_20200908T214607.zip:  12%|#2        | 93.3M/771M [00:…"
      ]
     },
     "metadata": {},
     "output_type": "display_data"
    },
    {
     "name": "stderr",
     "output_type": "stream",
     "text": [
      "There was an error downloading S2B_MSIL1C_20200908T211039_N0209_R143_T10XDL_20200908T214607\n",
      "Traceback (most recent call last):\n",
      "  File \"/Users/buckley/opt/conda/envs/py39/lib/python3.9/site-packages/sentinelsat/download.py\", line 700, in _download_online_retry\n",
      "    return self.download(uuid, directory, stop_event=stop_event)\n",
      "  File \"/Users/buckley/opt/conda/envs/py39/lib/python3.9/site-packages/sentinelsat/download.py\", line 150, in download\n",
      "    self._download_common(product_info, path, stop_event)\n",
      "  File \"/Users/buckley/opt/conda/envs/py39/lib/python3.9/site-packages/sentinelsat/download.py\", line 218, in _download_common\n",
      "    product_info[\"downloaded_bytes\"] = self._download(\n",
      "  File \"/Users/buckley/opt/conda/envs/py39/lib/python3.9/site-packages/sentinelsat/download.py\", line 754, in _download\n",
      "    f.write(chunk)\n",
      "OSError: [Errno 28] No space left on device\n",
      "4 retries left, retrying in 10 seconds...\n"
     ]
    },
    {
     "data": {
      "application/vnd.jupyter.widget-view+json": {
       "model_id": "e4c9f927b30d45e7bb011c1966ee725d",
       "version_major": 2,
       "version_minor": 0
      },
      "text/plain": [
       "Downloading S2B_MSIL1C_20200920T215209_N0209_R029_T10XDM_20200920T222901.zip:  83%|########3 | 639M/769M [00:0…"
      ]
     },
     "metadata": {},
     "output_type": "display_data"
    },
    {
     "name": "stderr",
     "output_type": "stream",
     "text": [
      "There was an error downloading S2B_MSIL1C_20200920T215209_N0209_R029_T10XDM_20200920T222901\n",
      "Traceback (most recent call last):\n",
      "  File \"/Users/buckley/opt/conda/envs/py39/lib/python3.9/site-packages/sentinelsat/download.py\", line 700, in _download_online_retry\n",
      "    return self.download(uuid, directory, stop_event=stop_event)\n",
      "  File \"/Users/buckley/opt/conda/envs/py39/lib/python3.9/site-packages/sentinelsat/download.py\", line 150, in download\n",
      "    self._download_common(product_info, path, stop_event)\n",
      "  File \"/Users/buckley/opt/conda/envs/py39/lib/python3.9/site-packages/sentinelsat/download.py\", line 218, in _download_common\n",
      "    product_info[\"downloaded_bytes\"] = self._download(\n",
      "  File \"/Users/buckley/opt/conda/envs/py39/lib/python3.9/site-packages/sentinelsat/download.py\", line 754, in _download\n",
      "    f.write(chunk)\n",
      "OSError: [Errno 28] No space left on device\n",
      "3 retries left, retrying in 10 seconds...\n",
      "Download will resume from existing incomplete file S2A_MSIL1C_20200927T205241_N0209_R057_T11XMH_20200927T230128.zip.incomplete.\n",
      "Download will resume from existing incomplete file S2B_MSIL1C_20200904T213049_N0209_R086_T11XNK_20200909T065746.zip.incomplete.\n"
     ]
    },
    {
     "data": {
      "application/vnd.jupyter.widget-view+json": {
       "model_id": "2d8dcc2374db42959ee3e369832dc26d",
       "version_major": 2,
       "version_minor": 0
      },
      "text/plain": [
       "Downloading S2A_MSIL1C_20200927T205241_N0209_R057_T11XMH_20200927T230128.zip:  10%|#         | 7.34M/72.0M [00…"
      ]
     },
     "metadata": {},
     "output_type": "display_data"
    },
    {
     "data": {
      "application/vnd.jupyter.widget-view+json": {
       "model_id": "601783d7bcfc41858a8f13ccdc3d5fad",
       "version_major": 2,
       "version_minor": 0
      },
      "text/plain": [
       "Downloading S2B_MSIL1C_20200904T213049_N0209_R086_T11XNK_20200909T065746.zip:  16%|#6        | 108M/671M [00:0…"
      ]
     },
     "metadata": {},
     "output_type": "display_data"
    },
    {
     "name": "stderr",
     "output_type": "stream",
     "text": [
      "There was an error downloading S2A_MSIL1C_20200927T205241_N0209_R057_T11XMH_20200927T230128\n",
      "Traceback (most recent call last):\n",
      "  File \"/Users/buckley/opt/conda/envs/py39/lib/python3.9/site-packages/sentinelsat/download.py\", line 700, in _download_online_retry\n",
      "    return self.download(uuid, directory, stop_event=stop_event)\n",
      "  File \"/Users/buckley/opt/conda/envs/py39/lib/python3.9/site-packages/sentinelsat/download.py\", line 150, in download\n",
      "    self._download_common(product_info, path, stop_event)\n",
      "  File \"/Users/buckley/opt/conda/envs/py39/lib/python3.9/site-packages/sentinelsat/download.py\", line 218, in _download_common\n",
      "    product_info[\"downloaded_bytes\"] = self._download(\n",
      "  File \"/Users/buckley/opt/conda/envs/py39/lib/python3.9/site-packages/sentinelsat/download.py\", line 754, in _download\n",
      "    f.write(chunk)\n",
      "OSError: [Errno 28] No space left on device\n",
      "4 retries left, retrying in 10 seconds...\n",
      "There was an error downloading S2B_MSIL1C_20200904T213049_N0209_R086_T11XNK_20200909T065746\n",
      "Traceback (most recent call last):\n",
      "  File \"/Users/buckley/opt/conda/envs/py39/lib/python3.9/site-packages/sentinelsat/download.py\", line 700, in _download_online_retry\n",
      "    return self.download(uuid, directory, stop_event=stop_event)\n",
      "  File \"/Users/buckley/opt/conda/envs/py39/lib/python3.9/site-packages/sentinelsat/download.py\", line 150, in download\n",
      "    self._download_common(product_info, path, stop_event)\n",
      "  File \"/Users/buckley/opt/conda/envs/py39/lib/python3.9/site-packages/sentinelsat/download.py\", line 218, in _download_common\n",
      "    product_info[\"downloaded_bytes\"] = self._download(\n",
      "  File \"/Users/buckley/opt/conda/envs/py39/lib/python3.9/site-packages/sentinelsat/download.py\", line 754, in _download\n",
      "    f.write(chunk)\n",
      "OSError: [Errno 28] No space left on device\n",
      "1 retries left, retrying in 10 seconds...\n",
      "Download will resume from existing incomplete file S2B_MSIL1C_20200908T211039_N0209_R143_T10XDL_20200908T214607.zip.incomplete.\n"
     ]
    },
    {
     "data": {
      "application/vnd.jupyter.widget-view+json": {
       "model_id": "0aa5f629cee74288bf737bf8053fe0f4",
       "version_major": 2,
       "version_minor": 0
      },
      "text/plain": [
       "Downloading S2B_MSIL1C_20200908T211039_N0209_R143_T10XDL_20200908T214607.zip:  12%|#2        | 93.3M/771M [00:…"
      ]
     },
     "metadata": {},
     "output_type": "display_data"
    },
    {
     "name": "stderr",
     "output_type": "stream",
     "text": [
      "There was an error downloading S2B_MSIL1C_20200908T211039_N0209_R143_T10XDL_20200908T214607\n",
      "Traceback (most recent call last):\n",
      "  File \"/Users/buckley/opt/conda/envs/py39/lib/python3.9/site-packages/sentinelsat/download.py\", line 700, in _download_online_retry\n",
      "    return self.download(uuid, directory, stop_event=stop_event)\n",
      "  File \"/Users/buckley/opt/conda/envs/py39/lib/python3.9/site-packages/sentinelsat/download.py\", line 150, in download\n",
      "    self._download_common(product_info, path, stop_event)\n",
      "  File \"/Users/buckley/opt/conda/envs/py39/lib/python3.9/site-packages/sentinelsat/download.py\", line 218, in _download_common\n",
      "    product_info[\"downloaded_bytes\"] = self._download(\n",
      "  File \"/Users/buckley/opt/conda/envs/py39/lib/python3.9/site-packages/sentinelsat/download.py\", line 754, in _download\n",
      "    f.write(chunk)\n",
      "OSError: [Errno 28] No space left on device\n",
      "3 retries left, retrying in 10 seconds...\n",
      "Download will resume from existing incomplete file S2B_MSIL1C_20200920T215209_N0209_R029_T10XDM_20200920T222901.zip.incomplete.\n"
     ]
    },
    {
     "data": {
      "application/vnd.jupyter.widget-view+json": {
       "model_id": "43b9f6c2ca854d099eb5032609b58e84",
       "version_major": 2,
       "version_minor": 0
      },
      "text/plain": [
       "Downloading S2B_MSIL1C_20200920T215209_N0209_R029_T10XDM_20200920T222901.zip:  83%|########3 | 639M/769M [00:0…"
      ]
     },
     "metadata": {},
     "output_type": "display_data"
    },
    {
     "name": "stderr",
     "output_type": "stream",
     "text": [
      "Download will resume from existing incomplete file S2B_MSIL1C_20200904T213049_N0209_R086_T11XNK_20200909T065746.zip.incomplete.\n",
      "Download will resume from existing incomplete file S2A_MSIL1C_20200927T205241_N0209_R057_T11XMH_20200927T230128.zip.incomplete.\n",
      "Download will resume from existing incomplete file S2B_MSIL1C_20200908T211039_N0209_R143_T10XDL_20200908T214607.zip.incomplete.\n"
     ]
    },
    {
     "data": {
      "application/vnd.jupyter.widget-view+json": {
       "model_id": "d1a9819afe2a4c799b61f26504388498",
       "version_major": 2,
       "version_minor": 0
      },
      "text/plain": [
       "Downloading S2B_MSIL1C_20200904T213049_N0209_R086_T11XNK_20200909T065746.zip:  16%|#6        | 108M/671M [00:0…"
      ]
     },
     "metadata": {},
     "output_type": "display_data"
    },
    {
     "data": {
      "application/vnd.jupyter.widget-view+json": {
       "model_id": "bdc0d5e9f71842c5a8d77c27d3ba8a66",
       "version_major": 2,
       "version_minor": 0
      },
      "text/plain": [
       "Downloading S2A_MSIL1C_20200927T205241_N0209_R057_T11XMH_20200927T230128.zip:  10%|#         | 7.34M/72.0M [00…"
      ]
     },
     "metadata": {},
     "output_type": "display_data"
    },
    {
     "name": "stderr",
     "output_type": "stream",
     "text": [
      "There was an error downloading S2B_MSIL1C_20200920T215209_N0209_R029_T10XDM_20200920T222901\n",
      "Traceback (most recent call last):\n",
      "  File \"/Users/buckley/opt/conda/envs/py39/lib/python3.9/site-packages/sentinelsat/download.py\", line 700, in _download_online_retry\n",
      "    return self.download(uuid, directory, stop_event=stop_event)\n",
      "  File \"/Users/buckley/opt/conda/envs/py39/lib/python3.9/site-packages/sentinelsat/download.py\", line 150, in download\n",
      "    self._download_common(product_info, path, stop_event)\n",
      "  File \"/Users/buckley/opt/conda/envs/py39/lib/python3.9/site-packages/sentinelsat/download.py\", line 218, in _download_common\n",
      "    product_info[\"downloaded_bytes\"] = self._download(\n",
      "  File \"/Users/buckley/opt/conda/envs/py39/lib/python3.9/site-packages/sentinelsat/download.py\", line 754, in _download\n",
      "    f.write(chunk)\n",
      "OSError: [Errno 28] No space left on device\n",
      "2 retries left, retrying in 10 seconds...\n",
      "There was an error downloading S2A_MSIL1C_20200927T205241_N0209_R057_T11XMH_20200927T230128\n",
      "Traceback (most recent call last):\n",
      "  File \"/Users/buckley/opt/conda/envs/py39/lib/python3.9/site-packages/sentinelsat/download.py\", line 700, in _download_online_retry\n",
      "    return self.download(uuid, directory, stop_event=stop_event)\n",
      "  File \"/Users/buckley/opt/conda/envs/py39/lib/python3.9/site-packages/sentinelsat/download.py\", line 150, in download\n",
      "    self._download_common(product_info, path, stop_event)\n",
      "  File \"/Users/buckley/opt/conda/envs/py39/lib/python3.9/site-packages/sentinelsat/download.py\", line 218, in _download_common\n",
      "    product_info[\"downloaded_bytes\"] = self._download(\n",
      "  File \"/Users/buckley/opt/conda/envs/py39/lib/python3.9/site-packages/sentinelsat/download.py\", line 754, in _download\n",
      "    f.write(chunk)\n",
      "OSError: [Errno 28] No space left on device\n",
      "3 retries left, retrying in 10 seconds...\n"
     ]
    },
    {
     "data": {
      "application/vnd.jupyter.widget-view+json": {
       "model_id": "11d2a6ca981f4610843195ebc0c98f6f",
       "version_major": 2,
       "version_minor": 0
      },
      "text/plain": [
       "Downloading S2B_MSIL1C_20200908T211039_N0209_R143_T10XDL_20200908T214607.zip:  12%|#2        | 93.3M/771M [00:…"
      ]
     },
     "metadata": {},
     "output_type": "display_data"
    },
    {
     "name": "stderr",
     "output_type": "stream",
     "text": [
      "There was an error downloading S2B_MSIL1C_20200908T211039_N0209_R143_T10XDL_20200908T214607\n",
      "Traceback (most recent call last):\n",
      "  File \"/Users/buckley/opt/conda/envs/py39/lib/python3.9/site-packages/sentinelsat/sentinel.py\", line 1017, in _check_scihub_response\n",
      "    response.raise_for_status()\n",
      "  File \"/Users/buckley/opt/conda/envs/py39/lib/python3.9/site-packages/requests/models.py\", line 953, in raise_for_status\n",
      "    raise HTTPError(http_error_msg, response=self)\n",
      "requests.exceptions.HTTPError: 500 Server Error: Internal Server Error for url: https://scihub.copernicus.eu/dhus/odata/v1/Products('9f3d19eb-c530-4d23-b5f8-388aaae56e73')/$value\n",
      "\n",
      "During handling of the above exception, another exception occurred:\n",
      "\n",
      "Traceback (most recent call last):\n",
      "  File \"/Users/buckley/opt/conda/envs/py39/lib/python3.9/site-packages/sentinelsat/download.py\", line 700, in _download_online_retry\n",
      "    return self.download(uuid, directory, stop_event=stop_event)\n",
      "  File \"/Users/buckley/opt/conda/envs/py39/lib/python3.9/site-packages/sentinelsat/download.py\", line 150, in download\n",
      "    self._download_common(product_info, path, stop_event)\n",
      "  File \"/Users/buckley/opt/conda/envs/py39/lib/python3.9/site-packages/sentinelsat/download.py\", line 218, in _download_common\n",
      "    product_info[\"downloaded_bytes\"] = self._download(\n",
      "  File \"/Users/buckley/opt/conda/envs/py39/lib/python3.9/site-packages/sentinelsat/download.py\", line 741, in _download\n",
      "    self.api._check_scihub_response(r, test_json=False)\n",
      "  File \"/Users/buckley/opt/conda/envs/py39/lib/python3.9/site-packages/sentinelsat/sentinel.py\", line 1063, in _check_scihub_response\n",
      "    raise ServerError(msg, response)\n",
      "sentinelsat.exceptions.ServerError: HTTP status 500 Internal Server Error: TransactionSystemException : Could not roll back Hibernate transaction; nested exception is org.hibernate.TransactionException: Unable to rollback against JDBC Connection\n",
      "2 retries left, retrying in 10 seconds...\n",
      "There was an error downloading S2B_MSIL1C_20200904T213049_N0209_R086_T11XNK_20200909T065746\n",
      "Traceback (most recent call last):\n",
      "  File \"/Users/buckley/opt/conda/envs/py39/lib/python3.9/site-packages/sentinelsat/download.py\", line 700, in _download_online_retry\n",
      "    return self.download(uuid, directory, stop_event=stop_event)\n",
      "  File \"/Users/buckley/opt/conda/envs/py39/lib/python3.9/site-packages/sentinelsat/download.py\", line 150, in download\n",
      "    self._download_common(product_info, path, stop_event)\n",
      "  File \"/Users/buckley/opt/conda/envs/py39/lib/python3.9/site-packages/sentinelsat/download.py\", line 218, in _download_common\n",
      "    product_info[\"downloaded_bytes\"] = self._download(\n",
      "  File \"/Users/buckley/opt/conda/envs/py39/lib/python3.9/site-packages/sentinelsat/download.py\", line 754, in _download\n",
      "    f.write(chunk)\n",
      "OSError: [Errno 28] No space left on device\n",
      "Downloading S2B_MSIL1C_20200904T213049_N0209_R086_T11XNK_20200909T065746 failed. No retries left.\n",
      "0356ae17-4a04-4655-87b3-c971828166d7 failed: Traceback (most recent call last):\n",
      "  File \"/Users/buckley/opt/conda/envs/py39/lib/python3.9/concurrent/futures/thread.py\", line 52, in run\n",
      "    result = self.fn(*self.args, **self.kwargs)\n",
      "  File \"/Users/buckley/opt/conda/envs/py39/lib/python3.9/site-packages/sentinelsat/download.py\", line 721, in _download_online_retry\n",
      "    raise last_exception\n",
      "  File \"/Users/buckley/opt/conda/envs/py39/lib/python3.9/site-packages/sentinelsat/download.py\", line 700, in _download_online_retry\n",
      "    return self.download(uuid, directory, stop_event=stop_event)\n",
      "  File \"/Users/buckley/opt/conda/envs/py39/lib/python3.9/site-packages/sentinelsat/download.py\", line 150, in download\n",
      "    self._download_common(product_info, path, stop_event)\n",
      "  File \"/Users/buckley/opt/conda/envs/py39/lib/python3.9/site-packages/sentinelsat/download.py\", line 218, in _download_common\n",
      "    product_info[\"downloaded_bytes\"] = self._download(\n",
      "  File \"/Users/buckley/opt/conda/envs/py39/lib/python3.9/site-packages/sentinelsat/download.py\", line 754, in _download\n",
      "    f.write(chunk)\n",
      "OSError: [Errno 28] No space left on device\n",
      "\n",
      "There was an error downloading S2B_MSIL1C_20200920T215209_N0209_R029_T10XDM_20200920T222901\n",
      "Traceback (most recent call last):\n",
      "  File \"/Users/buckley/opt/conda/envs/py39/lib/python3.9/site-packages/sentinelsat/sentinel.py\", line 1017, in _check_scihub_response\n",
      "    response.raise_for_status()\n",
      "  File \"/Users/buckley/opt/conda/envs/py39/lib/python3.9/site-packages/requests/models.py\", line 953, in raise_for_status\n",
      "    raise HTTPError(http_error_msg, response=self)\n",
      "requests.exceptions.HTTPError: 500 Server Error: Internal Server Error for url: https://scihub.copernicus.eu/dhus/odata/v1/Products('21e2ff5e-566a-4837-8377-224bf007aee0')/Online/$value\n",
      "\n",
      "During handling of the above exception, another exception occurred:\n",
      "\n",
      "Traceback (most recent call last):\n",
      "  File \"/Users/buckley/opt/conda/envs/py39/lib/python3.9/site-packages/sentinelsat/download.py\", line 700, in _download_online_retry\n",
      "    return self.download(uuid, directory, stop_event=stop_event)\n",
      "  File \"/Users/buckley/opt/conda/envs/py39/lib/python3.9/site-packages/sentinelsat/download.py\", line 146, in download\n",
      "    if not self.api.is_online(id):\n",
      "  File \"/Users/buckley/opt/conda/envs/py39/lib/python3.9/site-packages/sentinelsat/sentinel.py\", line 541, in is_online\n",
      "    self._check_scihub_response(r)\n",
      "  File \"/Users/buckley/opt/conda/envs/py39/lib/python3.9/site-packages/sentinelsat/sentinel.py\", line 1063, in _check_scihub_response\n",
      "    raise ServerError(msg, response)\n",
      "sentinelsat.exceptions.ServerError: HTTP status 500 Internal Server Error: TransactionSystemException : Could not roll back Hibernate transaction; nested exception is org.hibernate.TransactionException: Unable to rollback against JDBC Connection\n",
      "1 retries left, retrying in 10 seconds...\n",
      "There was an error downloading S2B_MSIL1C_20200908T211039_N0209_R143_T10XDL_20200908T214607\n",
      "Traceback (most recent call last):\n",
      "  File \"/Users/buckley/opt/conda/envs/py39/lib/python3.9/site-packages/sentinelsat/sentinel.py\", line 1017, in _check_scihub_response\n",
      "    response.raise_for_status()\n",
      "  File \"/Users/buckley/opt/conda/envs/py39/lib/python3.9/site-packages/requests/models.py\", line 953, in raise_for_status\n",
      "    raise HTTPError(http_error_msg, response=self)\n",
      "requests.exceptions.HTTPError: 500 Server Error: Internal Server Error for url: https://scihub.copernicus.eu/dhus/odata/v1/Products('9f3d19eb-c530-4d23-b5f8-388aaae56e73')?$format=json\n",
      "\n",
      "During handling of the above exception, another exception occurred:\n",
      "\n",
      "Traceback (most recent call last):\n",
      "  File \"/Users/buckley/opt/conda/envs/py39/lib/python3.9/site-packages/sentinelsat/download.py\", line 700, in _download_online_retry\n",
      "    return self.download(uuid, directory, stop_event=stop_event)\n",
      "  File \"/Users/buckley/opt/conda/envs/py39/lib/python3.9/site-packages/sentinelsat/download.py\", line 135, in download\n",
      "    product_info = self.api.get_product_odata(id)\n",
      "  File \"/Users/buckley/opt/conda/envs/py39/lib/python3.9/site-packages/sentinelsat/sentinel.py\", line 511, in get_product_odata\n",
      "    self._check_scihub_response(response)\n",
      "  File \"/Users/buckley/opt/conda/envs/py39/lib/python3.9/site-packages/sentinelsat/sentinel.py\", line 1063, in _check_scihub_response\n",
      "    raise ServerError(msg, response)\n",
      "sentinelsat.exceptions.ServerError: HTTP status 500 Internal Server Error: Could not roll back Hibernate transaction; nested exception is org.hibernate.TransactionException: Unable to rollback against JDBC Connection\n",
      "1 retries left, retrying in 10 seconds...\n",
      "There was an error downloading S2B_MSIL1C_20200904T231129_N0209_R087_T08XNQ_20200910T091543\n",
      "Traceback (most recent call last):\n",
      "  File \"/Users/buckley/opt/conda/envs/py39/lib/python3.9/site-packages/sentinelsat/sentinel.py\", line 1017, in _check_scihub_response\n",
      "    response.raise_for_status()\n",
      "  File \"/Users/buckley/opt/conda/envs/py39/lib/python3.9/site-packages/requests/models.py\", line 953, in raise_for_status\n",
      "    raise HTTPError(http_error_msg, response=self)\n",
      "requests.exceptions.HTTPError: 500 Server Error: Internal Server Error for url: https://scihub.copernicus.eu/dhus/odata/v1/Products('16740d6d-01f5-475d-84db-7203a0960998')/$value\n",
      "\n",
      "During handling of the above exception, another exception occurred:\n",
      "\n",
      "Traceback (most recent call last):\n",
      "  File \"/Users/buckley/opt/conda/envs/py39/lib/python3.9/site-packages/sentinelsat/download.py\", line 700, in _download_online_retry\n",
      "    return self.download(uuid, directory, stop_event=stop_event)\n",
      "  File \"/Users/buckley/opt/conda/envs/py39/lib/python3.9/site-packages/sentinelsat/download.py\", line 136, in download\n",
      "    filename = self.api._get_filename(product_info)\n",
      "  File \"/Users/buckley/opt/conda/envs/py39/lib/python3.9/site-packages/sentinelsat/sentinel.py\", line 596, in _get_filename\n",
      "    self._check_scihub_response(req, test_json=False)\n",
      "  File \"/Users/buckley/opt/conda/envs/py39/lib/python3.9/site-packages/sentinelsat/sentinel.py\", line 1063, in _check_scihub_response\n",
      "    raise ServerError(msg, response)\n",
      "sentinelsat.exceptions.ServerError: HTTP status 500 Internal Server Error: TransactionSystemException : Could not roll back Hibernate transaction; nested exception is org.hibernate.TransactionException: Unable to rollback against JDBC Connection\n",
      "9 retries left, retrying in 10 seconds...\n",
      "Download will resume from existing incomplete file S2A_MSIL1C_20200927T205241_N0209_R057_T11XMH_20200927T230128.zip.incomplete.\n"
     ]
    },
    {
     "data": {
      "application/vnd.jupyter.widget-view+json": {
       "model_id": "7490687e606b4eab8c6b10b2ddb9c9dc",
       "version_major": 2,
       "version_minor": 0
      },
      "text/plain": [
       "Downloading S2A_MSIL1C_20200927T205241_N0209_R057_T11XMH_20200927T230128.zip:  10%|#         | 7.34M/72.0M [00…"
      ]
     },
     "metadata": {},
     "output_type": "display_data"
    },
    {
     "name": "stderr",
     "output_type": "stream",
     "text": [
      "There was an error downloading S2A_MSIL1C_20200927T205241_N0209_R057_T11XMH_20200927T230128\n",
      "Traceback (most recent call last):\n",
      "  File \"/Users/buckley/opt/conda/envs/py39/lib/python3.9/site-packages/sentinelsat/download.py\", line 700, in _download_online_retry\n",
      "    return self.download(uuid, directory, stop_event=stop_event)\n",
      "  File \"/Users/buckley/opt/conda/envs/py39/lib/python3.9/site-packages/sentinelsat/download.py\", line 150, in download\n",
      "    self._download_common(product_info, path, stop_event)\n",
      "  File \"/Users/buckley/opt/conda/envs/py39/lib/python3.9/site-packages/sentinelsat/download.py\", line 218, in _download_common\n",
      "    product_info[\"downloaded_bytes\"] = self._download(\n",
      "  File \"/Users/buckley/opt/conda/envs/py39/lib/python3.9/site-packages/sentinelsat/download.py\", line 754, in _download\n",
      "    f.write(chunk)\n",
      "OSError: [Errno 28] No space left on device\n",
      "2 retries left, retrying in 10 seconds...\n",
      "Download will resume from existing incomplete file S2B_MSIL1C_20200920T215209_N0209_R029_T10XDM_20200920T222901.zip.incomplete.\n",
      "Download will resume from existing incomplete file S2B_MSIL1C_20200908T211039_N0209_R143_T10XDL_20200908T214607.zip.incomplete.\n"
     ]
    },
    {
     "data": {
      "application/vnd.jupyter.widget-view+json": {
       "model_id": "e07f46ecbab74c31bc5c0094d9888857",
       "version_major": 2,
       "version_minor": 0
      },
      "text/plain": [
       "Downloading S2B_MSIL1C_20200920T215209_N0209_R029_T10XDM_20200920T222901.zip:  83%|########3 | 639M/769M [00:0…"
      ]
     },
     "metadata": {},
     "output_type": "display_data"
    },
    {
     "name": "stderr",
     "output_type": "stream",
     "text": [
      "There was an error downloading S2B_MSIL1C_20200920T215209_N0209_R029_T10XDM_20200920T222901\n",
      "Traceback (most recent call last):\n",
      "  File \"/Users/buckley/opt/conda/envs/py39/lib/python3.9/site-packages/sentinelsat/download.py\", line 700, in _download_online_retry\n",
      "    return self.download(uuid, directory, stop_event=stop_event)\n",
      "  File \"/Users/buckley/opt/conda/envs/py39/lib/python3.9/site-packages/sentinelsat/download.py\", line 150, in download\n",
      "    self._download_common(product_info, path, stop_event)\n",
      "  File \"/Users/buckley/opt/conda/envs/py39/lib/python3.9/site-packages/sentinelsat/download.py\", line 218, in _download_common\n",
      "    product_info[\"downloaded_bytes\"] = self._download(\n",
      "  File \"/Users/buckley/opt/conda/envs/py39/lib/python3.9/site-packages/sentinelsat/download.py\", line 754, in _download\n",
      "    f.write(chunk)\n",
      "OSError: [Errno 28] No space left on device\n",
      "Downloading S2B_MSIL1C_20200920T215209_N0209_R029_T10XDM_20200920T222901 failed. No retries left.\n",
      "21e2ff5e-566a-4837-8377-224bf007aee0 failed: Traceback (most recent call last):\n",
      "  File \"/Users/buckley/opt/conda/envs/py39/lib/python3.9/concurrent/futures/thread.py\", line 52, in run\n",
      "    result = self.fn(*self.args, **self.kwargs)\n",
      "  File \"/Users/buckley/opt/conda/envs/py39/lib/python3.9/site-packages/sentinelsat/download.py\", line 721, in _download_online_retry\n",
      "    raise last_exception\n",
      "  File \"/Users/buckley/opt/conda/envs/py39/lib/python3.9/site-packages/sentinelsat/download.py\", line 700, in _download_online_retry\n",
      "    return self.download(uuid, directory, stop_event=stop_event)\n",
      "  File \"/Users/buckley/opt/conda/envs/py39/lib/python3.9/site-packages/sentinelsat/download.py\", line 150, in download\n",
      "    self._download_common(product_info, path, stop_event)\n",
      "  File \"/Users/buckley/opt/conda/envs/py39/lib/python3.9/site-packages/sentinelsat/download.py\", line 218, in _download_common\n",
      "    product_info[\"downloaded_bytes\"] = self._download(\n",
      "  File \"/Users/buckley/opt/conda/envs/py39/lib/python3.9/site-packages/sentinelsat/download.py\", line 754, in _download\n",
      "    f.write(chunk)\n",
      "OSError: [Errno 28] No space left on device\n",
      "\n"
     ]
    },
    {
     "data": {
      "application/vnd.jupyter.widget-view+json": {
       "model_id": "8b9a035f64814b43880c8848e124e6fe",
       "version_major": 2,
       "version_minor": 0
      },
      "text/plain": [
       "Downloading S2B_MSIL1C_20200908T211039_N0209_R143_T10XDL_20200908T214607.zip:  12%|#2        | 93.3M/771M [00:…"
      ]
     },
     "metadata": {},
     "output_type": "display_data"
    },
    {
     "data": {
      "application/vnd.jupyter.widget-view+json": {
       "model_id": "4e61119197e14525a823c97277a5f074",
       "version_major": 2,
       "version_minor": 0
      },
      "text/plain": [
       "Downloading S2B_MSIL1C_20200904T231129_N0209_R087_T08XNQ_20200910T091543.zip:   0%|          | 0.00/626M [00:0…"
      ]
     },
     "metadata": {},
     "output_type": "display_data"
    },
    {
     "name": "stderr",
     "output_type": "stream",
     "text": [
      "There was an error downloading S2B_MSIL1C_20200904T231129_N0209_R087_T08XNQ_20200910T091543\n",
      "Traceback (most recent call last):\n",
      "  File \"/Users/buckley/opt/conda/envs/py39/lib/python3.9/site-packages/sentinelsat/download.py\", line 700, in _download_online_retry\n",
      "    return self.download(uuid, directory, stop_event=stop_event)\n",
      "  File \"/Users/buckley/opt/conda/envs/py39/lib/python3.9/site-packages/sentinelsat/download.py\", line 150, in download\n",
      "    self._download_common(product_info, path, stop_event)\n",
      "  File \"/Users/buckley/opt/conda/envs/py39/lib/python3.9/site-packages/sentinelsat/download.py\", line 218, in _download_common\n",
      "    product_info[\"downloaded_bytes\"] = self._download(\n",
      "  File \"/Users/buckley/opt/conda/envs/py39/lib/python3.9/site-packages/sentinelsat/download.py\", line 743, in _download\n",
      "    with open(path, mode) as f:\n",
      "OSError: [Errno 28] No space left on device: 'S2B_MSIL1C_20200904T231129_N0209_R087_T08XNQ_20200910T091543.zip.incomplete'\n",
      "8 retries left, retrying in 10 seconds...\n",
      "There was an error downloading S2B_MSIL1C_20200908T211039_N0209_R143_T10XDL_20200908T214607\n",
      "Traceback (most recent call last):\n",
      "  File \"/Users/buckley/opt/conda/envs/py39/lib/python3.9/site-packages/sentinelsat/download.py\", line 700, in _download_online_retry\n",
      "    return self.download(uuid, directory, stop_event=stop_event)\n",
      "  File \"/Users/buckley/opt/conda/envs/py39/lib/python3.9/site-packages/sentinelsat/download.py\", line 150, in download\n",
      "    self._download_common(product_info, path, stop_event)\n",
      "  File \"/Users/buckley/opt/conda/envs/py39/lib/python3.9/site-packages/sentinelsat/download.py\", line 218, in _download_common\n",
      "    product_info[\"downloaded_bytes\"] = self._download(\n",
      "  File \"/Users/buckley/opt/conda/envs/py39/lib/python3.9/site-packages/sentinelsat/download.py\", line 754, in _download\n",
      "    f.write(chunk)\n",
      "OSError: [Errno 28] No space left on device\n",
      "Downloading S2B_MSIL1C_20200908T211039_N0209_R143_T10XDL_20200908T214607 failed. No retries left.\n",
      "9f3d19eb-c530-4d23-b5f8-388aaae56e73 failed: Traceback (most recent call last):\n",
      "  File \"/Users/buckley/opt/conda/envs/py39/lib/python3.9/concurrent/futures/thread.py\", line 52, in run\n",
      "    result = self.fn(*self.args, **self.kwargs)\n",
      "  File \"/Users/buckley/opt/conda/envs/py39/lib/python3.9/site-packages/sentinelsat/download.py\", line 721, in _download_online_retry\n",
      "    raise last_exception\n",
      "  File \"/Users/buckley/opt/conda/envs/py39/lib/python3.9/site-packages/sentinelsat/download.py\", line 700, in _download_online_retry\n",
      "    return self.download(uuid, directory, stop_event=stop_event)\n",
      "  File \"/Users/buckley/opt/conda/envs/py39/lib/python3.9/site-packages/sentinelsat/download.py\", line 150, in download\n",
      "    self._download_common(product_info, path, stop_event)\n",
      "  File \"/Users/buckley/opt/conda/envs/py39/lib/python3.9/site-packages/sentinelsat/download.py\", line 218, in _download_common\n",
      "    product_info[\"downloaded_bytes\"] = self._download(\n",
      "  File \"/Users/buckley/opt/conda/envs/py39/lib/python3.9/site-packages/sentinelsat/download.py\", line 754, in _download\n",
      "    f.write(chunk)\n",
      "OSError: [Errno 28] No space left on device\n",
      "\n",
      "Download will resume from existing incomplete file S2A_MSIL1C_20200927T205241_N0209_R057_T11XMH_20200927T230128.zip.incomplete.\n"
     ]
    },
    {
     "data": {
      "application/vnd.jupyter.widget-view+json": {
       "model_id": "90becf8970e54df88cbf0c533e5c625c",
       "version_major": 2,
       "version_minor": 0
      },
      "text/plain": [
       "Downloading S2B_MSIL1C_20200916T184939_N0209_R113_T21XWM_20200916T203815.zip:   0%|          | 0.00/592M [00:0…"
      ]
     },
     "metadata": {},
     "output_type": "display_data"
    },
    {
     "name": "stderr",
     "output_type": "stream",
     "text": [
      "There was an error downloading S2B_MSIL1C_20200916T184939_N0209_R113_T21XWM_20200916T203815\n",
      "Traceback (most recent call last):\n",
      "  File \"/Users/buckley/opt/conda/envs/py39/lib/python3.9/site-packages/sentinelsat/download.py\", line 700, in _download_online_retry\n",
      "    return self.download(uuid, directory, stop_event=stop_event)\n",
      "  File \"/Users/buckley/opt/conda/envs/py39/lib/python3.9/site-packages/sentinelsat/download.py\", line 150, in download\n",
      "    self._download_common(product_info, path, stop_event)\n",
      "  File \"/Users/buckley/opt/conda/envs/py39/lib/python3.9/site-packages/sentinelsat/download.py\", line 218, in _download_common\n",
      "    product_info[\"downloaded_bytes\"] = self._download(\n",
      "  File \"/Users/buckley/opt/conda/envs/py39/lib/python3.9/site-packages/sentinelsat/download.py\", line 743, in _download\n",
      "    with open(path, mode) as f:\n",
      "OSError: [Errno 28] No space left on device: 'S2B_MSIL1C_20200916T184939_N0209_R113_T21XWM_20200916T203815.zip.incomplete'\n",
      "9 retries left, retrying in 10 seconds...\n"
     ]
    },
    {
     "data": {
      "application/vnd.jupyter.widget-view+json": {
       "model_id": "1eb1b1de1423431cb46acc3358461d95",
       "version_major": 2,
       "version_minor": 0
      },
      "text/plain": [
       "Downloading S2A_MSIL1C_20200927T205241_N0209_R057_T11XMH_20200927T230128.zip:  10%|#         | 7.34M/72.0M [00…"
      ]
     },
     "metadata": {},
     "output_type": "display_data"
    },
    {
     "data": {
      "application/vnd.jupyter.widget-view+json": {
       "model_id": "ecbb407bab9044e1bd647bb026f2b257",
       "version_major": 2,
       "version_minor": 0
      },
      "text/plain": [
       "Downloading S2B_MSIL1C_20200917T232229_N0209_R130_T08XNP_20200918T010608.zip:   0%|          | 0.00/775M [00:0…"
      ]
     },
     "metadata": {},
     "output_type": "display_data"
    },
    {
     "name": "stderr",
     "output_type": "stream",
     "text": [
      "There was an error downloading S2B_MSIL1C_20200917T232229_N0209_R130_T08XNP_20200918T010608\n",
      "Traceback (most recent call last):\n",
      "  File \"/Users/buckley/opt/conda/envs/py39/lib/python3.9/site-packages/sentinelsat/download.py\", line 700, in _download_online_retry\n",
      "    return self.download(uuid, directory, stop_event=stop_event)\n",
      "  File \"/Users/buckley/opt/conda/envs/py39/lib/python3.9/site-packages/sentinelsat/download.py\", line 150, in download\n",
      "    self._download_common(product_info, path, stop_event)\n",
      "  File \"/Users/buckley/opt/conda/envs/py39/lib/python3.9/site-packages/sentinelsat/download.py\", line 218, in _download_common\n",
      "    product_info[\"downloaded_bytes\"] = self._download(\n",
      "  File \"/Users/buckley/opt/conda/envs/py39/lib/python3.9/site-packages/sentinelsat/download.py\", line 743, in _download\n",
      "    with open(path, mode) as f:\n",
      "OSError: [Errno 28] No space left on device: 'S2B_MSIL1C_20200917T232229_N0209_R130_T08XNP_20200918T010608.zip.incomplete'\n",
      "9 retries left, retrying in 10 seconds...\n",
      "There was an error downloading S2A_MSIL1C_20200927T205241_N0209_R057_T11XMH_20200927T230128\n",
      "Traceback (most recent call last):\n",
      "  File \"/Users/buckley/opt/conda/envs/py39/lib/python3.9/site-packages/sentinelsat/download.py\", line 700, in _download_online_retry\n",
      "    return self.download(uuid, directory, stop_event=stop_event)\n",
      "  File \"/Users/buckley/opt/conda/envs/py39/lib/python3.9/site-packages/sentinelsat/download.py\", line 150, in download\n",
      "    self._download_common(product_info, path, stop_event)\n",
      "  File \"/Users/buckley/opt/conda/envs/py39/lib/python3.9/site-packages/sentinelsat/download.py\", line 218, in _download_common\n",
      "    product_info[\"downloaded_bytes\"] = self._download(\n",
      "  File \"/Users/buckley/opt/conda/envs/py39/lib/python3.9/site-packages/sentinelsat/download.py\", line 754, in _download\n",
      "    f.write(chunk)\n",
      "OSError: [Errno 28] No space left on device\n",
      "1 retries left, retrying in 10 seconds...\n"
     ]
    },
    {
     "data": {
      "application/vnd.jupyter.widget-view+json": {
       "model_id": "223d55fe697f481d9c4d256660a8610d",
       "version_major": 2,
       "version_minor": 0
      },
      "text/plain": [
       "Downloading S2B_MSIL1C_20200904T231129_N0209_R087_T08XNQ_20200910T091543.zip:   0%|          | 0.00/626M [00:0…"
      ]
     },
     "metadata": {},
     "output_type": "display_data"
    },
    {
     "name": "stderr",
     "output_type": "stream",
     "text": [
      "There was an error downloading S2B_MSIL1C_20200904T231129_N0209_R087_T08XNQ_20200910T091543\n",
      "Traceback (most recent call last):\n",
      "  File \"/Users/buckley/opt/conda/envs/py39/lib/python3.9/site-packages/sentinelsat/download.py\", line 700, in _download_online_retry\n",
      "    return self.download(uuid, directory, stop_event=stop_event)\n",
      "  File \"/Users/buckley/opt/conda/envs/py39/lib/python3.9/site-packages/sentinelsat/download.py\", line 150, in download\n",
      "    self._download_common(product_info, path, stop_event)\n",
      "  File \"/Users/buckley/opt/conda/envs/py39/lib/python3.9/site-packages/sentinelsat/download.py\", line 218, in _download_common\n",
      "    product_info[\"downloaded_bytes\"] = self._download(\n",
      "  File \"/Users/buckley/opt/conda/envs/py39/lib/python3.9/site-packages/sentinelsat/download.py\", line 743, in _download\n",
      "    with open(path, mode) as f:\n",
      "OSError: [Errno 28] No space left on device: 'S2B_MSIL1C_20200904T231129_N0209_R087_T08XNQ_20200910T091543.zip.incomplete'\n",
      "7 retries left, retrying in 10 seconds...\n"
     ]
    },
    {
     "ename": "KeyboardInterrupt",
     "evalue": "",
     "output_type": "error",
     "traceback": [
      "\u001b[0;31m---------------------------------------------------------------------------\u001b[0m",
      "\u001b[0;31mKeyboardInterrupt\u001b[0m                         Traceback (most recent call last)",
      "\u001b[0;32m~/opt/conda/envs/py39/lib/python3.9/site-packages/sentinelsat/download.py\u001b[0m in \u001b[0;36mdownload_all\u001b[0;34m(self, products, directory)\u001b[0m\n\u001b[1;32m    328\u001b[0m \u001b[0;34m\u001b[0m\u001b[0m\n\u001b[0;32m--> 329\u001b[0;31m             \u001b[0;32mfor\u001b[0m \u001b[0mtask\u001b[0m \u001b[0;32min\u001b[0m \u001b[0mconcurrent\u001b[0m\u001b[0;34m.\u001b[0m\u001b[0mfutures\u001b[0m\u001b[0;34m.\u001b[0m\u001b[0mas_completed\u001b[0m\u001b[0;34m(\u001b[0m\u001b[0mlist\u001b[0m\u001b[0;34m(\u001b[0m\u001b[0mtrigger_tasks\u001b[0m\u001b[0;34m)\u001b[0m \u001b[0;34m+\u001b[0m \u001b[0mlist\u001b[0m\u001b[0;34m(\u001b[0m\u001b[0mdl_tasks\u001b[0m\u001b[0;34m)\u001b[0m\u001b[0;34m)\u001b[0m\u001b[0;34m:\u001b[0m\u001b[0;34m\u001b[0m\u001b[0;34m\u001b[0m\u001b[0m\n\u001b[0m\u001b[1;32m    330\u001b[0m                 \u001b[0mpid\u001b[0m \u001b[0;34m=\u001b[0m \u001b[0mtrigger_tasks\u001b[0m\u001b[0;34m.\u001b[0m\u001b[0mget\u001b[0m\u001b[0;34m(\u001b[0m\u001b[0mtask\u001b[0m\u001b[0;34m)\u001b[0m \u001b[0;32mor\u001b[0m \u001b[0mdl_tasks\u001b[0m\u001b[0;34m[\u001b[0m\u001b[0mtask\u001b[0m\u001b[0;34m]\u001b[0m\u001b[0;34m\u001b[0m\u001b[0;34m\u001b[0m\u001b[0m\n",
      "\u001b[0;32m~/opt/conda/envs/py39/lib/python3.9/concurrent/futures/_base.py\u001b[0m in \u001b[0;36mas_completed\u001b[0;34m(fs, timeout)\u001b[0m\n\u001b[1;32m    244\u001b[0m \u001b[0;34m\u001b[0m\u001b[0m\n\u001b[0;32m--> 245\u001b[0;31m             \u001b[0mwaiter\u001b[0m\u001b[0;34m.\u001b[0m\u001b[0mevent\u001b[0m\u001b[0;34m.\u001b[0m\u001b[0mwait\u001b[0m\u001b[0;34m(\u001b[0m\u001b[0mwait_timeout\u001b[0m\u001b[0;34m)\u001b[0m\u001b[0;34m\u001b[0m\u001b[0;34m\u001b[0m\u001b[0m\n\u001b[0m\u001b[1;32m    246\u001b[0m \u001b[0;34m\u001b[0m\u001b[0m\n",
      "\u001b[0;32m~/opt/conda/envs/py39/lib/python3.9/threading.py\u001b[0m in \u001b[0;36mwait\u001b[0;34m(self, timeout)\u001b[0m\n\u001b[1;32m    573\u001b[0m             \u001b[0;32mif\u001b[0m \u001b[0;32mnot\u001b[0m \u001b[0msignaled\u001b[0m\u001b[0;34m:\u001b[0m\u001b[0;34m\u001b[0m\u001b[0;34m\u001b[0m\u001b[0m\n\u001b[0;32m--> 574\u001b[0;31m                 \u001b[0msignaled\u001b[0m \u001b[0;34m=\u001b[0m \u001b[0mself\u001b[0m\u001b[0;34m.\u001b[0m\u001b[0m_cond\u001b[0m\u001b[0;34m.\u001b[0m\u001b[0mwait\u001b[0m\u001b[0;34m(\u001b[0m\u001b[0mtimeout\u001b[0m\u001b[0;34m)\u001b[0m\u001b[0;34m\u001b[0m\u001b[0;34m\u001b[0m\u001b[0m\n\u001b[0m\u001b[1;32m    575\u001b[0m             \u001b[0;32mreturn\u001b[0m \u001b[0msignaled\u001b[0m\u001b[0;34m\u001b[0m\u001b[0;34m\u001b[0m\u001b[0m\n",
      "\u001b[0;32m~/opt/conda/envs/py39/lib/python3.9/threading.py\u001b[0m in \u001b[0;36mwait\u001b[0;34m(self, timeout)\u001b[0m\n\u001b[1;32m    311\u001b[0m             \u001b[0;32mif\u001b[0m \u001b[0mtimeout\u001b[0m \u001b[0;32mis\u001b[0m \u001b[0;32mNone\u001b[0m\u001b[0;34m:\u001b[0m\u001b[0;34m\u001b[0m\u001b[0;34m\u001b[0m\u001b[0m\n\u001b[0;32m--> 312\u001b[0;31m                 \u001b[0mwaiter\u001b[0m\u001b[0;34m.\u001b[0m\u001b[0macquire\u001b[0m\u001b[0;34m(\u001b[0m\u001b[0;34m)\u001b[0m\u001b[0;34m\u001b[0m\u001b[0;34m\u001b[0m\u001b[0m\n\u001b[0m\u001b[1;32m    313\u001b[0m                 \u001b[0mgotit\u001b[0m \u001b[0;34m=\u001b[0m \u001b[0;32mTrue\u001b[0m\u001b[0;34m\u001b[0m\u001b[0;34m\u001b[0m\u001b[0m\n",
      "\u001b[0;31mKeyboardInterrupt\u001b[0m: ",
      "\nDuring handling of the above exception, another exception occurred:\n",
      "\u001b[0;31mKeyboardInterrupt\u001b[0m                         Traceback (most recent call last)",
      "\u001b[0;32m/var/folders/y4/08xlrtkj0f11yqwtgkky7md00000gp/T/ipykernel_2772/2575353248.py\u001b[0m in \u001b[0;36m<module>\u001b[0;34m\u001b[0m\n\u001b[1;32m     23\u001b[0m \u001b[0;31m#print(products)\u001b[0m\u001b[0;34m\u001b[0m\u001b[0;34m\u001b[0m\u001b[0m\n\u001b[1;32m     24\u001b[0m \u001b[0mproducts_df\u001b[0m \u001b[0;34m=\u001b[0m \u001b[0mapi\u001b[0m\u001b[0;34m.\u001b[0m\u001b[0mto_dataframe\u001b[0m\u001b[0;34m(\u001b[0m\u001b[0mproducts\u001b[0m\u001b[0;34m)\u001b[0m\u001b[0;34m\u001b[0m\u001b[0;34m\u001b[0m\u001b[0m\n\u001b[0;32m---> 25\u001b[0;31m \u001b[0mdownloaded\u001b[0m\u001b[0;34m,\u001b[0m \u001b[0mtriggered\u001b[0m\u001b[0;34m,\u001b[0m \u001b[0mfailed\u001b[0m \u001b[0;34m=\u001b[0m \u001b[0mdownload_all\u001b[0m\u001b[0;34m(\u001b[0m\u001b[0mproducts\u001b[0m\u001b[0;34m)\u001b[0m\u001b[0;34m\u001b[0m\u001b[0;34m\u001b[0m\u001b[0m\n\u001b[0m",
      "\u001b[0;32m~/opt/conda/envs/py39/lib/python3.9/site-packages/tenacity/__init__.py\u001b[0m in \u001b[0;36mwrapped_f\u001b[0;34m(*args, **kw)\u001b[0m\n\u001b[1;32m    322\u001b[0m         \u001b[0;34m@\u001b[0m\u001b[0mfunctools\u001b[0m\u001b[0;34m.\u001b[0m\u001b[0mwraps\u001b[0m\u001b[0;34m(\u001b[0m\u001b[0mf\u001b[0m\u001b[0;34m)\u001b[0m\u001b[0;34m\u001b[0m\u001b[0;34m\u001b[0m\u001b[0m\n\u001b[1;32m    323\u001b[0m         \u001b[0;32mdef\u001b[0m \u001b[0mwrapped_f\u001b[0m\u001b[0;34m(\u001b[0m\u001b[0;34m*\u001b[0m\u001b[0margs\u001b[0m\u001b[0;34m:\u001b[0m \u001b[0mt\u001b[0m\u001b[0;34m.\u001b[0m\u001b[0mAny\u001b[0m\u001b[0;34m,\u001b[0m \u001b[0;34m**\u001b[0m\u001b[0mkw\u001b[0m\u001b[0;34m:\u001b[0m \u001b[0mt\u001b[0m\u001b[0;34m.\u001b[0m\u001b[0mAny\u001b[0m\u001b[0;34m)\u001b[0m \u001b[0;34m->\u001b[0m \u001b[0mt\u001b[0m\u001b[0;34m.\u001b[0m\u001b[0mAny\u001b[0m\u001b[0;34m:\u001b[0m\u001b[0;34m\u001b[0m\u001b[0;34m\u001b[0m\u001b[0m\n\u001b[0;32m--> 324\u001b[0;31m             \u001b[0;32mreturn\u001b[0m \u001b[0mself\u001b[0m\u001b[0;34m(\u001b[0m\u001b[0mf\u001b[0m\u001b[0;34m,\u001b[0m \u001b[0;34m*\u001b[0m\u001b[0margs\u001b[0m\u001b[0;34m,\u001b[0m \u001b[0;34m**\u001b[0m\u001b[0mkw\u001b[0m\u001b[0;34m)\u001b[0m\u001b[0;34m\u001b[0m\u001b[0;34m\u001b[0m\u001b[0m\n\u001b[0m\u001b[1;32m    325\u001b[0m \u001b[0;34m\u001b[0m\u001b[0m\n\u001b[1;32m    326\u001b[0m         \u001b[0;32mdef\u001b[0m \u001b[0mretry_with\u001b[0m\u001b[0;34m(\u001b[0m\u001b[0;34m*\u001b[0m\u001b[0margs\u001b[0m\u001b[0;34m:\u001b[0m \u001b[0mt\u001b[0m\u001b[0;34m.\u001b[0m\u001b[0mAny\u001b[0m\u001b[0;34m,\u001b[0m \u001b[0;34m**\u001b[0m\u001b[0mkwargs\u001b[0m\u001b[0;34m:\u001b[0m \u001b[0mt\u001b[0m\u001b[0;34m.\u001b[0m\u001b[0mAny\u001b[0m\u001b[0;34m)\u001b[0m \u001b[0;34m->\u001b[0m \u001b[0mWrappedFn\u001b[0m\u001b[0;34m:\u001b[0m\u001b[0;34m\u001b[0m\u001b[0;34m\u001b[0m\u001b[0m\n",
      "\u001b[0;32m~/opt/conda/envs/py39/lib/python3.9/site-packages/tenacity/__init__.py\u001b[0m in \u001b[0;36m__call__\u001b[0;34m(self, fn, *args, **kwargs)\u001b[0m\n\u001b[1;32m    402\u001b[0m         \u001b[0mretry_state\u001b[0m \u001b[0;34m=\u001b[0m \u001b[0mRetryCallState\u001b[0m\u001b[0;34m(\u001b[0m\u001b[0mretry_object\u001b[0m\u001b[0;34m=\u001b[0m\u001b[0mself\u001b[0m\u001b[0;34m,\u001b[0m \u001b[0mfn\u001b[0m\u001b[0;34m=\u001b[0m\u001b[0mfn\u001b[0m\u001b[0;34m,\u001b[0m \u001b[0margs\u001b[0m\u001b[0;34m=\u001b[0m\u001b[0margs\u001b[0m\u001b[0;34m,\u001b[0m \u001b[0mkwargs\u001b[0m\u001b[0;34m=\u001b[0m\u001b[0mkwargs\u001b[0m\u001b[0;34m)\u001b[0m\u001b[0;34m\u001b[0m\u001b[0;34m\u001b[0m\u001b[0m\n\u001b[1;32m    403\u001b[0m         \u001b[0;32mwhile\u001b[0m \u001b[0;32mTrue\u001b[0m\u001b[0;34m:\u001b[0m\u001b[0;34m\u001b[0m\u001b[0;34m\u001b[0m\u001b[0m\n\u001b[0;32m--> 404\u001b[0;31m             \u001b[0mdo\u001b[0m \u001b[0;34m=\u001b[0m \u001b[0mself\u001b[0m\u001b[0;34m.\u001b[0m\u001b[0miter\u001b[0m\u001b[0;34m(\u001b[0m\u001b[0mretry_state\u001b[0m\u001b[0;34m=\u001b[0m\u001b[0mretry_state\u001b[0m\u001b[0;34m)\u001b[0m\u001b[0;34m\u001b[0m\u001b[0;34m\u001b[0m\u001b[0m\n\u001b[0m\u001b[1;32m    405\u001b[0m             \u001b[0;32mif\u001b[0m \u001b[0misinstance\u001b[0m\u001b[0;34m(\u001b[0m\u001b[0mdo\u001b[0m\u001b[0;34m,\u001b[0m \u001b[0mDoAttempt\u001b[0m\u001b[0;34m)\u001b[0m\u001b[0;34m:\u001b[0m\u001b[0;34m\u001b[0m\u001b[0;34m\u001b[0m\u001b[0m\n\u001b[1;32m    406\u001b[0m                 \u001b[0;32mtry\u001b[0m\u001b[0;34m:\u001b[0m\u001b[0;34m\u001b[0m\u001b[0;34m\u001b[0m\u001b[0m\n",
      "\u001b[0;32m~/opt/conda/envs/py39/lib/python3.9/site-packages/tenacity/__init__.py\u001b[0m in \u001b[0;36miter\u001b[0;34m(self, retry_state)\u001b[0m\n\u001b[1;32m    347\u001b[0m         \u001b[0mis_explicit_retry\u001b[0m \u001b[0;34m=\u001b[0m \u001b[0mretry_state\u001b[0m\u001b[0;34m.\u001b[0m\u001b[0moutcome\u001b[0m\u001b[0;34m.\u001b[0m\u001b[0mfailed\u001b[0m \u001b[0;32mand\u001b[0m \u001b[0misinstance\u001b[0m\u001b[0;34m(\u001b[0m\u001b[0mretry_state\u001b[0m\u001b[0;34m.\u001b[0m\u001b[0moutcome\u001b[0m\u001b[0;34m.\u001b[0m\u001b[0mexception\u001b[0m\u001b[0;34m(\u001b[0m\u001b[0;34m)\u001b[0m\u001b[0;34m,\u001b[0m \u001b[0mTryAgain\u001b[0m\u001b[0;34m)\u001b[0m\u001b[0;34m\u001b[0m\u001b[0;34m\u001b[0m\u001b[0m\n\u001b[1;32m    348\u001b[0m         \u001b[0;32mif\u001b[0m \u001b[0;32mnot\u001b[0m \u001b[0;34m(\u001b[0m\u001b[0mis_explicit_retry\u001b[0m \u001b[0;32mor\u001b[0m \u001b[0mself\u001b[0m\u001b[0;34m.\u001b[0m\u001b[0mretry\u001b[0m\u001b[0;34m(\u001b[0m\u001b[0mretry_state\u001b[0m\u001b[0;34m=\u001b[0m\u001b[0mretry_state\u001b[0m\u001b[0;34m)\u001b[0m\u001b[0;34m)\u001b[0m\u001b[0;34m:\u001b[0m\u001b[0;34m\u001b[0m\u001b[0;34m\u001b[0m\u001b[0m\n\u001b[0;32m--> 349\u001b[0;31m             \u001b[0;32mreturn\u001b[0m \u001b[0mfut\u001b[0m\u001b[0;34m.\u001b[0m\u001b[0mresult\u001b[0m\u001b[0;34m(\u001b[0m\u001b[0;34m)\u001b[0m\u001b[0;34m\u001b[0m\u001b[0;34m\u001b[0m\u001b[0m\n\u001b[0m\u001b[1;32m    350\u001b[0m \u001b[0;34m\u001b[0m\u001b[0m\n\u001b[1;32m    351\u001b[0m         \u001b[0;32mif\u001b[0m \u001b[0mself\u001b[0m\u001b[0;34m.\u001b[0m\u001b[0mafter\u001b[0m \u001b[0;32mis\u001b[0m \u001b[0;32mnot\u001b[0m \u001b[0;32mNone\u001b[0m\u001b[0;34m:\u001b[0m\u001b[0;34m\u001b[0m\u001b[0;34m\u001b[0m\u001b[0m\n",
      "\u001b[0;32m~/opt/conda/envs/py39/lib/python3.9/concurrent/futures/_base.py\u001b[0m in \u001b[0;36mresult\u001b[0;34m(self, timeout)\u001b[0m\n\u001b[1;32m    436\u001b[0m                     \u001b[0;32mraise\u001b[0m \u001b[0mCancelledError\u001b[0m\u001b[0;34m(\u001b[0m\u001b[0;34m)\u001b[0m\u001b[0;34m\u001b[0m\u001b[0;34m\u001b[0m\u001b[0m\n\u001b[1;32m    437\u001b[0m                 \u001b[0;32melif\u001b[0m \u001b[0mself\u001b[0m\u001b[0;34m.\u001b[0m\u001b[0m_state\u001b[0m \u001b[0;34m==\u001b[0m \u001b[0mFINISHED\u001b[0m\u001b[0;34m:\u001b[0m\u001b[0;34m\u001b[0m\u001b[0;34m\u001b[0m\u001b[0m\n\u001b[0;32m--> 438\u001b[0;31m                     \u001b[0;32mreturn\u001b[0m \u001b[0mself\u001b[0m\u001b[0;34m.\u001b[0m\u001b[0m__get_result\u001b[0m\u001b[0;34m(\u001b[0m\u001b[0;34m)\u001b[0m\u001b[0;34m\u001b[0m\u001b[0;34m\u001b[0m\u001b[0m\n\u001b[0m\u001b[1;32m    439\u001b[0m \u001b[0;34m\u001b[0m\u001b[0m\n\u001b[1;32m    440\u001b[0m                 \u001b[0mself\u001b[0m\u001b[0;34m.\u001b[0m\u001b[0m_condition\u001b[0m\u001b[0;34m.\u001b[0m\u001b[0mwait\u001b[0m\u001b[0;34m(\u001b[0m\u001b[0mtimeout\u001b[0m\u001b[0;34m)\u001b[0m\u001b[0;34m\u001b[0m\u001b[0;34m\u001b[0m\u001b[0m\n",
      "\u001b[0;32m~/opt/conda/envs/py39/lib/python3.9/concurrent/futures/_base.py\u001b[0m in \u001b[0;36m__get_result\u001b[0;34m(self)\u001b[0m\n\u001b[1;32m    388\u001b[0m         \u001b[0;32mif\u001b[0m \u001b[0mself\u001b[0m\u001b[0;34m.\u001b[0m\u001b[0m_exception\u001b[0m\u001b[0;34m:\u001b[0m\u001b[0;34m\u001b[0m\u001b[0;34m\u001b[0m\u001b[0m\n\u001b[1;32m    389\u001b[0m             \u001b[0;32mtry\u001b[0m\u001b[0;34m:\u001b[0m\u001b[0;34m\u001b[0m\u001b[0;34m\u001b[0m\u001b[0m\n\u001b[0;32m--> 390\u001b[0;31m                 \u001b[0;32mraise\u001b[0m \u001b[0mself\u001b[0m\u001b[0;34m.\u001b[0m\u001b[0m_exception\u001b[0m\u001b[0;34m\u001b[0m\u001b[0;34m\u001b[0m\u001b[0m\n\u001b[0m\u001b[1;32m    391\u001b[0m             \u001b[0;32mfinally\u001b[0m\u001b[0;34m:\u001b[0m\u001b[0;34m\u001b[0m\u001b[0;34m\u001b[0m\u001b[0m\n\u001b[1;32m    392\u001b[0m                 \u001b[0;31m# Break a reference cycle with the exception in self._exception\u001b[0m\u001b[0;34m\u001b[0m\u001b[0;34m\u001b[0m\u001b[0m\n",
      "\u001b[0;32m~/opt/conda/envs/py39/lib/python3.9/site-packages/tenacity/__init__.py\u001b[0m in \u001b[0;36m__call__\u001b[0;34m(self, fn, *args, **kwargs)\u001b[0m\n\u001b[1;32m    405\u001b[0m             \u001b[0;32mif\u001b[0m \u001b[0misinstance\u001b[0m\u001b[0;34m(\u001b[0m\u001b[0mdo\u001b[0m\u001b[0;34m,\u001b[0m \u001b[0mDoAttempt\u001b[0m\u001b[0;34m)\u001b[0m\u001b[0;34m:\u001b[0m\u001b[0;34m\u001b[0m\u001b[0;34m\u001b[0m\u001b[0m\n\u001b[1;32m    406\u001b[0m                 \u001b[0;32mtry\u001b[0m\u001b[0;34m:\u001b[0m\u001b[0;34m\u001b[0m\u001b[0;34m\u001b[0m\u001b[0m\n\u001b[0;32m--> 407\u001b[0;31m                     \u001b[0mresult\u001b[0m \u001b[0;34m=\u001b[0m \u001b[0mfn\u001b[0m\u001b[0;34m(\u001b[0m\u001b[0;34m*\u001b[0m\u001b[0margs\u001b[0m\u001b[0;34m,\u001b[0m \u001b[0;34m**\u001b[0m\u001b[0mkwargs\u001b[0m\u001b[0;34m)\u001b[0m\u001b[0;34m\u001b[0m\u001b[0;34m\u001b[0m\u001b[0m\n\u001b[0m\u001b[1;32m    408\u001b[0m                 \u001b[0;32mexcept\u001b[0m \u001b[0mBaseException\u001b[0m\u001b[0;34m:\u001b[0m  \u001b[0;31m# noqa: B902\u001b[0m\u001b[0;34m\u001b[0m\u001b[0;34m\u001b[0m\u001b[0m\n\u001b[1;32m    409\u001b[0m                     \u001b[0mretry_state\u001b[0m\u001b[0;34m.\u001b[0m\u001b[0mset_exception\u001b[0m\u001b[0;34m(\u001b[0m\u001b[0msys\u001b[0m\u001b[0;34m.\u001b[0m\u001b[0mexc_info\u001b[0m\u001b[0;34m(\u001b[0m\u001b[0;34m)\u001b[0m\u001b[0;34m)\u001b[0m\u001b[0;34m\u001b[0m\u001b[0;34m\u001b[0m\u001b[0m\n",
      "\u001b[0;32m/var/folders/y4/08xlrtkj0f11yqwtgkky7md00000gp/T/ipykernel_2772/2575353248.py\u001b[0m in \u001b[0;36mdownload_all\u001b[0;34m(*args, **kwargs)\u001b[0m\n\u001b[1;32m     13\u001b[0m                 (900))\n\u001b[1;32m     14\u001b[0m \u001b[0;32mdef\u001b[0m \u001b[0mdownload_all\u001b[0m\u001b[0;34m(\u001b[0m\u001b[0;34m*\u001b[0m\u001b[0margs\u001b[0m\u001b[0;34m,\u001b[0m \u001b[0;34m**\u001b[0m\u001b[0mkwargs\u001b[0m\u001b[0;34m)\u001b[0m\u001b[0;34m:\u001b[0m\u001b[0;34m\u001b[0m\u001b[0;34m\u001b[0m\u001b[0m\n\u001b[0;32m---> 15\u001b[0;31m     \u001b[0;32mreturn\u001b[0m \u001b[0mapi\u001b[0m\u001b[0;34m.\u001b[0m\u001b[0mdownload_all\u001b[0m\u001b[0;34m(\u001b[0m\u001b[0;34m*\u001b[0m\u001b[0margs\u001b[0m\u001b[0;34m,\u001b[0m \u001b[0;34m**\u001b[0m\u001b[0mkwargs\u001b[0m\u001b[0;34m)\u001b[0m\u001b[0;34m\u001b[0m\u001b[0;34m\u001b[0m\u001b[0m\n\u001b[0m\u001b[1;32m     16\u001b[0m \u001b[0;31m# search by polygon, time, and SciHub query keywords\u001b[0m\u001b[0;34m\u001b[0m\u001b[0;34m\u001b[0m\u001b[0m\n\u001b[1;32m     17\u001b[0m \u001b[0mfootprint\u001b[0m \u001b[0;34m=\u001b[0m \u001b[0mgeojson_to_wkt\u001b[0m\u001b[0;34m(\u001b[0m\u001b[0mread_geojson\u001b[0m\u001b[0;34m(\u001b[0m\u001b[0;34m'/Users/buckley/Documents/ANALYSIS/MYIRegion2020.geojson'\u001b[0m\u001b[0;34m)\u001b[0m\u001b[0;34m)\u001b[0m\u001b[0;34m\u001b[0m\u001b[0;34m\u001b[0m\u001b[0m\n",
      "\u001b[0;32m~/opt/conda/envs/py39/lib/python3.9/site-packages/sentinelsat/sentinel.py\u001b[0m in \u001b[0;36mdownload_all\u001b[0;34m(self, products, directory_path, max_attempts, checksum, n_concurrent_dl, lta_retry_delay, fail_fast, nodefilter)\u001b[0m\n\u001b[1;32m    713\u001b[0m             \u001b[0mdownloader\u001b[0m\u001b[0;34m.\u001b[0m\u001b[0mlta_retry_delay\u001b[0m \u001b[0;34m=\u001b[0m \u001b[0mlta_retry_delay\u001b[0m\u001b[0;34m\u001b[0m\u001b[0;34m\u001b[0m\u001b[0m\n\u001b[1;32m    714\u001b[0m         \u001b[0mdownloader\u001b[0m\u001b[0;34m.\u001b[0m\u001b[0mnode_filter\u001b[0m \u001b[0;34m=\u001b[0m \u001b[0mnodefilter\u001b[0m\u001b[0;34m\u001b[0m\u001b[0;34m\u001b[0m\u001b[0m\n\u001b[0;32m--> 715\u001b[0;31m         \u001b[0mstatuses\u001b[0m\u001b[0;34m,\u001b[0m \u001b[0mexceptions\u001b[0m\u001b[0;34m,\u001b[0m \u001b[0mproduct_infos\u001b[0m \u001b[0;34m=\u001b[0m \u001b[0mdownloader\u001b[0m\u001b[0;34m.\u001b[0m\u001b[0mdownload_all\u001b[0m\u001b[0;34m(\u001b[0m\u001b[0mproducts\u001b[0m\u001b[0;34m,\u001b[0m \u001b[0mdirectory_path\u001b[0m\u001b[0;34m)\u001b[0m\u001b[0;34m\u001b[0m\u001b[0;34m\u001b[0m\u001b[0m\n\u001b[0m\u001b[1;32m    716\u001b[0m \u001b[0;34m\u001b[0m\u001b[0m\n\u001b[1;32m    717\u001b[0m         \u001b[0;31m# Adapt results to the old download_all() API\u001b[0m\u001b[0;34m\u001b[0m\u001b[0;34m\u001b[0m\u001b[0m\n",
      "\u001b[0;32m~/opt/conda/envs/py39/lib/python3.9/site-packages/sentinelsat/download.py\u001b[0m in \u001b[0;36mdownload_all\u001b[0;34m(self, products, directory)\u001b[0m\n\u001b[1;32m    360\u001b[0m             \u001b[0;32mraise\u001b[0m\u001b[0;34m\u001b[0m\u001b[0;34m\u001b[0m\u001b[0m\n\u001b[1;32m    361\u001b[0m         \u001b[0;32mfinally\u001b[0m\u001b[0;34m:\u001b[0m\u001b[0;34m\u001b[0m\u001b[0;34m\u001b[0m\u001b[0m\n\u001b[0;32m--> 362\u001b[0;31m             \u001b[0mdl_executor\u001b[0m\u001b[0;34m.\u001b[0m\u001b[0mshutdown\u001b[0m\u001b[0;34m(\u001b[0m\u001b[0;34m)\u001b[0m\u001b[0;34m\u001b[0m\u001b[0;34m\u001b[0m\u001b[0m\n\u001b[0m\u001b[1;32m    363\u001b[0m             \u001b[0mdl_progress\u001b[0m\u001b[0;34m.\u001b[0m\u001b[0mclose\u001b[0m\u001b[0;34m(\u001b[0m\u001b[0;34m)\u001b[0m\u001b[0;34m\u001b[0m\u001b[0;34m\u001b[0m\u001b[0m\n\u001b[1;32m    364\u001b[0m             \u001b[0;32mif\u001b[0m \u001b[0moffline_prods\u001b[0m\u001b[0;34m:\u001b[0m\u001b[0;34m\u001b[0m\u001b[0;34m\u001b[0m\u001b[0m\n",
      "\u001b[0;32m~/opt/conda/envs/py39/lib/python3.9/concurrent/futures/thread.py\u001b[0m in \u001b[0;36mshutdown\u001b[0;34m(self, wait, cancel_futures)\u001b[0m\n\u001b[1;32m    227\u001b[0m         \u001b[0;32mif\u001b[0m \u001b[0mwait\u001b[0m\u001b[0;34m:\u001b[0m\u001b[0;34m\u001b[0m\u001b[0;34m\u001b[0m\u001b[0m\n\u001b[1;32m    228\u001b[0m             \u001b[0;32mfor\u001b[0m \u001b[0mt\u001b[0m \u001b[0;32min\u001b[0m \u001b[0mself\u001b[0m\u001b[0;34m.\u001b[0m\u001b[0m_threads\u001b[0m\u001b[0;34m:\u001b[0m\u001b[0;34m\u001b[0m\u001b[0;34m\u001b[0m\u001b[0m\n\u001b[0;32m--> 229\u001b[0;31m                 \u001b[0mt\u001b[0m\u001b[0;34m.\u001b[0m\u001b[0mjoin\u001b[0m\u001b[0;34m(\u001b[0m\u001b[0;34m)\u001b[0m\u001b[0;34m\u001b[0m\u001b[0;34m\u001b[0m\u001b[0m\n\u001b[0m\u001b[1;32m    230\u001b[0m     \u001b[0mshutdown\u001b[0m\u001b[0;34m.\u001b[0m\u001b[0m__doc__\u001b[0m \u001b[0;34m=\u001b[0m \u001b[0m_base\u001b[0m\u001b[0;34m.\u001b[0m\u001b[0mExecutor\u001b[0m\u001b[0;34m.\u001b[0m\u001b[0mshutdown\u001b[0m\u001b[0;34m.\u001b[0m\u001b[0m__doc__\u001b[0m\u001b[0;34m\u001b[0m\u001b[0;34m\u001b[0m\u001b[0m\n",
      "\u001b[0;32m~/opt/conda/envs/py39/lib/python3.9/threading.py\u001b[0m in \u001b[0;36mjoin\u001b[0;34m(self, timeout)\u001b[0m\n\u001b[1;32m   1051\u001b[0m \u001b[0;34m\u001b[0m\u001b[0m\n\u001b[1;32m   1052\u001b[0m         \u001b[0;32mif\u001b[0m \u001b[0mtimeout\u001b[0m \u001b[0;32mis\u001b[0m \u001b[0;32mNone\u001b[0m\u001b[0;34m:\u001b[0m\u001b[0;34m\u001b[0m\u001b[0;34m\u001b[0m\u001b[0m\n\u001b[0;32m-> 1053\u001b[0;31m             \u001b[0mself\u001b[0m\u001b[0;34m.\u001b[0m\u001b[0m_wait_for_tstate_lock\u001b[0m\u001b[0;34m(\u001b[0m\u001b[0;34m)\u001b[0m\u001b[0;34m\u001b[0m\u001b[0;34m\u001b[0m\u001b[0m\n\u001b[0m\u001b[1;32m   1054\u001b[0m         \u001b[0;32melse\u001b[0m\u001b[0;34m:\u001b[0m\u001b[0;34m\u001b[0m\u001b[0;34m\u001b[0m\u001b[0m\n\u001b[1;32m   1055\u001b[0m             \u001b[0;31m# the behavior of a negative timeout isn't documented, but\u001b[0m\u001b[0;34m\u001b[0m\u001b[0;34m\u001b[0m\u001b[0m\n",
      "\u001b[0;32m~/opt/conda/envs/py39/lib/python3.9/threading.py\u001b[0m in \u001b[0;36m_wait_for_tstate_lock\u001b[0;34m(self, block, timeout)\u001b[0m\n\u001b[1;32m   1067\u001b[0m         \u001b[0;32mif\u001b[0m \u001b[0mlock\u001b[0m \u001b[0;32mis\u001b[0m \u001b[0;32mNone\u001b[0m\u001b[0;34m:\u001b[0m  \u001b[0;31m# already determined that the C code is done\u001b[0m\u001b[0;34m\u001b[0m\u001b[0;34m\u001b[0m\u001b[0m\n\u001b[1;32m   1068\u001b[0m             \u001b[0;32massert\u001b[0m \u001b[0mself\u001b[0m\u001b[0;34m.\u001b[0m\u001b[0m_is_stopped\u001b[0m\u001b[0;34m\u001b[0m\u001b[0;34m\u001b[0m\u001b[0m\n\u001b[0;32m-> 1069\u001b[0;31m         \u001b[0;32melif\u001b[0m \u001b[0mlock\u001b[0m\u001b[0;34m.\u001b[0m\u001b[0macquire\u001b[0m\u001b[0;34m(\u001b[0m\u001b[0mblock\u001b[0m\u001b[0;34m,\u001b[0m \u001b[0mtimeout\u001b[0m\u001b[0;34m)\u001b[0m\u001b[0;34m:\u001b[0m\u001b[0;34m\u001b[0m\u001b[0;34m\u001b[0m\u001b[0m\n\u001b[0m\u001b[1;32m   1070\u001b[0m             \u001b[0mlock\u001b[0m\u001b[0;34m.\u001b[0m\u001b[0mrelease\u001b[0m\u001b[0;34m(\u001b[0m\u001b[0;34m)\u001b[0m\u001b[0;34m\u001b[0m\u001b[0;34m\u001b[0m\u001b[0m\n\u001b[1;32m   1071\u001b[0m             \u001b[0mself\u001b[0m\u001b[0;34m.\u001b[0m\u001b[0m_stop\u001b[0m\u001b[0;34m(\u001b[0m\u001b[0;34m)\u001b[0m\u001b[0;34m\u001b[0m\u001b[0;34m\u001b[0m\u001b[0m\n",
      "\u001b[0;31mKeyboardInterrupt\u001b[0m: "
     ]
    }
   ],
   "source": [
    "import tenacity\n",
    "import logging\n",
    "from sentinelsat import SentinelAPI, read_geojson, geojson_to_wkt\n",
    "from datetime import date\n",
    "\n",
    "logging.basicConfig(format='%(message)s', level='INFO')\n",
    "\n",
    "api = SentinelAPI('ellenbuckley', 'snwllw12', 'https://scihub.copernicus.eu/dhus')\n",
    "\n",
    "# download single scene by known product id\n",
    "#api.download(<product_id>)\n",
    "@tenacity.retry(stop=tenacity.stop_after_attempt(24), wait=\n",
    "                (900))\n",
    "def download_all(*args, **kwargs):\n",
    "    return api.download_all(*args, **kwargs)\n",
    "# search by polygon, time, and SciHub query keywords\n",
    "footprint = geojson_to_wkt(read_geojson('/Users/buckley/Documents/ANALYSIS/MYIRegion2020.geojson'))\n",
    "products = api.query(footprint,\n",
    "                     date=('20200901', date(2020, 10, 1)),\n",
    "                     platformname='Sentinel-2',\n",
    "                     producttype='S2MSI1C',\n",
    "                     cloudcoverpercentage=(0, 10))\n",
    "#print(products)\n",
    "products_df = api.to_dataframe(products)\n",
    "downloaded, triggered, failed = download_all(products)\n"
   ]
  },
  {
   "cell_type": "code",
   "execution_count": 40,
   "id": "sonic-leisure",
   "metadata": {},
   "outputs": [],
   "source": [
    "#[a[:60] for a in os.listdir('/Volumes/DataEllen/S2/April2019/dnw/')if a.endswith('.zip')]"
   ]
  },
  {
   "cell_type": "code",
   "execution_count": 41,
   "id": "emerging-phrase",
   "metadata": {},
   "outputs": [],
   "source": [
    "products2=products_df.reset_index()\n",
    "products3=products2.add_prefix('x_')"
   ]
  },
  {
   "cell_type": "code",
   "execution_count": 42,
   "id": "filled-mercury",
   "metadata": {},
   "outputs": [
    {
     "data": {
      "text/plain": [
       "'S2B_MSIL2A_20190429T215059_N0211_R029_T08XNH_20190430T001315'"
      ]
     },
     "execution_count": 42,
     "metadata": {},
     "output_type": "execute_result"
    }
   ],
   "source": [
    "products3.x_title.values[0]"
   ]
  },
  {
   "cell_type": "code",
   "execution_count": 49,
   "id": "parental-rebecca",
   "metadata": {},
   "outputs": [],
   "source": [
    "codes=[]\n",
    "for a in range(len(products2)):\n",
    "    if products3.x_title.values[a] in [a[:60] for a in os.listdir('/Volumes/DataEllen/S2/April2019/dnw/')if a.endswith('.zip')]:\n",
    "        codes.append(products3.x_link[a])\n"
   ]
  },
  {
   "cell_type": "code",
   "execution_count": 50,
   "id": "casual-verification",
   "metadata": {},
   "outputs": [
    {
     "data": {
      "text/plain": [
       "[\"https://scihub.copernicus.eu/dhus/odata/v1/Products('875908f8-f1ed-4bde-b7c8-27650fa29a65')/$value\",\n",
       " \"https://scihub.copernicus.eu/dhus/odata/v1/Products('048b833e-6cef-4215-8b6a-705fccbb6201')/$value\",\n",
       " \"https://scihub.copernicus.eu/dhus/odata/v1/Products('3f1e3ca6-1524-4697-b6f5-ce5ac89318cc')/$value\",\n",
       " \"https://scihub.copernicus.eu/dhus/odata/v1/Products('d53bb89f-c583-46aa-807e-ed8e506df0ea')/$value\",\n",
       " \"https://scihub.copernicus.eu/dhus/odata/v1/Products('c3ea1b64-54ea-4262-9ea2-ba7307f1e59c')/$value\",\n",
       " \"https://scihub.copernicus.eu/dhus/odata/v1/Products('c70a60fe-44e2-447e-91f3-afadf64f5188')/$value\",\n",
       " \"https://scihub.copernicus.eu/dhus/odata/v1/Products('fbe0e6d9-3ccd-409f-9826-83b14a3c6a50')/$value\",\n",
       " \"https://scihub.copernicus.eu/dhus/odata/v1/Products('3a409feb-0eeb-4e16-822f-d873824f0dde')/$value\",\n",
       " \"https://scihub.copernicus.eu/dhus/odata/v1/Products('2496d47f-0f10-47c9-9708-17bc4e35b04f')/$value\",\n",
       " \"https://scihub.copernicus.eu/dhus/odata/v1/Products('bc1f282a-a396-4af8-a10d-06eab832a4c4')/$value\",\n",
       " \"https://scihub.copernicus.eu/dhus/odata/v1/Products('c6526547-e507-41e0-b7b3-3d3ea9bced41')/$value\",\n",
       " \"https://scihub.copernicus.eu/dhus/odata/v1/Products('9fa616f3-8876-4d42-936d-ccb8fa68dee1')/$value\",\n",
       " \"https://scihub.copernicus.eu/dhus/odata/v1/Products('4a8d8ab6-8a13-4f25-b205-d780c714bfc5')/$value\",\n",
       " \"https://scihub.copernicus.eu/dhus/odata/v1/Products('2f7f30d6-3a8c-4456-9d9b-7e63cfdcf384')/$value\",\n",
       " \"https://scihub.copernicus.eu/dhus/odata/v1/Products('a74778dc-7fbf-4008-abed-dd071760be31')/$value\",\n",
       " \"https://scihub.copernicus.eu/dhus/odata/v1/Products('0175d4bd-0a0e-4898-8d85-48420266e2c8')/$value\",\n",
       " \"https://scihub.copernicus.eu/dhus/odata/v1/Products('4bda2694-5373-4cad-9aec-406c4f5fc0ec')/$value\",\n",
       " \"https://scihub.copernicus.eu/dhus/odata/v1/Products('cd43ba6a-3a7a-497d-9e9c-3835164f8b88')/$value\",\n",
       " \"https://scihub.copernicus.eu/dhus/odata/v1/Products('9bf28849-d3fb-4989-879d-18ebfe9db443')/$value\",\n",
       " \"https://scihub.copernicus.eu/dhus/odata/v1/Products('1b9ecf8b-2768-4bf4-9a0c-02363ab404f5')/$value\",\n",
       " \"https://scihub.copernicus.eu/dhus/odata/v1/Products('a176d8dd-c9a0-4871-ade6-699392f014aa')/$value\",\n",
       " \"https://scihub.copernicus.eu/dhus/odata/v1/Products('6f75b3c8-65c3-40f5-9b2b-f9cd6d16d39c')/$value\",\n",
       " \"https://scihub.copernicus.eu/dhus/odata/v1/Products('9f3e4e84-5ee1-4dce-850a-bc06668be805')/$value\",\n",
       " \"https://scihub.copernicus.eu/dhus/odata/v1/Products('3452563e-302f-4bc3-a129-eb224596bf54')/$value\",\n",
       " \"https://scihub.copernicus.eu/dhus/odata/v1/Products('c087007a-9b2c-49f4-8b82-ad250cc79dd6')/$value\",\n",
       " \"https://scihub.copernicus.eu/dhus/odata/v1/Products('67e24a6d-ec91-4baf-a5ba-ad4ce0ad2325')/$value\",\n",
       " \"https://scihub.copernicus.eu/dhus/odata/v1/Products('2264e715-56fc-4c78-8bb0-4f64a808f4d0')/$value\",\n",
       " \"https://scihub.copernicus.eu/dhus/odata/v1/Products('18683cd5-68a1-4167-9d84-2a0c07e30c72')/$value\",\n",
       " \"https://scihub.copernicus.eu/dhus/odata/v1/Products('a8125839-de84-4442-a703-f24d1a6a92b6')/$value\",\n",
       " \"https://scihub.copernicus.eu/dhus/odata/v1/Products('8a26799f-8e11-4750-b7d2-d59dc6bedf8f')/$value\",\n",
       " \"https://scihub.copernicus.eu/dhus/odata/v1/Products('17c6f139-d30c-433a-91fc-fdf71c62546c')/$value\",\n",
       " \"https://scihub.copernicus.eu/dhus/odata/v1/Products('c343e174-50eb-4dd4-b943-31e49c1485cc')/$value\",\n",
       " \"https://scihub.copernicus.eu/dhus/odata/v1/Products('80e1edf1-d24e-4a73-a31e-5b69b900a90d')/$value\",\n",
       " \"https://scihub.copernicus.eu/dhus/odata/v1/Products('43f18968-51ff-49ec-b842-7ff742971b3a')/$value\",\n",
       " \"https://scihub.copernicus.eu/dhus/odata/v1/Products('4fada907-1780-474a-a162-e53306d77c69')/$value\",\n",
       " \"https://scihub.copernicus.eu/dhus/odata/v1/Products('7731e1a4-5967-4e77-8d9d-d2767b35fa10')/$value\",\n",
       " \"https://scihub.copernicus.eu/dhus/odata/v1/Products('a6281cf4-d4ad-4c25-9be0-03573044921c')/$value\",\n",
       " \"https://scihub.copernicus.eu/dhus/odata/v1/Products('f2b42e51-f71d-4e26-a05d-a508e4ae1686')/$value\",\n",
       " \"https://scihub.copernicus.eu/dhus/odata/v1/Products('b0d8b31b-62df-42d0-a595-c71815e58b98')/$value\",\n",
       " \"https://scihub.copernicus.eu/dhus/odata/v1/Products('4f5a6536-8666-469f-8686-83731f24a8eb')/$value\",\n",
       " \"https://scihub.copernicus.eu/dhus/odata/v1/Products('d365ed89-95e1-44cd-885b-ceb883750ba2')/$value\",\n",
       " \"https://scihub.copernicus.eu/dhus/odata/v1/Products('65ee47ef-b935-40c2-9f9d-f9661f0ed585')/$value\",\n",
       " \"https://scihub.copernicus.eu/dhus/odata/v1/Products('dcf55f96-6512-4505-aef6-82052c6d2db5')/$value\",\n",
       " \"https://scihub.copernicus.eu/dhus/odata/v1/Products('90a5d80c-f29e-4e17-bd08-829868412228')/$value\",\n",
       " \"https://scihub.copernicus.eu/dhus/odata/v1/Products('01cc52c3-626b-465f-8378-5a024a0fb68d')/$value\",\n",
       " \"https://scihub.copernicus.eu/dhus/odata/v1/Products('0048c661-8257-4b7b-9d88-a1cf53da76d8')/$value\",\n",
       " \"https://scihub.copernicus.eu/dhus/odata/v1/Products('1884ff6f-7a07-4a1f-8ed9-60ebc96e2cc9')/$value\",\n",
       " \"https://scihub.copernicus.eu/dhus/odata/v1/Products('d58ec5dc-0d34-48fb-a541-8f3dd04efb96')/$value\",\n",
       " \"https://scihub.copernicus.eu/dhus/odata/v1/Products('f9fa20d9-ac41-4bc2-97cc-daa969ad4d05')/$value\",\n",
       " \"https://scihub.copernicus.eu/dhus/odata/v1/Products('b722188b-7f55-456f-a931-2b6e32495c69')/$value\",\n",
       " \"https://scihub.copernicus.eu/dhus/odata/v1/Products('f76b01a8-3fff-4c68-8406-815df4e34908')/$value\",\n",
       " \"https://scihub.copernicus.eu/dhus/odata/v1/Products('15e9a843-e5be-4277-94ab-3308788e5108')/$value\",\n",
       " \"https://scihub.copernicus.eu/dhus/odata/v1/Products('d1a2767d-43d7-4920-82cb-8c6c4f13d586')/$value\",\n",
       " \"https://scihub.copernicus.eu/dhus/odata/v1/Products('44065985-3239-46a4-9b84-fdc1a70a1eee')/$value\",\n",
       " \"https://scihub.copernicus.eu/dhus/odata/v1/Products('9bc7011a-3a05-4813-b1ae-c2601d570ff7')/$value\",\n",
       " \"https://scihub.copernicus.eu/dhus/odata/v1/Products('98f5923e-e233-4be7-854a-e31754d4df55')/$value\",\n",
       " \"https://scihub.copernicus.eu/dhus/odata/v1/Products('31bd3077-6d51-43a5-bf10-b3a1a9b3025e')/$value\",\n",
       " \"https://scihub.copernicus.eu/dhus/odata/v1/Products('ef43bc64-df7b-4e15-93b4-4b9b94d58476')/$value\",\n",
       " \"https://scihub.copernicus.eu/dhus/odata/v1/Products('0888e4f6-03bc-4df0-b5c1-a1bbe55d0f88')/$value\",\n",
       " \"https://scihub.copernicus.eu/dhus/odata/v1/Products('ec9bd6ac-54d9-426f-87a4-46f0170f8caa')/$value\",\n",
       " \"https://scihub.copernicus.eu/dhus/odata/v1/Products('5d63066e-92c2-4bfc-87a1-0088b716044b')/$value\",\n",
       " \"https://scihub.copernicus.eu/dhus/odata/v1/Products('969d4796-3618-44f8-937c-0c8b8aa94e38')/$value\",\n",
       " \"https://scihub.copernicus.eu/dhus/odata/v1/Products('7a7c5ea5-c82a-48af-9af3-db96e77587a1')/$value\",\n",
       " \"https://scihub.copernicus.eu/dhus/odata/v1/Products('b8251d5a-6a9f-41c6-8865-c485886d3225')/$value\",\n",
       " \"https://scihub.copernicus.eu/dhus/odata/v1/Products('88c69e38-0bf1-4e2e-aac3-558615044e14')/$value\",\n",
       " \"https://scihub.copernicus.eu/dhus/odata/v1/Products('bf59af19-0ae5-4a53-8b14-7116a6e43cc4')/$value\",\n",
       " \"https://scihub.copernicus.eu/dhus/odata/v1/Products('f2cd469d-ada8-4711-84c8-30eb3bfd6fc0')/$value\",\n",
       " \"https://scihub.copernicus.eu/dhus/odata/v1/Products('f0b85f37-04a2-4c41-bf43-03751bf71b42')/$value\",\n",
       " \"https://scihub.copernicus.eu/dhus/odata/v1/Products('d04223f5-0a30-4964-97d2-694a9a340b19')/$value\",\n",
       " \"https://scihub.copernicus.eu/dhus/odata/v1/Products('62d7e6dd-258e-4d6c-86a5-3a69bc0c22a4')/$value\",\n",
       " \"https://scihub.copernicus.eu/dhus/odata/v1/Products('ebacfe7f-e2fd-4589-aea3-e8e15bd592a9')/$value\",\n",
       " \"https://scihub.copernicus.eu/dhus/odata/v1/Products('f6f4ef33-e492-417b-9aa6-0e7885ffb826')/$value\",\n",
       " \"https://scihub.copernicus.eu/dhus/odata/v1/Products('1bdf135d-1dc2-4799-9271-d4f2aa2ae7ec')/$value\",\n",
       " \"https://scihub.copernicus.eu/dhus/odata/v1/Products('a31711b5-04f7-44a1-a837-e4eb30f63a82')/$value\",\n",
       " \"https://scihub.copernicus.eu/dhus/odata/v1/Products('1a7b52aa-f0b2-495d-ac69-aab3cccfae03')/$value\",\n",
       " \"https://scihub.copernicus.eu/dhus/odata/v1/Products('406b47ba-6c77-4129-977c-7dc0de45bfdd')/$value\",\n",
       " \"https://scihub.copernicus.eu/dhus/odata/v1/Products('307e9f5c-ce3e-423c-8446-856be9ef0117')/$value\",\n",
       " \"https://scihub.copernicus.eu/dhus/odata/v1/Products('676938ee-556e-49f8-9fa5-0adf9ecd4dd7')/$value\",\n",
       " \"https://scihub.copernicus.eu/dhus/odata/v1/Products('c20b1bcc-d1a4-4aa6-ac0e-7836d0189c51')/$value\",\n",
       " \"https://scihub.copernicus.eu/dhus/odata/v1/Products('ee215318-60ad-4b50-9c74-73d295bd69e8')/$value\",\n",
       " \"https://scihub.copernicus.eu/dhus/odata/v1/Products('2cb22262-de66-46f2-b2a4-66e23dcf938a')/$value\",\n",
       " \"https://scihub.copernicus.eu/dhus/odata/v1/Products('3b6eebd9-68d0-4278-b086-9683fe10b62f')/$value\",\n",
       " \"https://scihub.copernicus.eu/dhus/odata/v1/Products('d1520675-541e-44af-99a1-50cd419c1ceb')/$value\",\n",
       " \"https://scihub.copernicus.eu/dhus/odata/v1/Products('6c7f510a-1fb4-46a5-8c20-ac4e4917b4bc')/$value\",\n",
       " \"https://scihub.copernicus.eu/dhus/odata/v1/Products('41fcf4f8-d924-4c8b-81a7-3306cae7ad20')/$value\",\n",
       " \"https://scihub.copernicus.eu/dhus/odata/v1/Products('1d4e498f-687f-4a33-ae4d-af35f3c5f6b8')/$value\",\n",
       " \"https://scihub.copernicus.eu/dhus/odata/v1/Products('91146376-604e-479a-9292-22351992a0fd')/$value\",\n",
       " \"https://scihub.copernicus.eu/dhus/odata/v1/Products('9e89a9b2-6839-4c64-a35f-08844b91fec4')/$value\",\n",
       " \"https://scihub.copernicus.eu/dhus/odata/v1/Products('7fe68775-b0fe-4edb-a767-208a52d9ff59')/$value\",\n",
       " \"https://scihub.copernicus.eu/dhus/odata/v1/Products('04a3431b-5c9d-4531-b354-59ffde9bbd00')/$value\",\n",
       " \"https://scihub.copernicus.eu/dhus/odata/v1/Products('baea7bbb-9258-47ea-8257-47dd353be7fa')/$value\",\n",
       " \"https://scihub.copernicus.eu/dhus/odata/v1/Products('6643f915-9168-46cf-8271-66f7967848ea')/$value\",\n",
       " \"https://scihub.copernicus.eu/dhus/odata/v1/Products('ab906ff2-60b8-432b-bbe0-6205cd2caefa')/$value\",\n",
       " \"https://scihub.copernicus.eu/dhus/odata/v1/Products('560f4cbf-3a0f-46c6-9c10-26824ba8d9ad')/$value\",\n",
       " \"https://scihub.copernicus.eu/dhus/odata/v1/Products('ce182a4e-5b78-4a01-a003-4405a808afde')/$value\",\n",
       " \"https://scihub.copernicus.eu/dhus/odata/v1/Products('61fed9d8-62f0-41f6-beae-1725783aac52')/$value\",\n",
       " \"https://scihub.copernicus.eu/dhus/odata/v1/Products('eeea359d-4987-4bed-b709-901f8b16f11b')/$value\",\n",
       " \"https://scihub.copernicus.eu/dhus/odata/v1/Products('4fb25d3d-7a43-4360-9d4a-3da60c7167b8')/$value\",\n",
       " \"https://scihub.copernicus.eu/dhus/odata/v1/Products('4b0eb099-f136-4d49-bd96-037b14fc2719')/$value\",\n",
       " \"https://scihub.copernicus.eu/dhus/odata/v1/Products('2ad1928f-5e47-41b5-8d19-e4009e0dce7b')/$value\",\n",
       " \"https://scihub.copernicus.eu/dhus/odata/v1/Products('d0d0855a-d28c-489b-8ade-5c0cfca8241d')/$value\",\n",
       " \"https://scihub.copernicus.eu/dhus/odata/v1/Products('d077c428-73a6-438f-8812-73d396389dfb')/$value\",\n",
       " \"https://scihub.copernicus.eu/dhus/odata/v1/Products('45d04060-1fae-478d-b9e7-5a799637af58')/$value\",\n",
       " \"https://scihub.copernicus.eu/dhus/odata/v1/Products('009896f8-8091-4a8b-b2e8-e08f1303fe8d')/$value\",\n",
       " \"https://scihub.copernicus.eu/dhus/odata/v1/Products('65a8a418-38b9-4102-8ab6-a288b4ecc288')/$value\",\n",
       " \"https://scihub.copernicus.eu/dhus/odata/v1/Products('fbd54c5d-2a81-498c-999c-c584b0ebf2b7')/$value\",\n",
       " \"https://scihub.copernicus.eu/dhus/odata/v1/Products('ee58e0b3-1708-44a0-824d-2b996238608d')/$value\",\n",
       " \"https://scihub.copernicus.eu/dhus/odata/v1/Products('2310ca19-c252-4d32-89e1-ae664378eefb')/$value\",\n",
       " \"https://scihub.copernicus.eu/dhus/odata/v1/Products('e68f3014-8799-4ac6-8506-0bc4c743005a')/$value\",\n",
       " \"https://scihub.copernicus.eu/dhus/odata/v1/Products('d36587f3-d714-41a3-b7bf-133f45a46dfd')/$value\"]"
      ]
     },
     "execution_count": 50,
     "metadata": {},
     "output_type": "execute_result"
    }
   ],
   "source": [
    "codes"
   ]
  },
  {
   "cell_type": "code",
   "execution_count": 47,
   "id": "opposite-ranking",
   "metadata": {},
   "outputs": [
    {
     "data": {
      "text/plain": [
       "array([\"https://scihub.copernicus.eu/dhus/odata/v1/Products('4a0b092d-932c-4660-a23b-c5a63b684ec9')/$value\",\n",
       "       \"https://scihub.copernicus.eu/dhus/odata/v1/Products('a6b6c6ca-4b3e-493e-a83e-9aa4f5f22c98')/$value\",\n",
       "       \"https://scihub.copernicus.eu/dhus/odata/v1/Products('0bb875ed-1c35-4c15-b7b0-5d93743b554f')/$value\",\n",
       "       \"https://scihub.copernicus.eu/dhus/odata/v1/Products('3cf6a099-5791-4d77-b578-0f29aa956ae8')/$value\",\n",
       "       \"https://scihub.copernicus.eu/dhus/odata/v1/Products('5d56116d-b0f3-47bc-8d76-13bfd7969a43')/$value\",\n",
       "       \"https://scihub.copernicus.eu/dhus/odata/v1/Products('09dfb35b-e00c-45d6-8b38-08891ab31d89')/$value\",\n",
       "       \"https://scihub.copernicus.eu/dhus/odata/v1/Products('875908f8-f1ed-4bde-b7c8-27650fa29a65')/$value\",\n",
       "       \"https://scihub.copernicus.eu/dhus/odata/v1/Products('5b1ef59c-243c-484e-b2f1-97872cd30502')/$value\",\n",
       "       \"https://scihub.copernicus.eu/dhus/odata/v1/Products('396e4b92-99c1-4822-a08c-5cafa6e34f3a')/$value\",\n",
       "       \"https://scihub.copernicus.eu/dhus/odata/v1/Products('048b833e-6cef-4215-8b6a-705fccbb6201')/$value\",\n",
       "       \"https://scihub.copernicus.eu/dhus/odata/v1/Products('f9319e82-846b-4c08-895f-8a4402a2bb9c')/$value\",\n",
       "       \"https://scihub.copernicus.eu/dhus/odata/v1/Products('3f1e3ca6-1524-4697-b6f5-ce5ac89318cc')/$value\",\n",
       "       \"https://scihub.copernicus.eu/dhus/odata/v1/Products('d53bb89f-c583-46aa-807e-ed8e506df0ea')/$value\",\n",
       "       \"https://scihub.copernicus.eu/dhus/odata/v1/Products('c3ea1b64-54ea-4262-9ea2-ba7307f1e59c')/$value\",\n",
       "       \"https://scihub.copernicus.eu/dhus/odata/v1/Products('c3ea9617-6f2f-45e5-80cd-7071b8538ea8')/$value\",\n",
       "       \"https://scihub.copernicus.eu/dhus/odata/v1/Products('c70a60fe-44e2-447e-91f3-afadf64f5188')/$value\",\n",
       "       \"https://scihub.copernicus.eu/dhus/odata/v1/Products('240f579c-58f8-465e-b738-f95d25c2dd39')/$value\",\n",
       "       \"https://scihub.copernicus.eu/dhus/odata/v1/Products('6f2e0a08-7e6c-4323-9a20-fc4a49640bc4')/$value\",\n",
       "       \"https://scihub.copernicus.eu/dhus/odata/v1/Products('736f71f3-29e5-4f86-911e-094cf71bae33')/$value\",\n",
       "       \"https://scihub.copernicus.eu/dhus/odata/v1/Products('38847744-4824-4683-bfe8-2001efe318f5')/$value\",\n",
       "       \"https://scihub.copernicus.eu/dhus/odata/v1/Products('eddb6821-7999-4621-aa58-0fbe185a0081')/$value\",\n",
       "       \"https://scihub.copernicus.eu/dhus/odata/v1/Products('01514ff3-7ce1-4185-a44e-effc4660e4c9')/$value\",\n",
       "       \"https://scihub.copernicus.eu/dhus/odata/v1/Products('c1c282a9-a3f9-475a-9a9d-845ea172125e')/$value\",\n",
       "       \"https://scihub.copernicus.eu/dhus/odata/v1/Products('9211609f-20d7-4854-9547-ffa5f3a60eb1')/$value\",\n",
       "       \"https://scihub.copernicus.eu/dhus/odata/v1/Products('29fb6242-2dd2-4cd5-b9aa-1c360978e9b8')/$value\",\n",
       "       \"https://scihub.copernicus.eu/dhus/odata/v1/Products('a007f70b-7d02-4551-957d-5f842d01367c')/$value\",\n",
       "       \"https://scihub.copernicus.eu/dhus/odata/v1/Products('f217897f-e371-453f-8d3a-3696e0658fbd')/$value\",\n",
       "       \"https://scihub.copernicus.eu/dhus/odata/v1/Products('36531575-c973-465a-8eb4-4fcdb49447da')/$value\",\n",
       "       \"https://scihub.copernicus.eu/dhus/odata/v1/Products('83e02996-dee8-4811-9523-fd546c582c58')/$value\",\n",
       "       \"https://scihub.copernicus.eu/dhus/odata/v1/Products('287eb48d-18a8-4fef-ba59-0fdf9681fde7')/$value\",\n",
       "       \"https://scihub.copernicus.eu/dhus/odata/v1/Products('d96c72f9-27f5-4a7f-9196-3a3410d5171a')/$value\",\n",
       "       \"https://scihub.copernicus.eu/dhus/odata/v1/Products('46b27c77-7a4c-4cd1-a120-2de79d2bfdff')/$value\",\n",
       "       \"https://scihub.copernicus.eu/dhus/odata/v1/Products('d6f4fb4a-ccdc-4cf5-9eab-369b1fe77d9a')/$value\",\n",
       "       \"https://scihub.copernicus.eu/dhus/odata/v1/Products('8ee11558-27b2-40f1-97d4-39f41207a497')/$value\",\n",
       "       \"https://scihub.copernicus.eu/dhus/odata/v1/Products('49a0a8ac-984b-497e-9238-be4c4cb03712')/$value\",\n",
       "       \"https://scihub.copernicus.eu/dhus/odata/v1/Products('36ec771d-ff4c-4df8-940d-acbb31f4edcd')/$value\",\n",
       "       \"https://scihub.copernicus.eu/dhus/odata/v1/Products('696dad05-c3a4-42b1-8f72-fa701b3d6835')/$value\",\n",
       "       \"https://scihub.copernicus.eu/dhus/odata/v1/Products('1db2de68-df4c-45b6-866e-57414f3ace41')/$value\",\n",
       "       \"https://scihub.copernicus.eu/dhus/odata/v1/Products('5ef08a79-ff0f-4e88-a210-897be14a8876')/$value\",\n",
       "       \"https://scihub.copernicus.eu/dhus/odata/v1/Products('a456c350-fdba-40bc-9c6c-24497ba25cc9')/$value\",\n",
       "       \"https://scihub.copernicus.eu/dhus/odata/v1/Products('79948bd1-fdc5-4c2b-83bb-63c8d8bf1493')/$value\",\n",
       "       \"https://scihub.copernicus.eu/dhus/odata/v1/Products('fbe0e6d9-3ccd-409f-9826-83b14a3c6a50')/$value\",\n",
       "       \"https://scihub.copernicus.eu/dhus/odata/v1/Products('3a409feb-0eeb-4e16-822f-d873824f0dde')/$value\",\n",
       "       \"https://scihub.copernicus.eu/dhus/odata/v1/Products('62b49de2-e35f-441d-b2cd-606c22f4aa58')/$value\",\n",
       "       \"https://scihub.copernicus.eu/dhus/odata/v1/Products('2496d47f-0f10-47c9-9708-17bc4e35b04f')/$value\",\n",
       "       \"https://scihub.copernicus.eu/dhus/odata/v1/Products('d439cf19-e220-43b6-bb68-068307bd3849')/$value\",\n",
       "       \"https://scihub.copernicus.eu/dhus/odata/v1/Products('bf3e5f56-7b25-4942-85a8-01114ec244b1')/$value\",\n",
       "       \"https://scihub.copernicus.eu/dhus/odata/v1/Products('7ac326c4-e409-454f-807f-57967f060078')/$value\",\n",
       "       \"https://scihub.copernicus.eu/dhus/odata/v1/Products('bc1f282a-a396-4af8-a10d-06eab832a4c4')/$value\",\n",
       "       \"https://scihub.copernicus.eu/dhus/odata/v1/Products('a22853fd-c347-487e-b8fe-a4e23c6b303f')/$value\",\n",
       "       \"https://scihub.copernicus.eu/dhus/odata/v1/Products('0fc57885-e975-4558-b0d3-bfd058204d18')/$value\",\n",
       "       \"https://scihub.copernicus.eu/dhus/odata/v1/Products('c6526547-e507-41e0-b7b3-3d3ea9bced41')/$value\",\n",
       "       \"https://scihub.copernicus.eu/dhus/odata/v1/Products('9f901aa6-b596-48d0-96a6-ac7df3bcf1ae')/$value\",\n",
       "       \"https://scihub.copernicus.eu/dhus/odata/v1/Products('ea60c82f-927a-4626-bf0d-7e75e0224036')/$value\",\n",
       "       \"https://scihub.copernicus.eu/dhus/odata/v1/Products('9fa616f3-8876-4d42-936d-ccb8fa68dee1')/$value\",\n",
       "       \"https://scihub.copernicus.eu/dhus/odata/v1/Products('1f7adb88-781e-42bc-9bc6-7f58839e8514')/$value\",\n",
       "       \"https://scihub.copernicus.eu/dhus/odata/v1/Products('ae0174c8-5b5c-4712-8370-621a230b8a99')/$value\",\n",
       "       \"https://scihub.copernicus.eu/dhus/odata/v1/Products('4a8d8ab6-8a13-4f25-b205-d780c714bfc5')/$value\",\n",
       "       \"https://scihub.copernicus.eu/dhus/odata/v1/Products('2f7f30d6-3a8c-4456-9d9b-7e63cfdcf384')/$value\",\n",
       "       \"https://scihub.copernicus.eu/dhus/odata/v1/Products('a74778dc-7fbf-4008-abed-dd071760be31')/$value\",\n",
       "       \"https://scihub.copernicus.eu/dhus/odata/v1/Products('fbf2654d-0eb4-447d-be31-31e9ec18f882')/$value\",\n",
       "       \"https://scihub.copernicus.eu/dhus/odata/v1/Products('bb312201-347e-4f6a-9aa9-85330add767d')/$value\",\n",
       "       \"https://scihub.copernicus.eu/dhus/odata/v1/Products('b79a5c43-b9bf-465a-a078-1c33bb632f02')/$value\",\n",
       "       \"https://scihub.copernicus.eu/dhus/odata/v1/Products('94b31d0e-1008-4b20-aa8e-c232b9087536')/$value\",\n",
       "       \"https://scihub.copernicus.eu/dhus/odata/v1/Products('3e090f59-f971-464d-a619-4dd0c3e1dd59')/$value\",\n",
       "       \"https://scihub.copernicus.eu/dhus/odata/v1/Products('0175d4bd-0a0e-4898-8d85-48420266e2c8')/$value\",\n",
       "       \"https://scihub.copernicus.eu/dhus/odata/v1/Products('4bda2694-5373-4cad-9aec-406c4f5fc0ec')/$value\",\n",
       "       \"https://scihub.copernicus.eu/dhus/odata/v1/Products('cd43ba6a-3a7a-497d-9e9c-3835164f8b88')/$value\",\n",
       "       \"https://scihub.copernicus.eu/dhus/odata/v1/Products('1c49abe9-4abc-4288-b0e5-a1e5678f307a')/$value\",\n",
       "       \"https://scihub.copernicus.eu/dhus/odata/v1/Products('77a0514d-3b55-48fc-b408-1d96143b20e1')/$value\",\n",
       "       \"https://scihub.copernicus.eu/dhus/odata/v1/Products('9bf28849-d3fb-4989-879d-18ebfe9db443')/$value\",\n",
       "       \"https://scihub.copernicus.eu/dhus/odata/v1/Products('1b9ecf8b-2768-4bf4-9a0c-02363ab404f5')/$value\",\n",
       "       \"https://scihub.copernicus.eu/dhus/odata/v1/Products('a176d8dd-c9a0-4871-ade6-699392f014aa')/$value\",\n",
       "       \"https://scihub.copernicus.eu/dhus/odata/v1/Products('7f124509-d9bf-4ace-adab-ec6360d0650f')/$value\",\n",
       "       \"https://scihub.copernicus.eu/dhus/odata/v1/Products('6f75b3c8-65c3-40f5-9b2b-f9cd6d16d39c')/$value\",\n",
       "       \"https://scihub.copernicus.eu/dhus/odata/v1/Products('204d241a-f2da-427a-8de4-6c6225332256')/$value\",\n",
       "       \"https://scihub.copernicus.eu/dhus/odata/v1/Products('9f3e4e84-5ee1-4dce-850a-bc06668be805')/$value\",\n",
       "       \"https://scihub.copernicus.eu/dhus/odata/v1/Products('bd9fb37b-b0f1-42e3-a804-15506ca20f1d')/$value\",\n",
       "       \"https://scihub.copernicus.eu/dhus/odata/v1/Products('d6ddc26a-a534-4ba0-9423-24bf5a3d2903')/$value\",\n",
       "       \"https://scihub.copernicus.eu/dhus/odata/v1/Products('3452563e-302f-4bc3-a129-eb224596bf54')/$value\",\n",
       "       \"https://scihub.copernicus.eu/dhus/odata/v1/Products('277613ce-b338-4e8e-b841-4f3a684011c6')/$value\",\n",
       "       \"https://scihub.copernicus.eu/dhus/odata/v1/Products('06f8c7e5-4ab3-4cd3-bf6c-8b0402e6ebf4')/$value\",\n",
       "       \"https://scihub.copernicus.eu/dhus/odata/v1/Products('eb5261aa-53b8-410f-8894-2d6da4776526')/$value\",\n",
       "       \"https://scihub.copernicus.eu/dhus/odata/v1/Products('b401ca2c-f872-4ded-89f8-1b228027c752')/$value\",\n",
       "       \"https://scihub.copernicus.eu/dhus/odata/v1/Products('4334c6eb-dea9-44ef-9bf9-6e769fded07b')/$value\",\n",
       "       \"https://scihub.copernicus.eu/dhus/odata/v1/Products('c087007a-9b2c-49f4-8b82-ad250cc79dd6')/$value\",\n",
       "       \"https://scihub.copernicus.eu/dhus/odata/v1/Products('67e24a6d-ec91-4baf-a5ba-ad4ce0ad2325')/$value\",\n",
       "       \"https://scihub.copernicus.eu/dhus/odata/v1/Products('2264e715-56fc-4c78-8bb0-4f64a808f4d0')/$value\",\n",
       "       \"https://scihub.copernicus.eu/dhus/odata/v1/Products('18683cd5-68a1-4167-9d84-2a0c07e30c72')/$value\",\n",
       "       \"https://scihub.copernicus.eu/dhus/odata/v1/Products('5690b79e-df09-460f-a480-0e056484a0da')/$value\",\n",
       "       \"https://scihub.copernicus.eu/dhus/odata/v1/Products('89d0c3d6-102c-440d-a6ea-84188dfec4f0')/$value\",\n",
       "       \"https://scihub.copernicus.eu/dhus/odata/v1/Products('6999964d-2fd4-4f1a-b866-522a17e0a9c9')/$value\",\n",
       "       \"https://scihub.copernicus.eu/dhus/odata/v1/Products('a7789e95-ec5b-4f60-bc2f-1dedd1ecca11')/$value\",\n",
       "       \"https://scihub.copernicus.eu/dhus/odata/v1/Products('129a605a-02d2-4426-bd83-0b3134e9e610')/$value\",\n",
       "       \"https://scihub.copernicus.eu/dhus/odata/v1/Products('43736f0f-dadf-4937-ac65-58a8359a7f50')/$value\",\n",
       "       \"https://scihub.copernicus.eu/dhus/odata/v1/Products('62c1c259-512d-426a-8ddc-ca1284ed3e5a')/$value\",\n",
       "       \"https://scihub.copernicus.eu/dhus/odata/v1/Products('983c122f-ac7a-485a-bca4-326012ac8863')/$value\",\n",
       "       \"https://scihub.copernicus.eu/dhus/odata/v1/Products('609b43f9-99d6-442a-af7e-44d0df41caaf')/$value\",\n",
       "       \"https://scihub.copernicus.eu/dhus/odata/v1/Products('c6ed612b-e9e2-4733-8a82-7b54168f75c2')/$value\",\n",
       "       \"https://scihub.copernicus.eu/dhus/odata/v1/Products('03092a4b-55fb-495d-96df-86ebba027560')/$value\",\n",
       "       \"https://scihub.copernicus.eu/dhus/odata/v1/Products('75a9ecf8-063c-44b7-a8fb-0e77b96f65f8')/$value\",\n",
       "       \"https://scihub.copernicus.eu/dhus/odata/v1/Products('a8125839-de84-4442-a703-f24d1a6a92b6')/$value\",\n",
       "       \"https://scihub.copernicus.eu/dhus/odata/v1/Products('8a26799f-8e11-4750-b7d2-d59dc6bedf8f')/$value\",\n",
       "       \"https://scihub.copernicus.eu/dhus/odata/v1/Products('17c6f139-d30c-433a-91fc-fdf71c62546c')/$value\",\n",
       "       \"https://scihub.copernicus.eu/dhus/odata/v1/Products('c343e174-50eb-4dd4-b943-31e49c1485cc')/$value\",\n",
       "       \"https://scihub.copernicus.eu/dhus/odata/v1/Products('80e1edf1-d24e-4a73-a31e-5b69b900a90d')/$value\",\n",
       "       \"https://scihub.copernicus.eu/dhus/odata/v1/Products('43f18968-51ff-49ec-b842-7ff742971b3a')/$value\",\n",
       "       \"https://scihub.copernicus.eu/dhus/odata/v1/Products('4fada907-1780-474a-a162-e53306d77c69')/$value\",\n",
       "       \"https://scihub.copernicus.eu/dhus/odata/v1/Products('7731e1a4-5967-4e77-8d9d-d2767b35fa10')/$value\",\n",
       "       \"https://scihub.copernicus.eu/dhus/odata/v1/Products('a6281cf4-d4ad-4c25-9be0-03573044921c')/$value\",\n",
       "       \"https://scihub.copernicus.eu/dhus/odata/v1/Products('f2b42e51-f71d-4e26-a05d-a508e4ae1686')/$value\",\n",
       "       \"https://scihub.copernicus.eu/dhus/odata/v1/Products('4d3dd51c-8e17-44ef-8f12-150376a08f37')/$value\",\n",
       "       \"https://scihub.copernicus.eu/dhus/odata/v1/Products('b0d8b31b-62df-42d0-a595-c71815e58b98')/$value\",\n",
       "       \"https://scihub.copernicus.eu/dhus/odata/v1/Products('4f5a6536-8666-469f-8686-83731f24a8eb')/$value\",\n",
       "       \"https://scihub.copernicus.eu/dhus/odata/v1/Products('fa9108d0-91d2-4a07-b9bc-ed91405c5b81')/$value\",\n",
       "       \"https://scihub.copernicus.eu/dhus/odata/v1/Products('d365ed89-95e1-44cd-885b-ceb883750ba2')/$value\",\n",
       "       \"https://scihub.copernicus.eu/dhus/odata/v1/Products('69909bd4-9844-4078-8c80-3dbb256a85a0')/$value\",\n",
       "       \"https://scihub.copernicus.eu/dhus/odata/v1/Products('d010affc-89bc-4f8f-a58e-c3fa14da4208')/$value\",\n",
       "       \"https://scihub.copernicus.eu/dhus/odata/v1/Products('65ee47ef-b935-40c2-9f9d-f9661f0ed585')/$value\",\n",
       "       \"https://scihub.copernicus.eu/dhus/odata/v1/Products('dcf55f96-6512-4505-aef6-82052c6d2db5')/$value\",\n",
       "       \"https://scihub.copernicus.eu/dhus/odata/v1/Products('e7dcf175-13d4-4893-af4b-03f8251293e1')/$value\",\n",
       "       \"https://scihub.copernicus.eu/dhus/odata/v1/Products('ba7d4751-6fc8-448a-82b4-8c20be1edb93')/$value\",\n",
       "       \"https://scihub.copernicus.eu/dhus/odata/v1/Products('a4131c33-0192-4d93-ae2a-2bd76b491002')/$value\",\n",
       "       \"https://scihub.copernicus.eu/dhus/odata/v1/Products('e1fae632-1c07-4b8b-bbb3-018269f65f82')/$value\",\n",
       "       \"https://scihub.copernicus.eu/dhus/odata/v1/Products('ea225400-6ab8-4e51-bc53-b9eb349bdbba')/$value\",\n",
       "       \"https://scihub.copernicus.eu/dhus/odata/v1/Products('7905123c-f292-439c-91db-e58c740927ed')/$value\",\n",
       "       \"https://scihub.copernicus.eu/dhus/odata/v1/Products('7341398c-a126-4030-b70a-c7809c7cfa10')/$value\",\n",
       "       \"https://scihub.copernicus.eu/dhus/odata/v1/Products('5d3dff4e-25e0-4178-b8b6-79cc4dcf37ea')/$value\",\n",
       "       \"https://scihub.copernicus.eu/dhus/odata/v1/Products('fa4254b0-230b-42a9-8cb3-86d4f0ad046d')/$value\",\n",
       "       \"https://scihub.copernicus.eu/dhus/odata/v1/Products('819bb540-4f4b-4127-a6d2-4ca8bfeb7655')/$value\",\n",
       "       \"https://scihub.copernicus.eu/dhus/odata/v1/Products('f1417b28-0c03-43cc-8aa1-f2eb618bb870')/$value\",\n",
       "       \"https://scihub.copernicus.eu/dhus/odata/v1/Products('fa75c22d-abc4-490a-afae-90000910965e')/$value\",\n",
       "       \"https://scihub.copernicus.eu/dhus/odata/v1/Products('41799bbb-6d12-4e0b-b882-d191e3957def')/$value\",\n",
       "       \"https://scihub.copernicus.eu/dhus/odata/v1/Products('fc016b97-3af4-4aee-b70e-98d1b472ac42')/$value\",\n",
       "       \"https://scihub.copernicus.eu/dhus/odata/v1/Products('90a5d80c-f29e-4e17-bd08-829868412228')/$value\",\n",
       "       \"https://scihub.copernicus.eu/dhus/odata/v1/Products('01cc52c3-626b-465f-8378-5a024a0fb68d')/$value\",\n",
       "       \"https://scihub.copernicus.eu/dhus/odata/v1/Products('0048c661-8257-4b7b-9d88-a1cf53da76d8')/$value\",\n",
       "       \"https://scihub.copernicus.eu/dhus/odata/v1/Products('1884ff6f-7a07-4a1f-8ed9-60ebc96e2cc9')/$value\",\n",
       "       \"https://scihub.copernicus.eu/dhus/odata/v1/Products('b72d3f7c-1272-4805-b94d-e85cc57a0513')/$value\",\n",
       "       \"https://scihub.copernicus.eu/dhus/odata/v1/Products('d58ec5dc-0d34-48fb-a541-8f3dd04efb96')/$value\",\n",
       "       \"https://scihub.copernicus.eu/dhus/odata/v1/Products('de75fb83-3f01-4046-bd28-9cc7efcd9d89')/$value\",\n",
       "       \"https://scihub.copernicus.eu/dhus/odata/v1/Products('3fe3f769-5939-4c39-b1b4-349ba66bacb6')/$value\",\n",
       "       \"https://scihub.copernicus.eu/dhus/odata/v1/Products('f9fa20d9-ac41-4bc2-97cc-daa969ad4d05')/$value\",\n",
       "       \"https://scihub.copernicus.eu/dhus/odata/v1/Products('b722188b-7f55-456f-a931-2b6e32495c69')/$value\",\n",
       "       \"https://scihub.copernicus.eu/dhus/odata/v1/Products('f76b01a8-3fff-4c68-8406-815df4e34908')/$value\",\n",
       "       \"https://scihub.copernicus.eu/dhus/odata/v1/Products('e86b015b-774e-4c1e-811b-29e652db60e0')/$value\",\n",
       "       \"https://scihub.copernicus.eu/dhus/odata/v1/Products('50ccc48c-ae47-474c-aa92-e28e33c6b791')/$value\",\n",
       "       \"https://scihub.copernicus.eu/dhus/odata/v1/Products('b28f0adb-f0d2-4770-b557-a072e6fe900d')/$value\",\n",
       "       \"https://scihub.copernicus.eu/dhus/odata/v1/Products('15e9a843-e5be-4277-94ab-3308788e5108')/$value\",\n",
       "       \"https://scihub.copernicus.eu/dhus/odata/v1/Products('26b173d3-67ae-42d6-85bd-110dedce1e71')/$value\",\n",
       "       \"https://scihub.copernicus.eu/dhus/odata/v1/Products('2955f76d-053e-43e0-a970-c5c9ba62d9a7')/$value\",\n",
       "       \"https://scihub.copernicus.eu/dhus/odata/v1/Products('b3b659a3-9b0a-47ff-81b9-3af44d783ef4')/$value\",\n",
       "       \"https://scihub.copernicus.eu/dhus/odata/v1/Products('208eeadd-715a-4208-a8b6-26c7b3562768')/$value\",\n",
       "       \"https://scihub.copernicus.eu/dhus/odata/v1/Products('d1a2767d-43d7-4920-82cb-8c6c4f13d586')/$value\",\n",
       "       \"https://scihub.copernicus.eu/dhus/odata/v1/Products('3e23f6f4-0170-4fab-ad19-08387aee4f78')/$value\",\n",
       "       \"https://scihub.copernicus.eu/dhus/odata/v1/Products('18b0edd5-8ecd-44a6-a523-aa12a435fe59')/$value\",\n",
       "       \"https://scihub.copernicus.eu/dhus/odata/v1/Products('d9a62c11-0875-4441-a3fa-69b12e52785b')/$value\",\n",
       "       \"https://scihub.copernicus.eu/dhus/odata/v1/Products('2c94bf7b-b011-4809-925a-f6dffbc7b0e2')/$value\",\n",
       "       \"https://scihub.copernicus.eu/dhus/odata/v1/Products('b36f0183-74b1-4b76-957a-842e54474395')/$value\",\n",
       "       \"https://scihub.copernicus.eu/dhus/odata/v1/Products('171b871b-7587-46ca-96c1-8685f857127a')/$value\",\n",
       "       \"https://scihub.copernicus.eu/dhus/odata/v1/Products('44065985-3239-46a4-9b84-fdc1a70a1eee')/$value\",\n",
       "       \"https://scihub.copernicus.eu/dhus/odata/v1/Products('ef007300-382d-490c-a63d-c16c266f15e6')/$value\",\n",
       "       \"https://scihub.copernicus.eu/dhus/odata/v1/Products('32be9196-bb21-4893-ad9b-cc57e72dac04')/$value\",\n",
       "       \"https://scihub.copernicus.eu/dhus/odata/v1/Products('98ab0083-1f7a-4d94-bc54-873b2957accd')/$value\",\n",
       "       \"https://scihub.copernicus.eu/dhus/odata/v1/Products('9bc7011a-3a05-4813-b1ae-c2601d570ff7')/$value\",\n",
       "       \"https://scihub.copernicus.eu/dhus/odata/v1/Products('389d6197-efb8-4bee-b452-43a43cfd2d8e')/$value\",\n",
       "       \"https://scihub.copernicus.eu/dhus/odata/v1/Products('c1882c41-65a9-49d7-b2bb-d1200c8e6337')/$value\",\n",
       "       \"https://scihub.copernicus.eu/dhus/odata/v1/Products('07f9c75a-f0dd-4b70-9c87-0710c4fd5294')/$value\",\n",
       "       \"https://scihub.copernicus.eu/dhus/odata/v1/Products('bc4224f8-0256-4dbd-a462-38bc28859d62')/$value\",\n",
       "       \"https://scihub.copernicus.eu/dhus/odata/v1/Products('c35e2597-eef2-45f5-8815-077fd1206cad')/$value\",\n",
       "       \"https://scihub.copernicus.eu/dhus/odata/v1/Products('a04c4559-a311-4dac-9c37-a9bb748ea526')/$value\",\n",
       "       \"https://scihub.copernicus.eu/dhus/odata/v1/Products('963870dc-1c8a-461c-9125-89be55e8aeb7')/$value\",\n",
       "       \"https://scihub.copernicus.eu/dhus/odata/v1/Products('b782aa2b-6591-4468-9557-a4063745d1e6')/$value\",\n",
       "       \"https://scihub.copernicus.eu/dhus/odata/v1/Products('1d92e54a-ba55-4582-8459-7fef31bfd2c9')/$value\",\n",
       "       \"https://scihub.copernicus.eu/dhus/odata/v1/Products('c68ffba2-d58c-4cd0-ad27-eb91abac989b')/$value\",\n",
       "       \"https://scihub.copernicus.eu/dhus/odata/v1/Products('688f15fc-16d1-4a10-95b4-e094a89870a9')/$value\",\n",
       "       \"https://scihub.copernicus.eu/dhus/odata/v1/Products('98f5923e-e233-4be7-854a-e31754d4df55')/$value\",\n",
       "       \"https://scihub.copernicus.eu/dhus/odata/v1/Products('31bd3077-6d51-43a5-bf10-b3a1a9b3025e')/$value\",\n",
       "       \"https://scihub.copernicus.eu/dhus/odata/v1/Products('41a7177b-c0cd-4d30-84dc-767f417c20ef')/$value\",\n",
       "       \"https://scihub.copernicus.eu/dhus/odata/v1/Products('ad0e9874-6eba-42be-8666-9e6b35e38bed')/$value\",\n",
       "       \"https://scihub.copernicus.eu/dhus/odata/v1/Products('ef43bc64-df7b-4e15-93b4-4b9b94d58476')/$value\",\n",
       "       \"https://scihub.copernicus.eu/dhus/odata/v1/Products('0888e4f6-03bc-4df0-b5c1-a1bbe55d0f88')/$value\",\n",
       "       \"https://scihub.copernicus.eu/dhus/odata/v1/Products('736a7adf-91c1-417c-b675-6ee9ea2c5fa4')/$value\",\n",
       "       \"https://scihub.copernicus.eu/dhus/odata/v1/Products('ec9bd6ac-54d9-426f-87a4-46f0170f8caa')/$value\",\n",
       "       \"https://scihub.copernicus.eu/dhus/odata/v1/Products('5d63066e-92c2-4bfc-87a1-0088b716044b')/$value\",\n",
       "       \"https://scihub.copernicus.eu/dhus/odata/v1/Products('a21d432f-e97c-4e0c-b28b-d09ecfb7262e')/$value\",\n",
       "       \"https://scihub.copernicus.eu/dhus/odata/v1/Products('a40be663-133b-4ed3-98f4-b01b41606d60')/$value\",\n",
       "       \"https://scihub.copernicus.eu/dhus/odata/v1/Products('3e427366-6e20-4078-adfa-5897a2a192cd')/$value\",\n",
       "       \"https://scihub.copernicus.eu/dhus/odata/v1/Products('f950133d-4f66-465f-86f5-e0e6b3e02a1b')/$value\",\n",
       "       \"https://scihub.copernicus.eu/dhus/odata/v1/Products('4fb4a012-6c3b-44c8-9826-57e8b3a86784')/$value\",\n",
       "       \"https://scihub.copernicus.eu/dhus/odata/v1/Products('014eabfb-1e78-4ad3-bf62-e6c2703fa1b1')/$value\",\n",
       "       \"https://scihub.copernicus.eu/dhus/odata/v1/Products('a6b9af4d-6111-4c25-9575-94887029efd7')/$value\",\n",
       "       \"https://scihub.copernicus.eu/dhus/odata/v1/Products('51f3cbb9-c48e-4b54-bf21-17e41e877b56')/$value\",\n",
       "       \"https://scihub.copernicus.eu/dhus/odata/v1/Products('0da7b113-0ed7-46c4-82d0-a049d3ef45ba')/$value\",\n",
       "       \"https://scihub.copernicus.eu/dhus/odata/v1/Products('5673f915-a2ef-4a67-b70b-6ee7b3b074cb')/$value\",\n",
       "       \"https://scihub.copernicus.eu/dhus/odata/v1/Products('c9f20db8-4d14-4bfb-a3a2-259978e1803a')/$value\",\n",
       "       \"https://scihub.copernicus.eu/dhus/odata/v1/Products('8c6a6724-b2ac-467f-bb64-1f5feb11b6f7')/$value\",\n",
       "       \"https://scihub.copernicus.eu/dhus/odata/v1/Products('c9bbb7ee-e89a-4001-bf8a-bf4af87978dc')/$value\",\n",
       "       \"https://scihub.copernicus.eu/dhus/odata/v1/Products('969d4796-3618-44f8-937c-0c8b8aa94e38')/$value\",\n",
       "       \"https://scihub.copernicus.eu/dhus/odata/v1/Products('998909cc-572e-4240-bc43-5109cc87a1f5')/$value\",\n",
       "       \"https://scihub.copernicus.eu/dhus/odata/v1/Products('5dca1908-64d7-4d44-913b-b9f44718f7c0')/$value\",\n",
       "       \"https://scihub.copernicus.eu/dhus/odata/v1/Products('bbd6d550-1788-4f6f-a19b-ad5c824686d9')/$value\",\n",
       "       \"https://scihub.copernicus.eu/dhus/odata/v1/Products('e69b8b27-650b-46cc-830d-5955432c614f')/$value\",\n",
       "       \"https://scihub.copernicus.eu/dhus/odata/v1/Products('7a7c5ea5-c82a-48af-9af3-db96e77587a1')/$value\",\n",
       "       \"https://scihub.copernicus.eu/dhus/odata/v1/Products('b8251d5a-6a9f-41c6-8865-c485886d3225')/$value\",\n",
       "       \"https://scihub.copernicus.eu/dhus/odata/v1/Products('88c69e38-0bf1-4e2e-aac3-558615044e14')/$value\",\n",
       "       \"https://scihub.copernicus.eu/dhus/odata/v1/Products('d8361ee8-8707-48c7-93d8-19dbda91fe9c')/$value\",\n",
       "       \"https://scihub.copernicus.eu/dhus/odata/v1/Products('bf59af19-0ae5-4a53-8b14-7116a6e43cc4')/$value\",\n",
       "       \"https://scihub.copernicus.eu/dhus/odata/v1/Products('f2cd469d-ada8-4711-84c8-30eb3bfd6fc0')/$value\",\n",
       "       \"https://scihub.copernicus.eu/dhus/odata/v1/Products('f0b85f37-04a2-4c41-bf43-03751bf71b42')/$value\",\n",
       "       \"https://scihub.copernicus.eu/dhus/odata/v1/Products('782fde30-5765-4f29-97ec-80cd4857cd02')/$value\",\n",
       "       \"https://scihub.copernicus.eu/dhus/odata/v1/Products('2a13f1ab-4452-481a-b792-bab718c38098')/$value\",\n",
       "       \"https://scihub.copernicus.eu/dhus/odata/v1/Products('93dc1ebf-0927-43ff-bacc-3517188d3b7b')/$value\",\n",
       "       \"https://scihub.copernicus.eu/dhus/odata/v1/Products('ba7a60fa-339d-4155-9608-7c27b5e0566c')/$value\",\n",
       "       \"https://scihub.copernicus.eu/dhus/odata/v1/Products('d04223f5-0a30-4964-97d2-694a9a340b19')/$value\",\n",
       "       \"https://scihub.copernicus.eu/dhus/odata/v1/Products('38f29f03-7512-499a-9e84-953660a15a23')/$value\",\n",
       "       \"https://scihub.copernicus.eu/dhus/odata/v1/Products('62d7e6dd-258e-4d6c-86a5-3a69bc0c22a4')/$value\",\n",
       "       \"https://scihub.copernicus.eu/dhus/odata/v1/Products('ebacfe7f-e2fd-4589-aea3-e8e15bd592a9')/$value\",\n",
       "       \"https://scihub.copernicus.eu/dhus/odata/v1/Products('f6f4ef33-e492-417b-9aa6-0e7885ffb826')/$value\",\n",
       "       \"https://scihub.copernicus.eu/dhus/odata/v1/Products('cd1d1b5e-604c-44c5-85d4-91fe000ff455')/$value\",\n",
       "       \"https://scihub.copernicus.eu/dhus/odata/v1/Products('89de7f01-1a11-4948-952a-cdb6d9877a83')/$value\",\n",
       "       \"https://scihub.copernicus.eu/dhus/odata/v1/Products('15645282-ea6f-4285-92de-d10a440e909b')/$value\",\n",
       "       \"https://scihub.copernicus.eu/dhus/odata/v1/Products('6242e7c2-0db7-4afb-9309-064894069bd0')/$value\",\n",
       "       \"https://scihub.copernicus.eu/dhus/odata/v1/Products('1bdf135d-1dc2-4799-9271-d4f2aa2ae7ec')/$value\",\n",
       "       \"https://scihub.copernicus.eu/dhus/odata/v1/Products('a31711b5-04f7-44a1-a837-e4eb30f63a82')/$value\",\n",
       "       \"https://scihub.copernicus.eu/dhus/odata/v1/Products('bd0410e2-b4c1-47d7-9049-2982e7f1df17')/$value\",\n",
       "       \"https://scihub.copernicus.eu/dhus/odata/v1/Products('1a7b52aa-f0b2-495d-ac69-aab3cccfae03')/$value\",\n",
       "       \"https://scihub.copernicus.eu/dhus/odata/v1/Products('406b47ba-6c77-4129-977c-7dc0de45bfdd')/$value\",\n",
       "       \"https://scihub.copernicus.eu/dhus/odata/v1/Products('307e9f5c-ce3e-423c-8446-856be9ef0117')/$value\",\n",
       "       \"https://scihub.copernicus.eu/dhus/odata/v1/Products('06f1dfa4-ce0a-42f5-898d-52c227b6dbc3')/$value\",\n",
       "       \"https://scihub.copernicus.eu/dhus/odata/v1/Products('8ed3afad-82e3-4ec7-ac3a-9a8a12397800')/$value\",\n",
       "       \"https://scihub.copernicus.eu/dhus/odata/v1/Products('e7cf4464-e7ea-4e30-8450-423086df0839')/$value\",\n",
       "       \"https://scihub.copernicus.eu/dhus/odata/v1/Products('7e7c29d9-4952-4a01-8212-961df1869274')/$value\",\n",
       "       \"https://scihub.copernicus.eu/dhus/odata/v1/Products('676938ee-556e-49f8-9fa5-0adf9ecd4dd7')/$value\",\n",
       "       \"https://scihub.copernicus.eu/dhus/odata/v1/Products('c20b1bcc-d1a4-4aa6-ac0e-7836d0189c51')/$value\",\n",
       "       \"https://scihub.copernicus.eu/dhus/odata/v1/Products('fde18e56-5307-4cce-8701-63398d96a825')/$value\",\n",
       "       \"https://scihub.copernicus.eu/dhus/odata/v1/Products('eb3fcd27-76f3-4281-852b-5f37023e7b50')/$value\",\n",
       "       \"https://scihub.copernicus.eu/dhus/odata/v1/Products('04ce578a-9157-4751-aa81-4be62f3691ef')/$value\",\n",
       "       \"https://scihub.copernicus.eu/dhus/odata/v1/Products('ee215318-60ad-4b50-9c74-73d295bd69e8')/$value\",\n",
       "       \"https://scihub.copernicus.eu/dhus/odata/v1/Products('3966ea99-fef5-4413-82b0-25ee247e958f')/$value\",\n",
       "       \"https://scihub.copernicus.eu/dhus/odata/v1/Products('d8bf5871-9a68-4506-bf89-1b7dc4e17d40')/$value\",\n",
       "       \"https://scihub.copernicus.eu/dhus/odata/v1/Products('cf274929-9677-434c-be80-b8d4d38f94ca')/$value\",\n",
       "       \"https://scihub.copernicus.eu/dhus/odata/v1/Products('0c689104-198a-4f45-ad49-49e5a76c1cdf')/$value\",\n",
       "       \"https://scihub.copernicus.eu/dhus/odata/v1/Products('6b04edcf-fa81-4b19-8bd4-acbdf0a5e13a')/$value\",\n",
       "       \"https://scihub.copernicus.eu/dhus/odata/v1/Products('bbbfa54d-be19-4327-a872-6cde711104a2')/$value\",\n",
       "       \"https://scihub.copernicus.eu/dhus/odata/v1/Products('d2a01290-74a8-4c96-b01a-6f43ddd498f2')/$value\",\n",
       "       \"https://scihub.copernicus.eu/dhus/odata/v1/Products('c55ba936-586d-47fa-9d31-b9909515aa0f')/$value\",\n",
       "       \"https://scihub.copernicus.eu/dhus/odata/v1/Products('61133007-eb52-480d-8328-ae8d467ccdfb')/$value\",\n",
       "       \"https://scihub.copernicus.eu/dhus/odata/v1/Products('31a670f8-b33e-4b45-abb3-3defac6c563b')/$value\",\n",
       "       \"https://scihub.copernicus.eu/dhus/odata/v1/Products('70f08e0c-c107-428a-a8a8-6847bc85d6fb')/$value\",\n",
       "       \"https://scihub.copernicus.eu/dhus/odata/v1/Products('aeae098e-95e5-4ae0-bfb4-603c2714decb')/$value\",\n",
       "       \"https://scihub.copernicus.eu/dhus/odata/v1/Products('3ce36f58-492c-4138-9745-a871f452d76a')/$value\",\n",
       "       \"https://scihub.copernicus.eu/dhus/odata/v1/Products('0a139db1-34d5-4e8c-95e3-08086a4a88bb')/$value\",\n",
       "       \"https://scihub.copernicus.eu/dhus/odata/v1/Products('80055a11-f309-47a8-a24f-0e41f42e2ca8')/$value\",\n",
       "       \"https://scihub.copernicus.eu/dhus/odata/v1/Products('be6feeba-6f8c-42f3-96ed-db2c861cfe76')/$value\",\n",
       "       \"https://scihub.copernicus.eu/dhus/odata/v1/Products('75e828cb-9d60-490e-9fef-24463bcb1893')/$value\",\n",
       "       \"https://scihub.copernicus.eu/dhus/odata/v1/Products('3e836a04-bd75-44c6-8b43-83c573e3b752')/$value\",\n",
       "       \"https://scihub.copernicus.eu/dhus/odata/v1/Products('1e94b8ce-bc8b-4de0-96bb-d3ab541086cd')/$value\",\n",
       "       \"https://scihub.copernicus.eu/dhus/odata/v1/Products('0e1569d7-7b53-47bb-a54d-567ce3e8c5f8')/$value\",\n",
       "       \"https://scihub.copernicus.eu/dhus/odata/v1/Products('2cb22262-de66-46f2-b2a4-66e23dcf938a')/$value\",\n",
       "       \"https://scihub.copernicus.eu/dhus/odata/v1/Products('916f7b3d-f689-433d-87cb-45abadb1562a')/$value\",\n",
       "       \"https://scihub.copernicus.eu/dhus/odata/v1/Products('5d8a7199-8213-4fc0-80ae-29e18b116afa')/$value\",\n",
       "       \"https://scihub.copernicus.eu/dhus/odata/v1/Products('dbba05e3-c283-49fe-86cb-4916675c9040')/$value\",\n",
       "       \"https://scihub.copernicus.eu/dhus/odata/v1/Products('39510fc6-17be-4594-8e80-59b6e326a569')/$value\",\n",
       "       \"https://scihub.copernicus.eu/dhus/odata/v1/Products('3b6eebd9-68d0-4278-b086-9683fe10b62f')/$value\",\n",
       "       \"https://scihub.copernicus.eu/dhus/odata/v1/Products('9da9c01a-4715-4428-ae67-6428f5bfbd68')/$value\",\n",
       "       \"https://scihub.copernicus.eu/dhus/odata/v1/Products('79aee890-1b53-45ce-973b-a0569c35932c')/$value\",\n",
       "       \"https://scihub.copernicus.eu/dhus/odata/v1/Products('d1520675-541e-44af-99a1-50cd419c1ceb')/$value\",\n",
       "       \"https://scihub.copernicus.eu/dhus/odata/v1/Products('6c7f510a-1fb4-46a5-8c20-ac4e4917b4bc')/$value\",\n",
       "       \"https://scihub.copernicus.eu/dhus/odata/v1/Products('41fcf4f8-d924-4c8b-81a7-3306cae7ad20')/$value\",\n",
       "       \"https://scihub.copernicus.eu/dhus/odata/v1/Products('6c3fcb52-5553-4fac-9dc1-fcdcbe5561f0')/$value\",\n",
       "       \"https://scihub.copernicus.eu/dhus/odata/v1/Products('b7c892d5-1eaf-44bd-b3bd-26ff70024f94')/$value\",\n",
       "       \"https://scihub.copernicus.eu/dhus/odata/v1/Products('e9064b9b-2450-4797-a629-41cc11299775')/$value\",\n",
       "       \"https://scihub.copernicus.eu/dhus/odata/v1/Products('c2b1b612-4d39-4961-bfcd-3ea3a9b0372f')/$value\",\n",
       "       \"https://scihub.copernicus.eu/dhus/odata/v1/Products('91e86923-6d6f-4ee8-a52a-9b818494663a')/$value\",\n",
       "       \"https://scihub.copernicus.eu/dhus/odata/v1/Products('b43ab4c5-037a-48cb-a26d-0780295b223d')/$value\",\n",
       "       \"https://scihub.copernicus.eu/dhus/odata/v1/Products('8023828d-c174-4db5-be8f-f12e3de3be34')/$value\",\n",
       "       \"https://scihub.copernicus.eu/dhus/odata/v1/Products('1d4e498f-687f-4a33-ae4d-af35f3c5f6b8')/$value\",\n",
       "       \"https://scihub.copernicus.eu/dhus/odata/v1/Products('b4ac4c2c-90fa-46e0-98b4-0b2c70894918')/$value\",\n",
       "       \"https://scihub.copernicus.eu/dhus/odata/v1/Products('ff1f3934-48d9-443a-b69b-3bfb1b03c1f3')/$value\",\n",
       "       \"https://scihub.copernicus.eu/dhus/odata/v1/Products('2ae772c8-9c23-463b-b659-1ddbd1577fa3')/$value\",\n",
       "       \"https://scihub.copernicus.eu/dhus/odata/v1/Products('ef0e9bc4-0317-4415-be15-a81d33cbb50f')/$value\",\n",
       "       \"https://scihub.copernicus.eu/dhus/odata/v1/Products('755b12f9-4739-4a76-b6eb-93578d8d165c')/$value\",\n",
       "       \"https://scihub.copernicus.eu/dhus/odata/v1/Products('91146376-604e-479a-9292-22351992a0fd')/$value\",\n",
       "       \"https://scihub.copernicus.eu/dhus/odata/v1/Products('039b868c-ea38-405e-9591-ba2478ddd035')/$value\",\n",
       "       \"https://scihub.copernicus.eu/dhus/odata/v1/Products('9e89a9b2-6839-4c64-a35f-08844b91fec4')/$value\",\n",
       "       \"https://scihub.copernicus.eu/dhus/odata/v1/Products('ae1a9965-af2c-489b-9538-0eb553c056cd')/$value\",\n",
       "       \"https://scihub.copernicus.eu/dhus/odata/v1/Products('ce94c05b-121a-476e-9a9e-3a06891d701c')/$value\",\n",
       "       \"https://scihub.copernicus.eu/dhus/odata/v1/Products('67be7d60-1213-421e-a068-b829c75603b8')/$value\",\n",
       "       \"https://scihub.copernicus.eu/dhus/odata/v1/Products('959b7a4c-fdba-4be4-9059-552680ea4119')/$value\",\n",
       "       \"https://scihub.copernicus.eu/dhus/odata/v1/Products('4f754594-019c-4920-b494-32ea34055b44')/$value\",\n",
       "       \"https://scihub.copernicus.eu/dhus/odata/v1/Products('7fe68775-b0fe-4edb-a767-208a52d9ff59')/$value\",\n",
       "       \"https://scihub.copernicus.eu/dhus/odata/v1/Products('8c5220c9-5684-44ee-898e-ef1509a70a84')/$value\",\n",
       "       \"https://scihub.copernicus.eu/dhus/odata/v1/Products('e56acdac-ba67-44c1-8898-17390202d83a')/$value\",\n",
       "       \"https://scihub.copernicus.eu/dhus/odata/v1/Products('45d1d94e-4b3d-45c1-a359-52dad536683c')/$value\",\n",
       "       \"https://scihub.copernicus.eu/dhus/odata/v1/Products('e8612d9e-1f7c-432e-9df8-b3f83d419a01')/$value\",\n",
       "       \"https://scihub.copernicus.eu/dhus/odata/v1/Products('f3049ae2-071a-4a78-b4a0-b669c6923457')/$value\",\n",
       "       \"https://scihub.copernicus.eu/dhus/odata/v1/Products('e8d0dfbc-dd53-407e-a239-0924433b742e')/$value\",\n",
       "       \"https://scihub.copernicus.eu/dhus/odata/v1/Products('61c5e5ad-9b84-4efe-8090-8f5ab63c462e')/$value\",\n",
       "       \"https://scihub.copernicus.eu/dhus/odata/v1/Products('8b7ac16e-3466-4c85-97dd-c39aa84d5227')/$value\",\n",
       "       \"https://scihub.copernicus.eu/dhus/odata/v1/Products('c2081e4f-b984-4824-9838-7891644bebcd')/$value\",\n",
       "       \"https://scihub.copernicus.eu/dhus/odata/v1/Products('daa1431b-661d-4412-bba1-0fb914b29e11')/$value\",\n",
       "       \"https://scihub.copernicus.eu/dhus/odata/v1/Products('04a3431b-5c9d-4531-b354-59ffde9bbd00')/$value\",\n",
       "       \"https://scihub.copernicus.eu/dhus/odata/v1/Products('fd43659e-5be0-4430-b59a-6067395268c7')/$value\",\n",
       "       \"https://scihub.copernicus.eu/dhus/odata/v1/Products('baea7bbb-9258-47ea-8257-47dd353be7fa')/$value\",\n",
       "       \"https://scihub.copernicus.eu/dhus/odata/v1/Products('6643f915-9168-46cf-8271-66f7967848ea')/$value\",\n",
       "       \"https://scihub.copernicus.eu/dhus/odata/v1/Products('91048a29-73a3-48cc-910f-db12720bb5db')/$value\",\n",
       "       \"https://scihub.copernicus.eu/dhus/odata/v1/Products('ab906ff2-60b8-432b-bbe0-6205cd2caefa')/$value\",\n",
       "       \"https://scihub.copernicus.eu/dhus/odata/v1/Products('1643bab4-9f61-4111-a070-d85149b546c4')/$value\",\n",
       "       \"https://scihub.copernicus.eu/dhus/odata/v1/Products('826c8838-d568-4dd9-b6b8-b65fcb335ba3')/$value\",\n",
       "       \"https://scihub.copernicus.eu/dhus/odata/v1/Products('83b49223-3346-4c5e-8efb-2648254f117c')/$value\",\n",
       "       \"https://scihub.copernicus.eu/dhus/odata/v1/Products('36e2b2e7-0c39-4bd9-93e2-1c87d547c789')/$value\",\n",
       "       \"https://scihub.copernicus.eu/dhus/odata/v1/Products('3b5ce88e-3cb8-4732-8c18-04c593647f1a')/$value\",\n",
       "       \"https://scihub.copernicus.eu/dhus/odata/v1/Products('560f4cbf-3a0f-46c6-9c10-26824ba8d9ad')/$value\",\n",
       "       \"https://scihub.copernicus.eu/dhus/odata/v1/Products('ce182a4e-5b78-4a01-a003-4405a808afde')/$value\",\n",
       "       \"https://scihub.copernicus.eu/dhus/odata/v1/Products('d3bc5536-fb3a-41b9-adb0-e40b815f4390')/$value\",\n",
       "       \"https://scihub.copernicus.eu/dhus/odata/v1/Products('f7443319-ebf5-49bb-a506-06687d469972')/$value\",\n",
       "       \"https://scihub.copernicus.eu/dhus/odata/v1/Products('18d7f125-11c9-48c5-9894-a5648954523c')/$value\",\n",
       "       \"https://scihub.copernicus.eu/dhus/odata/v1/Products('3677611f-8099-414b-ba54-334c7e76d03a')/$value\",\n",
       "       \"https://scihub.copernicus.eu/dhus/odata/v1/Products('3d58329f-c3b4-4c2e-89d4-793197dd3b60')/$value\",\n",
       "       \"https://scihub.copernicus.eu/dhus/odata/v1/Products('77e64935-29a1-45b3-bcf2-610487a25bc0')/$value\",\n",
       "       \"https://scihub.copernicus.eu/dhus/odata/v1/Products('58aeb0b6-28d1-4c0a-a23e-ac6140887eb4')/$value\",\n",
       "       \"https://scihub.copernicus.eu/dhus/odata/v1/Products('61fed9d8-62f0-41f6-beae-1725783aac52')/$value\",\n",
       "       \"https://scihub.copernicus.eu/dhus/odata/v1/Products('eeea359d-4987-4bed-b709-901f8b16f11b')/$value\",\n",
       "       \"https://scihub.copernicus.eu/dhus/odata/v1/Products('4fb25d3d-7a43-4360-9d4a-3da60c7167b8')/$value\",\n",
       "       \"https://scihub.copernicus.eu/dhus/odata/v1/Products('4b0eb099-f136-4d49-bd96-037b14fc2719')/$value\",\n",
       "       \"https://scihub.copernicus.eu/dhus/odata/v1/Products('91719880-7d1c-4963-bd8b-7b418ec03a4e')/$value\",\n",
       "       \"https://scihub.copernicus.eu/dhus/odata/v1/Products('fbed84a3-c915-464d-b827-87ad5a985d37')/$value\",\n",
       "       \"https://scihub.copernicus.eu/dhus/odata/v1/Products('20d0b7ba-22fd-429a-a74b-5f35249b0dcb')/$value\",\n",
       "       \"https://scihub.copernicus.eu/dhus/odata/v1/Products('41eea3be-25ea-4f2f-9662-fee3eb7f125d')/$value\",\n",
       "       \"https://scihub.copernicus.eu/dhus/odata/v1/Products('2ad1928f-5e47-41b5-8d19-e4009e0dce7b')/$value\",\n",
       "       \"https://scihub.copernicus.eu/dhus/odata/v1/Products('cf6b2bf3-a8e1-4968-94de-b03d9cedd66b')/$value\",\n",
       "       \"https://scihub.copernicus.eu/dhus/odata/v1/Products('f11b19f5-aacc-41d9-98e8-dbe0ed2c01fa')/$value\",\n",
       "       \"https://scihub.copernicus.eu/dhus/odata/v1/Products('9721f9d2-84c7-4ebd-87e6-70dcd2dfe79a')/$value\",\n",
       "       \"https://scihub.copernicus.eu/dhus/odata/v1/Products('5ad362ba-a884-4ff3-8068-3d53aaea9bb8')/$value\",\n",
       "       \"https://scihub.copernicus.eu/dhus/odata/v1/Products('bec96e8e-6f6b-416e-9b0b-e1b0975f4f0c')/$value\",\n",
       "       \"https://scihub.copernicus.eu/dhus/odata/v1/Products('d0d0855a-d28c-489b-8ade-5c0cfca8241d')/$value\",\n",
       "       \"https://scihub.copernicus.eu/dhus/odata/v1/Products('d077c428-73a6-438f-8812-73d396389dfb')/$value\",\n",
       "       \"https://scihub.copernicus.eu/dhus/odata/v1/Products('059c3efa-a97c-4664-916c-725f9bf189c8')/$value\",\n",
       "       \"https://scihub.copernicus.eu/dhus/odata/v1/Products('7afc2a26-5d75-4df6-bb6a-9dc1afada99b')/$value\",\n",
       "       \"https://scihub.copernicus.eu/dhus/odata/v1/Products('45d04060-1fae-478d-b9e7-5a799637af58')/$value\",\n",
       "       \"https://scihub.copernicus.eu/dhus/odata/v1/Products('2c69cfde-6e1c-427a-b3fb-e46025518404')/$value\",\n",
       "       \"https://scihub.copernicus.eu/dhus/odata/v1/Products('274ee3c9-c0cb-4afe-9861-d7d33775d6bf')/$value\",\n",
       "       \"https://scihub.copernicus.eu/dhus/odata/v1/Products('1930381f-ae09-43a8-a7d8-84ec1733f13d')/$value\",\n",
       "       \"https://scihub.copernicus.eu/dhus/odata/v1/Products('009896f8-8091-4a8b-b2e8-e08f1303fe8d')/$value\",\n",
       "       \"https://scihub.copernicus.eu/dhus/odata/v1/Products('5140f53c-8ca4-4563-9a2c-c2f6c998a114')/$value\",\n",
       "       \"https://scihub.copernicus.eu/dhus/odata/v1/Products('77bb4331-c937-4878-88a5-0a89d55bd98f')/$value\",\n",
       "       \"https://scihub.copernicus.eu/dhus/odata/v1/Products('6d327145-0db6-49bd-8003-5d2a8d73aa14')/$value\",\n",
       "       \"https://scihub.copernicus.eu/dhus/odata/v1/Products('47294c49-940f-4a0f-820f-4e44d9d9b454')/$value\",\n",
       "       \"https://scihub.copernicus.eu/dhus/odata/v1/Products('e3a5f669-b69f-4d50-a1ea-30d628da33dd')/$value\",\n",
       "       \"https://scihub.copernicus.eu/dhus/odata/v1/Products('ebc21c62-88ae-4d42-957c-dfa30c18d963')/$value\",\n",
       "       \"https://scihub.copernicus.eu/dhus/odata/v1/Products('9e76b418-a2fe-4b3c-926b-341439167507')/$value\",\n",
       "       \"https://scihub.copernicus.eu/dhus/odata/v1/Products('528c1a0e-6e83-440f-8aff-d97f09c8a1e4')/$value\",\n",
       "       \"https://scihub.copernicus.eu/dhus/odata/v1/Products('298c7edd-59cc-44ed-8004-f9c9705e241b')/$value\",\n",
       "       \"https://scihub.copernicus.eu/dhus/odata/v1/Products('1b50d9b1-eeff-48d8-b9f2-2c7b6aef871d')/$value\",\n",
       "       \"https://scihub.copernicus.eu/dhus/odata/v1/Products('65a8a418-38b9-4102-8ab6-a288b4ecc288')/$value\",\n",
       "       \"https://scihub.copernicus.eu/dhus/odata/v1/Products('8c858a84-cf4c-42ae-9e04-2287d0ebffca')/$value\",\n",
       "       \"https://scihub.copernicus.eu/dhus/odata/v1/Products('fbd54c5d-2a81-498c-999c-c584b0ebf2b7')/$value\",\n",
       "       \"https://scihub.copernicus.eu/dhus/odata/v1/Products('ee0ce254-584b-4bca-8f1b-696f92b76277')/$value\",\n",
       "       \"https://scihub.copernicus.eu/dhus/odata/v1/Products('1438ae91-dbd5-45c0-8161-dd06956ccdc0')/$value\",\n",
       "       \"https://scihub.copernicus.eu/dhus/odata/v1/Products('ee58e0b3-1708-44a0-824d-2b996238608d')/$value\",\n",
       "       \"https://scihub.copernicus.eu/dhus/odata/v1/Products('2310ca19-c252-4d32-89e1-ae664378eefb')/$value\",\n",
       "       \"https://scihub.copernicus.eu/dhus/odata/v1/Products('1abb6060-2781-4905-ba32-1c987ed0f468')/$value\",\n",
       "       \"https://scihub.copernicus.eu/dhus/odata/v1/Products('daac8f38-06c6-436b-9dbc-65d503cbe319')/$value\",\n",
       "       \"https://scihub.copernicus.eu/dhus/odata/v1/Products('5978d504-2041-4a3e-817b-eeb21efc06bf')/$value\",\n",
       "       \"https://scihub.copernicus.eu/dhus/odata/v1/Products('106012aa-f9c5-4157-9bbc-c731a87c2f21')/$value\",\n",
       "       \"https://scihub.copernicus.eu/dhus/odata/v1/Products('e68f3014-8799-4ac6-8506-0bc4c743005a')/$value\",\n",
       "       \"https://scihub.copernicus.eu/dhus/odata/v1/Products('d36587f3-d714-41a3-b7bf-133f45a46dfd')/$value\"],\n",
       "      dtype=object)"
      ]
     },
     "execution_count": 47,
     "metadata": {},
     "output_type": "execute_result"
    }
   ],
   "source": [
    "products3.x_link.values"
   ]
  },
  {
   "cell_type": "code",
   "execution_count": 33,
   "id": "catholic-carter",
   "metadata": {},
   "outputs": [],
   "source": [
    "a=codes[2]"
   ]
  },
  {
   "cell_type": "code",
   "execution_count": 34,
   "id": "retained-jackson",
   "metadata": {},
   "outputs": [
    {
     "name": "stderr",
     "output_type": "stream",
     "text": [
      "Found 0 products\n"
     ]
    }
   ],
   "source": [
    "product=api.query(filename=a)"
   ]
  },
  {
   "cell_type": "code",
   "execution_count": null,
   "id": "wanted-reasoning",
   "metadata": {},
   "outputs": [],
   "source": []
  },
  {
   "cell_type": "code",
   "execution_count": 51,
   "id": "respected-comparative",
   "metadata": {},
   "outputs": [
    {
     "ename": "ServerError",
     "evalue": "HTTP status 200 OK: API response not valid. JSON decoding failed.",
     "output_type": "error",
     "traceback": [
      "\u001b[0;31m---------------------------------------------------------------------------\u001b[0m",
      "\u001b[0;31mKeyError\u001b[0m                                  Traceback (most recent call last)",
      "\u001b[0;32m~/sentinelsat/sentinelsat/sentinel.py\u001b[0m in \u001b[0;36m_load_subquery\u001b[0;34m(self, query, order_by, limit, offset)\u001b[0m\n\u001b[1;32m    401\u001b[0m             \u001b[0mjson_feed\u001b[0m \u001b[0;34m=\u001b[0m \u001b[0mresponse\u001b[0m\u001b[0;34m.\u001b[0m\u001b[0mjson\u001b[0m\u001b[0;34m(\u001b[0m\u001b[0;34m)\u001b[0m\u001b[0;34m[\u001b[0m\u001b[0;34m\"feed\"\u001b[0m\u001b[0;34m]\u001b[0m\u001b[0;34m\u001b[0m\u001b[0;34m\u001b[0m\u001b[0m\n\u001b[0;32m--> 402\u001b[0;31m             \u001b[0;32mif\u001b[0m \u001b[0mjson_feed\u001b[0m\u001b[0;34m[\u001b[0m\u001b[0;34m\"opensearch:totalResults\"\u001b[0m\u001b[0;34m]\u001b[0m \u001b[0;32mis\u001b[0m \u001b[0;32mNone\u001b[0m\u001b[0;34m:\u001b[0m\u001b[0;34m\u001b[0m\u001b[0;34m\u001b[0m\u001b[0m\n\u001b[0m\u001b[1;32m    403\u001b[0m                 \u001b[0;31m# We are using some unintended behavior of the server that a null is\u001b[0m\u001b[0;34m\u001b[0m\u001b[0;34m\u001b[0m\u001b[0;34m\u001b[0m\u001b[0m\n",
      "\u001b[0;31mKeyError\u001b[0m: 'opensearch:totalResults'",
      "\nDuring handling of the above exception, another exception occurred:\n",
      "\u001b[0;31mServerError\u001b[0m                               Traceback (most recent call last)",
      "\u001b[0;32m<ipython-input-51-9bfabedb786b>\u001b[0m in \u001b[0;36m<module>\u001b[0;34m\u001b[0m\n\u001b[1;32m      1\u001b[0m \u001b[0mapi\u001b[0m \u001b[0;34m=\u001b[0m \u001b[0mSentinelAPI\u001b[0m\u001b[0;34m(\u001b[0m\u001b[0;34m'ellenbuckley'\u001b[0m\u001b[0;34m,\u001b[0m \u001b[0;34m'snwllw12'\u001b[0m\u001b[0;34m,\u001b[0m \u001b[0;34m'https://scihub.copernicus.eu/dhus'\u001b[0m\u001b[0;34m)\u001b[0m\u001b[0;34m\u001b[0m\u001b[0;34m\u001b[0m\u001b[0m\n\u001b[1;32m      2\u001b[0m \u001b[0;32mfor\u001b[0m \u001b[0ma\u001b[0m \u001b[0;32min\u001b[0m \u001b[0mcodes\u001b[0m\u001b[0;34m:\u001b[0m\u001b[0;34m\u001b[0m\u001b[0;34m\u001b[0m\u001b[0m\n\u001b[0;32m----> 3\u001b[0;31m     \u001b[0mproduct\u001b[0m\u001b[0;34m=\u001b[0m\u001b[0mapi\u001b[0m\u001b[0;34m.\u001b[0m\u001b[0mquery\u001b[0m\u001b[0;34m(\u001b[0m\u001b[0ma\u001b[0m\u001b[0;34m)\u001b[0m\u001b[0;34m\u001b[0m\u001b[0;34m\u001b[0m\u001b[0m\n\u001b[0m",
      "\u001b[0;32m~/sentinelsat/sentinelsat/sentinel.py\u001b[0m in \u001b[0;36mquery\u001b[0;34m(self, area, date, raw, area_relation, order_by, limit, offset, **keywords)\u001b[0m\n\u001b[1;32m    214\u001b[0m         )\n\u001b[1;32m    215\u001b[0m         \u001b[0mformatted_order_by\u001b[0m \u001b[0;34m=\u001b[0m \u001b[0m_format_order_by\u001b[0m\u001b[0;34m(\u001b[0m\u001b[0morder_by\u001b[0m\u001b[0;34m)\u001b[0m\u001b[0;34m\u001b[0m\u001b[0;34m\u001b[0m\u001b[0m\n\u001b[0;32m--> 216\u001b[0;31m         \u001b[0mresponse\u001b[0m\u001b[0;34m,\u001b[0m \u001b[0mcount\u001b[0m \u001b[0;34m=\u001b[0m \u001b[0mself\u001b[0m\u001b[0;34m.\u001b[0m\u001b[0m_load_query\u001b[0m\u001b[0;34m(\u001b[0m\u001b[0mquery\u001b[0m\u001b[0;34m,\u001b[0m \u001b[0mformatted_order_by\u001b[0m\u001b[0;34m,\u001b[0m \u001b[0mlimit\u001b[0m\u001b[0;34m,\u001b[0m \u001b[0moffset\u001b[0m\u001b[0;34m)\u001b[0m\u001b[0;34m\u001b[0m\u001b[0;34m\u001b[0m\u001b[0m\n\u001b[0m\u001b[1;32m    217\u001b[0m         \u001b[0mself\u001b[0m\u001b[0;34m.\u001b[0m\u001b[0mlogger\u001b[0m\u001b[0;34m.\u001b[0m\u001b[0minfo\u001b[0m\u001b[0;34m(\u001b[0m\u001b[0;34m\"Found %s products\"\u001b[0m\u001b[0;34m,\u001b[0m \u001b[0mcount\u001b[0m\u001b[0;34m)\u001b[0m\u001b[0;34m\u001b[0m\u001b[0;34m\u001b[0m\u001b[0m\n\u001b[1;32m    218\u001b[0m         \u001b[0;32mreturn\u001b[0m \u001b[0m_parse_opensearch_response\u001b[0m\u001b[0;34m(\u001b[0m\u001b[0mresponse\u001b[0m\u001b[0;34m)\u001b[0m\u001b[0;34m\u001b[0m\u001b[0;34m\u001b[0m\u001b[0m\n",
      "\u001b[0;32m~/sentinelsat/sentinelsat/sentinel.py\u001b[0m in \u001b[0;36m_load_query\u001b[0;34m(self, query, order_by, limit, offset)\u001b[0m\n\u001b[1;32m    354\u001b[0m \u001b[0;34m\u001b[0m\u001b[0m\n\u001b[1;32m    355\u001b[0m     \u001b[0;32mdef\u001b[0m \u001b[0m_load_query\u001b[0m\u001b[0;34m(\u001b[0m\u001b[0mself\u001b[0m\u001b[0;34m,\u001b[0m \u001b[0mquery\u001b[0m\u001b[0;34m,\u001b[0m \u001b[0morder_by\u001b[0m\u001b[0;34m=\u001b[0m\u001b[0;32mNone\u001b[0m\u001b[0;34m,\u001b[0m \u001b[0mlimit\u001b[0m\u001b[0;34m=\u001b[0m\u001b[0;32mNone\u001b[0m\u001b[0;34m,\u001b[0m \u001b[0moffset\u001b[0m\u001b[0;34m=\u001b[0m\u001b[0;36m0\u001b[0m\u001b[0;34m)\u001b[0m\u001b[0;34m:\u001b[0m\u001b[0;34m\u001b[0m\u001b[0;34m\u001b[0m\u001b[0m\n\u001b[0;32m--> 356\u001b[0;31m         \u001b[0mproducts\u001b[0m\u001b[0;34m,\u001b[0m \u001b[0mcount\u001b[0m \u001b[0;34m=\u001b[0m \u001b[0mself\u001b[0m\u001b[0;34m.\u001b[0m\u001b[0m_load_subquery\u001b[0m\u001b[0;34m(\u001b[0m\u001b[0mquery\u001b[0m\u001b[0;34m,\u001b[0m \u001b[0morder_by\u001b[0m\u001b[0;34m,\u001b[0m \u001b[0mlimit\u001b[0m\u001b[0;34m,\u001b[0m \u001b[0moffset\u001b[0m\u001b[0;34m)\u001b[0m\u001b[0;34m\u001b[0m\u001b[0;34m\u001b[0m\u001b[0m\n\u001b[0m\u001b[1;32m    357\u001b[0m \u001b[0;34m\u001b[0m\u001b[0m\n\u001b[1;32m    358\u001b[0m         \u001b[0;31m# repeat query until all results have been loaded\u001b[0m\u001b[0;34m\u001b[0m\u001b[0;34m\u001b[0m\u001b[0;34m\u001b[0m\u001b[0m\n",
      "\u001b[0;32m~/sentinelsat/sentinelsat/sentinel.py\u001b[0m in \u001b[0;36m_load_subquery\u001b[0;34m(self, query, order_by, limit, offset)\u001b[0m\n\u001b[1;32m    408\u001b[0m             \u001b[0mtotal_results\u001b[0m \u001b[0;34m=\u001b[0m \u001b[0mint\u001b[0m\u001b[0;34m(\u001b[0m\u001b[0mjson_feed\u001b[0m\u001b[0;34m[\u001b[0m\u001b[0;34m\"opensearch:totalResults\"\u001b[0m\u001b[0;34m]\u001b[0m\u001b[0;34m)\u001b[0m\u001b[0;34m\u001b[0m\u001b[0;34m\u001b[0m\u001b[0m\n\u001b[1;32m    409\u001b[0m         \u001b[0;32mexcept\u001b[0m \u001b[0;34m(\u001b[0m\u001b[0mValueError\u001b[0m\u001b[0;34m,\u001b[0m \u001b[0mKeyError\u001b[0m\u001b[0;34m)\u001b[0m\u001b[0;34m:\u001b[0m\u001b[0;34m\u001b[0m\u001b[0;34m\u001b[0m\u001b[0m\n\u001b[0;32m--> 410\u001b[0;31m             \u001b[0;32mraise\u001b[0m \u001b[0mServerError\u001b[0m\u001b[0;34m(\u001b[0m\u001b[0;34m\"API response not valid. JSON decoding failed.\"\u001b[0m\u001b[0;34m,\u001b[0m \u001b[0mresponse\u001b[0m\u001b[0;34m)\u001b[0m\u001b[0;34m\u001b[0m\u001b[0;34m\u001b[0m\u001b[0m\n\u001b[0m\u001b[1;32m    411\u001b[0m \u001b[0;34m\u001b[0m\u001b[0m\n\u001b[1;32m    412\u001b[0m         \u001b[0mproducts\u001b[0m \u001b[0;34m=\u001b[0m \u001b[0mjson_feed\u001b[0m\u001b[0;34m.\u001b[0m\u001b[0mget\u001b[0m\u001b[0;34m(\u001b[0m\u001b[0;34m\"entry\"\u001b[0m\u001b[0;34m,\u001b[0m \u001b[0;34m[\u001b[0m\u001b[0;34m]\u001b[0m\u001b[0;34m)\u001b[0m\u001b[0;34m\u001b[0m\u001b[0;34m\u001b[0m\u001b[0m\n",
      "\u001b[0;31mServerError\u001b[0m: HTTP status 200 OK: API response not valid. JSON decoding failed."
     ]
    }
   ],
   "source": [
    "api = SentinelAPI('ellenbuckley', 'snwllw12', 'https://scihub.copernicus.eu/dhus')\n",
    "for a in codes:\n",
    "    product=api.query(a)"
   ]
  },
  {
   "cell_type": "code",
   "execution_count": null,
   "id": "attempted-ending",
   "metadata": {},
   "outputs": [],
   "source": [
    "downloaded, triggered, failed = download_all(products)"
   ]
  },
  {
   "cell_type": "code",
   "execution_count": 9,
   "id": "asian-black",
   "metadata": {},
   "outputs": [
    {
     "name": "stdout",
     "output_type": "stream",
     "text": [
      "875908f8-f1ed-4bde-b7c8-27650fa29a65\n"
     ]
    },
    {
     "ename": "ServerError",
     "evalue": "HTTP status 200 OK: API response not valid. JSON decoding failed.",
     "output_type": "error",
     "traceback": [
      "\u001b[0;31m---------------------------------------------------------------------------\u001b[0m",
      "\u001b[0;31mKeyError\u001b[0m                                  Traceback (most recent call last)",
      "\u001b[0;32m~/sentinelsat/sentinelsat/sentinel.py\u001b[0m in \u001b[0;36m_load_subquery\u001b[0;34m(self, query, order_by, limit, offset)\u001b[0m\n\u001b[1;32m    401\u001b[0m             \u001b[0mjson_feed\u001b[0m \u001b[0;34m=\u001b[0m \u001b[0mresponse\u001b[0m\u001b[0;34m.\u001b[0m\u001b[0mjson\u001b[0m\u001b[0;34m(\u001b[0m\u001b[0;34m)\u001b[0m\u001b[0;34m[\u001b[0m\u001b[0;34m\"feed\"\u001b[0m\u001b[0;34m]\u001b[0m\u001b[0;34m\u001b[0m\u001b[0;34m\u001b[0m\u001b[0m\n\u001b[0;32m--> 402\u001b[0;31m             \u001b[0;32mif\u001b[0m \u001b[0mjson_feed\u001b[0m\u001b[0;34m[\u001b[0m\u001b[0;34m\"opensearch:totalResults\"\u001b[0m\u001b[0;34m]\u001b[0m \u001b[0;32mis\u001b[0m \u001b[0;32mNone\u001b[0m\u001b[0;34m:\u001b[0m\u001b[0;34m\u001b[0m\u001b[0;34m\u001b[0m\u001b[0m\n\u001b[0m\u001b[1;32m    403\u001b[0m                 \u001b[0;31m# We are using some unintended behavior of the server that a null is\u001b[0m\u001b[0;34m\u001b[0m\u001b[0;34m\u001b[0m\u001b[0;34m\u001b[0m\u001b[0m\n",
      "\u001b[0;31mKeyError\u001b[0m: 'opensearch:totalResults'",
      "\nDuring handling of the above exception, another exception occurred:\n",
      "\u001b[0;31mServerError\u001b[0m                               Traceback (most recent call last)",
      "\u001b[0;32m<ipython-input-9-ca7da4a990b8>\u001b[0m in \u001b[0;36m<module>\u001b[0;34m\u001b[0m\n\u001b[1;32m      5\u001b[0m \u001b[0;32mfor\u001b[0m \u001b[0ma\u001b[0m \u001b[0;32min\u001b[0m \u001b[0mcodes\u001b[0m\u001b[0;34m:\u001b[0m\u001b[0;34m\u001b[0m\u001b[0;34m\u001b[0m\u001b[0m\n\u001b[1;32m      6\u001b[0m     \u001b[0mprint\u001b[0m\u001b[0;34m(\u001b[0m\u001b[0ma\u001b[0m\u001b[0;34m)\u001b[0m\u001b[0;34m\u001b[0m\u001b[0;34m\u001b[0m\u001b[0m\n\u001b[0;32m----> 7\u001b[0;31m     \u001b[0mproduct\u001b[0m\u001b[0;34m=\u001b[0m\u001b[0mapi\u001b[0m\u001b[0;34m.\u001b[0m\u001b[0mquery\u001b[0m\u001b[0;34m(\u001b[0m\u001b[0ma\u001b[0m\u001b[0;34m)\u001b[0m\u001b[0;34m\u001b[0m\u001b[0;34m\u001b[0m\u001b[0m\n\u001b[0m\u001b[1;32m      8\u001b[0m     \u001b[0mapi\u001b[0m\u001b[0;34m.\u001b[0m\u001b[0mdownload\u001b[0m\u001b[0;34m(\u001b[0m\u001b[0mproduct\u001b[0m\u001b[0;34m)\u001b[0m\u001b[0;34m\u001b[0m\u001b[0;34m\u001b[0m\u001b[0m\n\u001b[1;32m      9\u001b[0m     \u001b[0;31m#except ServerError:\u001b[0m\u001b[0;34m\u001b[0m\u001b[0;34m\u001b[0m\u001b[0;34m\u001b[0m\u001b[0m\n",
      "\u001b[0;32m~/sentinelsat/sentinelsat/sentinel.py\u001b[0m in \u001b[0;36mquery\u001b[0;34m(self, area, date, raw, area_relation, order_by, limit, offset, **keywords)\u001b[0m\n\u001b[1;32m    214\u001b[0m         )\n\u001b[1;32m    215\u001b[0m         \u001b[0mformatted_order_by\u001b[0m \u001b[0;34m=\u001b[0m \u001b[0m_format_order_by\u001b[0m\u001b[0;34m(\u001b[0m\u001b[0morder_by\u001b[0m\u001b[0;34m)\u001b[0m\u001b[0;34m\u001b[0m\u001b[0;34m\u001b[0m\u001b[0m\n\u001b[0;32m--> 216\u001b[0;31m         \u001b[0mresponse\u001b[0m\u001b[0;34m,\u001b[0m \u001b[0mcount\u001b[0m \u001b[0;34m=\u001b[0m \u001b[0mself\u001b[0m\u001b[0;34m.\u001b[0m\u001b[0m_load_query\u001b[0m\u001b[0;34m(\u001b[0m\u001b[0mquery\u001b[0m\u001b[0;34m,\u001b[0m \u001b[0mformatted_order_by\u001b[0m\u001b[0;34m,\u001b[0m \u001b[0mlimit\u001b[0m\u001b[0;34m,\u001b[0m \u001b[0moffset\u001b[0m\u001b[0;34m)\u001b[0m\u001b[0;34m\u001b[0m\u001b[0;34m\u001b[0m\u001b[0m\n\u001b[0m\u001b[1;32m    217\u001b[0m         \u001b[0mself\u001b[0m\u001b[0;34m.\u001b[0m\u001b[0mlogger\u001b[0m\u001b[0;34m.\u001b[0m\u001b[0minfo\u001b[0m\u001b[0;34m(\u001b[0m\u001b[0;34m\"Found %s products\"\u001b[0m\u001b[0;34m,\u001b[0m \u001b[0mcount\u001b[0m\u001b[0;34m)\u001b[0m\u001b[0;34m\u001b[0m\u001b[0;34m\u001b[0m\u001b[0m\n\u001b[1;32m    218\u001b[0m         \u001b[0;32mreturn\u001b[0m \u001b[0m_parse_opensearch_response\u001b[0m\u001b[0;34m(\u001b[0m\u001b[0mresponse\u001b[0m\u001b[0;34m)\u001b[0m\u001b[0;34m\u001b[0m\u001b[0;34m\u001b[0m\u001b[0m\n",
      "\u001b[0;32m~/sentinelsat/sentinelsat/sentinel.py\u001b[0m in \u001b[0;36m_load_query\u001b[0;34m(self, query, order_by, limit, offset)\u001b[0m\n\u001b[1;32m    354\u001b[0m \u001b[0;34m\u001b[0m\u001b[0m\n\u001b[1;32m    355\u001b[0m     \u001b[0;32mdef\u001b[0m \u001b[0m_load_query\u001b[0m\u001b[0;34m(\u001b[0m\u001b[0mself\u001b[0m\u001b[0;34m,\u001b[0m \u001b[0mquery\u001b[0m\u001b[0;34m,\u001b[0m \u001b[0morder_by\u001b[0m\u001b[0;34m=\u001b[0m\u001b[0;32mNone\u001b[0m\u001b[0;34m,\u001b[0m \u001b[0mlimit\u001b[0m\u001b[0;34m=\u001b[0m\u001b[0;32mNone\u001b[0m\u001b[0;34m,\u001b[0m \u001b[0moffset\u001b[0m\u001b[0;34m=\u001b[0m\u001b[0;36m0\u001b[0m\u001b[0;34m)\u001b[0m\u001b[0;34m:\u001b[0m\u001b[0;34m\u001b[0m\u001b[0;34m\u001b[0m\u001b[0m\n\u001b[0;32m--> 356\u001b[0;31m         \u001b[0mproducts\u001b[0m\u001b[0;34m,\u001b[0m \u001b[0mcount\u001b[0m \u001b[0;34m=\u001b[0m \u001b[0mself\u001b[0m\u001b[0;34m.\u001b[0m\u001b[0m_load_subquery\u001b[0m\u001b[0;34m(\u001b[0m\u001b[0mquery\u001b[0m\u001b[0;34m,\u001b[0m \u001b[0morder_by\u001b[0m\u001b[0;34m,\u001b[0m \u001b[0mlimit\u001b[0m\u001b[0;34m,\u001b[0m \u001b[0moffset\u001b[0m\u001b[0;34m)\u001b[0m\u001b[0;34m\u001b[0m\u001b[0;34m\u001b[0m\u001b[0m\n\u001b[0m\u001b[1;32m    357\u001b[0m \u001b[0;34m\u001b[0m\u001b[0m\n\u001b[1;32m    358\u001b[0m         \u001b[0;31m# repeat query until all results have been loaded\u001b[0m\u001b[0;34m\u001b[0m\u001b[0;34m\u001b[0m\u001b[0;34m\u001b[0m\u001b[0m\n",
      "\u001b[0;32m~/sentinelsat/sentinelsat/sentinel.py\u001b[0m in \u001b[0;36m_load_subquery\u001b[0;34m(self, query, order_by, limit, offset)\u001b[0m\n\u001b[1;32m    408\u001b[0m             \u001b[0mtotal_results\u001b[0m \u001b[0;34m=\u001b[0m \u001b[0mint\u001b[0m\u001b[0;34m(\u001b[0m\u001b[0mjson_feed\u001b[0m\u001b[0;34m[\u001b[0m\u001b[0;34m\"opensearch:totalResults\"\u001b[0m\u001b[0;34m]\u001b[0m\u001b[0;34m)\u001b[0m\u001b[0;34m\u001b[0m\u001b[0;34m\u001b[0m\u001b[0m\n\u001b[1;32m    409\u001b[0m         \u001b[0;32mexcept\u001b[0m \u001b[0;34m(\u001b[0m\u001b[0mValueError\u001b[0m\u001b[0;34m,\u001b[0m \u001b[0mKeyError\u001b[0m\u001b[0;34m)\u001b[0m\u001b[0;34m:\u001b[0m\u001b[0;34m\u001b[0m\u001b[0;34m\u001b[0m\u001b[0m\n\u001b[0;32m--> 410\u001b[0;31m             \u001b[0;32mraise\u001b[0m \u001b[0mServerError\u001b[0m\u001b[0;34m(\u001b[0m\u001b[0;34m\"API response not valid. JSON decoding failed.\"\u001b[0m\u001b[0;34m,\u001b[0m \u001b[0mresponse\u001b[0m\u001b[0;34m)\u001b[0m\u001b[0;34m\u001b[0m\u001b[0;34m\u001b[0m\u001b[0m\n\u001b[0m\u001b[1;32m    411\u001b[0m \u001b[0;34m\u001b[0m\u001b[0m\n\u001b[1;32m    412\u001b[0m         \u001b[0mproducts\u001b[0m \u001b[0;34m=\u001b[0m \u001b[0mjson_feed\u001b[0m\u001b[0;34m.\u001b[0m\u001b[0mget\u001b[0m\u001b[0;34m(\u001b[0m\u001b[0;34m\"entry\"\u001b[0m\u001b[0;34m,\u001b[0m \u001b[0;34m[\u001b[0m\u001b[0;34m]\u001b[0m\u001b[0;34m)\u001b[0m\u001b[0;34m\u001b[0m\u001b[0;34m\u001b[0m\u001b[0m\n",
      "\u001b[0;31mServerError\u001b[0m: HTTP status 200 OK: API response not valid. JSON decoding failed."
     ]
    }
   ],
   "source": [
    "logging.basicConfig(format='%(message)s', level='INFO')\n",
    "\n",
    "api = SentinelAPI('ellenbuckley', 'snwllw12', 'https://scihub.copernicus.eu/dhus')\n",
    "\n",
    "for a in codes:\n",
    "    print(a)\n",
    "    product=api.query(a)\n",
    "    api.download(product)\n",
    "    #except ServerError:\n",
    "     #   print(\"Failed to process {0}: {1}\\n\".format(str(base), str(e)))"
   ]
  },
  {
   "cell_type": "code",
   "execution_count": 1,
   "id": "liberal-elephant",
   "metadata": {},
   "outputs": [
    {
     "data": {
      "text/plain": [
       "279"
      ]
     },
     "execution_count": 1,
     "metadata": {},
     "output_type": "execute_result"
    },
    {
     "name": "stdout",
     "output_type": "stream",
     "text": [
      "ERROR! Session/line number was not unique in database. History logging moved to new session 628\n"
     ]
    }
   ],
   "source": [
    "len([a for a in products_df.title.values if 'MSIL1C' in a])"
   ]
  },
  {
   "cell_type": "code",
   "execution_count": 3,
   "id": "initial-seventh",
   "metadata": {},
   "outputs": [],
   "source": [
    "l=[a for a in products_df.title.values if 'MSIL1C' in a]"
   ]
  },
  {
   "cell_type": "code",
   "execution_count": 67,
   "id": "charitable-retrieval",
   "metadata": {},
   "outputs": [],
   "source": [
    "# for pid in products_df.index.values:\n",
    "#     product_info = api.get_product_odata(pid)\n",
    "#     is_online = product_info['Online']\n",
    "#     # or\n",
    "#     is_online = api.is_online(pid)\n",
    "\n",
    "#     if is_online:\n",
    "#         #print('Product {} is online. Starting download.'.format(pid))\n",
    "#         #api.download(pid)\n",
    "#     else:\n",
    "#         print('Product {} is not online.'.format(pid))"
   ]
  },
  {
   "cell_type": "code",
   "execution_count": 7,
   "id": "derived-adapter",
   "metadata": {},
   "outputs": [
    {
     "data": {
      "text/plain": [
       "array([\"https://scihub.copernicus.eu/dhus/odata/v1/Products('4a0b092d-932c-4660-a23b-c5a63b684ec9')/$value\",\n",
       "       \"https://scihub.copernicus.eu/dhus/odata/v1/Products('a6b6c6ca-4b3e-493e-a83e-9aa4f5f22c98')/$value\",\n",
       "       \"https://scihub.copernicus.eu/dhus/odata/v1/Products('0bb875ed-1c35-4c15-b7b0-5d93743b554f')/$value\",\n",
       "       \"https://scihub.copernicus.eu/dhus/odata/v1/Products('3cf6a099-5791-4d77-b578-0f29aa956ae8')/$value\",\n",
       "       \"https://scihub.copernicus.eu/dhus/odata/v1/Products('5d56116d-b0f3-47bc-8d76-13bfd7969a43')/$value\",\n",
       "       \"https://scihub.copernicus.eu/dhus/odata/v1/Products('09dfb35b-e00c-45d6-8b38-08891ab31d89')/$value\",\n",
       "       \"https://scihub.copernicus.eu/dhus/odata/v1/Products('875908f8-f1ed-4bde-b7c8-27650fa29a65')/$value\",\n",
       "       \"https://scihub.copernicus.eu/dhus/odata/v1/Products('5b1ef59c-243c-484e-b2f1-97872cd30502')/$value\",\n",
       "       \"https://scihub.copernicus.eu/dhus/odata/v1/Products('396e4b92-99c1-4822-a08c-5cafa6e34f3a')/$value\",\n",
       "       \"https://scihub.copernicus.eu/dhus/odata/v1/Products('048b833e-6cef-4215-8b6a-705fccbb6201')/$value\",\n",
       "       \"https://scihub.copernicus.eu/dhus/odata/v1/Products('f9319e82-846b-4c08-895f-8a4402a2bb9c')/$value\",\n",
       "       \"https://scihub.copernicus.eu/dhus/odata/v1/Products('3f1e3ca6-1524-4697-b6f5-ce5ac89318cc')/$value\",\n",
       "       \"https://scihub.copernicus.eu/dhus/odata/v1/Products('d53bb89f-c583-46aa-807e-ed8e506df0ea')/$value\",\n",
       "       \"https://scihub.copernicus.eu/dhus/odata/v1/Products('c3ea1b64-54ea-4262-9ea2-ba7307f1e59c')/$value\",\n",
       "       \"https://scihub.copernicus.eu/dhus/odata/v1/Products('c3ea9617-6f2f-45e5-80cd-7071b8538ea8')/$value\",\n",
       "       \"https://scihub.copernicus.eu/dhus/odata/v1/Products('c70a60fe-44e2-447e-91f3-afadf64f5188')/$value\",\n",
       "       \"https://scihub.copernicus.eu/dhus/odata/v1/Products('240f579c-58f8-465e-b738-f95d25c2dd39')/$value\",\n",
       "       \"https://scihub.copernicus.eu/dhus/odata/v1/Products('6f2e0a08-7e6c-4323-9a20-fc4a49640bc4')/$value\",\n",
       "       \"https://scihub.copernicus.eu/dhus/odata/v1/Products('736f71f3-29e5-4f86-911e-094cf71bae33')/$value\",\n",
       "       \"https://scihub.copernicus.eu/dhus/odata/v1/Products('38847744-4824-4683-bfe8-2001efe318f5')/$value\",\n",
       "       \"https://scihub.copernicus.eu/dhus/odata/v1/Products('eddb6821-7999-4621-aa58-0fbe185a0081')/$value\",\n",
       "       \"https://scihub.copernicus.eu/dhus/odata/v1/Products('01514ff3-7ce1-4185-a44e-effc4660e4c9')/$value\",\n",
       "       \"https://scihub.copernicus.eu/dhus/odata/v1/Products('c1c282a9-a3f9-475a-9a9d-845ea172125e')/$value\",\n",
       "       \"https://scihub.copernicus.eu/dhus/odata/v1/Products('9211609f-20d7-4854-9547-ffa5f3a60eb1')/$value\",\n",
       "       \"https://scihub.copernicus.eu/dhus/odata/v1/Products('29fb6242-2dd2-4cd5-b9aa-1c360978e9b8')/$value\",\n",
       "       \"https://scihub.copernicus.eu/dhus/odata/v1/Products('a007f70b-7d02-4551-957d-5f842d01367c')/$value\",\n",
       "       \"https://scihub.copernicus.eu/dhus/odata/v1/Products('f217897f-e371-453f-8d3a-3696e0658fbd')/$value\",\n",
       "       \"https://scihub.copernicus.eu/dhus/odata/v1/Products('36531575-c973-465a-8eb4-4fcdb49447da')/$value\",\n",
       "       \"https://scihub.copernicus.eu/dhus/odata/v1/Products('83e02996-dee8-4811-9523-fd546c582c58')/$value\",\n",
       "       \"https://scihub.copernicus.eu/dhus/odata/v1/Products('287eb48d-18a8-4fef-ba59-0fdf9681fde7')/$value\",\n",
       "       \"https://scihub.copernicus.eu/dhus/odata/v1/Products('d96c72f9-27f5-4a7f-9196-3a3410d5171a')/$value\",\n",
       "       \"https://scihub.copernicus.eu/dhus/odata/v1/Products('46b27c77-7a4c-4cd1-a120-2de79d2bfdff')/$value\",\n",
       "       \"https://scihub.copernicus.eu/dhus/odata/v1/Products('d6f4fb4a-ccdc-4cf5-9eab-369b1fe77d9a')/$value\",\n",
       "       \"https://scihub.copernicus.eu/dhus/odata/v1/Products('8ee11558-27b2-40f1-97d4-39f41207a497')/$value\",\n",
       "       \"https://scihub.copernicus.eu/dhus/odata/v1/Products('49a0a8ac-984b-497e-9238-be4c4cb03712')/$value\",\n",
       "       \"https://scihub.copernicus.eu/dhus/odata/v1/Products('36ec771d-ff4c-4df8-940d-acbb31f4edcd')/$value\",\n",
       "       \"https://scihub.copernicus.eu/dhus/odata/v1/Products('696dad05-c3a4-42b1-8f72-fa701b3d6835')/$value\",\n",
       "       \"https://scihub.copernicus.eu/dhus/odata/v1/Products('1db2de68-df4c-45b6-866e-57414f3ace41')/$value\",\n",
       "       \"https://scihub.copernicus.eu/dhus/odata/v1/Products('5ef08a79-ff0f-4e88-a210-897be14a8876')/$value\",\n",
       "       \"https://scihub.copernicus.eu/dhus/odata/v1/Products('a456c350-fdba-40bc-9c6c-24497ba25cc9')/$value\",\n",
       "       \"https://scihub.copernicus.eu/dhus/odata/v1/Products('79948bd1-fdc5-4c2b-83bb-63c8d8bf1493')/$value\",\n",
       "       \"https://scihub.copernicus.eu/dhus/odata/v1/Products('fbe0e6d9-3ccd-409f-9826-83b14a3c6a50')/$value\",\n",
       "       \"https://scihub.copernicus.eu/dhus/odata/v1/Products('3a409feb-0eeb-4e16-822f-d873824f0dde')/$value\",\n",
       "       \"https://scihub.copernicus.eu/dhus/odata/v1/Products('62b49de2-e35f-441d-b2cd-606c22f4aa58')/$value\",\n",
       "       \"https://scihub.copernicus.eu/dhus/odata/v1/Products('2496d47f-0f10-47c9-9708-17bc4e35b04f')/$value\",\n",
       "       \"https://scihub.copernicus.eu/dhus/odata/v1/Products('d439cf19-e220-43b6-bb68-068307bd3849')/$value\",\n",
       "       \"https://scihub.copernicus.eu/dhus/odata/v1/Products('bf3e5f56-7b25-4942-85a8-01114ec244b1')/$value\",\n",
       "       \"https://scihub.copernicus.eu/dhus/odata/v1/Products('7ac326c4-e409-454f-807f-57967f060078')/$value\",\n",
       "       \"https://scihub.copernicus.eu/dhus/odata/v1/Products('bc1f282a-a396-4af8-a10d-06eab832a4c4')/$value\",\n",
       "       \"https://scihub.copernicus.eu/dhus/odata/v1/Products('a22853fd-c347-487e-b8fe-a4e23c6b303f')/$value\",\n",
       "       \"https://scihub.copernicus.eu/dhus/odata/v1/Products('0fc57885-e975-4558-b0d3-bfd058204d18')/$value\",\n",
       "       \"https://scihub.copernicus.eu/dhus/odata/v1/Products('c6526547-e507-41e0-b7b3-3d3ea9bced41')/$value\",\n",
       "       \"https://scihub.copernicus.eu/dhus/odata/v1/Products('9f901aa6-b596-48d0-96a6-ac7df3bcf1ae')/$value\",\n",
       "       \"https://scihub.copernicus.eu/dhus/odata/v1/Products('ea60c82f-927a-4626-bf0d-7e75e0224036')/$value\",\n",
       "       \"https://scihub.copernicus.eu/dhus/odata/v1/Products('9fa616f3-8876-4d42-936d-ccb8fa68dee1')/$value\",\n",
       "       \"https://scihub.copernicus.eu/dhus/odata/v1/Products('1f7adb88-781e-42bc-9bc6-7f58839e8514')/$value\",\n",
       "       \"https://scihub.copernicus.eu/dhus/odata/v1/Products('ae0174c8-5b5c-4712-8370-621a230b8a99')/$value\",\n",
       "       \"https://scihub.copernicus.eu/dhus/odata/v1/Products('4a8d8ab6-8a13-4f25-b205-d780c714bfc5')/$value\",\n",
       "       \"https://scihub.copernicus.eu/dhus/odata/v1/Products('2f7f30d6-3a8c-4456-9d9b-7e63cfdcf384')/$value\",\n",
       "       \"https://scihub.copernicus.eu/dhus/odata/v1/Products('a74778dc-7fbf-4008-abed-dd071760be31')/$value\",\n",
       "       \"https://scihub.copernicus.eu/dhus/odata/v1/Products('fbf2654d-0eb4-447d-be31-31e9ec18f882')/$value\",\n",
       "       \"https://scihub.copernicus.eu/dhus/odata/v1/Products('bb312201-347e-4f6a-9aa9-85330add767d')/$value\",\n",
       "       \"https://scihub.copernicus.eu/dhus/odata/v1/Products('b79a5c43-b9bf-465a-a078-1c33bb632f02')/$value\",\n",
       "       \"https://scihub.copernicus.eu/dhus/odata/v1/Products('94b31d0e-1008-4b20-aa8e-c232b9087536')/$value\",\n",
       "       \"https://scihub.copernicus.eu/dhus/odata/v1/Products('3e090f59-f971-464d-a619-4dd0c3e1dd59')/$value\",\n",
       "       \"https://scihub.copernicus.eu/dhus/odata/v1/Products('0175d4bd-0a0e-4898-8d85-48420266e2c8')/$value\",\n",
       "       \"https://scihub.copernicus.eu/dhus/odata/v1/Products('4bda2694-5373-4cad-9aec-406c4f5fc0ec')/$value\",\n",
       "       \"https://scihub.copernicus.eu/dhus/odata/v1/Products('cd43ba6a-3a7a-497d-9e9c-3835164f8b88')/$value\",\n",
       "       \"https://scihub.copernicus.eu/dhus/odata/v1/Products('1c49abe9-4abc-4288-b0e5-a1e5678f307a')/$value\",\n",
       "       \"https://scihub.copernicus.eu/dhus/odata/v1/Products('77a0514d-3b55-48fc-b408-1d96143b20e1')/$value\",\n",
       "       \"https://scihub.copernicus.eu/dhus/odata/v1/Products('9bf28849-d3fb-4989-879d-18ebfe9db443')/$value\",\n",
       "       \"https://scihub.copernicus.eu/dhus/odata/v1/Products('1b9ecf8b-2768-4bf4-9a0c-02363ab404f5')/$value\",\n",
       "       \"https://scihub.copernicus.eu/dhus/odata/v1/Products('a176d8dd-c9a0-4871-ade6-699392f014aa')/$value\",\n",
       "       \"https://scihub.copernicus.eu/dhus/odata/v1/Products('7f124509-d9bf-4ace-adab-ec6360d0650f')/$value\",\n",
       "       \"https://scihub.copernicus.eu/dhus/odata/v1/Products('6f75b3c8-65c3-40f5-9b2b-f9cd6d16d39c')/$value\",\n",
       "       \"https://scihub.copernicus.eu/dhus/odata/v1/Products('204d241a-f2da-427a-8de4-6c6225332256')/$value\",\n",
       "       \"https://scihub.copernicus.eu/dhus/odata/v1/Products('9f3e4e84-5ee1-4dce-850a-bc06668be805')/$value\",\n",
       "       \"https://scihub.copernicus.eu/dhus/odata/v1/Products('bd9fb37b-b0f1-42e3-a804-15506ca20f1d')/$value\",\n",
       "       \"https://scihub.copernicus.eu/dhus/odata/v1/Products('d6ddc26a-a534-4ba0-9423-24bf5a3d2903')/$value\",\n",
       "       \"https://scihub.copernicus.eu/dhus/odata/v1/Products('3452563e-302f-4bc3-a129-eb224596bf54')/$value\",\n",
       "       \"https://scihub.copernicus.eu/dhus/odata/v1/Products('277613ce-b338-4e8e-b841-4f3a684011c6')/$value\",\n",
       "       \"https://scihub.copernicus.eu/dhus/odata/v1/Products('06f8c7e5-4ab3-4cd3-bf6c-8b0402e6ebf4')/$value\",\n",
       "       \"https://scihub.copernicus.eu/dhus/odata/v1/Products('eb5261aa-53b8-410f-8894-2d6da4776526')/$value\",\n",
       "       \"https://scihub.copernicus.eu/dhus/odata/v1/Products('b401ca2c-f872-4ded-89f8-1b228027c752')/$value\",\n",
       "       \"https://scihub.copernicus.eu/dhus/odata/v1/Products('4334c6eb-dea9-44ef-9bf9-6e769fded07b')/$value\",\n",
       "       \"https://scihub.copernicus.eu/dhus/odata/v1/Products('c087007a-9b2c-49f4-8b82-ad250cc79dd6')/$value\",\n",
       "       \"https://scihub.copernicus.eu/dhus/odata/v1/Products('67e24a6d-ec91-4baf-a5ba-ad4ce0ad2325')/$value\",\n",
       "       \"https://scihub.copernicus.eu/dhus/odata/v1/Products('2264e715-56fc-4c78-8bb0-4f64a808f4d0')/$value\",\n",
       "       \"https://scihub.copernicus.eu/dhus/odata/v1/Products('18683cd5-68a1-4167-9d84-2a0c07e30c72')/$value\",\n",
       "       \"https://scihub.copernicus.eu/dhus/odata/v1/Products('5690b79e-df09-460f-a480-0e056484a0da')/$value\",\n",
       "       \"https://scihub.copernicus.eu/dhus/odata/v1/Products('89d0c3d6-102c-440d-a6ea-84188dfec4f0')/$value\",\n",
       "       \"https://scihub.copernicus.eu/dhus/odata/v1/Products('6999964d-2fd4-4f1a-b866-522a17e0a9c9')/$value\",\n",
       "       \"https://scihub.copernicus.eu/dhus/odata/v1/Products('a7789e95-ec5b-4f60-bc2f-1dedd1ecca11')/$value\",\n",
       "       \"https://scihub.copernicus.eu/dhus/odata/v1/Products('129a605a-02d2-4426-bd83-0b3134e9e610')/$value\",\n",
       "       \"https://scihub.copernicus.eu/dhus/odata/v1/Products('43736f0f-dadf-4937-ac65-58a8359a7f50')/$value\",\n",
       "       \"https://scihub.copernicus.eu/dhus/odata/v1/Products('62c1c259-512d-426a-8ddc-ca1284ed3e5a')/$value\",\n",
       "       \"https://scihub.copernicus.eu/dhus/odata/v1/Products('983c122f-ac7a-485a-bca4-326012ac8863')/$value\",\n",
       "       \"https://scihub.copernicus.eu/dhus/odata/v1/Products('609b43f9-99d6-442a-af7e-44d0df41caaf')/$value\",\n",
       "       \"https://scihub.copernicus.eu/dhus/odata/v1/Products('c6ed612b-e9e2-4733-8a82-7b54168f75c2')/$value\",\n",
       "       \"https://scihub.copernicus.eu/dhus/odata/v1/Products('03092a4b-55fb-495d-96df-86ebba027560')/$value\",\n",
       "       \"https://scihub.copernicus.eu/dhus/odata/v1/Products('75a9ecf8-063c-44b7-a8fb-0e77b96f65f8')/$value\",\n",
       "       \"https://scihub.copernicus.eu/dhus/odata/v1/Products('a8125839-de84-4442-a703-f24d1a6a92b6')/$value\",\n",
       "       \"https://scihub.copernicus.eu/dhus/odata/v1/Products('8a26799f-8e11-4750-b7d2-d59dc6bedf8f')/$value\",\n",
       "       \"https://scihub.copernicus.eu/dhus/odata/v1/Products('17c6f139-d30c-433a-91fc-fdf71c62546c')/$value\",\n",
       "       \"https://scihub.copernicus.eu/dhus/odata/v1/Products('c343e174-50eb-4dd4-b943-31e49c1485cc')/$value\",\n",
       "       \"https://scihub.copernicus.eu/dhus/odata/v1/Products('80e1edf1-d24e-4a73-a31e-5b69b900a90d')/$value\",\n",
       "       \"https://scihub.copernicus.eu/dhus/odata/v1/Products('43f18968-51ff-49ec-b842-7ff742971b3a')/$value\",\n",
       "       \"https://scihub.copernicus.eu/dhus/odata/v1/Products('4fada907-1780-474a-a162-e53306d77c69')/$value\",\n",
       "       \"https://scihub.copernicus.eu/dhus/odata/v1/Products('7731e1a4-5967-4e77-8d9d-d2767b35fa10')/$value\",\n",
       "       \"https://scihub.copernicus.eu/dhus/odata/v1/Products('a6281cf4-d4ad-4c25-9be0-03573044921c')/$value\",\n",
       "       \"https://scihub.copernicus.eu/dhus/odata/v1/Products('f2b42e51-f71d-4e26-a05d-a508e4ae1686')/$value\",\n",
       "       \"https://scihub.copernicus.eu/dhus/odata/v1/Products('4d3dd51c-8e17-44ef-8f12-150376a08f37')/$value\",\n",
       "       \"https://scihub.copernicus.eu/dhus/odata/v1/Products('b0d8b31b-62df-42d0-a595-c71815e58b98')/$value\",\n",
       "       \"https://scihub.copernicus.eu/dhus/odata/v1/Products('4f5a6536-8666-469f-8686-83731f24a8eb')/$value\",\n",
       "       \"https://scihub.copernicus.eu/dhus/odata/v1/Products('fa9108d0-91d2-4a07-b9bc-ed91405c5b81')/$value\",\n",
       "       \"https://scihub.copernicus.eu/dhus/odata/v1/Products('d365ed89-95e1-44cd-885b-ceb883750ba2')/$value\",\n",
       "       \"https://scihub.copernicus.eu/dhus/odata/v1/Products('69909bd4-9844-4078-8c80-3dbb256a85a0')/$value\",\n",
       "       \"https://scihub.copernicus.eu/dhus/odata/v1/Products('d010affc-89bc-4f8f-a58e-c3fa14da4208')/$value\",\n",
       "       \"https://scihub.copernicus.eu/dhus/odata/v1/Products('65ee47ef-b935-40c2-9f9d-f9661f0ed585')/$value\",\n",
       "       \"https://scihub.copernicus.eu/dhus/odata/v1/Products('dcf55f96-6512-4505-aef6-82052c6d2db5')/$value\",\n",
       "       \"https://scihub.copernicus.eu/dhus/odata/v1/Products('e7dcf175-13d4-4893-af4b-03f8251293e1')/$value\",\n",
       "       \"https://scihub.copernicus.eu/dhus/odata/v1/Products('ba7d4751-6fc8-448a-82b4-8c20be1edb93')/$value\",\n",
       "       \"https://scihub.copernicus.eu/dhus/odata/v1/Products('a4131c33-0192-4d93-ae2a-2bd76b491002')/$value\",\n",
       "       \"https://scihub.copernicus.eu/dhus/odata/v1/Products('e1fae632-1c07-4b8b-bbb3-018269f65f82')/$value\",\n",
       "       \"https://scihub.copernicus.eu/dhus/odata/v1/Products('ea225400-6ab8-4e51-bc53-b9eb349bdbba')/$value\",\n",
       "       \"https://scihub.copernicus.eu/dhus/odata/v1/Products('7905123c-f292-439c-91db-e58c740927ed')/$value\",\n",
       "       \"https://scihub.copernicus.eu/dhus/odata/v1/Products('7341398c-a126-4030-b70a-c7809c7cfa10')/$value\",\n",
       "       \"https://scihub.copernicus.eu/dhus/odata/v1/Products('5d3dff4e-25e0-4178-b8b6-79cc4dcf37ea')/$value\",\n",
       "       \"https://scihub.copernicus.eu/dhus/odata/v1/Products('fa4254b0-230b-42a9-8cb3-86d4f0ad046d')/$value\",\n",
       "       \"https://scihub.copernicus.eu/dhus/odata/v1/Products('819bb540-4f4b-4127-a6d2-4ca8bfeb7655')/$value\",\n",
       "       \"https://scihub.copernicus.eu/dhus/odata/v1/Products('f1417b28-0c03-43cc-8aa1-f2eb618bb870')/$value\",\n",
       "       \"https://scihub.copernicus.eu/dhus/odata/v1/Products('fa75c22d-abc4-490a-afae-90000910965e')/$value\",\n",
       "       \"https://scihub.copernicus.eu/dhus/odata/v1/Products('41799bbb-6d12-4e0b-b882-d191e3957def')/$value\",\n",
       "       \"https://scihub.copernicus.eu/dhus/odata/v1/Products('fc016b97-3af4-4aee-b70e-98d1b472ac42')/$value\",\n",
       "       \"https://scihub.copernicus.eu/dhus/odata/v1/Products('90a5d80c-f29e-4e17-bd08-829868412228')/$value\",\n",
       "       \"https://scihub.copernicus.eu/dhus/odata/v1/Products('01cc52c3-626b-465f-8378-5a024a0fb68d')/$value\",\n",
       "       \"https://scihub.copernicus.eu/dhus/odata/v1/Products('0048c661-8257-4b7b-9d88-a1cf53da76d8')/$value\",\n",
       "       \"https://scihub.copernicus.eu/dhus/odata/v1/Products('1884ff6f-7a07-4a1f-8ed9-60ebc96e2cc9')/$value\",\n",
       "       \"https://scihub.copernicus.eu/dhus/odata/v1/Products('b72d3f7c-1272-4805-b94d-e85cc57a0513')/$value\",\n",
       "       \"https://scihub.copernicus.eu/dhus/odata/v1/Products('d58ec5dc-0d34-48fb-a541-8f3dd04efb96')/$value\",\n",
       "       \"https://scihub.copernicus.eu/dhus/odata/v1/Products('de75fb83-3f01-4046-bd28-9cc7efcd9d89')/$value\",\n",
       "       \"https://scihub.copernicus.eu/dhus/odata/v1/Products('3fe3f769-5939-4c39-b1b4-349ba66bacb6')/$value\",\n",
       "       \"https://scihub.copernicus.eu/dhus/odata/v1/Products('f9fa20d9-ac41-4bc2-97cc-daa969ad4d05')/$value\",\n",
       "       \"https://scihub.copernicus.eu/dhus/odata/v1/Products('b722188b-7f55-456f-a931-2b6e32495c69')/$value\",\n",
       "       \"https://scihub.copernicus.eu/dhus/odata/v1/Products('f76b01a8-3fff-4c68-8406-815df4e34908')/$value\",\n",
       "       \"https://scihub.copernicus.eu/dhus/odata/v1/Products('e86b015b-774e-4c1e-811b-29e652db60e0')/$value\",\n",
       "       \"https://scihub.copernicus.eu/dhus/odata/v1/Products('50ccc48c-ae47-474c-aa92-e28e33c6b791')/$value\",\n",
       "       \"https://scihub.copernicus.eu/dhus/odata/v1/Products('b28f0adb-f0d2-4770-b557-a072e6fe900d')/$value\",\n",
       "       \"https://scihub.copernicus.eu/dhus/odata/v1/Products('15e9a843-e5be-4277-94ab-3308788e5108')/$value\",\n",
       "       \"https://scihub.copernicus.eu/dhus/odata/v1/Products('26b173d3-67ae-42d6-85bd-110dedce1e71')/$value\",\n",
       "       \"https://scihub.copernicus.eu/dhus/odata/v1/Products('2955f76d-053e-43e0-a970-c5c9ba62d9a7')/$value\",\n",
       "       \"https://scihub.copernicus.eu/dhus/odata/v1/Products('b3b659a3-9b0a-47ff-81b9-3af44d783ef4')/$value\",\n",
       "       \"https://scihub.copernicus.eu/dhus/odata/v1/Products('208eeadd-715a-4208-a8b6-26c7b3562768')/$value\",\n",
       "       \"https://scihub.copernicus.eu/dhus/odata/v1/Products('d1a2767d-43d7-4920-82cb-8c6c4f13d586')/$value\",\n",
       "       \"https://scihub.copernicus.eu/dhus/odata/v1/Products('3e23f6f4-0170-4fab-ad19-08387aee4f78')/$value\",\n",
       "       \"https://scihub.copernicus.eu/dhus/odata/v1/Products('18b0edd5-8ecd-44a6-a523-aa12a435fe59')/$value\",\n",
       "       \"https://scihub.copernicus.eu/dhus/odata/v1/Products('d9a62c11-0875-4441-a3fa-69b12e52785b')/$value\",\n",
       "       \"https://scihub.copernicus.eu/dhus/odata/v1/Products('2c94bf7b-b011-4809-925a-f6dffbc7b0e2')/$value\",\n",
       "       \"https://scihub.copernicus.eu/dhus/odata/v1/Products('b36f0183-74b1-4b76-957a-842e54474395')/$value\",\n",
       "       \"https://scihub.copernicus.eu/dhus/odata/v1/Products('171b871b-7587-46ca-96c1-8685f857127a')/$value\",\n",
       "       \"https://scihub.copernicus.eu/dhus/odata/v1/Products('44065985-3239-46a4-9b84-fdc1a70a1eee')/$value\",\n",
       "       \"https://scihub.copernicus.eu/dhus/odata/v1/Products('ef007300-382d-490c-a63d-c16c266f15e6')/$value\",\n",
       "       \"https://scihub.copernicus.eu/dhus/odata/v1/Products('32be9196-bb21-4893-ad9b-cc57e72dac04')/$value\",\n",
       "       \"https://scihub.copernicus.eu/dhus/odata/v1/Products('98ab0083-1f7a-4d94-bc54-873b2957accd')/$value\",\n",
       "       \"https://scihub.copernicus.eu/dhus/odata/v1/Products('9bc7011a-3a05-4813-b1ae-c2601d570ff7')/$value\",\n",
       "       \"https://scihub.copernicus.eu/dhus/odata/v1/Products('389d6197-efb8-4bee-b452-43a43cfd2d8e')/$value\",\n",
       "       \"https://scihub.copernicus.eu/dhus/odata/v1/Products('c1882c41-65a9-49d7-b2bb-d1200c8e6337')/$value\",\n",
       "       \"https://scihub.copernicus.eu/dhus/odata/v1/Products('07f9c75a-f0dd-4b70-9c87-0710c4fd5294')/$value\",\n",
       "       \"https://scihub.copernicus.eu/dhus/odata/v1/Products('bc4224f8-0256-4dbd-a462-38bc28859d62')/$value\",\n",
       "       \"https://scihub.copernicus.eu/dhus/odata/v1/Products('c35e2597-eef2-45f5-8815-077fd1206cad')/$value\",\n",
       "       \"https://scihub.copernicus.eu/dhus/odata/v1/Products('a04c4559-a311-4dac-9c37-a9bb748ea526')/$value\",\n",
       "       \"https://scihub.copernicus.eu/dhus/odata/v1/Products('963870dc-1c8a-461c-9125-89be55e8aeb7')/$value\",\n",
       "       \"https://scihub.copernicus.eu/dhus/odata/v1/Products('b782aa2b-6591-4468-9557-a4063745d1e6')/$value\",\n",
       "       \"https://scihub.copernicus.eu/dhus/odata/v1/Products('1d92e54a-ba55-4582-8459-7fef31bfd2c9')/$value\",\n",
       "       \"https://scihub.copernicus.eu/dhus/odata/v1/Products('c68ffba2-d58c-4cd0-ad27-eb91abac989b')/$value\",\n",
       "       \"https://scihub.copernicus.eu/dhus/odata/v1/Products('688f15fc-16d1-4a10-95b4-e094a89870a9')/$value\",\n",
       "       \"https://scihub.copernicus.eu/dhus/odata/v1/Products('98f5923e-e233-4be7-854a-e31754d4df55')/$value\",\n",
       "       \"https://scihub.copernicus.eu/dhus/odata/v1/Products('31bd3077-6d51-43a5-bf10-b3a1a9b3025e')/$value\",\n",
       "       \"https://scihub.copernicus.eu/dhus/odata/v1/Products('41a7177b-c0cd-4d30-84dc-767f417c20ef')/$value\",\n",
       "       \"https://scihub.copernicus.eu/dhus/odata/v1/Products('ad0e9874-6eba-42be-8666-9e6b35e38bed')/$value\",\n",
       "       \"https://scihub.copernicus.eu/dhus/odata/v1/Products('ef43bc64-df7b-4e15-93b4-4b9b94d58476')/$value\",\n",
       "       \"https://scihub.copernicus.eu/dhus/odata/v1/Products('0888e4f6-03bc-4df0-b5c1-a1bbe55d0f88')/$value\",\n",
       "       \"https://scihub.copernicus.eu/dhus/odata/v1/Products('736a7adf-91c1-417c-b675-6ee9ea2c5fa4')/$value\",\n",
       "       \"https://scihub.copernicus.eu/dhus/odata/v1/Products('ec9bd6ac-54d9-426f-87a4-46f0170f8caa')/$value\",\n",
       "       \"https://scihub.copernicus.eu/dhus/odata/v1/Products('5d63066e-92c2-4bfc-87a1-0088b716044b')/$value\",\n",
       "       \"https://scihub.copernicus.eu/dhus/odata/v1/Products('a21d432f-e97c-4e0c-b28b-d09ecfb7262e')/$value\",\n",
       "       \"https://scihub.copernicus.eu/dhus/odata/v1/Products('a40be663-133b-4ed3-98f4-b01b41606d60')/$value\",\n",
       "       \"https://scihub.copernicus.eu/dhus/odata/v1/Products('3e427366-6e20-4078-adfa-5897a2a192cd')/$value\",\n",
       "       \"https://scihub.copernicus.eu/dhus/odata/v1/Products('f950133d-4f66-465f-86f5-e0e6b3e02a1b')/$value\",\n",
       "       \"https://scihub.copernicus.eu/dhus/odata/v1/Products('4fb4a012-6c3b-44c8-9826-57e8b3a86784')/$value\",\n",
       "       \"https://scihub.copernicus.eu/dhus/odata/v1/Products('014eabfb-1e78-4ad3-bf62-e6c2703fa1b1')/$value\",\n",
       "       \"https://scihub.copernicus.eu/dhus/odata/v1/Products('a6b9af4d-6111-4c25-9575-94887029efd7')/$value\",\n",
       "       \"https://scihub.copernicus.eu/dhus/odata/v1/Products('51f3cbb9-c48e-4b54-bf21-17e41e877b56')/$value\",\n",
       "       \"https://scihub.copernicus.eu/dhus/odata/v1/Products('0da7b113-0ed7-46c4-82d0-a049d3ef45ba')/$value\",\n",
       "       \"https://scihub.copernicus.eu/dhus/odata/v1/Products('5673f915-a2ef-4a67-b70b-6ee7b3b074cb')/$value\",\n",
       "       \"https://scihub.copernicus.eu/dhus/odata/v1/Products('c9f20db8-4d14-4bfb-a3a2-259978e1803a')/$value\",\n",
       "       \"https://scihub.copernicus.eu/dhus/odata/v1/Products('8c6a6724-b2ac-467f-bb64-1f5feb11b6f7')/$value\",\n",
       "       \"https://scihub.copernicus.eu/dhus/odata/v1/Products('c9bbb7ee-e89a-4001-bf8a-bf4af87978dc')/$value\",\n",
       "       \"https://scihub.copernicus.eu/dhus/odata/v1/Products('969d4796-3618-44f8-937c-0c8b8aa94e38')/$value\",\n",
       "       \"https://scihub.copernicus.eu/dhus/odata/v1/Products('998909cc-572e-4240-bc43-5109cc87a1f5')/$value\",\n",
       "       \"https://scihub.copernicus.eu/dhus/odata/v1/Products('5dca1908-64d7-4d44-913b-b9f44718f7c0')/$value\",\n",
       "       \"https://scihub.copernicus.eu/dhus/odata/v1/Products('bbd6d550-1788-4f6f-a19b-ad5c824686d9')/$value\",\n",
       "       \"https://scihub.copernicus.eu/dhus/odata/v1/Products('e69b8b27-650b-46cc-830d-5955432c614f')/$value\",\n",
       "       \"https://scihub.copernicus.eu/dhus/odata/v1/Products('7a7c5ea5-c82a-48af-9af3-db96e77587a1')/$value\",\n",
       "       \"https://scihub.copernicus.eu/dhus/odata/v1/Products('b8251d5a-6a9f-41c6-8865-c485886d3225')/$value\",\n",
       "       \"https://scihub.copernicus.eu/dhus/odata/v1/Products('88c69e38-0bf1-4e2e-aac3-558615044e14')/$value\",\n",
       "       \"https://scihub.copernicus.eu/dhus/odata/v1/Products('d8361ee8-8707-48c7-93d8-19dbda91fe9c')/$value\",\n",
       "       \"https://scihub.copernicus.eu/dhus/odata/v1/Products('bf59af19-0ae5-4a53-8b14-7116a6e43cc4')/$value\",\n",
       "       \"https://scihub.copernicus.eu/dhus/odata/v1/Products('f2cd469d-ada8-4711-84c8-30eb3bfd6fc0')/$value\",\n",
       "       \"https://scihub.copernicus.eu/dhus/odata/v1/Products('f0b85f37-04a2-4c41-bf43-03751bf71b42')/$value\",\n",
       "       \"https://scihub.copernicus.eu/dhus/odata/v1/Products('782fde30-5765-4f29-97ec-80cd4857cd02')/$value\",\n",
       "       \"https://scihub.copernicus.eu/dhus/odata/v1/Products('2a13f1ab-4452-481a-b792-bab718c38098')/$value\",\n",
       "       \"https://scihub.copernicus.eu/dhus/odata/v1/Products('93dc1ebf-0927-43ff-bacc-3517188d3b7b')/$value\",\n",
       "       \"https://scihub.copernicus.eu/dhus/odata/v1/Products('ba7a60fa-339d-4155-9608-7c27b5e0566c')/$value\",\n",
       "       \"https://scihub.copernicus.eu/dhus/odata/v1/Products('d04223f5-0a30-4964-97d2-694a9a340b19')/$value\",\n",
       "       \"https://scihub.copernicus.eu/dhus/odata/v1/Products('38f29f03-7512-499a-9e84-953660a15a23')/$value\",\n",
       "       \"https://scihub.copernicus.eu/dhus/odata/v1/Products('62d7e6dd-258e-4d6c-86a5-3a69bc0c22a4')/$value\",\n",
       "       \"https://scihub.copernicus.eu/dhus/odata/v1/Products('ebacfe7f-e2fd-4589-aea3-e8e15bd592a9')/$value\",\n",
       "       \"https://scihub.copernicus.eu/dhus/odata/v1/Products('f6f4ef33-e492-417b-9aa6-0e7885ffb826')/$value\",\n",
       "       \"https://scihub.copernicus.eu/dhus/odata/v1/Products('cd1d1b5e-604c-44c5-85d4-91fe000ff455')/$value\",\n",
       "       \"https://scihub.copernicus.eu/dhus/odata/v1/Products('89de7f01-1a11-4948-952a-cdb6d9877a83')/$value\",\n",
       "       \"https://scihub.copernicus.eu/dhus/odata/v1/Products('15645282-ea6f-4285-92de-d10a440e909b')/$value\",\n",
       "       \"https://scihub.copernicus.eu/dhus/odata/v1/Products('6242e7c2-0db7-4afb-9309-064894069bd0')/$value\",\n",
       "       \"https://scihub.copernicus.eu/dhus/odata/v1/Products('1bdf135d-1dc2-4799-9271-d4f2aa2ae7ec')/$value\",\n",
       "       \"https://scihub.copernicus.eu/dhus/odata/v1/Products('a31711b5-04f7-44a1-a837-e4eb30f63a82')/$value\",\n",
       "       \"https://scihub.copernicus.eu/dhus/odata/v1/Products('bd0410e2-b4c1-47d7-9049-2982e7f1df17')/$value\",\n",
       "       \"https://scihub.copernicus.eu/dhus/odata/v1/Products('1a7b52aa-f0b2-495d-ac69-aab3cccfae03')/$value\",\n",
       "       \"https://scihub.copernicus.eu/dhus/odata/v1/Products('406b47ba-6c77-4129-977c-7dc0de45bfdd')/$value\",\n",
       "       \"https://scihub.copernicus.eu/dhus/odata/v1/Products('307e9f5c-ce3e-423c-8446-856be9ef0117')/$value\",\n",
       "       \"https://scihub.copernicus.eu/dhus/odata/v1/Products('06f1dfa4-ce0a-42f5-898d-52c227b6dbc3')/$value\",\n",
       "       \"https://scihub.copernicus.eu/dhus/odata/v1/Products('8ed3afad-82e3-4ec7-ac3a-9a8a12397800')/$value\",\n",
       "       \"https://scihub.copernicus.eu/dhus/odata/v1/Products('e7cf4464-e7ea-4e30-8450-423086df0839')/$value\",\n",
       "       \"https://scihub.copernicus.eu/dhus/odata/v1/Products('7e7c29d9-4952-4a01-8212-961df1869274')/$value\",\n",
       "       \"https://scihub.copernicus.eu/dhus/odata/v1/Products('676938ee-556e-49f8-9fa5-0adf9ecd4dd7')/$value\",\n",
       "       \"https://scihub.copernicus.eu/dhus/odata/v1/Products('c20b1bcc-d1a4-4aa6-ac0e-7836d0189c51')/$value\",\n",
       "       \"https://scihub.copernicus.eu/dhus/odata/v1/Products('fde18e56-5307-4cce-8701-63398d96a825')/$value\",\n",
       "       \"https://scihub.copernicus.eu/dhus/odata/v1/Products('eb3fcd27-76f3-4281-852b-5f37023e7b50')/$value\",\n",
       "       \"https://scihub.copernicus.eu/dhus/odata/v1/Products('04ce578a-9157-4751-aa81-4be62f3691ef')/$value\",\n",
       "       \"https://scihub.copernicus.eu/dhus/odata/v1/Products('ee215318-60ad-4b50-9c74-73d295bd69e8')/$value\",\n",
       "       \"https://scihub.copernicus.eu/dhus/odata/v1/Products('3966ea99-fef5-4413-82b0-25ee247e958f')/$value\",\n",
       "       \"https://scihub.copernicus.eu/dhus/odata/v1/Products('d8bf5871-9a68-4506-bf89-1b7dc4e17d40')/$value\",\n",
       "       \"https://scihub.copernicus.eu/dhus/odata/v1/Products('cf274929-9677-434c-be80-b8d4d38f94ca')/$value\",\n",
       "       \"https://scihub.copernicus.eu/dhus/odata/v1/Products('0c689104-198a-4f45-ad49-49e5a76c1cdf')/$value\",\n",
       "       \"https://scihub.copernicus.eu/dhus/odata/v1/Products('6b04edcf-fa81-4b19-8bd4-acbdf0a5e13a')/$value\",\n",
       "       \"https://scihub.copernicus.eu/dhus/odata/v1/Products('bbbfa54d-be19-4327-a872-6cde711104a2')/$value\",\n",
       "       \"https://scihub.copernicus.eu/dhus/odata/v1/Products('d2a01290-74a8-4c96-b01a-6f43ddd498f2')/$value\",\n",
       "       \"https://scihub.copernicus.eu/dhus/odata/v1/Products('c55ba936-586d-47fa-9d31-b9909515aa0f')/$value\",\n",
       "       \"https://scihub.copernicus.eu/dhus/odata/v1/Products('61133007-eb52-480d-8328-ae8d467ccdfb')/$value\",\n",
       "       \"https://scihub.copernicus.eu/dhus/odata/v1/Products('31a670f8-b33e-4b45-abb3-3defac6c563b')/$value\",\n",
       "       \"https://scihub.copernicus.eu/dhus/odata/v1/Products('70f08e0c-c107-428a-a8a8-6847bc85d6fb')/$value\",\n",
       "       \"https://scihub.copernicus.eu/dhus/odata/v1/Products('aeae098e-95e5-4ae0-bfb4-603c2714decb')/$value\",\n",
       "       \"https://scihub.copernicus.eu/dhus/odata/v1/Products('3ce36f58-492c-4138-9745-a871f452d76a')/$value\",\n",
       "       \"https://scihub.copernicus.eu/dhus/odata/v1/Products('0a139db1-34d5-4e8c-95e3-08086a4a88bb')/$value\",\n",
       "       \"https://scihub.copernicus.eu/dhus/odata/v1/Products('80055a11-f309-47a8-a24f-0e41f42e2ca8')/$value\",\n",
       "       \"https://scihub.copernicus.eu/dhus/odata/v1/Products('be6feeba-6f8c-42f3-96ed-db2c861cfe76')/$value\",\n",
       "       \"https://scihub.copernicus.eu/dhus/odata/v1/Products('75e828cb-9d60-490e-9fef-24463bcb1893')/$value\",\n",
       "       \"https://scihub.copernicus.eu/dhus/odata/v1/Products('3e836a04-bd75-44c6-8b43-83c573e3b752')/$value\",\n",
       "       \"https://scihub.copernicus.eu/dhus/odata/v1/Products('1e94b8ce-bc8b-4de0-96bb-d3ab541086cd')/$value\",\n",
       "       \"https://scihub.copernicus.eu/dhus/odata/v1/Products('0e1569d7-7b53-47bb-a54d-567ce3e8c5f8')/$value\",\n",
       "       \"https://scihub.copernicus.eu/dhus/odata/v1/Products('2cb22262-de66-46f2-b2a4-66e23dcf938a')/$value\",\n",
       "       \"https://scihub.copernicus.eu/dhus/odata/v1/Products('916f7b3d-f689-433d-87cb-45abadb1562a')/$value\",\n",
       "       \"https://scihub.copernicus.eu/dhus/odata/v1/Products('5d8a7199-8213-4fc0-80ae-29e18b116afa')/$value\",\n",
       "       \"https://scihub.copernicus.eu/dhus/odata/v1/Products('dbba05e3-c283-49fe-86cb-4916675c9040')/$value\",\n",
       "       \"https://scihub.copernicus.eu/dhus/odata/v1/Products('39510fc6-17be-4594-8e80-59b6e326a569')/$value\",\n",
       "       \"https://scihub.copernicus.eu/dhus/odata/v1/Products('3b6eebd9-68d0-4278-b086-9683fe10b62f')/$value\",\n",
       "       \"https://scihub.copernicus.eu/dhus/odata/v1/Products('9da9c01a-4715-4428-ae67-6428f5bfbd68')/$value\",\n",
       "       \"https://scihub.copernicus.eu/dhus/odata/v1/Products('79aee890-1b53-45ce-973b-a0569c35932c')/$value\",\n",
       "       \"https://scihub.copernicus.eu/dhus/odata/v1/Products('d1520675-541e-44af-99a1-50cd419c1ceb')/$value\",\n",
       "       \"https://scihub.copernicus.eu/dhus/odata/v1/Products('6c7f510a-1fb4-46a5-8c20-ac4e4917b4bc')/$value\",\n",
       "       \"https://scihub.copernicus.eu/dhus/odata/v1/Products('41fcf4f8-d924-4c8b-81a7-3306cae7ad20')/$value\",\n",
       "       \"https://scihub.copernicus.eu/dhus/odata/v1/Products('6c3fcb52-5553-4fac-9dc1-fcdcbe5561f0')/$value\",\n",
       "       \"https://scihub.copernicus.eu/dhus/odata/v1/Products('b7c892d5-1eaf-44bd-b3bd-26ff70024f94')/$value\",\n",
       "       \"https://scihub.copernicus.eu/dhus/odata/v1/Products('e9064b9b-2450-4797-a629-41cc11299775')/$value\",\n",
       "       \"https://scihub.copernicus.eu/dhus/odata/v1/Products('c2b1b612-4d39-4961-bfcd-3ea3a9b0372f')/$value\",\n",
       "       \"https://scihub.copernicus.eu/dhus/odata/v1/Products('91e86923-6d6f-4ee8-a52a-9b818494663a')/$value\",\n",
       "       \"https://scihub.copernicus.eu/dhus/odata/v1/Products('b43ab4c5-037a-48cb-a26d-0780295b223d')/$value\",\n",
       "       \"https://scihub.copernicus.eu/dhus/odata/v1/Products('8023828d-c174-4db5-be8f-f12e3de3be34')/$value\",\n",
       "       \"https://scihub.copernicus.eu/dhus/odata/v1/Products('1d4e498f-687f-4a33-ae4d-af35f3c5f6b8')/$value\",\n",
       "       \"https://scihub.copernicus.eu/dhus/odata/v1/Products('b4ac4c2c-90fa-46e0-98b4-0b2c70894918')/$value\",\n",
       "       \"https://scihub.copernicus.eu/dhus/odata/v1/Products('ff1f3934-48d9-443a-b69b-3bfb1b03c1f3')/$value\",\n",
       "       \"https://scihub.copernicus.eu/dhus/odata/v1/Products('2ae772c8-9c23-463b-b659-1ddbd1577fa3')/$value\",\n",
       "       \"https://scihub.copernicus.eu/dhus/odata/v1/Products('ef0e9bc4-0317-4415-be15-a81d33cbb50f')/$value\",\n",
       "       \"https://scihub.copernicus.eu/dhus/odata/v1/Products('755b12f9-4739-4a76-b6eb-93578d8d165c')/$value\",\n",
       "       \"https://scihub.copernicus.eu/dhus/odata/v1/Products('91146376-604e-479a-9292-22351992a0fd')/$value\",\n",
       "       \"https://scihub.copernicus.eu/dhus/odata/v1/Products('039b868c-ea38-405e-9591-ba2478ddd035')/$value\",\n",
       "       \"https://scihub.copernicus.eu/dhus/odata/v1/Products('9e89a9b2-6839-4c64-a35f-08844b91fec4')/$value\",\n",
       "       \"https://scihub.copernicus.eu/dhus/odata/v1/Products('ae1a9965-af2c-489b-9538-0eb553c056cd')/$value\",\n",
       "       \"https://scihub.copernicus.eu/dhus/odata/v1/Products('ce94c05b-121a-476e-9a9e-3a06891d701c')/$value\",\n",
       "       \"https://scihub.copernicus.eu/dhus/odata/v1/Products('67be7d60-1213-421e-a068-b829c75603b8')/$value\",\n",
       "       \"https://scihub.copernicus.eu/dhus/odata/v1/Products('959b7a4c-fdba-4be4-9059-552680ea4119')/$value\",\n",
       "       \"https://scihub.copernicus.eu/dhus/odata/v1/Products('4f754594-019c-4920-b494-32ea34055b44')/$value\",\n",
       "       \"https://scihub.copernicus.eu/dhus/odata/v1/Products('7fe68775-b0fe-4edb-a767-208a52d9ff59')/$value\",\n",
       "       \"https://scihub.copernicus.eu/dhus/odata/v1/Products('8c5220c9-5684-44ee-898e-ef1509a70a84')/$value\",\n",
       "       \"https://scihub.copernicus.eu/dhus/odata/v1/Products('e56acdac-ba67-44c1-8898-17390202d83a')/$value\",\n",
       "       \"https://scihub.copernicus.eu/dhus/odata/v1/Products('45d1d94e-4b3d-45c1-a359-52dad536683c')/$value\",\n",
       "       \"https://scihub.copernicus.eu/dhus/odata/v1/Products('e8612d9e-1f7c-432e-9df8-b3f83d419a01')/$value\",\n",
       "       \"https://scihub.copernicus.eu/dhus/odata/v1/Products('f3049ae2-071a-4a78-b4a0-b669c6923457')/$value\",\n",
       "       \"https://scihub.copernicus.eu/dhus/odata/v1/Products('e8d0dfbc-dd53-407e-a239-0924433b742e')/$value\",\n",
       "       \"https://scihub.copernicus.eu/dhus/odata/v1/Products('61c5e5ad-9b84-4efe-8090-8f5ab63c462e')/$value\",\n",
       "       \"https://scihub.copernicus.eu/dhus/odata/v1/Products('8b7ac16e-3466-4c85-97dd-c39aa84d5227')/$value\",\n",
       "       \"https://scihub.copernicus.eu/dhus/odata/v1/Products('c2081e4f-b984-4824-9838-7891644bebcd')/$value\",\n",
       "       \"https://scihub.copernicus.eu/dhus/odata/v1/Products('daa1431b-661d-4412-bba1-0fb914b29e11')/$value\",\n",
       "       \"https://scihub.copernicus.eu/dhus/odata/v1/Products('04a3431b-5c9d-4531-b354-59ffde9bbd00')/$value\",\n",
       "       \"https://scihub.copernicus.eu/dhus/odata/v1/Products('fd43659e-5be0-4430-b59a-6067395268c7')/$value\",\n",
       "       \"https://scihub.copernicus.eu/dhus/odata/v1/Products('baea7bbb-9258-47ea-8257-47dd353be7fa')/$value\",\n",
       "       \"https://scihub.copernicus.eu/dhus/odata/v1/Products('6643f915-9168-46cf-8271-66f7967848ea')/$value\",\n",
       "       \"https://scihub.copernicus.eu/dhus/odata/v1/Products('91048a29-73a3-48cc-910f-db12720bb5db')/$value\",\n",
       "       \"https://scihub.copernicus.eu/dhus/odata/v1/Products('ab906ff2-60b8-432b-bbe0-6205cd2caefa')/$value\",\n",
       "       \"https://scihub.copernicus.eu/dhus/odata/v1/Products('1643bab4-9f61-4111-a070-d85149b546c4')/$value\",\n",
       "       \"https://scihub.copernicus.eu/dhus/odata/v1/Products('826c8838-d568-4dd9-b6b8-b65fcb335ba3')/$value\",\n",
       "       \"https://scihub.copernicus.eu/dhus/odata/v1/Products('83b49223-3346-4c5e-8efb-2648254f117c')/$value\",\n",
       "       \"https://scihub.copernicus.eu/dhus/odata/v1/Products('36e2b2e7-0c39-4bd9-93e2-1c87d547c789')/$value\",\n",
       "       \"https://scihub.copernicus.eu/dhus/odata/v1/Products('3b5ce88e-3cb8-4732-8c18-04c593647f1a')/$value\",\n",
       "       \"https://scihub.copernicus.eu/dhus/odata/v1/Products('560f4cbf-3a0f-46c6-9c10-26824ba8d9ad')/$value\",\n",
       "       \"https://scihub.copernicus.eu/dhus/odata/v1/Products('ce182a4e-5b78-4a01-a003-4405a808afde')/$value\",\n",
       "       \"https://scihub.copernicus.eu/dhus/odata/v1/Products('d3bc5536-fb3a-41b9-adb0-e40b815f4390')/$value\",\n",
       "       \"https://scihub.copernicus.eu/dhus/odata/v1/Products('f7443319-ebf5-49bb-a506-06687d469972')/$value\",\n",
       "       \"https://scihub.copernicus.eu/dhus/odata/v1/Products('18d7f125-11c9-48c5-9894-a5648954523c')/$value\",\n",
       "       \"https://scihub.copernicus.eu/dhus/odata/v1/Products('3677611f-8099-414b-ba54-334c7e76d03a')/$value\",\n",
       "       \"https://scihub.copernicus.eu/dhus/odata/v1/Products('3d58329f-c3b4-4c2e-89d4-793197dd3b60')/$value\",\n",
       "       \"https://scihub.copernicus.eu/dhus/odata/v1/Products('77e64935-29a1-45b3-bcf2-610487a25bc0')/$value\",\n",
       "       \"https://scihub.copernicus.eu/dhus/odata/v1/Products('58aeb0b6-28d1-4c0a-a23e-ac6140887eb4')/$value\",\n",
       "       \"https://scihub.copernicus.eu/dhus/odata/v1/Products('61fed9d8-62f0-41f6-beae-1725783aac52')/$value\",\n",
       "       \"https://scihub.copernicus.eu/dhus/odata/v1/Products('eeea359d-4987-4bed-b709-901f8b16f11b')/$value\",\n",
       "       \"https://scihub.copernicus.eu/dhus/odata/v1/Products('4fb25d3d-7a43-4360-9d4a-3da60c7167b8')/$value\",\n",
       "       \"https://scihub.copernicus.eu/dhus/odata/v1/Products('4b0eb099-f136-4d49-bd96-037b14fc2719')/$value\",\n",
       "       \"https://scihub.copernicus.eu/dhus/odata/v1/Products('91719880-7d1c-4963-bd8b-7b418ec03a4e')/$value\",\n",
       "       \"https://scihub.copernicus.eu/dhus/odata/v1/Products('fbed84a3-c915-464d-b827-87ad5a985d37')/$value\",\n",
       "       \"https://scihub.copernicus.eu/dhus/odata/v1/Products('20d0b7ba-22fd-429a-a74b-5f35249b0dcb')/$value\",\n",
       "       \"https://scihub.copernicus.eu/dhus/odata/v1/Products('41eea3be-25ea-4f2f-9662-fee3eb7f125d')/$value\",\n",
       "       \"https://scihub.copernicus.eu/dhus/odata/v1/Products('2ad1928f-5e47-41b5-8d19-e4009e0dce7b')/$value\",\n",
       "       \"https://scihub.copernicus.eu/dhus/odata/v1/Products('cf6b2bf3-a8e1-4968-94de-b03d9cedd66b')/$value\",\n",
       "       \"https://scihub.copernicus.eu/dhus/odata/v1/Products('f11b19f5-aacc-41d9-98e8-dbe0ed2c01fa')/$value\",\n",
       "       \"https://scihub.copernicus.eu/dhus/odata/v1/Products('9721f9d2-84c7-4ebd-87e6-70dcd2dfe79a')/$value\",\n",
       "       \"https://scihub.copernicus.eu/dhus/odata/v1/Products('5ad362ba-a884-4ff3-8068-3d53aaea9bb8')/$value\",\n",
       "       \"https://scihub.copernicus.eu/dhus/odata/v1/Products('bec96e8e-6f6b-416e-9b0b-e1b0975f4f0c')/$value\",\n",
       "       \"https://scihub.copernicus.eu/dhus/odata/v1/Products('d0d0855a-d28c-489b-8ade-5c0cfca8241d')/$value\",\n",
       "       \"https://scihub.copernicus.eu/dhus/odata/v1/Products('d077c428-73a6-438f-8812-73d396389dfb')/$value\",\n",
       "       \"https://scihub.copernicus.eu/dhus/odata/v1/Products('059c3efa-a97c-4664-916c-725f9bf189c8')/$value\",\n",
       "       \"https://scihub.copernicus.eu/dhus/odata/v1/Products('7afc2a26-5d75-4df6-bb6a-9dc1afada99b')/$value\",\n",
       "       \"https://scihub.copernicus.eu/dhus/odata/v1/Products('45d04060-1fae-478d-b9e7-5a799637af58')/$value\",\n",
       "       \"https://scihub.copernicus.eu/dhus/odata/v1/Products('2c69cfde-6e1c-427a-b3fb-e46025518404')/$value\",\n",
       "       \"https://scihub.copernicus.eu/dhus/odata/v1/Products('274ee3c9-c0cb-4afe-9861-d7d33775d6bf')/$value\",\n",
       "       \"https://scihub.copernicus.eu/dhus/odata/v1/Products('1930381f-ae09-43a8-a7d8-84ec1733f13d')/$value\",\n",
       "       \"https://scihub.copernicus.eu/dhus/odata/v1/Products('009896f8-8091-4a8b-b2e8-e08f1303fe8d')/$value\",\n",
       "       \"https://scihub.copernicus.eu/dhus/odata/v1/Products('5140f53c-8ca4-4563-9a2c-c2f6c998a114')/$value\",\n",
       "       \"https://scihub.copernicus.eu/dhus/odata/v1/Products('77bb4331-c937-4878-88a5-0a89d55bd98f')/$value\",\n",
       "       \"https://scihub.copernicus.eu/dhus/odata/v1/Products('6d327145-0db6-49bd-8003-5d2a8d73aa14')/$value\",\n",
       "       \"https://scihub.copernicus.eu/dhus/odata/v1/Products('47294c49-940f-4a0f-820f-4e44d9d9b454')/$value\",\n",
       "       \"https://scihub.copernicus.eu/dhus/odata/v1/Products('e3a5f669-b69f-4d50-a1ea-30d628da33dd')/$value\",\n",
       "       \"https://scihub.copernicus.eu/dhus/odata/v1/Products('ebc21c62-88ae-4d42-957c-dfa30c18d963')/$value\",\n",
       "       \"https://scihub.copernicus.eu/dhus/odata/v1/Products('9e76b418-a2fe-4b3c-926b-341439167507')/$value\",\n",
       "       \"https://scihub.copernicus.eu/dhus/odata/v1/Products('528c1a0e-6e83-440f-8aff-d97f09c8a1e4')/$value\",\n",
       "       \"https://scihub.copernicus.eu/dhus/odata/v1/Products('298c7edd-59cc-44ed-8004-f9c9705e241b')/$value\",\n",
       "       \"https://scihub.copernicus.eu/dhus/odata/v1/Products('1b50d9b1-eeff-48d8-b9f2-2c7b6aef871d')/$value\",\n",
       "       \"https://scihub.copernicus.eu/dhus/odata/v1/Products('65a8a418-38b9-4102-8ab6-a288b4ecc288')/$value\",\n",
       "       \"https://scihub.copernicus.eu/dhus/odata/v1/Products('8c858a84-cf4c-42ae-9e04-2287d0ebffca')/$value\",\n",
       "       \"https://scihub.copernicus.eu/dhus/odata/v1/Products('fbd54c5d-2a81-498c-999c-c584b0ebf2b7')/$value\",\n",
       "       \"https://scihub.copernicus.eu/dhus/odata/v1/Products('ee0ce254-584b-4bca-8f1b-696f92b76277')/$value\",\n",
       "       \"https://scihub.copernicus.eu/dhus/odata/v1/Products('1438ae91-dbd5-45c0-8161-dd06956ccdc0')/$value\",\n",
       "       \"https://scihub.copernicus.eu/dhus/odata/v1/Products('ee58e0b3-1708-44a0-824d-2b996238608d')/$value\",\n",
       "       \"https://scihub.copernicus.eu/dhus/odata/v1/Products('2310ca19-c252-4d32-89e1-ae664378eefb')/$value\",\n",
       "       \"https://scihub.copernicus.eu/dhus/odata/v1/Products('1abb6060-2781-4905-ba32-1c987ed0f468')/$value\",\n",
       "       \"https://scihub.copernicus.eu/dhus/odata/v1/Products('daac8f38-06c6-436b-9dbc-65d503cbe319')/$value\",\n",
       "       \"https://scihub.copernicus.eu/dhus/odata/v1/Products('5978d504-2041-4a3e-817b-eeb21efc06bf')/$value\",\n",
       "       \"https://scihub.copernicus.eu/dhus/odata/v1/Products('106012aa-f9c5-4157-9bbc-c731a87c2f21')/$value\",\n",
       "       \"https://scihub.copernicus.eu/dhus/odata/v1/Products('e68f3014-8799-4ac6-8506-0bc4c743005a')/$value\",\n",
       "       \"https://scihub.copernicus.eu/dhus/odata/v1/Products('d36587f3-d714-41a3-b7bf-133f45a46dfd')/$value\"],\n",
       "      dtype=object)"
      ]
     },
     "execution_count": 7,
     "metadata": {},
     "output_type": "execute_result"
    }
   ],
   "source": [
    "products_df.link.values"
   ]
  },
  {
   "cell_type": "code",
   "execution_count": null,
   "id": "amino-investing",
   "metadata": {},
   "outputs": [],
   "source": []
  }
 ],
 "metadata": {
  "kernelspec": {
   "display_name": "Python 3 (ipykernel)",
   "language": "python",
   "name": "python3"
  },
  "language_info": {
   "codemirror_mode": {
    "name": "ipython",
    "version": 3
   },
   "file_extension": ".py",
   "mimetype": "text/x-python",
   "name": "python",
   "nbconvert_exporter": "python",
   "pygments_lexer": "ipython3",
   "version": "3.9.7"
  }
 },
 "nbformat": 4,
 "nbformat_minor": 5
}
