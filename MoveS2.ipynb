{
 "cells": [
  {
   "cell_type": "code",
   "execution_count": 1,
   "id": "sweet-replica",
   "metadata": {},
   "outputs": [],
   "source": [
    "import os\n",
    "import shutil"
   ]
  },
  {
   "cell_type": "code",
   "execution_count": 49,
   "id": "9467c031-48da-4f93-80fb-de577c73cd3f",
   "metadata": {
    "tags": []
   },
   "outputs": [],
   "source": [
    "import zipfile\n",
    "for a in os.listdir(S2_path)[3:]:\n",
    "    if a.endswith('.zip'):\n",
    "        a2= a[:-3]+'SAFE'\n",
    "        if os.path.exists(S2_path+a2):\n",
    "            pass\n",
    "        else:\n",
    "            with zipfile.ZipFile(S2_path+a, 'r') as zip_ref:\n",
    "                zip_ref.extractall(S2_path)\n",
    "                # fol=os.listdir(S2_path+a2+'/GRANULE/')[-1]\n",
    "                # for d in ['B02','B03','B04','B08']:\n",
    "                #     if os.path.exists(S2_path+a2+'/GRANULE/'+fol+'/IMG_DATA/'+c):\n",
    "                #             c=[b for b in os.listdir(S2_path+a2+'/GRANULE/'+fol+'/IMG_DATA/') if b.endswith(d+'.jp2')][0]\n",
    "                #             shutil.move(S2_path+a2+'/GRANULE/'+fol+'/IMG_DATA/'+c,S2_path+d+'/')"
   ]
  },
  {
   "cell_type": "code",
   "execution_count": 71,
   "id": "entitled-cheat",
   "metadata": {},
   "outputs": [],
   "source": [
    "for a in [a for a in os.listdir(S2_path) if a.endswith('.SAFE')]:\n",
    "    fol=os.listdir(S2_path+a+'/GRANULE/')[-1]\n",
    "    for d in ['B02','B03','B04','B08']:\n",
    "        if len([b for b in os.listdir(S2_path+a+'/GRANULE/'+fol+'/IMG_DATA/') if b.endswith(d+'.jp2')])>0:\n",
    "            c=[b for b in os.listdir(S2_path+a+'/GRANULE/'+fol+'/IMG_DATA/') if b.endswith(d+'.jp2')][0]\n",
    "            if (os.path.exists(S2_path+d+'/'+c)): \n",
    "                pass\n",
    "            else:\n",
    "                shutil.move(S2_path+a+'/GRANULE/'+fol+'/IMG_DATA/'+c,S2_path+d+'/')\n",
    "        "
   ]
  },
  {
   "cell_type": "code",
   "execution_count": 15,
   "id": "solved-safety",
   "metadata": {},
   "outputs": [],
   "source": [
    "for a in [a for a in os.listdir('/Volumes/S2_Data/No/Land/') if a.endswith('4.jp2')]:\n",
    "    shutil.copy('/Volumes/S2_Data/No/Land/'+a,'/Volumes/EllenBackup/DATA/S2/Land/')"
   ]
  },
  {
   "cell_type": "code",
   "execution_count": 28,
   "id": "portuguese-dispute",
   "metadata": {},
   "outputs": [
    {
     "data": {
      "text/plain": [
       "1079"
      ]
     },
     "execution_count": 28,
     "metadata": {},
     "output_type": "execute_result"
    }
   ],
   "source": [
    "# b03 and b02 are in '/Volumes/DataEllen/S2/No/Land/'\n",
    "# b04 and b08 are in\n",
    "len([a for a in os.listdir('/Volumes/EllenBackup/DATA/S2/Land/') if a.endswith('4.jp2')])"
   ]
  },
  {
   "cell_type": "code",
   "execution_count": 33,
   "id": "parallel-collector",
   "metadata": {},
   "outputs": [],
   "source": [
    "os.mkdir('/Volumes/EllenBackup/DATA/S2/Land/B04/NO/')"
   ]
  },
  {
   "cell_type": "code",
   "execution_count": null,
   "id": "significant-learning",
   "metadata": {},
   "outputs": [],
   "source": []
  },
  {
   "cell_type": "code",
   "execution_count": 9,
   "id": "legendary-metro",
   "metadata": {},
   "outputs": [],
   "source": [
    "# move from folders out\n",
    "for a in [a for a in os.listdir('/Volumes/Fortress5TB/S2/No/Land/') if a.startswith('B')]:\n",
    "    for b in [b for b in os.listdir('/Volumes/Fortress5TB/S2/No/Land/'+a+'/') if b.endswith('.jp2')]:\n",
    "        shutil.move('/Volumes/Fortress5TB/S2/No/Land/'+a+'/'+b,'/Volumes/Fortress5TB/S2/No/Land/')"
   ]
  },
  {
   "cell_type": "code",
   "execution_count": null,
   "id": "meaningful-treasure",
   "metadata": {},
   "outputs": [],
   "source": [
    "## sample of june july land tiles to test mask with\n",
    "for a in [a[:-7] for a in os.listdir('/Volumes/EllenBackup/DATA/S2/Land/B08/') if a.endswith('8.jp2')][::10]:\n",
    "    shutil.copy('/Volumes/DataEllen/S2/No/Land/'+a+'B02.jp2','/Users/buckley/Documents/ANALYSIS/Results/S2/test_data_land_jj/')\n",
    "    shutil.copy('/Volumes/DataEllen/S2/No/Land/'+a+'B03.jp2','/Users/buckley/Documents/ANALYSIS/Results/S2/test_data_land_jj/')\n",
    "    shutil.copy('/Volumes/EllenBackup/DATA/S2/Land/B04/'+a+'B04.jp2','/Users/buckley/Documents/ANALYSIS/Results/S2/test_data_land_jj/')\n",
    "    shutil.copy('/Volumes/EllenBackup/DATA/S2/Land/B08/'+a+'B08.jp2','/Users/buckley/Documents/ANALYSIS/Results/S2/test_data_land_jj/')"
   ]
  },
  {
   "cell_type": "code",
   "execution_count": null,
   "id": "super-jamaica",
   "metadata": {},
   "outputs": [],
   "source": [
    "os.listdir('/Volumes/Frotress5TB/DATA/S2/Land/B08/')"
   ]
  },
  {
   "cell_type": "code",
   "execution_count": 37,
   "id": "young-investigator",
   "metadata": {},
   "outputs": [],
   "source": [
    "#sample of august tiles to test mask with\n",
    "for a in [a[:-7] for a in os.listdir('/Volumes/Fortress5TB/S2/Aug2020/B08/')][::16]:\n",
    "    shutil.copy('/Volumes/Fortress5TB/S2/Aug2020/B02/'+a+'B02.jp2','/Users/buckley/Documents/ANALYSIS/Results/S2/test_data_aug/')\n",
    "    shutil.copy('/Volumes/Fortress5TB/S2/Aug2020/B03/'+a+'B03.jp2','/Users/buckley/Documents/ANALYSIS/Results/S2/test_data_aug/')\n",
    "    shutil.copy('/Volumes/Fortress5TB/S2/Aug2020/B04/'+a+'B04.jp2','/Users/buckley/Documents/ANALYSIS/Results/S2/test_data_aug/')\n",
    "    shutil.copy('/Volumes/Fortress5TB/S2/Aug2020/B08/'+a+'B08.jp2','/Users/buckley/Documents/ANALYSIS/Results/S2/test_data_aug/')"
   ]
  },
  {
   "cell_type": "code",
   "execution_count": 35,
   "id": "geographic-tiffany",
   "metadata": {},
   "outputs": [
    {
     "data": {
      "text/plain": [
       "29"
      ]
     },
     "execution_count": 35,
     "metadata": {},
     "output_type": "execute_result"
    }
   ],
   "source": [
    "len(os.listdir('/Volumes/Fortress5TB/S2/Aug2020/B08/')[::16])"
   ]
  },
  {
   "cell_type": "code",
   "execution_count": 27,
   "id": "d79a81b3-f6a6-4ba3-998a-9cd885c06769",
   "metadata": {},
   "outputs": [],
   "source": [
    "a=[a for a in os.listdir(S2_path) if a.endswith('.SAFE')][4]\n",
    "fol=os.listdir(S2_path+a+'/GRANULE/')[-1]\n",
    "c=[b for b in os.listdir(S2_path+a+'/GRANULE/'+fol+'/IMG_DATA/') if b.endswith('B02.jp2')][0]\n"
   ]
  },
  {
   "cell_type": "code",
   "execution_count": 29,
   "id": "e3d7c215-0f19-4c6a-a9ea-23c1e2ed4095",
   "metadata": {},
   "outputs": [
    {
     "data": {
      "text/plain": [
       "'/Volumes/Fortress5TB/S2/Sept2020/S2A_MSIL1C_20200901T221101_N0209_R115_T13XEJ_20200902T000420.SAFE/GRANULE/L1C_T13XEJ_A027139_20200901T221101/IMG_DATA/T13XEJ_20200901T221101_B02.jp2'"
      ]
     },
     "execution_count": 29,
     "metadata": {},
     "output_type": "execute_result"
    }
   ],
   "source": [
    "S2_path+a+'/GRANULE/'+fol+'/IMG_DATA/'+c"
   ]
  },
  {
   "cell_type": "code",
   "execution_count": 38,
   "id": "78c6ac51-7aff-4c0a-92d7-25d66852ff5d",
   "metadata": {},
   "outputs": [
    {
     "data": {
      "text/plain": [
       "'S2A_MSIL1C_20200901T221101_N0209_R115_T13XEJ_20200902T000420.'"
      ]
     },
     "execution_count": 38,
     "metadata": {},
     "output_type": "execute_result"
    }
   ],
   "source": [
    "os.listdir(S2_path)[16][:-3]"
   ]
  },
  {
   "cell_type": "code",
   "execution_count": null,
   "id": "af5352b1-2278-4ff7-8ba4-7eb6c09bc8c7",
   "metadata": {},
   "outputs": [],
   "source": []
  }
 ],
 "metadata": {
  "kernelspec": {
   "display_name": "Python 3 (ipykernel)",
   "language": "python",
   "name": "python3"
  },
  "language_info": {
   "codemirror_mode": {
    "name": "ipython",
    "version": 3
   },
   "file_extension": ".py",
   "mimetype": "text/x-python",
   "name": "python",
   "nbconvert_exporter": "python",
   "pygments_lexer": "ipython3",
   "version": "3.9.7"
  }
 },
 "nbformat": 4,
 "nbformat_minor": 5
}
