{
 "cells": [
  {
   "cell_type": "markdown",
   "id": "celtic-judgment",
   "metadata": {},
   "source": [
    "- classifies the worldview imagery\n",
    "- looks at the dataframe and creates columns for mpf and sic"
   ]
  },
  {
   "cell_type": "code",
   "execution_count": 3,
   "id": "cultural-change",
   "metadata": {},
   "outputs": [],
   "source": [
    "import rasterio\n",
    "from pylab import *\n",
    "import numpy as np\n",
    "import sys, os\n",
    "import pandas as pd\n",
    "import h5py\n",
    "from PIL import Image\n",
    "import shutil"
   ]
  },
  {
   "cell_type": "code",
   "execution_count": 4,
   "id": "hydraulic-pakistan",
   "metadata": {},
   "outputs": [],
   "source": [
    "def peakdet(v, delta, x = None):\n",
    "    \n",
    "    maxtab = []\n",
    "    mintab = []\n",
    "       \n",
    "    if x is None:\n",
    "        x = np.arange(len(v))\n",
    "    \n",
    "    v = np.asarray(v)\n",
    "    \n",
    "    if len(v) != len(x):\n",
    "        sys.exit('Input vectors v and x must have same length')\n",
    "    \n",
    "    if not isscalar(delta):\n",
    "        sys.exit('Input argument delta must be a scalar')\n",
    "    \n",
    "    if delta <= 0:\n",
    "        sys.exit('Input argument delta must be positive')\n",
    "    \n",
    "    mn, mx = Inf, -Inf\n",
    "    mnpos, mxpos = NaN, NaN\n",
    "    \n",
    "    lookformax = True\n",
    "   # mintab.append((0, 0.))\n",
    "    \n",
    "    for i in arange(len(v)):\n",
    "        this = v[i]\n",
    "        if this > mx:\n",
    "            mx = this\n",
    "            mxpos = x[i]\n",
    "        if this < mn:\n",
    "            mn = this\n",
    "            mnpos = x[i]\n",
    "        \n",
    "        if lookformax:\n",
    "            if this < mx-delta:\n",
    "                maxtab.append((mxpos, mx))\n",
    "                mn = this\n",
    "                mnpos = x[i]\n",
    "                lookformax = False\n",
    "        else:\n",
    "            if this > mn+delta:\n",
    "                mintab.append((mnpos, mn))\n",
    "                mx = this\n",
    "                mxpos = x[i]\n",
    "                lookformax = True\n",
    "    return array(maxtab), array(mintab)"
   ]
  },
  {
   "cell_type": "code",
   "execution_count": 3,
   "id": "wooden-population",
   "metadata": {},
   "outputs": [],
   "source": [
    "# # move all WV images\n",
    "\n",
    "# for a in [a for a in os.listdir('/Volumes/DataEllen/WorldView/2020_summer/') if a.endswith('.tif')]:\n",
    "#     shutil.move('/Volumes/DataEllen/WorldView/2020_summer/'+a,'/Volumes/DataEllen/WorldView/2020_summer/'+'tif/'+a)"
   ]
  },
  {
   "cell_type": "code",
   "execution_count": 1,
   "id": "surgical-punch",
   "metadata": {},
   "outputs": [],
   "source": [
    "direc='/Users/buckley/Documents/DATA/Worldview/2020_summer/tif/multi/'"
   ]
  },
  {
   "cell_type": "code",
   "execution_count": 13,
   "id": "af7554ab-1e96-4465-a22c-a006ce806f46",
   "metadata": {},
   "outputs": [
    {
     "data": {
      "text/plain": [
       "'/Users/buckley/Documents/ANALYSIS/Results/WV'"
      ]
     },
     "execution_count": 13,
     "metadata": {},
     "output_type": "execute_result"
    }
   ],
   "source": [
    "pwd"
   ]
  },
  {
   "cell_type": "code",
   "execution_count": 14,
   "id": "d6713e78-4679-46da-bcb2-bb9a0fc0dbde",
   "metadata": {},
   "outputs": [
    {
     "data": {
      "text/plain": [
       "['WV03_20190731005649_1040010050CC3B00_19JUL31005649-M1BS-503425895070_01_P001_u16ns3413.tif',\n",
       " 'WV02_20190726005900_10300100961DFF00_19JUL26005900-M1BS-503429354020_01_P001_u16ns3413.tif',\n",
       " 'WV02_20190707210531_10300100960A1800_19JUL07210531-M1BS-503347745020_01_P001_u16ns3413.tif',\n",
       " 'WV02_20190724_clipped.tif',\n",
       " 'WV02_20190726224200_1030010096A86400_19JUL26224200-M1BS-503429353100_01_P001_u16ns3413.tif',\n",
       " 'WV02_20190804221208_1030010095038C00_19AUG04221208-M1BS-503581606060_01_P001_u16ns3413.tif',\n",
       " 'WV02_20190724235615_1030010095212900_19JUL24235615-M1BS-503429305080_01_P001_u16ns3413.tif']"
      ]
     },
     "execution_count": 14,
     "metadata": {},
     "output_type": "execute_result"
    }
   ],
   "source": [
    "[a for a in os.listdir(direc) if a.endswith('.tif')]"
   ]
  },
  {
   "cell_type": "code",
   "execution_count": 16,
   "id": "2318e0e2-87a2-4177-874b-8eff9f03f37d",
   "metadata": {},
   "outputs": [
    {
     "data": {
      "text/plain": [
       "['WV02_20190804221208_1030010095038C00_19AUG04221208-M1BS-503581606060_01_P001_u16ns3413.tif']"
      ]
     },
     "execution_count": 16,
     "metadata": {},
     "output_type": "execute_result"
    }
   ],
   "source": [
    "[a for a in os.listdir(direc) if '201908' in a]"
   ]
  },
  {
   "cell_type": "code",
   "execution_count": 7,
   "id": "interested-guarantee",
   "metadata": {},
   "outputs": [
    {
     "data": {
      "text/plain": [
       "['WV02_20200903222726_10300100AC613A00_20SEP03222726-M1BS-504713078040_01_P001_u16ns3413.tif']"
      ]
     },
     "execution_count": 7,
     "metadata": {},
     "output_type": "execute_result"
    }
   ],
   "source": [
    "[a for a in os.listdir(direc) if a.startswith('WV02_20200903222726')]"
   ]
  },
  {
   "cell_type": "code",
   "execution_count": 19,
   "id": "spread-communication",
   "metadata": {},
   "outputs": [
    {
     "name": "stderr",
     "output_type": "stream",
     "text": [
      "/var/folders/y4/08xlrtkj0f11yqwtgkky7md00000gp/T/ipykernel_54012/4256329879.py:27: RuntimeWarning: invalid value encountered in true_divide\n",
      "  br1= np.divide((green.astype(float)-nir.astype(float)),(nir.astype(float)+green.astype(float)))\n"
     ]
    },
    {
     "name": "stdout",
     "output_type": "stream",
     "text": [
      "WV02_20200903222726_10300100AC613A00_20SEP03222726-M1BS-504713078040_01_P001_u16ns3413.tif\t101185518\t25207789\t62703957\t9480335\t145826\t3647611\n",
      "\n"
     ]
    }
   ],
   "source": [
    "#Oliwia you will have to change the directory to location of the files!\n",
    "#direc='/Volumes/DataEllen/WorldView/2020_summer/tif/multi/'\n",
    "#direc='/Volumes/DataEllen/WorldView/2019_summer/'\n",
    "#direc='/Users/buckley/Documents/DATA/Worldview/2019_summer/multi/'\n",
    "#direc='/Users/buckley/Documents/DATA/Worldview/2020_summer/tif/multi/'\n",
    "\n",
    "if (os.path.exists('classification_hdf/')==False):\n",
    "    os.mkdir('classification_hdf/')\n",
    "\n",
    "f1=open('results.txt','a')\n",
    "log=open('errorlog.txt','a')\n",
    "\n",
    "for base in [a for a in os.listdir(direc) if a.startswith('WV02_20200903222726')]:#os.listdir(direc):#[a for a in os.listdir(direc) if '202008' in a]:#[a for a in os.listdir(direc) if a.endswith('.tif')]:#for base in ['WV03_20200727222946_104001005D827600_20JUL27222946-M1BS-504533127050_01_P001_u16ns3413.tif']:#'WV02_20190726224201_1030010096A86400_19JUL26224201-M1BS-503429353100_01_P002_u16ns3413.tif']:#['WV02_20200719235930_10300100A8CDBD00_20JUL19235930-M1BS-504533253030_01_P001_u16ns3413.tif']:#os.listdir('/Volumes/DataEllen/WorldView/2020_summer/tif/multi/'):\n",
    "\n",
    "    \n",
    "#     try:\n",
    "\n",
    "        im = rasterio.open(direc+base)\n",
    "\n",
    "        red=im.read(5)\n",
    "        green=im.read(3)\n",
    "        blue=im.read(2)\n",
    "        nir=im.read(7)\n",
    "\n",
    "        size_m=np.shape(red)\n",
    "\n",
    "        br1= np.divide((green.astype(float)-nir.astype(float)),(nir.astype(float)+green.astype(float)))\n",
    "\n",
    "        red_c=np.array(red,copy= True)\n",
    "        blue_c=np.array(blue,copy= True)\n",
    "        green_c=np.array(green,copy= True)\n",
    "        nir_c= np.array(nir,copy= True)\n",
    "\n",
    "        ## determine border pixels\n",
    "        border=red_c<10\n",
    "\n",
    "\n",
    "        #or not\n",
    "        sect_xmin,sect_xmax=0,size_m[0]\n",
    "        sect_ymin,sect_ymax=0,size_m[1]\n",
    "\n",
    "        ##### separate water and not water\n",
    "\n",
    "        bins=np.arange(-.5,.5,.02)\n",
    "        Cbr1_n, bins= np.histogram(br1[sect_xmin:sect_xmax,sect_ymin:sect_ymax][~np.isnan(br1[sect_xmin:sect_xmax,sect_ymin:sect_ymax])&(~border[sect_xmin:sect_xmax,sect_ymin:sect_ymax])], bins)\n",
    "\n",
    "        dx= 0.0005*sum(Cbr1_n)  # dx is 0.05% difference\n",
    "        maxtab,mintab = peakdet(Cbr1_n,dx,x=None)\n",
    "\n",
    "        if np.where(Cbr1_n==max(Cbr1_n))[0][0]==maxtab[0][0]: # if there is only one max- do the fwhm to determine the cut\n",
    "            if maxtab[0,0]==0:\n",
    "                loc_cut=0\n",
    "            else:        \n",
    "                fwhm= np.min(np.where((bins[:-1]>bins[int(maxtab[0,0])]) & (Cbr1_n<(maxtab[0,1]/2.)))) # smaller bin value than max_x, smaller coutn than .5 max_y\n",
    "                loc_cut= int(maxtab[0,0]+ 2* (fwhm-maxtab[0,0])) # the cut location is 2* fwhm\n",
    "\n",
    "        else: #otherwise it is the minimum\n",
    "            loc_cut=int(mintab[np.where(maxtab[:,0]==np.where(Cbr1_n==max(Cbr1_n))[0][0])[0][0]-1,0])\n",
    "\n",
    "        if len(mintab)>0:\n",
    "            br1_cut =bins[int(mintab[-1,0])]\n",
    "        else:\n",
    "            br1_cut=bins[loc_cut]\n",
    "        water_mask=(br1>br1_cut)&(~border)\n",
    "\n",
    "\n",
    "        #### classify ice\n",
    "        binz=np.arange(0,1400,20)\n",
    "        n,bins=np.histogram(red_c[sect_xmin:sect_xmax,sect_ymin:sect_ymax][(~border[sect_xmin:sect_xmax,sect_ymin:sect_ymax])&(~water_mask[sect_xmin:sect_xmax,sect_ymin:sect_ymax])].flatten(),bins=binz)\n",
    "        dx= 0.0001*sum(n)  # dx is 0.01% difference\n",
    "        maxtab,mintab = peakdet(n,dx,x=None)\n",
    "        #print (maxtab, mintab)\n",
    "\n",
    "        if np.where(n==max(n))[0][0]==maxtab[0][0]: # if there is only one max or first max is highest\n",
    "            if maxtab[0,0]==0:\n",
    "                bin_cut=0\n",
    "            else:      \n",
    "                fwhm= np.max(np.where((bins[:-1]<bins[int(maxtab[0,0])]) & (n<(maxtab[0,1]/2.)))) # smaller bin value than max_x, smaller coutn than .5 max_y\n",
    "                bin_cut= int(maxtab[0,0]+ 2* (fwhm-maxtab[0,0])) # the cut location is 2* fwhm\n",
    "\n",
    "        else:\n",
    "            bin_cut=int(mintab[np.where(maxtab[:,0]==np.where(n==max(n))[0][0])[0][0]-1,0])\n",
    "\n",
    "        ice_cut=bins[bin_cut]\n",
    "        #print (ice_cut)\n",
    "\n",
    "        ice_mask=(red_c>ice_cut)&(~border)&(~water_mask)\n",
    "        other_mask=(red_c<=ice_cut)&(~border)&(~water_mask)\n",
    "\n",
    "\n",
    "        ####### classify ow v melt pond\n",
    "\n",
    "        binz=np.arange(0,1400,20)\n",
    "        #using segment of image that is just sea ice so that it knows the true open water value\n",
    "#         seg=np.zeros(size_m)\n",
    "#         seg[3000:4000,5000:6000]=1\n",
    "#         seg=seg.astype(bool)\n",
    "        #n,bins,patches=plt.hist(blue_c[(~ice_mask)&(~border)&seg&(~other_mask)].flatten(),bins=binz)\n",
    "        #n,bins,patches=plt.hist(blue_c[sect_xmin:sect_xmax,sect_ymin:sect_ymax][water_mask[sect_xmin:sect_xmax,sect_ymin:sect_ymax]].flatten(),bins=binz)\n",
    "        # n,bins=np.histogram(blue_c[sect_xmin:sect_xmax,sect_ymin:sect_ymax][water_mask[sect_xmin:sect_xmax,sect_ymin:sect_ymax]].flatten(),bins=binz)\n",
    "        # dx= 0.0001*sum(n)  # dx is 0.01% difference\n",
    "        # maxtab,mintab = peakdet(n,dx,x=None)\n",
    "        # #print (maxtab, mintab)\n",
    "        # if (len(maxtab)>1):\n",
    "        #     ow_cut=bins[int(mintab[-1,0])]\n",
    "        #     #print (ow_cut)\n",
    "        # elif bins[int(maxtab[0,0])]<200:\n",
    "        #     n, bins= np.histogram(blue_c[water_mask], bins)\n",
    "        #     fwhm= np.min(np.where((bins[:-1]>bins[int(maxtab[0,0])]) & (n<(maxtab[0,1]/2.))))\n",
    "        #     loc_cut= int(maxtab[0,0]+ 2* (fwhm-maxtab[0,0]))\n",
    "        #     ow_cut=bins[loc_cut]\n",
    "        # else:\n",
    "        #     ow_cut=100\n",
    "        ow_cut=600\n",
    "        ow_mask=(blue_c<ow_cut)&(water_mask)\n",
    "        mp_mask=(blue_c>=ow_cut)&(water_mask)\n",
    "\n",
    "        #stats!\n",
    "\n",
    "        ow_pix=sum(ow_mask)\n",
    "        mp_pix=sum(mp_mask)\n",
    "        ice_pix=sum(ice_mask)\n",
    "        border_pix=sum(border)\n",
    "        other_pix=sum(other_mask)\n",
    "        im_pix= (sect_xmax-sect_xmin)*(sect_ymax-sect_ymin)\n",
    "\n",
    "        f1.write(base+'\\t'+str(im_pix)+'\\t'+str(border_pix)+'\\t'+str(ice_pix)+'\\t'+str(ow_pix)+'\\t'+str(mp_pix)+'\\t'+str(other_pix)+'\\n')\n",
    "        print((base+'\\t'+str(im_pix)+'\\t'+str(border_pix)+'\\t'+str(ice_pix)+'\\t'+str(ow_pix)+'\\t'+str(mp_pix)+'\\t'+str(other_pix)+'\\n'))\n",
    "        \n",
    "        #check sum for pixels\n",
    "        pixel_sum = (1 * border + 1 * ice_mask + 1 * ow_mask + 1 * mp_mask + 1 * other_mask)\n",
    "        if (~np.all(pixel_sum == 1)):\n",
    "            log.write(\"Sum pixels not 1 {0}: {1}\\n\".format(str(base), str(e)))\n",
    "        \n",
    "        # calculated parameters\n",
    "        MPF=np.nan\n",
    "        SIC=np.round((mp_pix+ice_pix)/float(ice_pix+mp_pix+ow_pix)*100,2)\n",
    "        if SIC>15:\n",
    "            MPF=np.round((mp_pix)/float(ice_pix+mp_pix)*100,2)\n",
    "\n",
    "        #set up dataset for hdf5 files\n",
    "        classification = np.zeros_like(border, dtype=np.int8)    # 8 bit int\n",
    "        classification += (1 * ice_mask + 2 * ow_mask + 3 * mp_mask + 4 * other_mask)\n",
    "\n",
    "        fout_name = 'classification_hdf/{}_classification.h5'.format(base)\n",
    "        with h5py.File(fout_name, \"w\") as fout:\n",
    "            fout.attrs[\"title\"] = \"Classification of Sentinel-2 Sea Ice Summer Melt Features\"\n",
    "            fout.attrs[\"creator_email\"] = \"buckley@umd.edu\"\n",
    "            \n",
    "            # full reference when published\n",
    "            fout.attrs[\"references\"] = \"...\"\n",
    "            fout.attrs[\"source_image\"] = base\n",
    "            fout.attrs[\"MPF (%)\"] = MPF\n",
    "            fout.attrs[\"SIC (%)\"] = SIC\n",
    "\n",
    "\n",
    "            dset = fout.create_dataset(\"classification\", data=classification,\n",
    "                    compression=\"gzip\")\n",
    "            dset.attrs[\"categories\"] = \"0 border, 1 ice, 2 open water, 3 melt pond, 4 other\"\n",
    "        \n",
    "        \n",
    "    # except Exception as e:\n",
    "    #     log.write(\"Failed to process {0}: {1}\\n\".format(str(base), str(e)))\n",
    "    # finally:\n",
    "    #     pass\n",
    "f1.close()\n",
    "log.close()"
   ]
  },
  {
   "cell_type": "code",
   "execution_count": 25,
   "id": "557e23e3-2f72-4700-aced-5c54ba69aa75",
   "metadata": {},
   "outputs": [
    {
     "name": "stderr",
     "output_type": "stream",
     "text": [
      "/var/folders/y4/08xlrtkj0f11yqwtgkky7md00000gp/T/ipykernel_42063/1841464973.py:21: RuntimeWarning: invalid value encountered in true_divide\n",
      "  br1= np.divide((green.astype(float)-nir.astype(float)),(nir.astype(float)+green.astype(float)))\n"
     ]
    },
    {
     "name": "stdout",
     "output_type": "stream",
     "text": [
      "WV02_20200826021615_10300100AD5C3100_20AUG26021615-M1BS-504712968030_01_P001_u16ns3413.tif\t113360280\t47522655\t64763732\t0\t201699\t872194\n",
      "\n"
     ]
    }
   ],
   "source": [
    "#Oliwia you will have to change the directory to location of the files!\n",
    "#direc='/Volumes/DataEllen/WorldView/2020_summer/tif/multi/'\n",
    "#direc='/Volumes/DataEllen/WorldView/2019_summer/'\n",
    "#direc='/Users/buckley/Documents/DATA/Worldview/2019_summer/multi/'\n",
    "#direc='/Users/buckley/Documents/DATA/Worldview/2020_summer/tif/multi/'\n",
    "\n",
    "if (os.path.exists('classification_hdf/')==False):\n",
    "    os.mkdir('classification_hdf/')\n",
    "\n",
    "for base in [[a for a in os.listdir(direc) if a.endswith('.tif')][16]]:#[a for a in os.listdir(direc) if a.endswith('.tif')]:#for base in ['WV03_20200727222946_104001005D827600_20JUL27222946-M1BS-504533127050_01_P001_u16ns3413.tif']:#'WV02_20190726224201_1030010096A86400_19JUL26224201-M1BS-503429353100_01_P002_u16ns3413.tif']:#['WV02_20200719235930_10300100A8CDBD00_20JUL19235930-M1BS-504533253030_01_P001_u16ns3413.tif']:#os.listdir('/Volumes/DataEllen/WorldView/2020_summer/tif/multi/'):\n",
    "\n",
    "    im = rasterio.open(direc+base)\n",
    "\n",
    "    red=im.read(5)\n",
    "    green=im.read(3)\n",
    "    blue=im.read(2)\n",
    "    nir=im.read(7)\n",
    "\n",
    "    size_m=np.shape(red)\n",
    "\n",
    "    br1= np.divide((green.astype(float)-nir.astype(float)),(nir.astype(float)+green.astype(float)))\n",
    "\n",
    "    red_c=np.array(red,copy= True)\n",
    "    blue_c=np.array(blue,copy= True)\n",
    "    green_c=np.array(green,copy= True)\n",
    "    nir_c= np.array(nir,copy= True)\n",
    "\n",
    "    ## determine border pixels\n",
    "    border=red_c<10\n",
    "\n",
    "\n",
    "    #or not\n",
    "    sect_xmin,sect_xmax=0,size_m[0]\n",
    "    sect_ymin,sect_ymax=0,size_m[1]\n",
    "\n",
    "    ##### separate water and not water\n",
    "\n",
    "    bins=np.arange(-.5,.5,.02)\n",
    "    Cbr1_n, bins= np.histogram(br1[~np.isnan(br1)&(~border)], bins)\n",
    "\n",
    "    dx= 0.0005*sum(Cbr1_n)  # dx is 0.05% difference\n",
    "    maxtab,mintab = peakdet(Cbr1_n,dx,x=None)\n",
    "\n",
    "    if np.where(Cbr1_n==max(Cbr1_n))[0][0]==maxtab[0][0]: # if there is only one max- do the fwhm to determine the cut\n",
    "        if maxtab[0,0]==0:\n",
    "            loc_cut=0\n",
    "        else:        \n",
    "            fwhm= np.min(np.where((bins[:-1]>bins[int(maxtab[0,0])]) & (Cbr1_n<(maxtab[0,1]/2.)))) # smaller bin value than max_x, smaller coutn than .5 max_y\n",
    "            loc_cut= int(maxtab[0,0]+ 2* (fwhm-maxtab[0,0])) # the cut location is 2* fwhm\n",
    "\n",
    "    else: #otherwise it is the minimum\n",
    "        loc_cut=int(mintab[np.where(maxtab[:,0]==np.where(Cbr1_n==max(Cbr1_n))[0][0])[0][0]-1,0])\n",
    "\n",
    "    if len(mintab)>0:\n",
    "        br1_cut =bins[int(mintab[-1,0])]\n",
    "    else:\n",
    "        br1_cut=bins[loc_cut]\n",
    "    water_mask=(br1>br1_cut)&(~border)\n",
    "\n",
    "\n",
    "    #### classify ice\n",
    "    binz=np.arange(0,1400,20)\n",
    "    n,bins=np.histogram(red_c[sect_xmin:sect_xmax,sect_ymin:sect_ymax][(~border[sect_xmin:sect_xmax,sect_ymin:sect_ymax])&(~water_mask[sect_xmin:sect_xmax,sect_ymin:sect_ymax])].flatten(),bins=binz)\n",
    "    dx= 0.0001*sum(n)  # dx is 0.01% difference\n",
    "    maxtab,mintab = peakdet(n,dx,x=None)\n",
    "    #print (maxtab, mintab)\n",
    "\n",
    "    if np.where(n==max(n))[0][0]==maxtab[0][0]: # if there is only one max or first max is highest\n",
    "        if maxtab[0,0]==0:\n",
    "            bin_cut=0\n",
    "        else:      \n",
    "            fwhm= np.max(np.where((bins[:-1]<bins[int(maxtab[0,0])]) & (n<(maxtab[0,1]/2.)))) # smaller bin value than max_x, smaller coutn than .5 max_y\n",
    "            bin_cut= int(maxtab[0,0]+ 2* (fwhm-maxtab[0,0])) # the cut location is 2* fwhm\n",
    "\n",
    "    else:\n",
    "        bin_cut=int(mintab[np.where(maxtab[:,0]==np.where(n==max(n))[0][0])[0][0]-1,0])\n",
    "\n",
    "    ice_cut=bins[bin_cut]\n",
    "    #print (ice_cut)\n",
    "\n",
    "    ice_mask=(red_c>ice_cut)&(~border)&(~water_mask)\n",
    "    other_mask=(red_c<=ice_cut)&(~border)&(~water_mask)\n",
    "\n",
    "\n",
    "    ####### classify ow v melt pond\n",
    "\n",
    "    binz=np.arange(0,1400,20)\n",
    "\n",
    "    n,bins=np.histogram(blue_c.flatten(),bins=binz)\n",
    "    dx= 0.0001*sum(n)  # dx is 0.01% difference\n",
    "    maxtab,mintab = peakdet(n,dx,x=None)\n",
    "    #print (maxtab, mintab)\n",
    "    if (len(maxtab)>1):\n",
    "        ow_cut=bins[int(mintab[-1,0])]\n",
    "        #print (ow_cut)\n",
    "    elif bins[int(maxtab[0,0])]<2000:\n",
    "        n, bins= np.histogram(blue_c[water_mask], bins)\n",
    "        fwhm= np.min(np.where((bins[:-1]>bins[int(maxtab[0,0])]) & (n<(maxtab[0,1]/2.))))\n",
    "        loc_cut= int(maxtab[0,0]+ 2* (fwhm-maxtab[0,0]))\n",
    "        ow_cut=bins[loc_cut]\n",
    "    else:\n",
    "        ow_cut=100\n",
    "\n",
    "    ow_mask=(blue_c<ow_cut)&(water_mask)\n",
    "    mp_mask=(blue_c>=ow_cut)&(water_mask)\n",
    "\n",
    "    #stats!\n",
    "\n",
    "    ow_pix=sum(ow_mask)\n",
    "    mp_pix=sum(mp_mask)\n",
    "    ice_pix=sum(ice_mask)\n",
    "    border_pix=sum(border)\n",
    "    other_pix=sum(other_mask)\n",
    "    im_pix= (sect_xmax-sect_xmin)*(sect_ymax-sect_ymin)\n",
    "\n",
    "    # f1.write(base+'\\t'+str(im_pix)+'\\t'+str(border_pix)+'\\t'+str(ice_pix)+'\\t'+str(ow_pix)+'\\t'+str(mp_pix)+'\\t'+str(other_pix)+'\\n')\n",
    "    print((base+'\\t'+str(im_pix)+'\\t'+str(border_pix)+'\\t'+str(ice_pix)+'\\t'+str(ow_pix)+'\\t'+str(mp_pix)+'\\t'+str(other_pix)+'\\n'))\n",
    "\n",
    "    #check sum for pixels\n",
    "    pixel_sum = (1 * border + 1 * ice_mask + 1 * ow_mask + 1 * mp_mask + 1 * other_mask)\n",
    "    if (~np.all(pixel_sum == 1)):\n",
    "        log.write(\"Sum pixels not 1 {0}: {1}\\n\".format(str(base), str(e)))\n",
    "\n",
    "    # calculated parameters\n",
    "    MPF=np.nan\n",
    "    SIC=np.round((mp_pix+ice_pix)/float(ice_pix+mp_pix+ow_pix)*100,2)\n",
    "    if SIC>15:\n",
    "        MPF=np.round((mp_pix)/float(ice_pix+mp_pix)*100,2)\n",
    "\n",
    "    #set up dataset for hdf5 files\n",
    "    classification = np.zeros_like(border, dtype=np.int8)    # 8 bit int\n",
    "    classification += (1 * ice_mask + 2 * ow_mask + 3 * mp_mask + 4 * other_mask)\n",
    "\n",
    "    fout_name = '{}_classification.h5'.format(base)\n",
    "    with h5py.File(fout_name, \"w\") as fout:\n",
    "        fout.attrs[\"title\"] = \"Classification of Sentinel-2 Sea Ice Summer Melt Features\"\n",
    "        fout.attrs[\"creator_email\"] = \"buckley@umd.edu\"\n",
    "\n",
    "        # full reference when published\n",
    "        fout.attrs[\"references\"] = \"...\"\n",
    "        fout.attrs[\"source_image\"] = base\n",
    "        fout.attrs[\"MPF (%)\"] = MPF\n",
    "        fout.attrs[\"SIC (%)\"] = SIC\n",
    "\n",
    "\n",
    "        dset = fout.create_dataset(\"classification\", data=classification,\n",
    "                compression=\"gzip\")\n",
    "        dset.attrs[\"categories\"] = \"0 border, 1 ice, 2 open water, 3 melt pond, 4 other\"\n",
    "\n",
    "        \n",
    "f1.close()\n"
   ]
  },
  {
   "cell_type": "code",
   "execution_count": 34,
   "id": "b93516a1-5203-4b9b-a2a5-c05a7e7b6ae0",
   "metadata": {},
   "outputs": [],
   "source": [
    "f = h5py.File(fout_name, 'r')"
   ]
  },
  {
   "cell_type": "code",
   "execution_count": 35,
   "id": "08a99b1f-8d8a-400f-b6f3-501c4ca08261",
   "metadata": {},
   "outputs": [],
   "source": [
    "classif=f['classification'][:]"
   ]
  },
  {
   "cell_type": "code",
   "execution_count": 36,
   "id": "588da706-3220-440a-af77-085d3518722d",
   "metadata": {},
   "outputs": [
    {
     "data": {
      "text/plain": [
       "<HDF5 file \"WV03_20190731005649_1040010050CC3B00_19JUL31005649-M1BS-503425895070_01_P001_u16ns3413.tif_classification.h5\" (mode r)>"
      ]
     },
     "execution_count": 36,
     "metadata": {},
     "output_type": "execute_result"
    }
   ],
   "source": [
    "f"
   ]
  },
  {
   "cell_type": "code",
   "execution_count": 58,
   "id": "e6524591-774a-4a5a-9c50-24f6e82883e7",
   "metadata": {},
   "outputs": [],
   "source": [
    "import tables\n",
    "tables.file._open_files.close_all()"
   ]
  },
  {
   "cell_type": "code",
   "execution_count": 11,
   "id": "tribal-highlight",
   "metadata": {
    "tags": []
   },
   "outputs": [],
   "source": [
    "df=pd.read_csv('results.txt',delimiter='\\t',names=['tile','im','border','ice','ow','mp','other'])\n",
    "df['mpf']=df.mp/(df.mp+df.ice)\n",
    "df['sic']=(df.ice+df.mp)/(df.ice+df.mp+df.ow)\n",
    "df['other_p']=df.other/(df.im-df.border)\n",
    "df['mp_p']=df.mp/(df.im-df.border)"
   ]
  }
 ],
 "metadata": {
  "kernelspec": {
   "display_name": "Python 3 (ipykernel)",
   "language": "python",
   "name": "python3"
  },
  "language_info": {
   "codemirror_mode": {
    "name": "ipython",
    "version": 3
   },
   "file_extension": ".py",
   "mimetype": "text/x-python",
   "name": "python",
   "nbconvert_exporter": "python",
   "pygments_lexer": "ipython3",
   "version": "3.9.7"
  }
 },
 "nbformat": 4,
 "nbformat_minor": 5
}
